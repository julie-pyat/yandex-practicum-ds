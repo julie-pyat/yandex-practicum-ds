{
 "cells": [
  {
   "cell_type": "markdown",
   "metadata": {},
   "source": [
    "# Рекомендация тарифов"
   ]
  },
  {
   "cell_type": "markdown",
   "metadata": {},
   "source": [
    "В нашем распоряжении данные о поведении клиентов, которые уже перешли на эти тарифы (из проекта курса «Статистический анализ данных»). Нужно построить модель для задачи классификации, которая выберет подходящий тариф. Предобработка данных не понадобится — мы её уже сделали.\n",
    "\n",
    "Постройте модель с максимально большим значением *accuracy*. Чтобы сдать проект успешно, нужно довести долю правильных ответов по крайней мере до 0.75. Проверьте *accuracy* на тестовой выборке самостоятельно."
   ]
  },
  {
   "cell_type": "markdown",
   "metadata": {},
   "source": [
    "Каждый объект в наборе данных - это информация о поведении одного пользователя за месяц. Таблица содержит следующие столбцы:\n",
    "* calls - количество звонков\n",
    "* minutes — суммарная длительность звонков в минутах,\n",
    "* messages — количество sms-сообщений,\n",
    "* mb_used — израсходованный интернет-трафик в Мб,\n",
    "* is_ultra — каким тарифом пользовался в течение месяца («Ультра» — 1, «Смарт» — 0)."
   ]
  },
  {
   "cell_type": "markdown",
   "metadata": {},
   "source": [
    "## Откройте и изучите файл"
   ]
  },
  {
   "cell_type": "markdown",
   "metadata": {},
   "source": [
    "### Изучение общей информации"
   ]
  },
  {
   "cell_type": "markdown",
   "metadata": {},
   "source": [
    "Загрузим все необходимые библиотеки для нашего проекта."
   ]
  },
  {
   "cell_type": "code",
   "execution_count": 1,
   "metadata": {},
   "outputs": [],
   "source": [
    "import pandas as pd\n",
    "pd.plotting.register_matplotlib_converters()\n",
    "import matplotlib.pyplot as plt\n",
    "import seaborn as sns\n",
    "import numpy as np\n",
    "from sklearn.model_selection import train_test_split\n",
    "from sklearn.tree import DecisionTreeClassifier\n",
    "from sklearn.ensemble import RandomForestClassifier\n",
    "from sklearn.linear_model import LogisticRegression\n",
    "from catboost import CatBoostClassifier\n",
    "from sklearn.metrics import accuracy_score, precision_score, recall_score, confusion_matrix\n",
    "from sklearn.metrics import precision_recall_curve, classification_report\n",
    "from sklearn.metrics import roc_auc_score\n",
    "from sklearn.metrics import roc_curve\n",
    "from sklearn.model_selection import GridSearchCV"
   ]
  },
  {
   "cell_type": "markdown",
   "metadata": {},
   "source": [
    "Изучим общую информацию из исходного файла."
   ]
  },
  {
   "cell_type": "code",
   "execution_count": 2,
   "metadata": {},
   "outputs": [],
   "source": [
    "df = pd.read_csv('/datasets/users_behavior.csv')"
   ]
  },
  {
   "cell_type": "markdown",
   "metadata": {},
   "source": [
    "Рассмотрим какие данные содержит наша таблица. Изучим общую информацию нашей таблицы."
   ]
  },
  {
   "cell_type": "code",
   "execution_count": 3,
   "metadata": {
    "scrolled": false
   },
   "outputs": [
    {
     "name": "stdout",
     "output_type": "stream",
     "text": [
      "<class 'pandas.core.frame.DataFrame'>\n",
      "RangeIndex: 3214 entries, 0 to 3213\n",
      "Data columns (total 5 columns):\n",
      "calls       3214 non-null float64\n",
      "minutes     3214 non-null float64\n",
      "messages    3214 non-null float64\n",
      "mb_used     3214 non-null float64\n",
      "is_ultra    3214 non-null int64\n",
      "dtypes: float64(4), int64(1)\n",
      "memory usage: 125.7 KB\n"
     ]
    }
   ],
   "source": [
    "df.info()"
   ]
  },
  {
   "cell_type": "markdown",
   "metadata": {},
   "source": [
    "Таблица имеет 5 столбцов, 4 столбца типа float64, 1 столбец содержит данные типа int64. Рассмотрим общий вид нашей таблицы."
   ]
  },
  {
   "cell_type": "code",
   "execution_count": 4,
   "metadata": {},
   "outputs": [
    {
     "data": {
      "text/html": [
       "<div>\n",
       "<style scoped>\n",
       "    .dataframe tbody tr th:only-of-type {\n",
       "        vertical-align: middle;\n",
       "    }\n",
       "\n",
       "    .dataframe tbody tr th {\n",
       "        vertical-align: top;\n",
       "    }\n",
       "\n",
       "    .dataframe thead th {\n",
       "        text-align: right;\n",
       "    }\n",
       "</style>\n",
       "<table border=\"1\" class=\"dataframe\">\n",
       "  <thead>\n",
       "    <tr style=\"text-align: right;\">\n",
       "      <th></th>\n",
       "      <th>calls</th>\n",
       "      <th>minutes</th>\n",
       "      <th>messages</th>\n",
       "      <th>mb_used</th>\n",
       "      <th>is_ultra</th>\n",
       "    </tr>\n",
       "  </thead>\n",
       "  <tbody>\n",
       "    <tr>\n",
       "      <td>0</td>\n",
       "      <td>40.0</td>\n",
       "      <td>311.90</td>\n",
       "      <td>83.0</td>\n",
       "      <td>19915.42</td>\n",
       "      <td>0</td>\n",
       "    </tr>\n",
       "    <tr>\n",
       "      <td>1</td>\n",
       "      <td>85.0</td>\n",
       "      <td>516.75</td>\n",
       "      <td>56.0</td>\n",
       "      <td>22696.96</td>\n",
       "      <td>0</td>\n",
       "    </tr>\n",
       "    <tr>\n",
       "      <td>2</td>\n",
       "      <td>77.0</td>\n",
       "      <td>467.66</td>\n",
       "      <td>86.0</td>\n",
       "      <td>21060.45</td>\n",
       "      <td>0</td>\n",
       "    </tr>\n",
       "    <tr>\n",
       "      <td>3</td>\n",
       "      <td>106.0</td>\n",
       "      <td>745.53</td>\n",
       "      <td>81.0</td>\n",
       "      <td>8437.39</td>\n",
       "      <td>1</td>\n",
       "    </tr>\n",
       "    <tr>\n",
       "      <td>4</td>\n",
       "      <td>66.0</td>\n",
       "      <td>418.74</td>\n",
       "      <td>1.0</td>\n",
       "      <td>14502.75</td>\n",
       "      <td>0</td>\n",
       "    </tr>\n",
       "  </tbody>\n",
       "</table>\n",
       "</div>"
      ],
      "text/plain": [
       "   calls  minutes  messages   mb_used  is_ultra\n",
       "0   40.0   311.90      83.0  19915.42         0\n",
       "1   85.0   516.75      56.0  22696.96         0\n",
       "2   77.0   467.66      86.0  21060.45         0\n",
       "3  106.0   745.53      81.0   8437.39         1\n",
       "4   66.0   418.74       1.0  14502.75         0"
      ]
     },
     "execution_count": 4,
     "metadata": {},
     "output_type": "execute_result"
    }
   ],
   "source": [
    "df.head()"
   ]
  },
  {
   "cell_type": "markdown",
   "metadata": {},
   "source": [
    "Каждая строчка таблицы - это информация о поведении одного пользователя за месяц. Из описания проекта нам известно, что столбцы содержать следующую информацию:\n",
    "* calls - количество звонков\n",
    "* minutes - суммарная длительность звонков в минутах\n",
    "* messages - количество sms-сообщений\n",
    "* mb_used - израсходованный интернет-трафик мб\n",
    "* is_ultra - каким тарифом пользовался в течение месяца (ultra - 1, smart - 0)"
   ]
  },
  {
   "cell_type": "markdown",
   "metadata": {},
   "source": [
    "### Изучение данных в таблице"
   ]
  },
  {
   "cell_type": "markdown",
   "metadata": {},
   "source": [
    "Рассмотрим распределение пользователей в разрезе тарифов."
   ]
  },
  {
   "cell_type": "code",
   "execution_count": 5,
   "metadata": {},
   "outputs": [
    {
     "data": {
      "text/plain": [
       "0    0.693528\n",
       "1    0.306472\n",
       "Name: is_ultra, dtype: float64"
      ]
     },
     "execution_count": 5,
     "metadata": {},
     "output_type": "execute_result"
    }
   ],
   "source": [
    "df['is_ultra'].value_counts(normalize = True)"
   ]
  },
  {
   "cell_type": "code",
   "execution_count": 6,
   "metadata": {},
   "outputs": [
    {
     "data": {
      "image/png": "[encoded data removed]",
      "text/plain": [
       "<Figure size 432x288 with 1 Axes>"
      ]
     },
     "metadata": {},
     "output_type": "display_data"
    }
   ],
   "source": [
    "df['is_ultra'].value_counts(normalize = True).plot(kind = 'pie', labels = ['smart', 'ultra'], autopct='%1.0f%%')\n",
    "plt.title('Распределение тарифов среди пользователей')\n",
    "plt.show()"
   ]
  },
  {
   "cell_type": "markdown",
   "metadata": {},
   "source": [
    "Как видно из круговой диаграммы классы у нас несбалансированы: тарифом smart у нас пользуются 69% пользователей, а тарифом ultra - 31%."
   ]
  },
  {
   "cell_type": "markdown",
   "metadata": {},
   "source": [
    "Рассмотрим таблицу корреляции для нашей таблицы."
   ]
  },
  {
   "cell_type": "code",
   "execution_count": 7,
   "metadata": {},
   "outputs": [
    {
     "data": {
      "image/png": "[encoded data removed]",
      "text/plain": [
       "<Figure size 720x360 with 2 Axes>"
      ]
     },
     "metadata": {},
     "output_type": "display_data"
    }
   ],
   "source": [
    "sns.set(rc={\"figure.figsize\": (10, 5)})\n",
    "sns.heatmap(df.corr(), cmap=\"YlGnBu\", annot=True)\n",
    "plt.title('Таблица корреляции')\n",
    "plt.show()"
   ]
  },
  {
   "cell_type": "markdown",
   "metadata": {},
   "source": [
    "За исключением звонков и использованных минут, корреляция у которых очень сильная и равна 0.98, корреляция других параметров низкая и находится в районе от 0.17 до 0.29"
   ]
  },
  {
   "cell_type": "markdown",
   "metadata": {},
   "source": [
    "Рассмотрим теперь матрицу диаграмм рассеивания в разрезе тарифов."
   ]
  },
  {
   "cell_type": "code",
   "execution_count": 8,
   "metadata": {
    "scrolled": false
   },
   "outputs": [
    {
     "data": {
      "image/png": "[encoded data removed]",
      "text/plain": [
       "<Figure size 946.6x900 with 30 Axes>"
      ]
     },
     "metadata": {},
     "output_type": "display_data"
    }
   ],
   "source": [
    "np.seterr(divide='ignore', invalid='ignore')\n",
    "g = sns.pairplot(df, hue=\"is_ultra\", markers = '.')\n",
    "g.fig.suptitle(\"Матрица диаграмм рассеивания в разрезе тарифов\", y=1.08) # y= some height>1\n",
    "new_title = 'Тарифы'\n",
    "g._legend.set_title(new_title)\n",
    "new_labels = ['smart', 'ultra']\n",
    "for t, l in zip(g._legend.texts, new_labels):\n",
    "    t.set_text(l)\n",
    "plt.show()"
   ]
  },
  {
   "cell_type": "markdown",
   "metadata": {},
   "source": [
    "Как и в матрице корреляции, в диаграммах рассеивания, кроме использованных минут и количества звонков, сильной корреляции не видно."
   ]
  },
  {
   "cell_type": "markdown",
   "metadata": {},
   "source": [
    "## Разбейте данные на выборки"
   ]
  },
  {
   "cell_type": "markdown",
   "metadata": {},
   "source": [
    "Так как тестовой выборки у нас нет, то разобьем наши данные на три выборки в соотношении:\n",
    "* обучающая выборка - 60%\n",
    "* валидационная выборка - 20%\n",
    "* тестовая выборка - 20%."
   ]
  },
  {
   "cell_type": "markdown",
   "metadata": {},
   "source": [
    "Перед этим разобем нашу таблицу на 2 части: в переменной target будет хранится целевой признак, а в features - остальные признаки."
   ]
  },
  {
   "cell_type": "code",
   "execution_count": 9,
   "metadata": {},
   "outputs": [],
   "source": [
    "features = df.drop(['is_ultra'], axis = 1)\n",
    "target = df['is_ultra']"
   ]
  },
  {
   "cell_type": "markdown",
   "metadata": {},
   "source": [
    "Теперь сначала разделим наши данные на 2 выборки: на обучающую выборку и остальную выборку, которою далее мы разделим на валидационную и тестовую, в соотношении 60 на 40."
   ]
  },
  {
   "cell_type": "code",
   "execution_count": 10,
   "metadata": {},
   "outputs": [],
   "source": [
    "features_train, features_valid_test, target_train, target_valid_test = train_test_split(\n",
    "    features, target, test_size = 0.4, random_state = 42, stratify = target)"
   ]
  },
  {
   "cell_type": "markdown",
   "metadata": {},
   "source": [
    "Теперь разделим остальную выборку на тестовую и валидационную пополам."
   ]
  },
  {
   "cell_type": "code",
   "execution_count": 11,
   "metadata": {},
   "outputs": [],
   "source": [
    "features_valid, features_test, target_valid, target_test = train_test_split(\n",
    "    features_valid_test, target_valid_test, test_size = 0.5, random_state = 42, stratify = target_valid_test)"
   ]
  },
  {
   "cell_type": "markdown",
   "metadata": {},
   "source": [
    "В результате мы получили 3 выборки:"
   ]
  },
  {
   "cell_type": "code",
   "execution_count": 12,
   "metadata": {
    "scrolled": true
   },
   "outputs": [
    {
     "data": {
      "text/plain": [
       "1928"
      ]
     },
     "execution_count": 12,
     "metadata": {},
     "output_type": "execute_result"
    }
   ],
   "source": [
    "features_train.shape[0]"
   ]
  },
  {
   "cell_type": "code",
   "execution_count": 13,
   "metadata": {
    "scrolled": true
   },
   "outputs": [
    {
     "data": {
      "text/plain": [
       "643"
      ]
     },
     "execution_count": 13,
     "metadata": {},
     "output_type": "execute_result"
    }
   ],
   "source": [
    "features_valid.shape[0]"
   ]
  },
  {
   "cell_type": "code",
   "execution_count": 14,
   "metadata": {
    "scrolled": true
   },
   "outputs": [
    {
     "data": {
      "text/plain": [
       "643"
      ]
     },
     "execution_count": 14,
     "metadata": {},
     "output_type": "execute_result"
    }
   ],
   "source": [
    "features_test.shape[0]"
   ]
  },
  {
   "cell_type": "markdown",
   "metadata": {},
   "source": [
    "Итого, у нас получены три выборки: тестовая выборка содержит 1928 записей, а валидационная и тестовая - по 643 записи каждая. Теперь мы можем начать обучать модели."
   ]
  },
  {
   "cell_type": "markdown",
   "metadata": {},
   "source": [
    "## Исследуйте модели"
   ]
  },
  {
   "cell_type": "markdown",
   "metadata": {},
   "source": [
    "Целевой признак в столбце is_ultra является категориальной переменной. Поэтому для обучения наших моделей будем использовать алгоритмы класиффикации. Воспользуемся классами моделей решающее дерево, случайный лес и логистическая регрессия, а также CatBoostClassifier."
   ]
  },
  {
   "cell_type": "markdown",
   "metadata": {},
   "source": [
    "Создадим таблицу models_good, куда будем записывать названия полученных нами моделей, а также значения метрик и гиперпараметров моделей для удобства."
   ]
  },
  {
   "cell_type": "code",
   "execution_count": 15,
   "metadata": {},
   "outputs": [],
   "source": [
    "models_good = pd.DataFrame(\n",
    "    columns = ['model_name', 'training set', 'parametrs', 'accuracy_valid', 'accuracy_test',\\\n",
    "               'roc_auc_valid', 'roc_auc_test']\n",
    ")"
   ]
  },
  {
   "cell_type": "code",
   "execution_count": 16,
   "metadata": {},
   "outputs": [],
   "source": [
    "def add_good_model(model, model_name, training_set, parametrs):\n",
    "    \n",
    "    return models_good.append(\n",
    "    {'model_name': model_name, 'parametrs': parametrs, 'training set': training_set, \\\n",
    "    'accuracy_valid': model.score(features_valid, target_valid), \\\n",
    "    'accuracy_test': model.score(features_test, target_test), \\\n",
    "    'roc_auc_valid': roc_auc_score(target_valid, model.predict_proba(features_valid)[:,1]), \\\n",
    "    'roc_auc_test': roc_auc_score(target_test, model.predict_proba(features_test)[:,1])}, \n",
    "    ignore_index = True\n",
    "    )"
   ]
  },
  {
   "cell_type": "markdown",
   "metadata": {},
   "source": [
    "### Классификация деревом решений"
   ]
  },
  {
   "cell_type": "markdown",
   "metadata": {},
   "source": [
    "Для нахождения лучшей модели DecisionTreeClassifier воспользуемся модулем GridSearchCV, который автоматически находит лучшую модель с заданными параметрами."
   ]
  },
  {
   "cell_type": "markdown",
   "metadata": {},
   "source": [
    "Зададим параметры для перебора в переменной parametrs."
   ]
  },
  {
   "cell_type": "code",
   "execution_count": 17,
   "metadata": {},
   "outputs": [],
   "source": [
    "parametrs = { 'criterion' : ['entropy', 'gini'],\n",
    "              'max_depth': range (1, 15),\n",
    "              'min_samples_leaf': range (1, 8),\n",
    "              'min_samples_split': range (2, 10),\n",
    "            }"
   ]
  },
  {
   "cell_type": "markdown",
   "metadata": {},
   "source": [
    "Далее укажим тип модели DecisionTreeClassifier, перекрестную проверку cv = 5, а метрику - accuracy."
   ]
  },
  {
   "cell_type": "code",
   "execution_count": 18,
   "metadata": {},
   "outputs": [],
   "source": [
    "clf = DecisionTreeClassifier(random_state = 42, class_weight = 'balanced')\n",
    "model_tree_gs = GridSearchCV(clf, parametrs, cv = 5, scoring = 'accuracy')"
   ]
  },
  {
   "cell_type": "markdown",
   "metadata": {},
   "source": [
    "Далее обучим нашу модель на тренировочной выборке и выведим наилучшие параметры."
   ]
  },
  {
   "cell_type": "code",
   "execution_count": 19,
   "metadata": {},
   "outputs": [
    {
     "data": {
      "text/plain": [
       "{'criterion': 'entropy',\n",
       " 'max_depth': 6,\n",
       " 'min_samples_leaf': 2,\n",
       " 'min_samples_split': 2}"
      ]
     },
     "execution_count": 19,
     "metadata": {},
     "output_type": "execute_result"
    }
   ],
   "source": [
    "model_tree_gs.fit(features_train, target_train)\n",
    "model_tree_gs.best_params_"
   ]
  },
  {
   "cell_type": "markdown",
   "metadata": {},
   "source": [
    "Вычислим accuracy для полученной модели для валидационной выборке."
   ]
  },
  {
   "cell_type": "code",
   "execution_count": 20,
   "metadata": {},
   "outputs": [
    {
     "data": {
      "text/plain": [
       "0.7822706065318819"
      ]
     },
     "execution_count": 20,
     "metadata": {},
     "output_type": "execute_result"
    }
   ],
   "source": [
    "model_tree_gs.score(features_valid, target_valid)"
   ]
  },
  {
   "cell_type": "markdown",
   "metadata": {},
   "source": [
    "В результате мы нашли и записали в переменную model_tree_gs модель, полученную с помощью структуры данных классификацией деревом решений с наилучшим accuracy = 0.7822706065318819. Гиперпараметры у найденной модели равны: {'criterion': 'entropy',\n",
    " 'max_depth': 5,\n",
    " 'min_samples_leaf': 6,\n",
    " 'min_samples_split': 2}"
   ]
  },
  {
   "cell_type": "markdown",
   "metadata": {},
   "source": [
    "Запишем параметры полученной модели, а также их метрики в таблице models_good."
   ]
  },
  {
   "cell_type": "code",
   "execution_count": 21,
   "metadata": {},
   "outputs": [],
   "source": [
    "models_good = add_good_model(model_tree_gs, 'Decision Tree Classifier', 'train', model_tree_gs.best_params_)"
   ]
  },
  {
   "cell_type": "code",
   "execution_count": 22,
   "metadata": {},
   "outputs": [
    {
     "data": {
      "text/html": [
       "<div>\n",
       "<style scoped>\n",
       "    .dataframe tbody tr th:only-of-type {\n",
       "        vertical-align: middle;\n",
       "    }\n",
       "\n",
       "    .dataframe tbody tr th {\n",
       "        vertical-align: top;\n",
       "    }\n",
       "\n",
       "    .dataframe thead th {\n",
       "        text-align: right;\n",
       "    }\n",
       "</style>\n",
       "<table border=\"1\" class=\"dataframe\">\n",
       "  <thead>\n",
       "    <tr style=\"text-align: right;\">\n",
       "      <th></th>\n",
       "      <th>model_name</th>\n",
       "      <th>training set</th>\n",
       "      <th>parametrs</th>\n",
       "      <th>accuracy_valid</th>\n",
       "      <th>accuracy_test</th>\n",
       "      <th>roc_auc_valid</th>\n",
       "      <th>roc_auc_test</th>\n",
       "    </tr>\n",
       "  </thead>\n",
       "  <tbody>\n",
       "    <tr>\n",
       "      <td>0</td>\n",
       "      <td>Decision Tree Classifier</td>\n",
       "      <td>train</td>\n",
       "      <td>{'criterion': 'entropy', 'max_depth': 6, 'min_...</td>\n",
       "      <td>0.782271</td>\n",
       "      <td>0.777605</td>\n",
       "      <td>0.732074</td>\n",
       "      <td>0.756931</td>\n",
       "    </tr>\n",
       "  </tbody>\n",
       "</table>\n",
       "</div>"
      ],
      "text/plain": [
       "                 model_name training set  \\\n",
       "0  Decision Tree Classifier        train   \n",
       "\n",
       "                                           parametrs  accuracy_valid  \\\n",
       "0  {'criterion': 'entropy', 'max_depth': 6, 'min_...        0.782271   \n",
       "\n",
       "   accuracy_test  roc_auc_valid  roc_auc_test  \n",
       "0       0.777605       0.732074      0.756931  "
      ]
     },
     "execution_count": 22,
     "metadata": {},
     "output_type": "execute_result"
    }
   ],
   "source": [
    "models_good"
   ]
  },
  {
   "cell_type": "markdown",
   "metadata": {},
   "source": [
    "Как видно из таблицы значение метрики accuracy на тестовой выборке немного ниже, чем на валидационной, а значение метрики roc_auc наоборот - на тестовой выборке показывает результат лучше, чем на валидационной."
   ]
  },
  {
   "cell_type": "markdown",
   "metadata": {},
   "source": [
    "### Классификация Случайный лес"
   ]
  },
  {
   "cell_type": "markdown",
   "metadata": {},
   "source": [
    "Для нахождения лучшей модели RandomForestClassifier также воспользуемся модулем GridSearchCV."
   ]
  },
  {
   "cell_type": "markdown",
   "metadata": {},
   "source": [
    "Зададим параметры для перебора в переменной parametrs."
   ]
  },
  {
   "cell_type": "code",
   "execution_count": 23,
   "metadata": {},
   "outputs": [],
   "source": [
    "parametrs_f = { 'criterion' : ['entropy', 'gini'],\n",
    "              'n_estimators': range (10, 21, 5),\n",
    "              'max_depth': range (1, 12),\n",
    "              'min_samples_leaf': range (1, 6),\n",
    "              'min_samples_split': range (2, 10, 2) }"
   ]
  },
  {
   "cell_type": "markdown",
   "metadata": {},
   "source": [
    "Далее укажим тип модели RandomForestClassifier, перекрестную проверку cv = 5, а метрику - accuracy."
   ]
  },
  {
   "cell_type": "code",
   "execution_count": 24,
   "metadata": {},
   "outputs": [],
   "source": [
    "clf_forest = RandomForestClassifier(random_state = 42, class_weight = 'balanced')\n",
    "model_forest_gs = GridSearchCV(clf_forest, parametrs_f, cv = 5, scoring = 'accuracy')"
   ]
  },
  {
   "cell_type": "markdown",
   "metadata": {},
   "source": [
    "Далее обучим нашу модель на тренировочной выборке и выведим наилучшие параметры."
   ]
  },
  {
   "cell_type": "code",
   "execution_count": 25,
   "metadata": {},
   "outputs": [
    {
     "data": {
      "text/plain": [
       "{'criterion': 'entropy',\n",
       " 'max_depth': 6,\n",
       " 'min_samples_leaf': 5,\n",
       " 'min_samples_split': 2,\n",
       " 'n_estimators': 15}"
      ]
     },
     "execution_count": 25,
     "metadata": {},
     "output_type": "execute_result"
    }
   ],
   "source": [
    "model_forest_gs.fit(features_train, target_train)\n",
    "model_forest_gs.best_params_"
   ]
  },
  {
   "cell_type": "markdown",
   "metadata": {},
   "source": [
    "Вычислим accuracy для полученной модели для валидационной выборке."
   ]
  },
  {
   "cell_type": "code",
   "execution_count": 26,
   "metadata": {
    "scrolled": true
   },
   "outputs": [
    {
     "data": {
      "text/plain": [
       "0.8102643856920684"
      ]
     },
     "execution_count": 26,
     "metadata": {},
     "output_type": "execute_result"
    }
   ],
   "source": [
    "model_forest_gs.score(features_valid, target_valid)"
   ]
  },
  {
   "cell_type": "markdown",
   "metadata": {},
   "source": [
    "В результате мы нашли и записали в переменную model_forest_gs модель, полученную с помощью структуры данных классификацией случайный лес с наилучшим accuracy = 0.8102643856920684. Гиперпараметры у найденной модели равны: {'criterion': 'entropy',\n",
    " 'max_depth': 6,\n",
    " 'min_samples_leaf': 5,\n",
    " 'min_samples_split': 2,\n",
    " 'n_estimators': 15"
   ]
  },
  {
   "cell_type": "markdown",
   "metadata": {},
   "source": [
    "Запишем параметры полученной модели, а также их метрики в таблице models_good."
   ]
  },
  {
   "cell_type": "code",
   "execution_count": 27,
   "metadata": {},
   "outputs": [],
   "source": [
    "models_good = add_good_model(model_forest_gs, 'Random Forest Classifier', 'train', model_forest_gs.best_params_)"
   ]
  },
  {
   "cell_type": "code",
   "execution_count": 28,
   "metadata": {},
   "outputs": [
    {
     "data": {
      "text/html": [
       "<div>\n",
       "<style scoped>\n",
       "    .dataframe tbody tr th:only-of-type {\n",
       "        vertical-align: middle;\n",
       "    }\n",
       "\n",
       "    .dataframe tbody tr th {\n",
       "        vertical-align: top;\n",
       "    }\n",
       "\n",
       "    .dataframe thead th {\n",
       "        text-align: right;\n",
       "    }\n",
       "</style>\n",
       "<table border=\"1\" class=\"dataframe\">\n",
       "  <thead>\n",
       "    <tr style=\"text-align: right;\">\n",
       "      <th></th>\n",
       "      <th>model_name</th>\n",
       "      <th>training set</th>\n",
       "      <th>parametrs</th>\n",
       "      <th>accuracy_valid</th>\n",
       "      <th>accuracy_test</th>\n",
       "      <th>roc_auc_valid</th>\n",
       "      <th>roc_auc_test</th>\n",
       "    </tr>\n",
       "  </thead>\n",
       "  <tbody>\n",
       "    <tr>\n",
       "      <td>0</td>\n",
       "      <td>Decision Tree Classifier</td>\n",
       "      <td>train</td>\n",
       "      <td>{'criterion': 'entropy', 'max_depth': 6, 'min_...</td>\n",
       "      <td>0.782271</td>\n",
       "      <td>0.777605</td>\n",
       "      <td>0.732074</td>\n",
       "      <td>0.756931</td>\n",
       "    </tr>\n",
       "    <tr>\n",
       "      <td>1</td>\n",
       "      <td>Random Forest Classifier</td>\n",
       "      <td>train</td>\n",
       "      <td>{'criterion': 'entropy', 'max_depth': 6, 'min_...</td>\n",
       "      <td>0.810264</td>\n",
       "      <td>0.796267</td>\n",
       "      <td>0.785038</td>\n",
       "      <td>0.808404</td>\n",
       "    </tr>\n",
       "  </tbody>\n",
       "</table>\n",
       "</div>"
      ],
      "text/plain": [
       "                 model_name training set  \\\n",
       "0  Decision Tree Classifier        train   \n",
       "1  Random Forest Classifier        train   \n",
       "\n",
       "                                           parametrs  accuracy_valid  \\\n",
       "0  {'criterion': 'entropy', 'max_depth': 6, 'min_...        0.782271   \n",
       "1  {'criterion': 'entropy', 'max_depth': 6, 'min_...        0.810264   \n",
       "\n",
       "   accuracy_test  roc_auc_valid  roc_auc_test  \n",
       "0       0.777605       0.732074      0.756931  \n",
       "1       0.796267       0.785038      0.808404  "
      ]
     },
     "execution_count": 28,
     "metadata": {},
     "output_type": "execute_result"
    }
   ],
   "source": [
    "models_good"
   ]
  },
  {
   "cell_type": "markdown",
   "metadata": {},
   "source": [
    "Как и с предыдущей моделью значение метрики accuracy на тестовой выборке немного ниже, чем на валидационной, а значение метрики roc_auc наоборот - на тестовой выборке показывает результат лучше, чем на валидационной."
   ]
  },
  {
   "cell_type": "markdown",
   "metadata": {},
   "source": [
    "### Логистическая регрессия"
   ]
  },
  {
   "cell_type": "markdown",
   "metadata": {},
   "source": [
    "Для нахождения лучшей модели LogisticRegression также воспользуемся модулем GridSearchCV."
   ]
  },
  {
   "cell_type": "markdown",
   "metadata": {},
   "source": [
    "Зададим параметры для перебора в переменной parametrs_lg."
   ]
  },
  {
   "cell_type": "code",
   "execution_count": 29,
   "metadata": {},
   "outputs": [],
   "source": [
    "parametrs_lg = { 'solver' : ['lbfgs', 'liblinear', 'sag', 'saga'],\n",
    "              'max_iter': range (4500, 6000, 500)\n",
    "               }"
   ]
  },
  {
   "cell_type": "markdown",
   "metadata": {},
   "source": [
    "Далее укажим тип модели LogisticRegression, перекрестную проверку cv = 5, а метрику - accuracy."
   ]
  },
  {
   "cell_type": "code",
   "execution_count": 30,
   "metadata": {},
   "outputs": [],
   "source": [
    "clf_logistic = LogisticRegression(random_state = 42, class_weight = 'balanced')\n",
    "model_logistic_gs = GridSearchCV(clf_logistic, parametrs_lg, cv = 5, scoring = 'accuracy')"
   ]
  },
  {
   "cell_type": "markdown",
   "metadata": {},
   "source": [
    "Далее обучим нашу модель на тренировочной выборке и выведим наилучшие параметры."
   ]
  },
  {
   "cell_type": "code",
   "execution_count": 31,
   "metadata": {},
   "outputs": [
    {
     "data": {
      "text/plain": [
       "{'max_iter': 4500, 'solver': 'liblinear'}"
      ]
     },
     "execution_count": 31,
     "metadata": {},
     "output_type": "execute_result"
    }
   ],
   "source": [
    "model_logistic_gs.fit(features_train, target_train)\n",
    "model_logistic_gs.best_params_"
   ]
  },
  {
   "cell_type": "markdown",
   "metadata": {},
   "source": [
    "Вычислим accuracy для полученной модели для валидационной выборке."
   ]
  },
  {
   "cell_type": "code",
   "execution_count": 32,
   "metadata": {
    "scrolled": true
   },
   "outputs": [
    {
     "data": {
      "text/plain": [
       "0.6376360808709176"
      ]
     },
     "execution_count": 32,
     "metadata": {},
     "output_type": "execute_result"
    }
   ],
   "source": [
    "model_logistic_gs.score(features_valid, target_valid)"
   ]
  },
  {
   "cell_type": "markdown",
   "metadata": {},
   "source": [
    "В результате мы нашли и записали в переменную model_logistic_gs модель, полученную с помощью структуры данных классификацией логистической регрессии с наилучшим accuracy = 0.6376360808709176. Гиперпараметры у найденной модели равны: best_solver = liblinear, random_state = 42, max_iter = 4500."
   ]
  },
  {
   "cell_type": "markdown",
   "metadata": {},
   "source": [
    "Запишем параметры полученной модели, а также их метрики в таблице models_good."
   ]
  },
  {
   "cell_type": "code",
   "execution_count": 33,
   "metadata": {},
   "outputs": [],
   "source": [
    "models_good = add_good_model(model_logistic_gs, 'Logistic Regression', 'train', model_logistic_gs.best_params_)"
   ]
  },
  {
   "cell_type": "code",
   "execution_count": 34,
   "metadata": {},
   "outputs": [
    {
     "data": {
      "text/html": [
       "<div>\n",
       "<style scoped>\n",
       "    .dataframe tbody tr th:only-of-type {\n",
       "        vertical-align: middle;\n",
       "    }\n",
       "\n",
       "    .dataframe tbody tr th {\n",
       "        vertical-align: top;\n",
       "    }\n",
       "\n",
       "    .dataframe thead th {\n",
       "        text-align: right;\n",
       "    }\n",
       "</style>\n",
       "<table border=\"1\" class=\"dataframe\">\n",
       "  <thead>\n",
       "    <tr style=\"text-align: right;\">\n",
       "      <th></th>\n",
       "      <th>model_name</th>\n",
       "      <th>training set</th>\n",
       "      <th>parametrs</th>\n",
       "      <th>accuracy_valid</th>\n",
       "      <th>accuracy_test</th>\n",
       "      <th>roc_auc_valid</th>\n",
       "      <th>roc_auc_test</th>\n",
       "    </tr>\n",
       "  </thead>\n",
       "  <tbody>\n",
       "    <tr>\n",
       "      <td>0</td>\n",
       "      <td>Decision Tree Classifier</td>\n",
       "      <td>train</td>\n",
       "      <td>{'criterion': 'entropy', 'max_depth': 6, 'min_...</td>\n",
       "      <td>0.782271</td>\n",
       "      <td>0.777605</td>\n",
       "      <td>0.732074</td>\n",
       "      <td>0.756931</td>\n",
       "    </tr>\n",
       "    <tr>\n",
       "      <td>1</td>\n",
       "      <td>Random Forest Classifier</td>\n",
       "      <td>train</td>\n",
       "      <td>{'criterion': 'entropy', 'max_depth': 6, 'min_...</td>\n",
       "      <td>0.810264</td>\n",
       "      <td>0.796267</td>\n",
       "      <td>0.785038</td>\n",
       "      <td>0.808404</td>\n",
       "    </tr>\n",
       "    <tr>\n",
       "      <td>2</td>\n",
       "      <td>Logistic Regression</td>\n",
       "      <td>train</td>\n",
       "      <td>{'max_iter': 4500, 'solver': 'liblinear'}</td>\n",
       "      <td>0.637636</td>\n",
       "      <td>0.643857</td>\n",
       "      <td>0.669482</td>\n",
       "      <td>0.686383</td>\n",
       "    </tr>\n",
       "  </tbody>\n",
       "</table>\n",
       "</div>"
      ],
      "text/plain": [
       "                 model_name training set  \\\n",
       "0  Decision Tree Classifier        train   \n",
       "1  Random Forest Classifier        train   \n",
       "2       Logistic Regression        train   \n",
       "\n",
       "                                           parametrs  accuracy_valid  \\\n",
       "0  {'criterion': 'entropy', 'max_depth': 6, 'min_...        0.782271   \n",
       "1  {'criterion': 'entropy', 'max_depth': 6, 'min_...        0.810264   \n",
       "2          {'max_iter': 4500, 'solver': 'liblinear'}        0.637636   \n",
       "\n",
       "   accuracy_test  roc_auc_valid  roc_auc_test  \n",
       "0       0.777605       0.732074      0.756931  \n",
       "1       0.796267       0.785038      0.808404  \n",
       "2       0.643857       0.669482      0.686383  "
      ]
     },
     "execution_count": 34,
     "metadata": {},
     "output_type": "execute_result"
    }
   ],
   "source": [
    "models_good"
   ]
  },
  {
   "cell_type": "markdown",
   "metadata": {},
   "source": [
    "Здесь мы видим, что значение метрики accuracy на тестовой выборке выше, чем на валидационной, как и значение метрики roc_auc. Но в целом результат пока самый плохой."
   ]
  },
  {
   "cell_type": "markdown",
   "metadata": {},
   "source": [
    "### CatBoostClassifier"
   ]
  },
  {
   "cell_type": "markdown",
   "metadata": {},
   "source": [
    "Теперь воспользуемся библиотекой CatBoostClassifier."
   ]
  },
  {
   "cell_type": "code",
   "execution_count": 35,
   "metadata": {},
   "outputs": [],
   "source": [
    "model = CatBoostClassifier(learning_rate=0.001, eval_metric='Accuracy', verbose=100)"
   ]
  },
  {
   "cell_type": "code",
   "execution_count": 36,
   "metadata": {
    "scrolled": false
   },
   "outputs": [
    {
     "name": "stdout",
     "output_type": "stream",
     "text": [
      "0:\tlearn: 0.7920124\ttest: 0.7884914\tbest: 0.7884914 (0)\ttotal: 51.2ms\tremaining: 51.2s\n",
      "100:\tlearn: 0.7961618\ttest: 0.8102644\tbest: 0.8102644 (29)\ttotal: 1.62s\tremaining: 14.4s\n",
      "200:\tlearn: 0.7961618\ttest: 0.8087092\tbest: 0.8102644 (29)\ttotal: 3.26s\tremaining: 13s\n",
      "300:\tlearn: 0.7961618\ttest: 0.8118196\tbest: 0.8118196 (277)\ttotal: 4.99s\tremaining: 11.6s\n",
      "400:\tlearn: 0.7977178\ttest: 0.8102644\tbest: 0.8118196 (277)\ttotal: 6.63s\tremaining: 9.91s\n",
      "500:\tlearn: 0.7971992\ttest: 0.8102644\tbest: 0.8118196 (277)\ttotal: 8.28s\tremaining: 8.25s\n",
      "600:\tlearn: 0.7971992\ttest: 0.8102644\tbest: 0.8133748 (594)\ttotal: 10s\tremaining: 6.64s\n",
      "700:\tlearn: 0.7966805\ttest: 0.8102644\tbest: 0.8133748 (594)\ttotal: 11.7s\tremaining: 5s\n",
      "800:\tlearn: 0.7966805\ttest: 0.8102644\tbest: 0.8133748 (594)\ttotal: 13.4s\tremaining: 3.32s\n",
      "900:\tlearn: 0.7971992\ttest: 0.8102644\tbest: 0.8133748 (594)\ttotal: 15.1s\tremaining: 1.66s\n",
      "999:\tlearn: 0.7987552\ttest: 0.8102644\tbest: 0.8133748 (594)\ttotal: 16.8s\tremaining: 0us\n",
      "\n",
      "bestTest = 0.8133748056\n",
      "bestIteration = 594\n",
      "\n",
      "Shrink model to first 595 iterations.\n"
     ]
    },
    {
     "data": {
      "text/plain": [
       "<catboost.core.CatBoostClassifier at 0x7f2a4f561110>"
      ]
     },
     "execution_count": 36,
     "metadata": {},
     "output_type": "execute_result"
    }
   ],
   "source": [
    "model.fit(features_train, target_train, eval_set = (features_valid, target_valid), cat_features = None)"
   ]
  },
  {
   "cell_type": "code",
   "execution_count": 37,
   "metadata": {},
   "outputs": [
    {
     "data": {
      "text/plain": [
       "0.8133748055987559"
      ]
     },
     "execution_count": 37,
     "metadata": {},
     "output_type": "execute_result"
    }
   ],
   "source": [
    "model.score(features_valid, target_valid)"
   ]
  },
  {
   "cell_type": "markdown",
   "metadata": {},
   "source": [
    "В результате мы нашли и записали в переменную model модель, полученную с помощью библиотеки CatBoostClassifier с наилучшим accuracy = 0.8133748055987559. Гиперпараметры у найденной модели равны: eval_metric='Accuracy', learning_rate=0.001."
   ]
  },
  {
   "cell_type": "markdown",
   "metadata": {},
   "source": [
    "Запишем параметры полученной модели, а также их метрики в таблице models_good."
   ]
  },
  {
   "cell_type": "code",
   "execution_count": 38,
   "metadata": {},
   "outputs": [],
   "source": [
    "models_good = add_good_model(model, 'Cat Boost Classifier', 'train', 'eval_metric=\"Accuracy\", learning_rate=0.001')"
   ]
  },
  {
   "cell_type": "code",
   "execution_count": 39,
   "metadata": {},
   "outputs": [
    {
     "data": {
      "text/html": [
       "<div>\n",
       "<style scoped>\n",
       "    .dataframe tbody tr th:only-of-type {\n",
       "        vertical-align: middle;\n",
       "    }\n",
       "\n",
       "    .dataframe tbody tr th {\n",
       "        vertical-align: top;\n",
       "    }\n",
       "\n",
       "    .dataframe thead th {\n",
       "        text-align: right;\n",
       "    }\n",
       "</style>\n",
       "<table border=\"1\" class=\"dataframe\">\n",
       "  <thead>\n",
       "    <tr style=\"text-align: right;\">\n",
       "      <th></th>\n",
       "      <th>model_name</th>\n",
       "      <th>training set</th>\n",
       "      <th>parametrs</th>\n",
       "      <th>accuracy_valid</th>\n",
       "      <th>accuracy_test</th>\n",
       "      <th>roc_auc_valid</th>\n",
       "      <th>roc_auc_test</th>\n",
       "    </tr>\n",
       "  </thead>\n",
       "  <tbody>\n",
       "    <tr>\n",
       "      <td>0</td>\n",
       "      <td>Decision Tree Classifier</td>\n",
       "      <td>train</td>\n",
       "      <td>{'criterion': 'entropy', 'max_depth': 6, 'min_...</td>\n",
       "      <td>0.782271</td>\n",
       "      <td>0.777605</td>\n",
       "      <td>0.732074</td>\n",
       "      <td>0.756931</td>\n",
       "    </tr>\n",
       "    <tr>\n",
       "      <td>1</td>\n",
       "      <td>Random Forest Classifier</td>\n",
       "      <td>train</td>\n",
       "      <td>{'criterion': 'entropy', 'max_depth': 6, 'min_...</td>\n",
       "      <td>0.810264</td>\n",
       "      <td>0.796267</td>\n",
       "      <td>0.785038</td>\n",
       "      <td>0.808404</td>\n",
       "    </tr>\n",
       "    <tr>\n",
       "      <td>2</td>\n",
       "      <td>Logistic Regression</td>\n",
       "      <td>train</td>\n",
       "      <td>{'max_iter': 4500, 'solver': 'liblinear'}</td>\n",
       "      <td>0.637636</td>\n",
       "      <td>0.643857</td>\n",
       "      <td>0.669482</td>\n",
       "      <td>0.686383</td>\n",
       "    </tr>\n",
       "    <tr>\n",
       "      <td>3</td>\n",
       "      <td>Cat Boost Classifier</td>\n",
       "      <td>train</td>\n",
       "      <td>eval_metric=\"Accuracy\", learning_rate=0.001</td>\n",
       "      <td>0.813375</td>\n",
       "      <td>0.788491</td>\n",
       "      <td>0.792857</td>\n",
       "      <td>0.796101</td>\n",
       "    </tr>\n",
       "  </tbody>\n",
       "</table>\n",
       "</div>"
      ],
      "text/plain": [
       "                 model_name training set  \\\n",
       "0  Decision Tree Classifier        train   \n",
       "1  Random Forest Classifier        train   \n",
       "2       Logistic Regression        train   \n",
       "3      Cat Boost Classifier        train   \n",
       "\n",
       "                                           parametrs  accuracy_valid  \\\n",
       "0  {'criterion': 'entropy', 'max_depth': 6, 'min_...        0.782271   \n",
       "1  {'criterion': 'entropy', 'max_depth': 6, 'min_...        0.810264   \n",
       "2          {'max_iter': 4500, 'solver': 'liblinear'}        0.637636   \n",
       "3        eval_metric=\"Accuracy\", learning_rate=0.001        0.813375   \n",
       "\n",
       "   accuracy_test  roc_auc_valid  roc_auc_test  \n",
       "0       0.777605       0.732074      0.756931  \n",
       "1       0.796267       0.785038      0.808404  \n",
       "2       0.643857       0.669482      0.686383  \n",
       "3       0.788491       0.792857      0.796101  "
      ]
     },
     "execution_count": 39,
     "metadata": {},
     "output_type": "execute_result"
    }
   ],
   "source": [
    "models_good"
   ]
  },
  {
   "cell_type": "markdown",
   "metadata": {},
   "source": [
    "Как видно из таблицы значение метрики accuracy на тестовой выборке ниже, чем на валидационной, а значение метрики roc_auc наоборот - на тестовой выборке показывает результат лучше, чем на валидационной."
   ]
  },
  {
   "cell_type": "markdown",
   "metadata": {},
   "source": [
    "### Вывод"
   ]
  },
  {
   "cell_type": "markdown",
   "metadata": {},
   "source": [
    "Мы исследовали модели и получили следующие результаты:\n",
    "\n",
    "1. Модель, полученная с помощью структуры данных классификацией деревом решений DecisionTreeClassifier с наилучшим accuracy = 0.7822706065318819 на валидационной выборке. Гиперпараметры у найденной модели равны: {'criterion': 'entropy','max_depth': 5, 'min_samples_leaf': 6, 'min_samples_split': 2} Причем значение метрики accuracy на тестовой выборке немного ниже, чем на валидационной, а значение метрики roc_auc наоборот - на тестовой выборке показывает результат лучше, чем на валидационной.\n",
    "\n",
    "\n",
    "2. Модель, полученная с помощью структуры данных классификацией случайный лес RandomForestClassifier с наилучшим accuracy = 0.8102643856920684 на валидационной выборке. Гиперпараметры у найденной модели равны: {'criterion': 'entropy', 'max_depth': 6, 'min_samples_leaf': 5, 'min_samples_split': 2, 'n_estimators': 15. Причем значение метрики accuracy на тестовой выборке немного ниже, чем на валидационной, а значение метрики roc_auc наоборот - на тестовой выборке показывает результат лучше, чем на валидационной.\n",
    "\n",
    "\n",
    "3. Модель, полученная с помощью структуры данных классификацией логистической регрессии LogisticRegression с наилучшим accuracy = 0.7402799377916018 на валидационной выборке. Гиперпараметры у найденной модели равны: best_solver = liblinear, random_state = 42, max_iter = 4500. Значение метрики accuracy на тестовой выборке выше, чем на валидационной, как и значение метрики roc_auc. Из всех моделей у логистической регрессии результат самый плохой.\n",
    "\n",
    "\n",
    "4. Модель, полученная с помощью библиотеки CatBoostClassifier с наилучшим accuracy = 0.8133748055987559 на валидационной выборке. Гиперпараметры у найденной модели равны: eval_metric='Accuracy', learning_rate=0.001. Значение метрики accuracy на тестовой выборке ниже, чем на валидационной, а значение метрики roc_auc наоборот - на тестовой выборке показывает результат лучше, чем на валидационной.\n"
   ]
  },
  {
   "cell_type": "markdown",
   "metadata": {},
   "source": [
    "## Проверьте модель на тестовой выборке"
   ]
  },
  {
   "cell_type": "markdown",
   "metadata": {},
   "source": [
    "Прежде чем тестировать модели на тестовой выборке, объединим тренировочную и валидационную выборки и обучим модели на полученной выборке."
   ]
  },
  {
   "cell_type": "code",
   "execution_count": 40,
   "metadata": {},
   "outputs": [],
   "source": [
    "features_train_valid = features_train.append(features_valid)\n",
    "target_train_valid = target_train.append(target_valid)"
   ]
  },
  {
   "cell_type": "markdown",
   "metadata": {},
   "source": [
    "Обучим наши модели на новой выборке, затем запишем полученный результат в нашу таблицу для сравнения."
   ]
  },
  {
   "cell_type": "code",
   "execution_count": 41,
   "metadata": {},
   "outputs": [
    {
     "data": {
      "text/plain": [
       "{'criterion': 'entropy',\n",
       " 'max_depth': 6,\n",
       " 'min_samples_leaf': 2,\n",
       " 'min_samples_split': 2}"
      ]
     },
     "execution_count": 41,
     "metadata": {},
     "output_type": "execute_result"
    }
   ],
   "source": [
    "model_tree_gs.best_params_"
   ]
  },
  {
   "cell_type": "code",
   "execution_count": 42,
   "metadata": {},
   "outputs": [
    {
     "data": {
      "text/plain": [
       "0.7962674961119751"
      ]
     },
     "execution_count": 42,
     "metadata": {},
     "output_type": "execute_result"
    }
   ],
   "source": [
    "model_tree = DecisionTreeClassifier(criterion = 'entropy', max_depth = 6, min_samples_leaf = 2, min_samples_split = 2)\n",
    "model_tree.fit(features_train_valid, target_train_valid)\n",
    "model_tree.score(features_test, target_test)"
   ]
  },
  {
   "cell_type": "markdown",
   "metadata": {},
   "source": [
    "Добавим данные переобученной модели в таблицу."
   ]
  },
  {
   "cell_type": "code",
   "execution_count": 43,
   "metadata": {},
   "outputs": [],
   "source": [
    "models_good = add_good_model(model_tree, 'Decision Tree Classifier', 'train and valid', model_tree_gs.best_params_)"
   ]
  },
  {
   "cell_type": "code",
   "execution_count": 44,
   "metadata": {},
   "outputs": [
    {
     "data": {
      "text/html": [
       "<div>\n",
       "<style scoped>\n",
       "    .dataframe tbody tr th:only-of-type {\n",
       "        vertical-align: middle;\n",
       "    }\n",
       "\n",
       "    .dataframe tbody tr th {\n",
       "        vertical-align: top;\n",
       "    }\n",
       "\n",
       "    .dataframe thead th {\n",
       "        text-align: right;\n",
       "    }\n",
       "</style>\n",
       "<table border=\"1\" class=\"dataframe\">\n",
       "  <thead>\n",
       "    <tr style=\"text-align: right;\">\n",
       "      <th></th>\n",
       "      <th>model_name</th>\n",
       "      <th>training set</th>\n",
       "      <th>parametrs</th>\n",
       "      <th>accuracy_valid</th>\n",
       "      <th>accuracy_test</th>\n",
       "      <th>roc_auc_valid</th>\n",
       "      <th>roc_auc_test</th>\n",
       "    </tr>\n",
       "  </thead>\n",
       "  <tbody>\n",
       "    <tr>\n",
       "      <td>0</td>\n",
       "      <td>Decision Tree Classifier</td>\n",
       "      <td>train</td>\n",
       "      <td>{'criterion': 'entropy', 'max_depth': 6, 'min_...</td>\n",
       "      <td>0.782271</td>\n",
       "      <td>0.777605</td>\n",
       "      <td>0.732074</td>\n",
       "      <td>0.756931</td>\n",
       "    </tr>\n",
       "    <tr>\n",
       "      <td>1</td>\n",
       "      <td>Random Forest Classifier</td>\n",
       "      <td>train</td>\n",
       "      <td>{'criterion': 'entropy', 'max_depth': 6, 'min_...</td>\n",
       "      <td>0.810264</td>\n",
       "      <td>0.796267</td>\n",
       "      <td>0.785038</td>\n",
       "      <td>0.808404</td>\n",
       "    </tr>\n",
       "    <tr>\n",
       "      <td>2</td>\n",
       "      <td>Logistic Regression</td>\n",
       "      <td>train</td>\n",
       "      <td>{'max_iter': 4500, 'solver': 'liblinear'}</td>\n",
       "      <td>0.637636</td>\n",
       "      <td>0.643857</td>\n",
       "      <td>0.669482</td>\n",
       "      <td>0.686383</td>\n",
       "    </tr>\n",
       "    <tr>\n",
       "      <td>3</td>\n",
       "      <td>Cat Boost Classifier</td>\n",
       "      <td>train</td>\n",
       "      <td>eval_metric=\"Accuracy\", learning_rate=0.001</td>\n",
       "      <td>0.813375</td>\n",
       "      <td>0.788491</td>\n",
       "      <td>0.792857</td>\n",
       "      <td>0.796101</td>\n",
       "    </tr>\n",
       "    <tr>\n",
       "      <td>4</td>\n",
       "      <td>Decision Tree Classifier</td>\n",
       "      <td>train and valid</td>\n",
       "      <td>{'criterion': 'entropy', 'max_depth': 6, 'min_...</td>\n",
       "      <td>0.824261</td>\n",
       "      <td>0.796267</td>\n",
       "      <td>0.785903</td>\n",
       "      <td>0.772757</td>\n",
       "    </tr>\n",
       "  </tbody>\n",
       "</table>\n",
       "</div>"
      ],
      "text/plain": [
       "                 model_name     training set  \\\n",
       "0  Decision Tree Classifier            train   \n",
       "1  Random Forest Classifier            train   \n",
       "2       Logistic Regression            train   \n",
       "3      Cat Boost Classifier            train   \n",
       "4  Decision Tree Classifier  train and valid   \n",
       "\n",
       "                                           parametrs  accuracy_valid  \\\n",
       "0  {'criterion': 'entropy', 'max_depth': 6, 'min_...        0.782271   \n",
       "1  {'criterion': 'entropy', 'max_depth': 6, 'min_...        0.810264   \n",
       "2          {'max_iter': 4500, 'solver': 'liblinear'}        0.637636   \n",
       "3        eval_metric=\"Accuracy\", learning_rate=0.001        0.813375   \n",
       "4  {'criterion': 'entropy', 'max_depth': 6, 'min_...        0.824261   \n",
       "\n",
       "   accuracy_test  roc_auc_valid  roc_auc_test  \n",
       "0       0.777605       0.732074      0.756931  \n",
       "1       0.796267       0.785038      0.808404  \n",
       "2       0.643857       0.669482      0.686383  \n",
       "3       0.788491       0.792857      0.796101  \n",
       "4       0.796267       0.785903      0.772757  "
      ]
     },
     "execution_count": 44,
     "metadata": {},
     "output_type": "execute_result"
    }
   ],
   "source": [
    "models_good"
   ]
  },
  {
   "cell_type": "markdown",
   "metadata": {},
   "source": [
    "После обучения accuracy на тестовой выборке стала лучше: 0.797823 против 0.777605. Такая же ситуация с метрикой roc_auc: 0.771044 против 0.756931."
   ]
  },
  {
   "cell_type": "markdown",
   "metadata": {},
   "source": [
    "Обучим теперь модель случайный лес."
   ]
  },
  {
   "cell_type": "code",
   "execution_count": 45,
   "metadata": {},
   "outputs": [
    {
     "data": {
      "text/plain": [
       "{'criterion': 'entropy',\n",
       " 'max_depth': 6,\n",
       " 'min_samples_leaf': 5,\n",
       " 'min_samples_split': 2,\n",
       " 'n_estimators': 15}"
      ]
     },
     "execution_count": 45,
     "metadata": {},
     "output_type": "execute_result"
    }
   ],
   "source": [
    "model_forest_gs.best_params_"
   ]
  },
  {
   "cell_type": "code",
   "execution_count": 46,
   "metadata": {},
   "outputs": [
    {
     "data": {
      "text/plain": [
       "0.8055987558320373"
      ]
     },
     "execution_count": 46,
     "metadata": {},
     "output_type": "execute_result"
    }
   ],
   "source": [
    "model_forest = RandomForestClassifier(\n",
    "    criterion = 'entropy', max_depth = 6, min_samples_leaf = 5, min_samples_split = 2, n_estimators = 15)\n",
    "model_forest.fit(features_train_valid, target_train_valid)\n",
    "model_forest.score(features_test, target_test)"
   ]
  },
  {
   "cell_type": "code",
   "execution_count": 47,
   "metadata": {},
   "outputs": [],
   "source": [
    "models_good = add_good_model(model_forest, 'Random Forest Classifier', 'train and valid', model_forest_gs.best_params_)"
   ]
  },
  {
   "cell_type": "code",
   "execution_count": 48,
   "metadata": {},
   "outputs": [
    {
     "data": {
      "text/html": [
       "<div>\n",
       "<style scoped>\n",
       "    .dataframe tbody tr th:only-of-type {\n",
       "        vertical-align: middle;\n",
       "    }\n",
       "\n",
       "    .dataframe tbody tr th {\n",
       "        vertical-align: top;\n",
       "    }\n",
       "\n",
       "    .dataframe thead th {\n",
       "        text-align: right;\n",
       "    }\n",
       "</style>\n",
       "<table border=\"1\" class=\"dataframe\">\n",
       "  <thead>\n",
       "    <tr style=\"text-align: right;\">\n",
       "      <th></th>\n",
       "      <th>model_name</th>\n",
       "      <th>training set</th>\n",
       "      <th>parametrs</th>\n",
       "      <th>accuracy_valid</th>\n",
       "      <th>accuracy_test</th>\n",
       "      <th>roc_auc_valid</th>\n",
       "      <th>roc_auc_test</th>\n",
       "    </tr>\n",
       "  </thead>\n",
       "  <tbody>\n",
       "    <tr>\n",
       "      <td>0</td>\n",
       "      <td>Decision Tree Classifier</td>\n",
       "      <td>train</td>\n",
       "      <td>{'criterion': 'entropy', 'max_depth': 6, 'min_...</td>\n",
       "      <td>0.782271</td>\n",
       "      <td>0.777605</td>\n",
       "      <td>0.732074</td>\n",
       "      <td>0.756931</td>\n",
       "    </tr>\n",
       "    <tr>\n",
       "      <td>1</td>\n",
       "      <td>Random Forest Classifier</td>\n",
       "      <td>train</td>\n",
       "      <td>{'criterion': 'entropy', 'max_depth': 6, 'min_...</td>\n",
       "      <td>0.810264</td>\n",
       "      <td>0.796267</td>\n",
       "      <td>0.785038</td>\n",
       "      <td>0.808404</td>\n",
       "    </tr>\n",
       "    <tr>\n",
       "      <td>2</td>\n",
       "      <td>Logistic Regression</td>\n",
       "      <td>train</td>\n",
       "      <td>{'max_iter': 4500, 'solver': 'liblinear'}</td>\n",
       "      <td>0.637636</td>\n",
       "      <td>0.643857</td>\n",
       "      <td>0.669482</td>\n",
       "      <td>0.686383</td>\n",
       "    </tr>\n",
       "    <tr>\n",
       "      <td>3</td>\n",
       "      <td>Cat Boost Classifier</td>\n",
       "      <td>train</td>\n",
       "      <td>eval_metric=\"Accuracy\", learning_rate=0.001</td>\n",
       "      <td>0.813375</td>\n",
       "      <td>0.788491</td>\n",
       "      <td>0.792857</td>\n",
       "      <td>0.796101</td>\n",
       "    </tr>\n",
       "    <tr>\n",
       "      <td>4</td>\n",
       "      <td>Decision Tree Classifier</td>\n",
       "      <td>train and valid</td>\n",
       "      <td>{'criterion': 'entropy', 'max_depth': 6, 'min_...</td>\n",
       "      <td>0.824261</td>\n",
       "      <td>0.796267</td>\n",
       "      <td>0.785903</td>\n",
       "      <td>0.772757</td>\n",
       "    </tr>\n",
       "    <tr>\n",
       "      <td>5</td>\n",
       "      <td>Random Forest Classifier</td>\n",
       "      <td>train and valid</td>\n",
       "      <td>{'criterion': 'entropy', 'max_depth': 6, 'min_...</td>\n",
       "      <td>0.819596</td>\n",
       "      <td>0.805599</td>\n",
       "      <td>0.823581</td>\n",
       "      <td>0.805786</td>\n",
       "    </tr>\n",
       "  </tbody>\n",
       "</table>\n",
       "</div>"
      ],
      "text/plain": [
       "                 model_name     training set  \\\n",
       "0  Decision Tree Classifier            train   \n",
       "1  Random Forest Classifier            train   \n",
       "2       Logistic Regression            train   \n",
       "3      Cat Boost Classifier            train   \n",
       "4  Decision Tree Classifier  train and valid   \n",
       "5  Random Forest Classifier  train and valid   \n",
       "\n",
       "                                           parametrs  accuracy_valid  \\\n",
       "0  {'criterion': 'entropy', 'max_depth': 6, 'min_...        0.782271   \n",
       "1  {'criterion': 'entropy', 'max_depth': 6, 'min_...        0.810264   \n",
       "2          {'max_iter': 4500, 'solver': 'liblinear'}        0.637636   \n",
       "3        eval_metric=\"Accuracy\", learning_rate=0.001        0.813375   \n",
       "4  {'criterion': 'entropy', 'max_depth': 6, 'min_...        0.824261   \n",
       "5  {'criterion': 'entropy', 'max_depth': 6, 'min_...        0.819596   \n",
       "\n",
       "   accuracy_test  roc_auc_valid  roc_auc_test  \n",
       "0       0.777605       0.732074      0.756931  \n",
       "1       0.796267       0.785038      0.808404  \n",
       "2       0.643857       0.669482      0.686383  \n",
       "3       0.788491       0.792857      0.796101  \n",
       "4       0.796267       0.785903      0.772757  \n",
       "5       0.805599       0.823581      0.805786  "
      ]
     },
     "execution_count": 48,
     "metadata": {},
     "output_type": "execute_result"
    }
   ],
   "source": [
    "models_good"
   ]
  },
  {
   "cell_type": "markdown",
   "metadata": {},
   "source": [
    "После обучения accuracy на тестовой выборке стал чуть лучше: 0.799378 против 0.796267. Ситуация с метрикой roc_auc обратна, её показатели ухудшились -  0.805576 против 0.808404. По значению accuracy = 0.799378 она показывает лучший результат."
   ]
  },
  {
   "cell_type": "markdown",
   "metadata": {},
   "source": [
    "Перейдем к логистической классификации."
   ]
  },
  {
   "cell_type": "code",
   "execution_count": 49,
   "metadata": {},
   "outputs": [
    {
     "data": {
      "text/plain": [
       "{'max_iter': 4500, 'solver': 'liblinear'}"
      ]
     },
     "execution_count": 49,
     "metadata": {},
     "output_type": "execute_result"
    }
   ],
   "source": [
    "model_logistic_gs.best_params_"
   ]
  },
  {
   "cell_type": "code",
   "execution_count": 50,
   "metadata": {},
   "outputs": [
    {
     "data": {
      "text/plain": [
       "0.702954898911353"
      ]
     },
     "execution_count": 50,
     "metadata": {},
     "output_type": "execute_result"
    }
   ],
   "source": [
    "model_logistic = LogisticRegression(max_iter = 4500, solver = 'liblinear')\n",
    "model_logistic.fit(features_train_valid, target_train_valid)\n",
    "model_logistic.score(features_test, target_test)"
   ]
  },
  {
   "cell_type": "markdown",
   "metadata": {},
   "source": [
    "Запишем полученные данные в нашу таблицу."
   ]
  },
  {
   "cell_type": "code",
   "execution_count": 51,
   "metadata": {},
   "outputs": [],
   "source": [
    "models_good = add_good_model(model_logistic, 'Logistic Regression', 'train and valid', model_logistic_gs.best_params_)"
   ]
  },
  {
   "cell_type": "code",
   "execution_count": 52,
   "metadata": {},
   "outputs": [
    {
     "data": {
      "text/html": [
       "<div>\n",
       "<style scoped>\n",
       "    .dataframe tbody tr th:only-of-type {\n",
       "        vertical-align: middle;\n",
       "    }\n",
       "\n",
       "    .dataframe tbody tr th {\n",
       "        vertical-align: top;\n",
       "    }\n",
       "\n",
       "    .dataframe thead th {\n",
       "        text-align: right;\n",
       "    }\n",
       "</style>\n",
       "<table border=\"1\" class=\"dataframe\">\n",
       "  <thead>\n",
       "    <tr style=\"text-align: right;\">\n",
       "      <th></th>\n",
       "      <th>model_name</th>\n",
       "      <th>training set</th>\n",
       "      <th>parametrs</th>\n",
       "      <th>accuracy_valid</th>\n",
       "      <th>accuracy_test</th>\n",
       "      <th>roc_auc_valid</th>\n",
       "      <th>roc_auc_test</th>\n",
       "    </tr>\n",
       "  </thead>\n",
       "  <tbody>\n",
       "    <tr>\n",
       "      <td>0</td>\n",
       "      <td>Decision Tree Classifier</td>\n",
       "      <td>train</td>\n",
       "      <td>{'criterion': 'entropy', 'max_depth': 6, 'min_...</td>\n",
       "      <td>0.782271</td>\n",
       "      <td>0.777605</td>\n",
       "      <td>0.732074</td>\n",
       "      <td>0.756931</td>\n",
       "    </tr>\n",
       "    <tr>\n",
       "      <td>1</td>\n",
       "      <td>Random Forest Classifier</td>\n",
       "      <td>train</td>\n",
       "      <td>{'criterion': 'entropy', 'max_depth': 6, 'min_...</td>\n",
       "      <td>0.810264</td>\n",
       "      <td>0.796267</td>\n",
       "      <td>0.785038</td>\n",
       "      <td>0.808404</td>\n",
       "    </tr>\n",
       "    <tr>\n",
       "      <td>2</td>\n",
       "      <td>Logistic Regression</td>\n",
       "      <td>train</td>\n",
       "      <td>{'max_iter': 4500, 'solver': 'liblinear'}</td>\n",
       "      <td>0.637636</td>\n",
       "      <td>0.643857</td>\n",
       "      <td>0.669482</td>\n",
       "      <td>0.686383</td>\n",
       "    </tr>\n",
       "    <tr>\n",
       "      <td>3</td>\n",
       "      <td>Cat Boost Classifier</td>\n",
       "      <td>train</td>\n",
       "      <td>eval_metric=\"Accuracy\", learning_rate=0.001</td>\n",
       "      <td>0.813375</td>\n",
       "      <td>0.788491</td>\n",
       "      <td>0.792857</td>\n",
       "      <td>0.796101</td>\n",
       "    </tr>\n",
       "    <tr>\n",
       "      <td>4</td>\n",
       "      <td>Decision Tree Classifier</td>\n",
       "      <td>train and valid</td>\n",
       "      <td>{'criterion': 'entropy', 'max_depth': 6, 'min_...</td>\n",
       "      <td>0.824261</td>\n",
       "      <td>0.796267</td>\n",
       "      <td>0.785903</td>\n",
       "      <td>0.772757</td>\n",
       "    </tr>\n",
       "    <tr>\n",
       "      <td>5</td>\n",
       "      <td>Random Forest Classifier</td>\n",
       "      <td>train and valid</td>\n",
       "      <td>{'criterion': 'entropy', 'max_depth': 6, 'min_...</td>\n",
       "      <td>0.819596</td>\n",
       "      <td>0.805599</td>\n",
       "      <td>0.823581</td>\n",
       "      <td>0.805786</td>\n",
       "    </tr>\n",
       "    <tr>\n",
       "      <td>6</td>\n",
       "      <td>Logistic Regression</td>\n",
       "      <td>train and valid</td>\n",
       "      <td>{'max_iter': 4500, 'solver': 'liblinear'}</td>\n",
       "      <td>0.702955</td>\n",
       "      <td>0.702955</td>\n",
       "      <td>0.412784</td>\n",
       "      <td>0.461132</td>\n",
       "    </tr>\n",
       "  </tbody>\n",
       "</table>\n",
       "</div>"
      ],
      "text/plain": [
       "                 model_name     training set  \\\n",
       "0  Decision Tree Classifier            train   \n",
       "1  Random Forest Classifier            train   \n",
       "2       Logistic Regression            train   \n",
       "3      Cat Boost Classifier            train   \n",
       "4  Decision Tree Classifier  train and valid   \n",
       "5  Random Forest Classifier  train and valid   \n",
       "6       Logistic Regression  train and valid   \n",
       "\n",
       "                                           parametrs  accuracy_valid  \\\n",
       "0  {'criterion': 'entropy', 'max_depth': 6, 'min_...        0.782271   \n",
       "1  {'criterion': 'entropy', 'max_depth': 6, 'min_...        0.810264   \n",
       "2          {'max_iter': 4500, 'solver': 'liblinear'}        0.637636   \n",
       "3        eval_metric=\"Accuracy\", learning_rate=0.001        0.813375   \n",
       "4  {'criterion': 'entropy', 'max_depth': 6, 'min_...        0.824261   \n",
       "5  {'criterion': 'entropy', 'max_depth': 6, 'min_...        0.819596   \n",
       "6          {'max_iter': 4500, 'solver': 'liblinear'}        0.702955   \n",
       "\n",
       "   accuracy_test  roc_auc_valid  roc_auc_test  \n",
       "0       0.777605       0.732074      0.756931  \n",
       "1       0.796267       0.785038      0.808404  \n",
       "2       0.643857       0.669482      0.686383  \n",
       "3       0.788491       0.792857      0.796101  \n",
       "4       0.796267       0.785903      0.772757  \n",
       "5       0.805599       0.823581      0.805786  \n",
       "6       0.702955       0.412784      0.461132  "
      ]
     },
     "execution_count": 52,
     "metadata": {},
     "output_type": "execute_result"
    }
   ],
   "source": [
    "models_good"
   ]
  },
  {
   "cell_type": "markdown",
   "metadata": {},
   "source": [
    "У логистической регресси результат стал также лучше - accuracy = 0.702955 против 0.643857, но на метрике roc_auc результат стал гораздо хуже - меньше 0.5 - а это изначает, что данная модель хуже случайной."
   ]
  },
  {
   "cell_type": "markdown",
   "metadata": {},
   "source": [
    "Перейдем к Cat Boost Classifier."
   ]
  },
  {
   "cell_type": "code",
   "execution_count": 53,
   "metadata": {
    "scrolled": false
   },
   "outputs": [
    {
     "name": "stdout",
     "output_type": "stream",
     "text": [
      "0:\tlearn: 0.7891871\ttotal: 3.36ms\tremaining: 3.36s\n",
      "100:\tlearn: 0.8024115\ttotal: 1.88s\tremaining: 16.8s\n",
      "200:\tlearn: 0.8024115\ttotal: 3.64s\tremaining: 14.5s\n",
      "300:\tlearn: 0.8024115\ttotal: 5.39s\tremaining: 12.5s\n",
      "400:\tlearn: 0.8024115\ttotal: 7.22s\tremaining: 10.8s\n",
      "500:\tlearn: 0.8016336\ttotal: 9.18s\tremaining: 9.14s\n",
      "600:\tlearn: 0.8028005\ttotal: 11s\tremaining: 7.33s\n",
      "700:\tlearn: 0.8031894\ttotal: 12.8s\tremaining: 5.46s\n",
      "800:\tlearn: 0.8039673\ttotal: 14.6s\tremaining: 3.63s\n",
      "900:\tlearn: 0.8039673\ttotal: 16.6s\tremaining: 1.82s\n",
      "999:\tlearn: 0.8035784\ttotal: 18.3s\tremaining: 0us\n"
     ]
    },
    {
     "data": {
      "text/plain": [
       "<catboost.core.CatBoostClassifier at 0x7f2a4f561110>"
      ]
     },
     "execution_count": 53,
     "metadata": {},
     "output_type": "execute_result"
    }
   ],
   "source": [
    "model.fit(features_train_valid, target_train_valid)"
   ]
  },
  {
   "cell_type": "code",
   "execution_count": 54,
   "metadata": {},
   "outputs": [
    {
     "data": {
      "text/plain": [
       "0.8164852255054432"
      ]
     },
     "execution_count": 54,
     "metadata": {},
     "output_type": "execute_result"
    }
   ],
   "source": [
    "model.score(features_test, target_test)"
   ]
  },
  {
   "cell_type": "markdown",
   "metadata": {},
   "source": [
    "И также результат запишем в таблицу."
   ]
  },
  {
   "cell_type": "code",
   "execution_count": 55,
   "metadata": {},
   "outputs": [],
   "source": [
    "models_good = add_good_model(model, \\\n",
    "                             'Cat Boost Classifier', 'train and valid', 'val_metric=\"Accuracy\", learning_rate=0.001')"
   ]
  },
  {
   "cell_type": "code",
   "execution_count": 56,
   "metadata": {},
   "outputs": [
    {
     "data": {
      "text/html": [
       "<div>\n",
       "<style scoped>\n",
       "    .dataframe tbody tr th:only-of-type {\n",
       "        vertical-align: middle;\n",
       "    }\n",
       "\n",
       "    .dataframe tbody tr th {\n",
       "        vertical-align: top;\n",
       "    }\n",
       "\n",
       "    .dataframe thead th {\n",
       "        text-align: right;\n",
       "    }\n",
       "</style>\n",
       "<table border=\"1\" class=\"dataframe\">\n",
       "  <thead>\n",
       "    <tr style=\"text-align: right;\">\n",
       "      <th></th>\n",
       "      <th>model_name</th>\n",
       "      <th>training set</th>\n",
       "      <th>parametrs</th>\n",
       "      <th>accuracy_valid</th>\n",
       "      <th>accuracy_test</th>\n",
       "      <th>roc_auc_valid</th>\n",
       "      <th>roc_auc_test</th>\n",
       "    </tr>\n",
       "  </thead>\n",
       "  <tbody>\n",
       "    <tr>\n",
       "      <td>0</td>\n",
       "      <td>Decision Tree Classifier</td>\n",
       "      <td>train</td>\n",
       "      <td>{'criterion': 'entropy', 'max_depth': 6, 'min_...</td>\n",
       "      <td>0.782271</td>\n",
       "      <td>0.777605</td>\n",
       "      <td>0.732074</td>\n",
       "      <td>0.756931</td>\n",
       "    </tr>\n",
       "    <tr>\n",
       "      <td>1</td>\n",
       "      <td>Random Forest Classifier</td>\n",
       "      <td>train</td>\n",
       "      <td>{'criterion': 'entropy', 'max_depth': 6, 'min_...</td>\n",
       "      <td>0.810264</td>\n",
       "      <td>0.796267</td>\n",
       "      <td>0.785038</td>\n",
       "      <td>0.808404</td>\n",
       "    </tr>\n",
       "    <tr>\n",
       "      <td>2</td>\n",
       "      <td>Logistic Regression</td>\n",
       "      <td>train</td>\n",
       "      <td>{'max_iter': 4500, 'solver': 'liblinear'}</td>\n",
       "      <td>0.637636</td>\n",
       "      <td>0.643857</td>\n",
       "      <td>0.669482</td>\n",
       "      <td>0.686383</td>\n",
       "    </tr>\n",
       "    <tr>\n",
       "      <td>3</td>\n",
       "      <td>Cat Boost Classifier</td>\n",
       "      <td>train</td>\n",
       "      <td>eval_metric=\"Accuracy\", learning_rate=0.001</td>\n",
       "      <td>0.813375</td>\n",
       "      <td>0.788491</td>\n",
       "      <td>0.792857</td>\n",
       "      <td>0.796101</td>\n",
       "    </tr>\n",
       "    <tr>\n",
       "      <td>4</td>\n",
       "      <td>Decision Tree Classifier</td>\n",
       "      <td>train and valid</td>\n",
       "      <td>{'criterion': 'entropy', 'max_depth': 6, 'min_...</td>\n",
       "      <td>0.824261</td>\n",
       "      <td>0.796267</td>\n",
       "      <td>0.785903</td>\n",
       "      <td>0.772757</td>\n",
       "    </tr>\n",
       "    <tr>\n",
       "      <td>5</td>\n",
       "      <td>Random Forest Classifier</td>\n",
       "      <td>train and valid</td>\n",
       "      <td>{'criterion': 'entropy', 'max_depth': 6, 'min_...</td>\n",
       "      <td>0.819596</td>\n",
       "      <td>0.805599</td>\n",
       "      <td>0.823581</td>\n",
       "      <td>0.805786</td>\n",
       "    </tr>\n",
       "    <tr>\n",
       "      <td>6</td>\n",
       "      <td>Logistic Regression</td>\n",
       "      <td>train and valid</td>\n",
       "      <td>{'max_iter': 4500, 'solver': 'liblinear'}</td>\n",
       "      <td>0.702955</td>\n",
       "      <td>0.702955</td>\n",
       "      <td>0.412784</td>\n",
       "      <td>0.461132</td>\n",
       "    </tr>\n",
       "    <tr>\n",
       "      <td>7</td>\n",
       "      <td>Cat Boost Classifier</td>\n",
       "      <td>train and valid</td>\n",
       "      <td>val_metric=\"Accuracy\", learning_rate=0.001</td>\n",
       "      <td>0.816485</td>\n",
       "      <td>0.791602</td>\n",
       "      <td>0.813913</td>\n",
       "      <td>0.803897</td>\n",
       "    </tr>\n",
       "  </tbody>\n",
       "</table>\n",
       "</div>"
      ],
      "text/plain": [
       "                 model_name     training set  \\\n",
       "0  Decision Tree Classifier            train   \n",
       "1  Random Forest Classifier            train   \n",
       "2       Logistic Regression            train   \n",
       "3      Cat Boost Classifier            train   \n",
       "4  Decision Tree Classifier  train and valid   \n",
       "5  Random Forest Classifier  train and valid   \n",
       "6       Logistic Regression  train and valid   \n",
       "7      Cat Boost Classifier  train and valid   \n",
       "\n",
       "                                           parametrs  accuracy_valid  \\\n",
       "0  {'criterion': 'entropy', 'max_depth': 6, 'min_...        0.782271   \n",
       "1  {'criterion': 'entropy', 'max_depth': 6, 'min_...        0.810264   \n",
       "2          {'max_iter': 4500, 'solver': 'liblinear'}        0.637636   \n",
       "3        eval_metric=\"Accuracy\", learning_rate=0.001        0.813375   \n",
       "4  {'criterion': 'entropy', 'max_depth': 6, 'min_...        0.824261   \n",
       "5  {'criterion': 'entropy', 'max_depth': 6, 'min_...        0.819596   \n",
       "6          {'max_iter': 4500, 'solver': 'liblinear'}        0.702955   \n",
       "7         val_metric=\"Accuracy\", learning_rate=0.001        0.816485   \n",
       "\n",
       "   accuracy_test  roc_auc_valid  roc_auc_test  \n",
       "0       0.777605       0.732074      0.756931  \n",
       "1       0.796267       0.785038      0.808404  \n",
       "2       0.643857       0.669482      0.686383  \n",
       "3       0.788491       0.792857      0.796101  \n",
       "4       0.796267       0.785903      0.772757  \n",
       "5       0.805599       0.823581      0.805786  \n",
       "6       0.702955       0.412784      0.461132  \n",
       "7       0.791602       0.813913      0.803897  "
      ]
     },
     "execution_count": 56,
     "metadata": {},
     "output_type": "execute_result"
    }
   ],
   "source": [
    "models_good"
   ]
  },
  {
   "cell_type": "markdown",
   "metadata": {},
   "source": [
    "После обучения accuracy на тестовой выборке стал  лучше: 0.791602 против 0.788491. Такая же ситуация с метрикой roc_auc = 0.803897 против 0.796101. По двум метрикам она стоит на втором месте после модели Cat Boost Classifier."
   ]
  },
  {
   "cell_type": "markdown",
   "metadata": {},
   "source": [
    "Проверим теперь наши модели на другой метрике: площадь под кривой ошибок roc_auc. Для этого напишим функцию, которая вычисляла бы roc auc для каждой модели по тестовой выборке и возвращала график кривой ошибок."
   ]
  },
  {
   "cell_type": "code",
   "execution_count": 57,
   "metadata": {},
   "outputs": [],
   "source": [
    "def count_roc(model, features_test, target_test, name):\n",
    "    # рассчитываем предсказания только для положительного исхода\n",
    "    model_proba = model.predict_proba(features_test)[:,1]\n",
    "    # рассчитываем ROC AUC\n",
    "    roc_auc = roc_auc_score(target_test, model_proba)\n",
    "    # рассчитываем roc-кривую\n",
    "    fpr, tpr, thresholds = roc_curve(target_test, model_proba)\n",
    "    return plt.plot(fpr, tpr, label=f'{name} (area = {roc_auc:.2f})')"
   ]
  },
  {
   "cell_type": "markdown",
   "metadata": {},
   "source": [
    "Выведем все полученные кривые на один график."
   ]
  },
  {
   "cell_type": "code",
   "execution_count": 58,
   "metadata": {},
   "outputs": [
    {
     "data": {
      "image/png": "[encoded data removed]",
      "text/plain": [
       "<Figure size 720x720 with 1 Axes>"
      ]
     },
     "metadata": {},
     "output_type": "display_data"
    }
   ],
   "source": [
    "plt.figure(figsize = (10, 10))\n",
    "#plt.plot(fpr, tpr, label='Decision Tree Classifier (area = %0.2f)' % tree_roc_auc)\n",
    "count_roc(model_tree, features_test, target_test, 'Decision Tree Classifier')\n",
    "count_roc(model_forest, features_test, target_test, 'Random Forest Classifier')\n",
    "count_roc(model_logistic, features_test, target_test, 'Logistic Regression')\n",
    "count_roc(model, features_test, target_test, 'Cat Boost Classifier')\n",
    "\n",
    "plt.plot([0, 1], [0, 1],'r--')\n",
    "plt.xlim([0.0, 1.0])\n",
    "plt.ylim([0.0, 1.05])\n",
    "plt.xlabel('False Positive Rate')\n",
    "plt.ylabel('True Positive Rate')\n",
    "plt.title('Сравнение ROC кривых')\n",
    "plt.legend(loc=\"lower right\")\n",
    "\n",
    "plt.show()"
   ]
  },
  {
   "cell_type": "markdown",
   "metadata": {},
   "source": [
    "Как видно из графика, на тестовой выборке самое большое значение roc_auc_score = 0.81 у модели Random Forest Classifier , затем идет модель Cat Boost Classifier со значением roc_auc_score = 0.80, далее идет модель Decision Tree Classifier с roc_auc_score = 0.77, а меньше всех значение roc_auc_score = 0.46 у Logistic Regression."
   ]
  },
  {
   "cell_type": "code",
   "execution_count": 59,
   "metadata": {},
   "outputs": [
    {
     "data": {
      "text/html": [
       "<div>\n",
       "<style scoped>\n",
       "    .dataframe tbody tr th:only-of-type {\n",
       "        vertical-align: middle;\n",
       "    }\n",
       "\n",
       "    .dataframe tbody tr th {\n",
       "        vertical-align: top;\n",
       "    }\n",
       "\n",
       "    .dataframe thead th {\n",
       "        text-align: right;\n",
       "    }\n",
       "</style>\n",
       "<table border=\"1\" class=\"dataframe\">\n",
       "  <thead>\n",
       "    <tr style=\"text-align: right;\">\n",
       "      <th></th>\n",
       "      <th>model_name</th>\n",
       "      <th>training set</th>\n",
       "      <th>parametrs</th>\n",
       "      <th>accuracy_valid</th>\n",
       "      <th>accuracy_test</th>\n",
       "      <th>roc_auc_valid</th>\n",
       "      <th>roc_auc_test</th>\n",
       "    </tr>\n",
       "  </thead>\n",
       "  <tbody>\n",
       "    <tr>\n",
       "      <td>0</td>\n",
       "      <td>Decision Tree Classifier</td>\n",
       "      <td>train</td>\n",
       "      <td>{'criterion': 'entropy', 'max_depth': 6, 'min_...</td>\n",
       "      <td>0.782271</td>\n",
       "      <td>0.777605</td>\n",
       "      <td>0.732074</td>\n",
       "      <td>0.756931</td>\n",
       "    </tr>\n",
       "    <tr>\n",
       "      <td>1</td>\n",
       "      <td>Random Forest Classifier</td>\n",
       "      <td>train</td>\n",
       "      <td>{'criterion': 'entropy', 'max_depth': 6, 'min_...</td>\n",
       "      <td>0.810264</td>\n",
       "      <td>0.796267</td>\n",
       "      <td>0.785038</td>\n",
       "      <td>0.808404</td>\n",
       "    </tr>\n",
       "    <tr>\n",
       "      <td>2</td>\n",
       "      <td>Logistic Regression</td>\n",
       "      <td>train</td>\n",
       "      <td>{'max_iter': 4500, 'solver': 'liblinear'}</td>\n",
       "      <td>0.637636</td>\n",
       "      <td>0.643857</td>\n",
       "      <td>0.669482</td>\n",
       "      <td>0.686383</td>\n",
       "    </tr>\n",
       "    <tr>\n",
       "      <td>3</td>\n",
       "      <td>Cat Boost Classifier</td>\n",
       "      <td>train</td>\n",
       "      <td>eval_metric=\"Accuracy\", learning_rate=0.001</td>\n",
       "      <td>0.813375</td>\n",
       "      <td>0.788491</td>\n",
       "      <td>0.792857</td>\n",
       "      <td>0.796101</td>\n",
       "    </tr>\n",
       "    <tr>\n",
       "      <td>4</td>\n",
       "      <td>Decision Tree Classifier</td>\n",
       "      <td>train and valid</td>\n",
       "      <td>{'criterion': 'entropy', 'max_depth': 6, 'min_...</td>\n",
       "      <td>0.824261</td>\n",
       "      <td>0.796267</td>\n",
       "      <td>0.785903</td>\n",
       "      <td>0.772757</td>\n",
       "    </tr>\n",
       "    <tr>\n",
       "      <td>5</td>\n",
       "      <td>Random Forest Classifier</td>\n",
       "      <td>train and valid</td>\n",
       "      <td>{'criterion': 'entropy', 'max_depth': 6, 'min_...</td>\n",
       "      <td>0.819596</td>\n",
       "      <td>0.805599</td>\n",
       "      <td>0.823581</td>\n",
       "      <td>0.805786</td>\n",
       "    </tr>\n",
       "    <tr>\n",
       "      <td>6</td>\n",
       "      <td>Logistic Regression</td>\n",
       "      <td>train and valid</td>\n",
       "      <td>{'max_iter': 4500, 'solver': 'liblinear'}</td>\n",
       "      <td>0.702955</td>\n",
       "      <td>0.702955</td>\n",
       "      <td>0.412784</td>\n",
       "      <td>0.461132</td>\n",
       "    </tr>\n",
       "    <tr>\n",
       "      <td>7</td>\n",
       "      <td>Cat Boost Classifier</td>\n",
       "      <td>train and valid</td>\n",
       "      <td>val_metric=\"Accuracy\", learning_rate=0.001</td>\n",
       "      <td>0.816485</td>\n",
       "      <td>0.791602</td>\n",
       "      <td>0.813913</td>\n",
       "      <td>0.803897</td>\n",
       "    </tr>\n",
       "  </tbody>\n",
       "</table>\n",
       "</div>"
      ],
      "text/plain": [
       "                 model_name     training set  \\\n",
       "0  Decision Tree Classifier            train   \n",
       "1  Random Forest Classifier            train   \n",
       "2       Logistic Regression            train   \n",
       "3      Cat Boost Classifier            train   \n",
       "4  Decision Tree Classifier  train and valid   \n",
       "5  Random Forest Classifier  train and valid   \n",
       "6       Logistic Regression  train and valid   \n",
       "7      Cat Boost Classifier  train and valid   \n",
       "\n",
       "                                           parametrs  accuracy_valid  \\\n",
       "0  {'criterion': 'entropy', 'max_depth': 6, 'min_...        0.782271   \n",
       "1  {'criterion': 'entropy', 'max_depth': 6, 'min_...        0.810264   \n",
       "2          {'max_iter': 4500, 'solver': 'liblinear'}        0.637636   \n",
       "3        eval_metric=\"Accuracy\", learning_rate=0.001        0.813375   \n",
       "4  {'criterion': 'entropy', 'max_depth': 6, 'min_...        0.824261   \n",
       "5  {'criterion': 'entropy', 'max_depth': 6, 'min_...        0.819596   \n",
       "6          {'max_iter': 4500, 'solver': 'liblinear'}        0.702955   \n",
       "7         val_metric=\"Accuracy\", learning_rate=0.001        0.816485   \n",
       "\n",
       "   accuracy_test  roc_auc_valid  roc_auc_test  \n",
       "0       0.777605       0.732074      0.756931  \n",
       "1       0.796267       0.785038      0.808404  \n",
       "2       0.643857       0.669482      0.686383  \n",
       "3       0.788491       0.792857      0.796101  \n",
       "4       0.796267       0.785903      0.772757  \n",
       "5       0.805599       0.823581      0.805786  \n",
       "6       0.702955       0.412784      0.461132  \n",
       "7       0.791602       0.813913      0.803897  "
      ]
     },
     "execution_count": 59,
     "metadata": {},
     "output_type": "execute_result"
    }
   ],
   "source": [
    "models_good"
   ]
  },
  {
   "cell_type": "markdown",
   "metadata": {},
   "source": [
    "### Вывод"
   ]
  },
  {
   "cell_type": "markdown",
   "metadata": {},
   "source": [
    "Итак, после переобучения на тренировочной и валидационной выборках у всех моделей  метрика accuracy стала выше, а у метрики roc_auc значения у каждой модели разное:\n",
    "\n",
    "у модели DecisionTreeClassifier: accuracy = 0.797823 стала выше, roc_auc = 0.771044 стала лучше.\n",
    "\n",
    "\n",
    "у модели RandomForestClassifier: accuracy = 0.799378 стала выше, roc_auc = 0.805576 стала немного хуже.\n",
    "\n",
    "\n",
    "у модели LogisticRegression: accuracy = 0.702955 стала выше, roc_auc = 0.461132 стала гораздо хуже.\n",
    "\n",
    "\n",
    "у модели CatBoostClassifier: accuracy = 0.791602 стала выше, roc_auc = 0.803897 стала лучше."
   ]
  },
  {
   "cell_type": "markdown",
   "metadata": {},
   "source": [
    "## Вывод"
   ]
  },
  {
   "cell_type": "markdown",
   "metadata": {},
   "source": [
    "Итак, можно сделать вывод:\n",
    "\n",
    "Модель с наибольшей accuracy = 0.799378 на тестовой выборке: RandomForestClassifier. Затем идет модель CatBoostClassifier с accuracy = 0.791602.\n",
    "\n",
    "Если сравнивать модели по метрике roc_auc_score, то наибольшее значение roc_auc_score = 0.805576 также у модели RandomForestClassifier, а чуть хуже у Random CatBoostClassifier с roc_auc_score =  0.803897.\n",
    "\n",
    "Остальные модели показали результаты хуже по двум метрикам."
   ]
  },
  {
   "cell_type": "markdown",
   "metadata": {},
   "source": [
    "## Чек-лист готовности проекта"
   ]
  },
  {
   "cell_type": "markdown",
   "metadata": {},
   "source": [
    "Поставьте 'x' в выполненных пунктах. Далее нажмите Shift+Enter."
   ]
  },
  {
   "cell_type": "markdown",
   "metadata": {},
   "source": [
    "- [x] Jupyter Notebook открыт\n",
    "- [x] Весь код исполняется без ошибок\n",
    "- [x] Ячейки с кодом расположены в порядке исполнения\n",
    "- [x] Выполнено задание 1: данные загружены и изучены\n",
    "- [x] Выполнено задание 2: данные разбиты на три выборки\n",
    "- [x] Выполнено задание 3: проведено исследование моделей\n",
    "    - [x] Рассмотрено больше одной модели\n",
    "    - [x] Рассмотрено хотя бы 3 значения гипепараметров для какой-нибудь модели\n",
    "    - [x] Написаны выводы по результатам исследования\n",
    "- [x] Выполнено задание 3: Проведено тестирование\n",
    "- [x] Удалось достичь accuracy не меньше 0.75\n"
   ]
  }
 ],
 "metadata": {
  "ExecuteTimeLog": [
   {
    "duration": 784,
    "start_time": "2021-10-27T10:22:57.419Z"
   },
   {
    "duration": 24,
    "start_time": "2021-10-27T10:23:10.596Z"
   },
   {
    "duration": 9,
    "start_time": "2021-10-27T10:23:24.291Z"
   },
   {
    "duration": 5,
    "start_time": "2021-10-27T10:55:47.538Z"
   },
   {
    "duration": 588,
    "start_time": "2021-10-27T10:57:48.151Z"
   },
   {
    "duration": 5,
    "start_time": "2021-10-27T10:57:50.946Z"
   },
   {
    "duration": 7,
    "start_time": "2021-10-27T10:57:53.013Z"
   },
   {
    "duration": 32,
    "start_time": "2021-10-27T10:58:46.536Z"
   },
   {
    "duration": 5,
    "start_time": "2021-10-27T10:58:50.923Z"
   },
   {
    "duration": 7,
    "start_time": "2021-10-27T10:58:51.536Z"
   },
   {
    "duration": 4,
    "start_time": "2021-10-27T10:59:47.146Z"
   },
   {
    "duration": 4,
    "start_time": "2021-10-27T10:59:49.021Z"
   },
   {
    "duration": 8,
    "start_time": "2021-10-27T11:31:37.486Z"
   },
   {
    "duration": 9,
    "start_time": "2021-10-27T11:32:27.997Z"
   },
   {
    "duration": 7,
    "start_time": "2021-10-27T11:33:51.501Z"
   },
   {
    "duration": 8,
    "start_time": "2021-10-27T11:33:53.209Z"
   },
   {
    "duration": 4,
    "start_time": "2021-10-27T11:37:38.767Z"
   },
   {
    "duration": 4,
    "start_time": "2021-10-27T11:58:58.047Z"
   },
   {
    "duration": 430,
    "start_time": "2021-10-27T12:04:48.567Z"
   },
   {
    "duration": 292,
    "start_time": "2021-10-27T12:04:57.342Z"
   },
   {
    "duration": 292,
    "start_time": "2021-10-27T12:11:30.626Z"
   },
   {
    "duration": 4,
    "start_time": "2021-10-27T12:11:43.275Z"
   },
   {
    "duration": 38,
    "start_time": "2021-10-27T12:11:45.287Z"
   },
   {
    "duration": 89,
    "start_time": "2021-10-27T12:14:41.274Z"
   },
   {
    "duration": 71,
    "start_time": "2021-10-27T12:14:50.149Z"
   },
   {
    "duration": 36,
    "start_time": "2021-10-27T12:15:15.447Z"
   },
   {
    "duration": 277,
    "start_time": "2021-10-27T12:19:55.331Z"
   },
   {
    "duration": 5,
    "start_time": "2021-10-27T12:20:21.788Z"
   },
   {
    "duration": 39,
    "start_time": "2021-10-27T12:20:23.745Z"
   },
   {
    "duration": 358,
    "start_time": "2021-10-27T12:20:25.350Z"
   },
   {
    "duration": 331,
    "start_time": "2021-10-27T12:20:38.058Z"
   },
   {
    "duration": 339,
    "start_time": "2021-10-27T12:21:04.309Z"
   },
   {
    "duration": 331,
    "start_time": "2021-10-27T12:21:13.995Z"
   },
   {
    "duration": 332,
    "start_time": "2021-10-27T12:21:22.830Z"
   },
   {
    "duration": 332,
    "start_time": "2021-10-27T12:21:29.105Z"
   },
   {
    "duration": 318,
    "start_time": "2021-10-27T12:21:36.942Z"
   },
   {
    "duration": 276,
    "start_time": "2021-10-27T12:30:59.421Z"
   },
   {
    "duration": 5,
    "start_time": "2021-10-27T12:31:06.790Z"
   },
   {
    "duration": 19,
    "start_time": "2021-10-27T12:31:09.656Z"
   },
   {
    "duration": 313,
    "start_time": "2021-10-27T12:39:49.719Z"
   },
   {
    "duration": 20,
    "start_time": "2021-10-27T12:40:51.160Z"
   },
   {
    "duration": 51,
    "start_time": "2021-10-27T12:41:44.394Z"
   },
   {
    "duration": 17,
    "start_time": "2021-10-27T12:43:10.279Z"
   },
   {
    "duration": 17,
    "start_time": "2021-10-27T12:43:29.912Z"
   },
   {
    "duration": 17,
    "start_time": "2021-10-27T12:43:35.750Z"
   },
   {
    "duration": 15,
    "start_time": "2021-10-27T12:43:39.525Z"
   },
   {
    "duration": 17,
    "start_time": "2021-10-27T12:43:46.987Z"
   },
   {
    "duration": 17,
    "start_time": "2021-10-27T12:43:52.799Z"
   },
   {
    "duration": 18,
    "start_time": "2021-10-27T12:44:03.273Z"
   },
   {
    "duration": 15,
    "start_time": "2021-10-27T12:44:09.550Z"
   },
   {
    "duration": 16,
    "start_time": "2021-10-27T12:44:15.762Z"
   },
   {
    "duration": 36,
    "start_time": "2021-10-27T12:48:22.422Z"
   },
   {
    "duration": 4,
    "start_time": "2021-10-27T12:56:56.861Z"
   },
   {
    "duration": 38,
    "start_time": "2021-10-27T12:56:58.791Z"
   },
   {
    "duration": 328,
    "start_time": "2021-10-27T12:57:00.464Z"
   },
   {
    "duration": 16,
    "start_time": "2021-10-27T12:57:03.227Z"
   },
   {
    "duration": 8,
    "start_time": "2021-10-27T12:58:05.275Z"
   },
   {
    "duration": 13,
    "start_time": "2021-10-27T12:59:08.732Z"
   },
   {
    "duration": 8,
    "start_time": "2021-10-27T12:59:30.061Z"
   },
   {
    "duration": 221,
    "start_time": "2021-10-27T16:00:03.395Z"
   },
   {
    "duration": 560,
    "start_time": "2021-10-27T16:00:10.895Z"
   },
   {
    "duration": 14,
    "start_time": "2021-10-27T16:00:11.456Z"
   },
   {
    "duration": 6,
    "start_time": "2021-10-27T16:00:11.472Z"
   },
   {
    "duration": 456,
    "start_time": "2021-10-27T16:00:11.479Z"
   },
   {
    "duration": 4,
    "start_time": "2021-10-27T16:00:11.936Z"
   },
   {
    "duration": 7,
    "start_time": "2021-10-27T16:00:11.941Z"
   },
   {
    "duration": 4,
    "start_time": "2021-10-27T16:00:11.950Z"
   },
   {
    "duration": 40,
    "start_time": "2021-10-27T16:00:11.955Z"
   },
   {
    "duration": 23,
    "start_time": "2021-10-27T16:00:11.997Z"
   },
   {
    "duration": 27,
    "start_time": "2021-10-27T16:00:12.022Z"
   },
   {
    "duration": 238,
    "start_time": "2021-10-27T16:00:12.051Z"
   },
   {
    "duration": 9,
    "start_time": "2021-10-27T16:00:12.292Z"
   },
   {
    "duration": 5,
    "start_time": "2021-10-27T16:00:12.303Z"
   },
   {
    "duration": 8,
    "start_time": "2021-10-27T16:00:12.310Z"
   },
   {
    "duration": 5,
    "start_time": "2021-10-27T16:00:12.319Z"
   },
   {
    "duration": 937,
    "start_time": "2021-10-28T11:43:27.235Z"
   },
   {
    "duration": 24,
    "start_time": "2021-10-28T11:43:28.175Z"
   },
   {
    "duration": 10,
    "start_time": "2021-10-28T11:43:28.203Z"
   },
   {
    "duration": 618,
    "start_time": "2021-10-28T11:43:28.215Z"
   },
   {
    "duration": 5,
    "start_time": "2021-10-28T11:43:28.835Z"
   },
   {
    "duration": 22,
    "start_time": "2021-10-28T11:43:28.842Z"
   },
   {
    "duration": 7,
    "start_time": "2021-10-28T11:43:28.866Z"
   },
   {
    "duration": 52,
    "start_time": "2021-10-28T11:43:28.878Z"
   },
   {
    "duration": 24,
    "start_time": "2021-10-28T11:43:28.933Z"
   },
   {
    "duration": 135,
    "start_time": "2021-10-28T11:43:28.961Z"
   },
   {
    "duration": -658,
    "start_time": "2021-10-28T11:43:29.756Z"
   },
   {
    "duration": -660,
    "start_time": "2021-10-28T11:43:29.760Z"
   },
   {
    "duration": -661,
    "start_time": "2021-10-28T11:43:29.762Z"
   },
   {
    "duration": -662,
    "start_time": "2021-10-28T11:43:29.764Z"
   },
   {
    "duration": -661,
    "start_time": "2021-10-28T11:43:29.765Z"
   },
   {
    "duration": -661,
    "start_time": "2021-10-28T11:43:29.767Z"
   },
   {
    "duration": 765,
    "start_time": "2021-10-29T05:46:37.076Z"
   },
   {
    "duration": 21,
    "start_time": "2021-10-29T05:46:40.042Z"
   },
   {
    "duration": 410,
    "start_time": "2021-10-29T06:06:02.420Z"
   },
   {
    "duration": 9,
    "start_time": "2021-10-29T06:07:00.546Z"
   },
   {
    "duration": 206,
    "start_time": "2021-10-29T06:07:17.662Z"
   },
   {
    "duration": 103,
    "start_time": "2021-10-29T06:07:34.976Z"
   },
   {
    "duration": 231,
    "start_time": "2021-10-29T06:15:09.750Z"
   },
   {
    "duration": 791,
    "start_time": "2021-10-29T06:17:32.960Z"
   },
   {
    "duration": 685,
    "start_time": "2021-10-29T06:18:43.272Z"
   },
   {
    "duration": 109,
    "start_time": "2021-10-29T06:22:09.789Z"
   },
   {
    "duration": 108,
    "start_time": "2021-10-29T06:22:58.475Z"
   },
   {
    "duration": 122,
    "start_time": "2021-10-29T06:23:37.860Z"
   },
   {
    "duration": 116,
    "start_time": "2021-10-29T06:23:51.634Z"
   },
   {
    "duration": 1400,
    "start_time": "2021-10-29T06:26:31.125Z"
   },
   {
    "duration": 619,
    "start_time": "2021-10-29T06:26:50.587Z"
   },
   {
    "duration": 557,
    "start_time": "2021-10-29T06:26:54.638Z"
   },
   {
    "duration": 539,
    "start_time": "2021-10-29T06:27:47.585Z"
   },
   {
    "duration": 554,
    "start_time": "2021-10-29T06:28:07.098Z"
   },
   {
    "duration": 514,
    "start_time": "2021-10-29T06:29:07.644Z"
   },
   {
    "duration": 507,
    "start_time": "2021-10-29T06:29:36.469Z"
   },
   {
    "duration": 4938,
    "start_time": "2021-10-29T06:32:04.033Z"
   },
   {
    "duration": 4914,
    "start_time": "2021-10-29T06:32:18.789Z"
   },
   {
    "duration": 6138,
    "start_time": "2021-10-29T06:32:36.020Z"
   },
   {
    "duration": 10826,
    "start_time": "2021-10-29T06:33:29.080Z"
   },
   {
    "duration": 9050,
    "start_time": "2021-10-29T06:33:40.957Z"
   },
   {
    "duration": 414,
    "start_time": "2021-10-29T06:41:35.117Z"
   },
   {
    "duration": 6446,
    "start_time": "2021-10-29T06:43:26.453Z"
   },
   {
    "duration": -166,
    "start_time": "2021-10-29T06:45:50.394Z"
   },
   {
    "duration": 17228,
    "start_time": "2021-10-29T06:45:54.020Z"
   },
   {
    "duration": 351,
    "start_time": "2021-10-29T06:47:06.503Z"
   },
   {
    "duration": 17087,
    "start_time": "2021-10-29T06:47:36.001Z"
   },
   {
    "duration": 16933,
    "start_time": "2021-10-29T06:50:54.286Z"
   },
   {
    "duration": 1506,
    "start_time": "2021-10-29T07:30:06.011Z"
   },
   {
    "duration": 24,
    "start_time": "2021-10-29T07:30:13.916Z"
   },
   {
    "duration": 16,
    "start_time": "2021-10-29T07:30:13.943Z"
   },
   {
    "duration": 16,
    "start_time": "2021-10-29T07:30:13.963Z"
   },
   {
    "duration": 183,
    "start_time": "2021-10-29T07:30:13.982Z"
   },
   {
    "duration": 640,
    "start_time": "2021-10-29T07:30:14.168Z"
   },
   {
    "duration": 550,
    "start_time": "2021-10-29T07:30:14.811Z"
   },
   {
    "duration": 572,
    "start_time": "2021-10-29T07:30:14.792Z"
   },
   {
    "duration": 572,
    "start_time": "2021-10-29T07:30:14.794Z"
   },
   {
    "duration": 554,
    "start_time": "2021-10-29T07:30:14.813Z"
   },
   {
    "duration": 553,
    "start_time": "2021-10-29T07:30:14.815Z"
   },
   {
    "duration": 553,
    "start_time": "2021-10-29T07:30:14.816Z"
   },
   {
    "duration": 553,
    "start_time": "2021-10-29T07:30:14.818Z"
   },
   {
    "duration": 552,
    "start_time": "2021-10-29T07:30:14.820Z"
   },
   {
    "duration": 547,
    "start_time": "2021-10-29T07:30:14.826Z"
   },
   {
    "duration": 546,
    "start_time": "2021-10-29T07:30:14.828Z"
   },
   {
    "duration": 541,
    "start_time": "2021-10-29T07:30:14.834Z"
   },
   {
    "duration": 536,
    "start_time": "2021-10-29T07:30:14.841Z"
   },
   {
    "duration": 535,
    "start_time": "2021-10-29T07:30:14.843Z"
   },
   {
    "duration": 535,
    "start_time": "2021-10-29T07:30:14.844Z"
   },
   {
    "duration": 379,
    "start_time": "2021-10-29T07:30:23.758Z"
   },
   {
    "duration": 31,
    "start_time": "2021-10-29T07:31:09.835Z"
   },
   {
    "duration": 20260,
    "start_time": "2021-10-29T07:32:01.712Z"
   },
   {
    "duration": 125,
    "start_time": "2021-10-29T07:36:37.178Z"
   },
   {
    "duration": 17436,
    "start_time": "2021-10-29T07:36:51.101Z"
   },
   {
    "duration": 16842,
    "start_time": "2021-10-29T07:40:46.708Z"
   },
   {
    "duration": 559,
    "start_time": "2021-10-29T07:41:03.553Z"
   },
   {
    "duration": 20,
    "start_time": "2021-10-29T07:41:19.697Z"
   },
   {
    "duration": 8,
    "start_time": "2021-10-29T07:41:19.719Z"
   },
   {
    "duration": 13,
    "start_time": "2021-10-29T07:41:19.730Z"
   },
   {
    "duration": 153,
    "start_time": "2021-10-29T07:41:19.746Z"
   },
   {
    "duration": 574,
    "start_time": "2021-10-29T07:41:19.902Z"
   },
   {
    "duration": 17108,
    "start_time": "2021-10-29T07:41:20.478Z"
   },
   {
    "duration": 44,
    "start_time": "2021-10-29T07:41:37.588Z"
   },
   {
    "duration": 26,
    "start_time": "2021-10-29T07:41:37.635Z"
   },
   {
    "duration": 19,
    "start_time": "2021-10-29T07:41:37.666Z"
   },
   {
    "duration": 28,
    "start_time": "2021-10-29T07:41:37.688Z"
   },
   {
    "duration": 53,
    "start_time": "2021-10-29T07:41:37.719Z"
   },
   {
    "duration": 6,
    "start_time": "2021-10-29T07:41:37.774Z"
   },
   {
    "duration": 130,
    "start_time": "2021-10-29T07:41:37.783Z"
   },
   {
    "duration": -26,
    "start_time": "2021-10-29T07:41:37.943Z"
   },
   {
    "duration": -28,
    "start_time": "2021-10-29T07:41:37.947Z"
   },
   {
    "duration": -28,
    "start_time": "2021-10-29T07:41:37.949Z"
   },
   {
    "duration": -29,
    "start_time": "2021-10-29T07:41:37.952Z"
   },
   {
    "duration": -27,
    "start_time": "2021-10-29T07:41:37.953Z"
   },
   {
    "duration": -39,
    "start_time": "2021-10-29T07:41:37.967Z"
   },
   {
    "duration": 20,
    "start_time": "2021-10-29T07:44:29.246Z"
   },
   {
    "duration": 9,
    "start_time": "2021-10-29T07:44:31.317Z"
   },
   {
    "duration": 13,
    "start_time": "2021-10-29T07:44:33.187Z"
   },
   {
    "duration": 151,
    "start_time": "2021-10-29T07:44:36.009Z"
   },
   {
    "duration": 556,
    "start_time": "2021-10-29T07:44:38.073Z"
   },
   {
    "duration": 559,
    "start_time": "2021-10-29T07:45:02.783Z"
   },
   {
    "duration": 17248,
    "start_time": "2021-10-29T07:45:58.045Z"
   },
   {
    "duration": 16760,
    "start_time": "2021-10-29T07:46:36.268Z"
   },
   {
    "duration": 16966,
    "start_time": "2021-10-29T07:48:00.865Z"
   },
   {
    "duration": 17603,
    "start_time": "2021-10-29T07:49:05.590Z"
   },
   {
    "duration": 17787,
    "start_time": "2021-10-29T07:50:12.851Z"
   },
   {
    "duration": 17609,
    "start_time": "2021-10-29T07:54:14.615Z"
   },
   {
    "duration": 17091,
    "start_time": "2021-10-29T07:58:47.817Z"
   },
   {
    "duration": 16785,
    "start_time": "2021-10-29T07:59:38.273Z"
   },
   {
    "duration": 4,
    "start_time": "2021-10-29T08:06:45.342Z"
   },
   {
    "duration": 5,
    "start_time": "2021-10-29T08:11:09.594Z"
   },
   {
    "duration": 6,
    "start_time": "2021-10-29T08:16:40.024Z"
   },
   {
    "duration": 5,
    "start_time": "2021-10-29T08:17:21.514Z"
   },
   {
    "duration": 5,
    "start_time": "2021-10-29T08:17:36.188Z"
   },
   {
    "duration": 4,
    "start_time": "2021-10-29T09:18:35.755Z"
   },
   {
    "duration": 38,
    "start_time": "2021-10-29T09:19:15.573Z"
   },
   {
    "duration": 57,
    "start_time": "2021-10-29T09:19:37.580Z"
   },
   {
    "duration": 9,
    "start_time": "2021-10-29T09:25:23.362Z"
   },
   {
    "duration": 4,
    "start_time": "2021-10-29T09:25:37.617Z"
   },
   {
    "duration": 386,
    "start_time": "2021-10-29T09:25:40.400Z"
   },
   {
    "duration": 14,
    "start_time": "2021-10-29T09:26:03.795Z"
   },
   {
    "duration": 8,
    "start_time": "2021-10-29T09:26:06.704Z"
   },
   {
    "duration": 13,
    "start_time": "2021-10-29T09:26:16.230Z"
   },
   {
    "duration": 11,
    "start_time": "2021-10-29T09:26:26.180Z"
   },
   {
    "duration": 9,
    "start_time": "2021-10-29T09:32:00.023Z"
   },
   {
    "duration": 777,
    "start_time": "2021-10-29T09:32:24.389Z"
   },
   {
    "duration": 9,
    "start_time": "2021-10-29T09:32:39.113Z"
   },
   {
    "duration": 728,
    "start_time": "2021-10-29T09:32:41.014Z"
   },
   {
    "duration": 9,
    "start_time": "2021-10-29T09:32:50.965Z"
   },
   {
    "duration": 8,
    "start_time": "2021-10-29T09:32:53.430Z"
   },
   {
    "duration": 95,
    "start_time": "2021-10-29T09:32:55.104Z"
   },
   {
    "duration": 67,
    "start_time": "2021-10-29T09:33:23.689Z"
   },
   {
    "duration": 5,
    "start_time": "2021-10-29T09:33:41.915Z"
   },
   {
    "duration": 777,
    "start_time": "2021-10-29T09:33:43.813Z"
   },
   {
    "duration": 5,
    "start_time": "2021-10-29T09:34:03.887Z"
   },
   {
    "duration": 62,
    "start_time": "2021-10-29T09:34:05.864Z"
   },
   {
    "duration": 6,
    "start_time": "2021-10-29T09:34:40.362Z"
   },
   {
    "duration": 64,
    "start_time": "2021-10-29T09:34:44.527Z"
   },
   {
    "duration": 103,
    "start_time": "2021-10-29T09:35:05.884Z"
   },
   {
    "duration": 6,
    "start_time": "2021-10-29T09:35:41.896Z"
   },
   {
    "duration": 470,
    "start_time": "2021-10-29T09:35:43.507Z"
   },
   {
    "duration": 6,
    "start_time": "2021-10-29T09:36:18.297Z"
   },
   {
    "duration": 1005,
    "start_time": "2021-10-29T09:36:19.930Z"
   },
   {
    "duration": 5,
    "start_time": "2021-10-29T09:36:31.131Z"
   },
   {
    "duration": 499,
    "start_time": "2021-10-29T09:36:32.920Z"
   },
   {
    "duration": 6,
    "start_time": "2021-10-29T09:37:22.843Z"
   },
   {
    "duration": 563,
    "start_time": "2021-10-29T09:37:26.074Z"
   },
   {
    "duration": 7,
    "start_time": "2021-10-29T09:37:53.050Z"
   },
   {
    "duration": 461,
    "start_time": "2021-10-29T09:37:54.751Z"
   },
   {
    "duration": 9,
    "start_time": "2021-10-29T09:38:29.362Z"
   },
   {
    "duration": 490,
    "start_time": "2021-10-29T09:38:30.848Z"
   },
   {
    "duration": 9,
    "start_time": "2021-10-29T09:39:44.168Z"
   },
   {
    "duration": 6,
    "start_time": "2021-10-29T09:40:02.607Z"
   },
   {
    "duration": 6,
    "start_time": "2021-10-29T09:40:05.014Z"
   },
   {
    "duration": 591,
    "start_time": "2021-10-29T09:40:07.193Z"
   },
   {
    "duration": 8,
    "start_time": "2021-10-29T09:40:50.282Z"
   },
   {
    "duration": 461,
    "start_time": "2021-10-29T09:40:51.218Z"
   },
   {
    "duration": 65,
    "start_time": "2021-10-29T09:40:55.654Z"
   },
   {
    "duration": 655,
    "start_time": "2021-10-29T09:41:00.430Z"
   },
   {
    "duration": 63,
    "start_time": "2021-10-29T09:41:06.705Z"
   },
   {
    "duration": 65,
    "start_time": "2021-10-29T09:41:10.817Z"
   },
   {
    "duration": 6,
    "start_time": "2021-10-29T09:41:12.442Z"
   },
   {
    "duration": 64,
    "start_time": "2021-10-29T09:41:13.380Z"
   },
   {
    "duration": 782,
    "start_time": "2021-10-29T09:41:21.158Z"
   },
   {
    "duration": 9,
    "start_time": "2021-10-29T09:41:21.943Z"
   },
   {
    "duration": 25,
    "start_time": "2021-10-29T09:41:21.954Z"
   },
   {
    "duration": 241,
    "start_time": "2021-10-29T09:41:21.982Z"
   },
   {
    "duration": 1198,
    "start_time": "2021-10-29T09:41:22.226Z"
   },
   {
    "duration": 17758,
    "start_time": "2021-10-29T09:41:23.427Z"
   },
   {
    "duration": 44,
    "start_time": "2021-10-29T09:41:41.188Z"
   },
   {
    "duration": 25,
    "start_time": "2021-10-29T09:41:41.236Z"
   },
   {
    "duration": 11,
    "start_time": "2021-10-29T09:41:41.264Z"
   },
   {
    "duration": 13,
    "start_time": "2021-10-29T09:41:41.278Z"
   },
   {
    "duration": 16,
    "start_time": "2021-10-29T09:41:41.294Z"
   },
   {
    "duration": 20,
    "start_time": "2021-10-29T09:41:41.312Z"
   },
   {
    "duration": 88,
    "start_time": "2021-10-29T09:41:41.334Z"
   },
   {
    "duration": 7,
    "start_time": "2021-10-29T09:41:41.425Z"
   },
   {
    "duration": 868,
    "start_time": "2021-10-29T09:41:41.434Z"
   },
   {
    "duration": 252,
    "start_time": "2021-10-29T09:41:42.053Z"
   },
   {
    "duration": 251,
    "start_time": "2021-10-29T09:41:42.055Z"
   },
   {
    "duration": 250,
    "start_time": "2021-10-29T09:41:42.057Z"
   },
   {
    "duration": 250,
    "start_time": "2021-10-29T09:41:42.059Z"
   },
   {
    "duration": 251,
    "start_time": "2021-10-29T09:41:42.060Z"
   },
   {
    "duration": 250,
    "start_time": "2021-10-29T09:41:42.062Z"
   },
   {
    "duration": 249,
    "start_time": "2021-10-29T09:41:42.064Z"
   },
   {
    "duration": 6,
    "start_time": "2021-10-29T09:42:51.474Z"
   },
   {
    "duration": 1397,
    "start_time": "2021-10-29T09:42:53.932Z"
   },
   {
    "duration": 799,
    "start_time": "2021-10-29T09:43:25.581Z"
   },
   {
    "duration": 8,
    "start_time": "2021-10-29T09:43:40.684Z"
   },
   {
    "duration": 65,
    "start_time": "2021-10-29T09:43:42.717Z"
   },
   {
    "duration": 86,
    "start_time": "2021-10-29T09:43:56.241Z"
   },
   {
    "duration": 67,
    "start_time": "2021-10-29T09:44:10.430Z"
   },
   {
    "duration": 2390,
    "start_time": "2021-10-29T09:45:07.241Z"
   },
   {
    "duration": 2548,
    "start_time": "2021-10-29T09:45:39.779Z"
   },
   {
    "duration": 7,
    "start_time": "2021-10-29T09:51:18.885Z"
   },
   {
    "duration": 723,
    "start_time": "2021-10-29T09:51:41.878Z"
   },
   {
    "duration": 8,
    "start_time": "2021-10-29T09:52:00.716Z"
   },
   {
    "duration": 2571,
    "start_time": "2021-10-29T09:52:02.791Z"
   },
   {
    "duration": 2286,
    "start_time": "2021-10-29T09:52:20.453Z"
   },
   {
    "duration": 122,
    "start_time": "2021-10-29T09:52:51.762Z"
   },
   {
    "duration": 37,
    "start_time": "2021-10-29T09:53:34.809Z"
   },
   {
    "duration": 421,
    "start_time": "2021-10-29T09:54:05.162Z"
   },
   {
    "duration": 162,
    "start_time": "2021-10-29T09:54:25.169Z"
   },
   {
    "duration": 42,
    "start_time": "2021-10-29T09:54:33.294Z"
   },
   {
    "duration": 36,
    "start_time": "2021-10-29T09:54:37.295Z"
   },
   {
    "duration": 38,
    "start_time": "2021-10-29T09:54:45.314Z"
   },
   {
    "duration": 36,
    "start_time": "2021-10-29T09:54:53.159Z"
   },
   {
    "duration": 323,
    "start_time": "2021-10-29T09:57:31.785Z"
   },
   {
    "duration": 3,
    "start_time": "2021-10-29T10:05:17.310Z"
   },
   {
    "duration": 4,
    "start_time": "2021-10-29T10:06:32.886Z"
   },
   {
    "duration": 354,
    "start_time": "2021-10-29T10:08:59.412Z"
   },
   {
    "duration": 14,
    "start_time": "2021-10-29T10:32:50.979Z"
   },
   {
    "duration": 13,
    "start_time": "2021-10-29T10:36:20.169Z"
   },
   {
    "duration": 5,
    "start_time": "2021-10-29T10:41:38.121Z"
   },
   {
    "duration": 9,
    "start_time": "2021-10-29T10:41:41.669Z"
   },
   {
    "duration": 4,
    "start_time": "2021-10-29T10:59:26.282Z"
   },
   {
    "duration": 365,
    "start_time": "2021-10-29T10:59:55.435Z"
   },
   {
    "duration": 9,
    "start_time": "2021-10-29T11:00:02.173Z"
   },
   {
    "duration": 374,
    "start_time": "2021-10-29T11:00:15.787Z"
   },
   {
    "duration": 607,
    "start_time": "2021-10-29T11:00:46.175Z"
   },
   {
    "duration": 586,
    "start_time": "2021-10-29T11:02:21.446Z"
   },
   {
    "duration": 1268,
    "start_time": "2021-10-29T11:20:02.622Z"
   },
   {
    "duration": 510,
    "start_time": "2021-10-29T11:20:06.587Z"
   },
   {
    "duration": 683,
    "start_time": "2021-10-29T11:22:32.391Z"
   },
   {
    "duration": 715,
    "start_time": "2021-10-29T11:23:54.447Z"
   },
   {
    "duration": 539,
    "start_time": "2021-10-29T11:24:08.297Z"
   },
   {
    "duration": 878,
    "start_time": "2021-10-29T11:24:54.147Z"
   },
   {
    "duration": 605,
    "start_time": "2021-10-29T11:25:05.885Z"
   },
   {
    "duration": 863,
    "start_time": "2021-10-29T11:26:36.876Z"
   },
   {
    "duration": 860,
    "start_time": "2021-10-29T11:26:50.352Z"
   },
   {
    "duration": 579,
    "start_time": "2021-10-29T11:27:21.665Z"
   },
   {
    "duration": 556,
    "start_time": "2021-10-29T11:27:42.931Z"
   },
   {
    "duration": 9,
    "start_time": "2021-10-29T11:28:13.375Z"
   },
   {
    "duration": 624,
    "start_time": "2021-10-29T11:30:05.967Z"
   },
   {
    "duration": 6,
    "start_time": "2021-10-29T11:31:25.298Z"
   },
   {
    "duration": 428,
    "start_time": "2021-10-29T11:32:08.925Z"
   },
   {
    "duration": 9,
    "start_time": "2021-10-29T11:32:43.971Z"
   },
   {
    "duration": 8,
    "start_time": "2021-10-29T11:33:25.205Z"
   },
   {
    "duration": 25,
    "start_time": "2021-10-29T11:33:38.483Z"
   },
   {
    "duration": 8,
    "start_time": "2021-10-29T11:33:38.512Z"
   },
   {
    "duration": 23,
    "start_time": "2021-10-29T11:33:38.523Z"
   },
   {
    "duration": 173,
    "start_time": "2021-10-29T11:33:38.549Z"
   },
   {
    "duration": 668,
    "start_time": "2021-10-29T11:33:38.724Z"
   },
   {
    "duration": 18276,
    "start_time": "2021-10-29T11:33:39.394Z"
   },
   {
    "duration": 5,
    "start_time": "2021-10-29T11:33:57.672Z"
   },
   {
    "duration": 10,
    "start_time": "2021-10-29T11:33:57.680Z"
   },
   {
    "duration": 7,
    "start_time": "2021-10-29T11:33:57.694Z"
   },
   {
    "duration": 5,
    "start_time": "2021-10-29T11:33:57.704Z"
   },
   {
    "duration": 5,
    "start_time": "2021-10-29T11:33:57.758Z"
   },
   {
    "duration": 7,
    "start_time": "2021-10-29T11:33:57.765Z"
   },
   {
    "duration": 4,
    "start_time": "2021-10-29T11:33:57.774Z"
   },
   {
    "duration": 8,
    "start_time": "2021-10-29T11:33:57.781Z"
   },
   {
    "duration": 171,
    "start_time": "2021-10-29T11:33:57.791Z"
   },
   {
    "duration": 8,
    "start_time": "2021-10-29T11:34:07.316Z"
   },
   {
    "duration": 13,
    "start_time": "2021-10-29T11:35:13.002Z"
   },
   {
    "duration": 7,
    "start_time": "2021-10-29T11:35:15.487Z"
   },
   {
    "duration": 10,
    "start_time": "2021-10-29T11:35:17.525Z"
   },
   {
    "duration": 12,
    "start_time": "2021-10-29T11:35:48.579Z"
   },
   {
    "duration": 498,
    "start_time": "2021-10-29T11:36:06.109Z"
   },
   {
    "duration": 10,
    "start_time": "2021-10-29T11:36:22.372Z"
   },
   {
    "duration": 9,
    "start_time": "2021-10-29T11:38:12.238Z"
   },
   {
    "duration": 15,
    "start_time": "2021-10-29T11:38:27.500Z"
   },
   {
    "duration": 13,
    "start_time": "2021-10-29T11:38:36.793Z"
   },
   {
    "duration": 10,
    "start_time": "2021-10-29T11:42:10.738Z"
   },
   {
    "duration": 10,
    "start_time": "2021-10-29T11:42:25.109Z"
   },
   {
    "duration": 9,
    "start_time": "2021-10-29T11:43:15.779Z"
   },
   {
    "duration": 661,
    "start_time": "2021-10-29T11:56:55.111Z"
   },
   {
    "duration": 744,
    "start_time": "2021-10-29T11:57:23.663Z"
   },
   {
    "duration": 6,
    "start_time": "2021-10-29T11:57:29.615Z"
   },
   {
    "duration": 471,
    "start_time": "2021-10-29T11:57:33.370Z"
   },
   {
    "duration": 138,
    "start_time": "2021-10-29T11:58:11.776Z"
   },
   {
    "duration": 370,
    "start_time": "2021-10-29T11:58:23.303Z"
   },
   {
    "duration": 369,
    "start_time": "2021-10-29T11:59:05.884Z"
   },
   {
    "duration": 130,
    "start_time": "2021-10-29T11:59:48.919Z"
   },
   {
    "duration": 370,
    "start_time": "2021-10-29T12:00:03.026Z"
   },
   {
    "duration": 382,
    "start_time": "2021-10-29T12:00:27.108Z"
   },
   {
    "duration": 220,
    "start_time": "2021-10-29T12:04:14.295Z"
   },
   {
    "duration": 493,
    "start_time": "2021-10-29T12:04:33.099Z"
   },
   {
    "duration": 8,
    "start_time": "2021-10-29T12:07:15.570Z"
   },
   {
    "duration": 7,
    "start_time": "2021-10-29T12:07:30.994Z"
   },
   {
    "duration": 10,
    "start_time": "2021-10-29T12:08:22.317Z"
   },
   {
    "duration": 403,
    "start_time": "2021-10-29T12:12:29.574Z"
   },
   {
    "duration": 1114,
    "start_time": "2021-10-29T12:12:55.377Z"
   },
   {
    "duration": 5,
    "start_time": "2021-10-29T12:16:36.171Z"
   },
   {
    "duration": 355,
    "start_time": "2021-10-29T12:16:46.009Z"
   },
   {
    "duration": 866,
    "start_time": "2021-10-29T12:16:51.182Z"
   },
   {
    "duration": 957,
    "start_time": "2021-10-29T13:38:23.562Z"
   },
   {
    "duration": 957,
    "start_time": "2021-10-29T13:38:34.513Z"
   },
   {
    "duration": 1011,
    "start_time": "2021-10-29T13:38:59.334Z"
   },
   {
    "duration": 957,
    "start_time": "2021-10-29T13:39:10.828Z"
   },
   {
    "duration": 898,
    "start_time": "2021-10-29T13:40:58.737Z"
   },
   {
    "duration": 7,
    "start_time": "2021-10-29T13:41:14.150Z"
   },
   {
    "duration": 907,
    "start_time": "2021-10-29T13:41:33.987Z"
   },
   {
    "duration": 545,
    "start_time": "2021-10-29T13:41:54.049Z"
   },
   {
    "duration": 535,
    "start_time": "2021-10-29T13:42:46.446Z"
   },
   {
    "duration": 544,
    "start_time": "2021-10-29T13:43:11.358Z"
   },
   {
    "duration": 542,
    "start_time": "2021-10-29T13:43:23.559Z"
   },
   {
    "duration": 548,
    "start_time": "2021-10-29T13:43:53.355Z"
   },
   {
    "duration": 534,
    "start_time": "2021-10-29T13:44:36.305Z"
   },
   {
    "duration": 747,
    "start_time": "2021-10-29T13:45:10.827Z"
   },
   {
    "duration": 609,
    "start_time": "2021-10-30T08:58:10.641Z"
   },
   {
    "duration": 6,
    "start_time": "2021-10-30T08:58:11.252Z"
   },
   {
    "duration": 16,
    "start_time": "2021-10-30T08:58:11.260Z"
   },
   {
    "duration": 152,
    "start_time": "2021-10-30T08:58:11.278Z"
   },
   {
    "duration": 845,
    "start_time": "2021-10-30T08:58:11.432Z"
   },
   {
    "duration": 10498,
    "start_time": "2021-10-30T08:58:12.279Z"
   },
   {
    "duration": 34,
    "start_time": "2021-10-30T08:58:22.779Z"
   },
   {
    "duration": 6,
    "start_time": "2021-10-30T08:58:22.815Z"
   },
   {
    "duration": 6,
    "start_time": "2021-10-30T08:58:22.847Z"
   },
   {
    "duration": 9,
    "start_time": "2021-10-30T08:58:22.856Z"
   },
   {
    "duration": 11,
    "start_time": "2021-10-30T08:58:22.867Z"
   },
   {
    "duration": 15,
    "start_time": "2021-10-30T08:58:22.880Z"
   },
   {
    "duration": 41,
    "start_time": "2021-10-30T08:58:22.897Z"
   },
   {
    "duration": 5,
    "start_time": "2021-10-30T08:58:22.944Z"
   },
   {
    "duration": 93,
    "start_time": "2021-10-30T08:58:22.952Z"
   },
   {
    "duration": 6,
    "start_time": "2021-10-30T08:58:23.047Z"
   },
   {
    "duration": 235,
    "start_time": "2021-10-30T08:58:23.055Z"
   },
   {
    "duration": 10,
    "start_time": "2021-10-30T08:58:23.292Z"
   },
   {
    "duration": 3,
    "start_time": "2021-10-30T08:58:23.304Z"
   },
   {
    "duration": 9,
    "start_time": "2021-10-30T08:58:23.309Z"
   },
   {
    "duration": 29,
    "start_time": "2021-10-30T08:58:23.320Z"
   },
   {
    "duration": 5,
    "start_time": "2021-10-30T08:58:23.351Z"
   },
   {
    "duration": 5,
    "start_time": "2021-10-30T08:58:23.358Z"
   },
   {
    "duration": 360,
    "start_time": "2021-10-30T08:58:23.365Z"
   },
   {
    "duration": -1250,
    "start_time": "2021-10-30T08:58:24.977Z"
   },
   {
    "duration": -1250,
    "start_time": "2021-10-30T08:58:24.979Z"
   },
   {
    "duration": -1251,
    "start_time": "2021-10-30T08:58:24.981Z"
   },
   {
    "duration": -1252,
    "start_time": "2021-10-30T08:58:24.983Z"
   },
   {
    "duration": -1253,
    "start_time": "2021-10-30T08:58:24.985Z"
   },
   {
    "duration": 11308,
    "start_time": "2021-10-30T08:59:07.128Z"
   },
   {
    "duration": 292,
    "start_time": "2021-10-30T09:00:30.794Z"
   },
   {
    "duration": 95,
    "start_time": "2021-10-31T15:04:38.566Z"
   },
   {
    "duration": 100,
    "start_time": "2021-10-31T15:05:17.501Z"
   },
   {
    "duration": 348,
    "start_time": "2021-10-31T15:05:43.313Z"
   },
   {
    "duration": 99,
    "start_time": "2021-10-31T15:24:01.076Z"
   },
   {
    "duration": 283,
    "start_time": "2021-10-31T15:34:24.292Z"
   },
   {
    "duration": 749,
    "start_time": "2021-10-31T15:35:43.651Z"
   },
   {
    "duration": 12,
    "start_time": "2021-10-31T15:35:44.403Z"
   },
   {
    "duration": 32,
    "start_time": "2021-10-31T15:35:44.419Z"
   },
   {
    "duration": 340,
    "start_time": "2021-10-31T15:35:44.454Z"
   },
   {
    "duration": 1511,
    "start_time": "2021-10-31T15:35:44.797Z"
   },
   {
    "duration": 19378,
    "start_time": "2021-10-31T15:35:46.311Z"
   },
   {
    "duration": 62,
    "start_time": "2021-10-31T15:36:05.692Z"
   },
   {
    "duration": 7,
    "start_time": "2021-10-31T15:36:05.758Z"
   },
   {
    "duration": 12,
    "start_time": "2021-10-31T15:36:05.768Z"
   },
   {
    "duration": 17,
    "start_time": "2021-10-31T15:36:05.782Z"
   },
   {
    "duration": 24,
    "start_time": "2021-10-31T15:36:05.802Z"
   },
   {
    "duration": 6,
    "start_time": "2021-10-31T15:36:05.829Z"
   },
   {
    "duration": 54,
    "start_time": "2021-10-31T15:36:05.837Z"
   },
   {
    "duration": 32,
    "start_time": "2021-10-31T15:36:05.893Z"
   },
   {
    "duration": 141,
    "start_time": "2021-10-31T15:36:05.927Z"
   },
   {
    "duration": 8,
    "start_time": "2021-10-31T15:36:06.070Z"
   },
   {
    "duration": 364,
    "start_time": "2021-10-31T15:36:06.081Z"
   },
   {
    "duration": 14,
    "start_time": "2021-10-31T15:36:06.447Z"
   },
   {
    "duration": 5,
    "start_time": "2021-10-31T15:36:06.464Z"
   },
   {
    "duration": 17,
    "start_time": "2021-10-31T15:36:06.472Z"
   },
   {
    "duration": 9,
    "start_time": "2021-10-31T15:36:06.521Z"
   },
   {
    "duration": 7,
    "start_time": "2021-10-31T15:36:06.533Z"
   },
   {
    "duration": 5,
    "start_time": "2021-10-31T15:36:06.547Z"
   },
   {
    "duration": 656,
    "start_time": "2021-10-31T15:36:06.556Z"
   },
   {
    "duration": 385,
    "start_time": "2021-10-31T15:36:07.214Z"
   },
   {
    "duration": 97,
    "start_time": "2021-10-31T15:36:07.504Z"
   },
   {
    "duration": 95,
    "start_time": "2021-10-31T15:36:07.507Z"
   },
   {
    "duration": 95,
    "start_time": "2021-10-31T15:36:07.509Z"
   },
   {
    "duration": 89,
    "start_time": "2021-10-31T15:36:07.516Z"
   },
   {
    "duration": 88,
    "start_time": "2021-10-31T15:36:07.518Z"
   },
   {
    "duration": 868,
    "start_time": "2021-11-02T13:34:23.868Z"
   },
   {
    "duration": 9,
    "start_time": "2021-11-02T13:34:24.739Z"
   },
   {
    "duration": 34,
    "start_time": "2021-11-02T13:34:24.752Z"
   },
   {
    "duration": 252,
    "start_time": "2021-11-02T13:34:24.789Z"
   },
   {
    "duration": 1193,
    "start_time": "2021-11-02T13:34:25.045Z"
   },
   {
    "duration": 17446,
    "start_time": "2021-11-02T13:34:26.240Z"
   },
   {
    "duration": 51,
    "start_time": "2021-11-02T13:34:43.688Z"
   },
   {
    "duration": 7,
    "start_time": "2021-11-02T13:34:43.741Z"
   },
   {
    "duration": 8,
    "start_time": "2021-11-02T13:34:43.753Z"
   },
   {
    "duration": 42,
    "start_time": "2021-11-02T13:34:43.764Z"
   },
   {
    "duration": 11,
    "start_time": "2021-11-02T13:34:43.808Z"
   },
   {
    "duration": 11,
    "start_time": "2021-11-02T13:34:43.823Z"
   },
   {
    "duration": 88,
    "start_time": "2021-11-02T13:34:43.837Z"
   },
   {
    "duration": 8,
    "start_time": "2021-11-02T13:34:43.928Z"
   },
   {
    "duration": 569,
    "start_time": "2021-11-02T13:34:43.938Z"
   },
   {
    "duration": -377,
    "start_time": "2021-11-02T13:34:44.887Z"
   },
   {
    "duration": -378,
    "start_time": "2021-11-02T13:34:44.890Z"
   },
   {
    "duration": -380,
    "start_time": "2021-11-02T13:34:44.893Z"
   },
   {
    "duration": -381,
    "start_time": "2021-11-02T13:34:44.896Z"
   },
   {
    "duration": -381,
    "start_time": "2021-11-02T13:34:44.898Z"
   },
   {
    "duration": -382,
    "start_time": "2021-11-02T13:34:44.900Z"
   },
   {
    "duration": -388,
    "start_time": "2021-11-02T13:34:44.907Z"
   },
   {
    "duration": -389,
    "start_time": "2021-11-02T13:34:44.910Z"
   },
   {
    "duration": -389,
    "start_time": "2021-11-02T13:34:44.912Z"
   },
   {
    "duration": -389,
    "start_time": "2021-11-02T13:34:44.913Z"
   },
   {
    "duration": -389,
    "start_time": "2021-11-02T13:34:44.915Z"
   },
   {
    "duration": -390,
    "start_time": "2021-11-02T13:34:44.917Z"
   },
   {
    "duration": -390,
    "start_time": "2021-11-02T13:34:44.919Z"
   },
   {
    "duration": -391,
    "start_time": "2021-11-02T13:34:44.921Z"
   },
   {
    "duration": -392,
    "start_time": "2021-11-02T13:34:44.924Z"
   },
   {
    "duration": 227,
    "start_time": "2021-11-02T14:52:44.010Z"
   },
   {
    "duration": 8,
    "start_time": "2021-11-02T14:52:47.166Z"
   },
   {
    "duration": 9,
    "start_time": "2021-11-02T14:58:28.793Z"
   },
   {
    "duration": 8,
    "start_time": "2021-11-02T14:58:41.268Z"
   },
   {
    "duration": 162,
    "start_time": "2021-11-02T14:58:55.234Z"
   },
   {
    "duration": 373,
    "start_time": "2021-11-02T15:14:01.166Z"
   },
   {
    "duration": 456,
    "start_time": "2021-11-02T15:14:04.415Z"
   },
   {
    "duration": 6,
    "start_time": "2021-11-02T15:14:42.868Z"
   },
   {
    "duration": 382,
    "start_time": "2021-11-02T15:20:32.171Z"
   },
   {
    "duration": 378,
    "start_time": "2021-11-02T15:22:22.603Z"
   },
   {
    "duration": 756,
    "start_time": "2021-11-08T10:28:21.029Z"
   },
   {
    "duration": 9,
    "start_time": "2021-11-08T10:28:21.787Z"
   },
   {
    "duration": 26,
    "start_time": "2021-11-08T10:28:21.798Z"
   },
   {
    "duration": 14,
    "start_time": "2021-11-08T10:28:21.826Z"
   },
   {
    "duration": 236,
    "start_time": "2021-11-08T10:28:21.842Z"
   },
   {
    "duration": 1247,
    "start_time": "2021-11-08T10:28:22.081Z"
   },
   {
    "duration": 16762,
    "start_time": "2021-11-08T10:28:23.330Z"
   },
   {
    "duration": 59,
    "start_time": "2021-11-08T10:28:40.097Z"
   },
   {
    "duration": 7,
    "start_time": "2021-11-08T10:28:40.159Z"
   },
   {
    "duration": 21,
    "start_time": "2021-11-08T10:28:40.168Z"
   },
   {
    "duration": 23,
    "start_time": "2021-11-08T10:28:40.192Z"
   },
   {
    "duration": 18,
    "start_time": "2021-11-08T10:28:40.218Z"
   },
   {
    "duration": 29,
    "start_time": "2021-11-08T10:28:40.239Z"
   },
   {
    "duration": 57,
    "start_time": "2021-11-08T10:28:40.271Z"
   },
   {
    "duration": 7,
    "start_time": "2021-11-08T10:28:40.331Z"
   },
   {
    "duration": 130,
    "start_time": "2021-11-08T10:28:40.340Z"
   },
   {
    "duration": 5,
    "start_time": "2021-11-08T10:28:40.472Z"
   },
   {
    "duration": 358,
    "start_time": "2021-11-08T10:28:40.480Z"
   },
   {
    "duration": 14,
    "start_time": "2021-11-08T10:28:40.841Z"
   },
   {
    "duration": 3,
    "start_time": "2021-11-08T10:28:40.858Z"
   },
   {
    "duration": 14,
    "start_time": "2021-11-08T10:28:40.864Z"
   },
   {
    "duration": 8,
    "start_time": "2021-11-08T10:28:40.881Z"
   },
   {
    "duration": 6,
    "start_time": "2021-11-08T10:28:40.934Z"
   },
   {
    "duration": 6,
    "start_time": "2021-11-08T10:28:40.944Z"
   },
   {
    "duration": 538,
    "start_time": "2021-11-08T10:28:40.953Z"
   },
   {
    "duration": 424,
    "start_time": "2021-11-08T10:28:41.493Z"
   },
   {
    "duration": -1093,
    "start_time": "2021-11-08T10:28:43.013Z"
   },
   {
    "duration": -1095,
    "start_time": "2021-11-08T10:28:43.016Z"
   },
   {
    "duration": -1096,
    "start_time": "2021-11-08T10:28:43.018Z"
   },
   {
    "duration": -1096,
    "start_time": "2021-11-08T10:28:43.020Z"
   },
   {
    "duration": -1098,
    "start_time": "2021-11-08T10:28:43.023Z"
   },
   {
    "duration": 7,
    "start_time": "2021-11-08T10:33:59.521Z"
   },
   {
    "duration": 125,
    "start_time": "2021-11-08T10:34:01.443Z"
   },
   {
    "duration": 5,
    "start_time": "2021-11-08T10:34:08.379Z"
   },
   {
    "duration": 89,
    "start_time": "2021-11-08T10:50:19.937Z"
   },
   {
    "duration": 689,
    "start_time": "2021-11-08T10:50:47.980Z"
   },
   {
    "duration": 7,
    "start_time": "2021-11-08T10:51:04.454Z"
   },
   {
    "duration": 6,
    "start_time": "2021-11-08T10:51:46.979Z"
   },
   {
    "duration": 2956,
    "start_time": "2021-11-08T10:53:08.576Z"
   },
   {
    "duration": 6,
    "start_time": "2021-11-08T10:53:14.301Z"
   },
   {
    "duration": 2878,
    "start_time": "2021-11-08T10:53:16.463Z"
   },
   {
    "duration": 5,
    "start_time": "2021-11-08T10:53:40.713Z"
   },
   {
    "duration": 258,
    "start_time": "2021-11-08T10:53:42.576Z"
   },
   {
    "duration": 3673,
    "start_time": "2021-11-08T10:56:34.523Z"
   },
   {
    "duration": -1162,
    "start_time": "2021-11-08T10:56:39.361Z"
   },
   {
    "duration": -1132,
    "start_time": "2021-11-08T10:56:45.235Z"
   },
   {
    "duration": 7,
    "start_time": "2021-11-08T10:57:00.630Z"
   },
   {
    "duration": 3203,
    "start_time": "2021-11-08T10:57:02.377Z"
   },
   {
    "duration": 5,
    "start_time": "2021-11-08T10:57:10.702Z"
   },
   {
    "duration": 6,
    "start_time": "2021-11-08T11:20:52.860Z"
   },
   {
    "duration": 562,
    "start_time": "2021-11-08T11:20:55.101Z"
   },
   {
    "duration": 6,
    "start_time": "2021-11-08T11:21:11.212Z"
   },
   {
    "duration": 122,
    "start_time": "2021-11-08T11:21:13.086Z"
   },
   {
    "duration": 5,
    "start_time": "2021-11-08T11:21:15.424Z"
   },
   {
    "duration": 5,
    "start_time": "2021-11-08T11:21:17.361Z"
   },
   {
    "duration": 7,
    "start_time": "2021-11-08T11:21:19.662Z"
   },
   {
    "duration": 551,
    "start_time": "2021-11-08T11:21:21.887Z"
   },
   {
    "duration": 7,
    "start_time": "2021-11-08T11:21:30.926Z"
   },
   {
    "duration": 2961,
    "start_time": "2021-11-08T11:21:32.987Z"
   },
   {
    "duration": 5,
    "start_time": "2021-11-08T11:21:38.000Z"
   },
   {
    "duration": 7,
    "start_time": "2021-11-08T11:21:39.837Z"
   },
   {
    "duration": 451,
    "start_time": "2021-11-08T11:24:34.127Z"
   },
   {
    "duration": 844,
    "start_time": "2021-11-08T11:24:45.711Z"
   },
   {
    "duration": 7,
    "start_time": "2021-11-08T11:27:02.614Z"
   },
   {
    "duration": 6,
    "start_time": "2021-11-08T11:27:59.394Z"
   },
   {
    "duration": 348,
    "start_time": "2021-11-08T11:28:00.107Z"
   },
   {
    "duration": 6,
    "start_time": "2021-11-08T11:28:31.643Z"
   },
   {
    "duration": 522,
    "start_time": "2021-11-08T11:28:33.445Z"
   },
   {
    "duration": 6,
    "start_time": "2021-11-08T11:28:42.905Z"
   },
   {
    "duration": 355,
    "start_time": "2021-11-08T11:28:45.830Z"
   },
   {
    "duration": 6,
    "start_time": "2021-11-08T11:28:57.117Z"
   },
   {
    "duration": 144,
    "start_time": "2021-11-08T11:28:59.204Z"
   },
   {
    "duration": 7,
    "start_time": "2021-11-08T11:29:05.404Z"
   },
   {
    "duration": 118,
    "start_time": "2021-11-08T11:29:07.485Z"
   },
   {
    "duration": 7,
    "start_time": "2021-11-08T11:29:13.918Z"
   },
   {
    "duration": 143,
    "start_time": "2021-11-08T11:29:16.467Z"
   },
   {
    "duration": 8,
    "start_time": "2021-11-08T11:30:04.903Z"
   },
   {
    "duration": 5,
    "start_time": "2021-11-08T11:30:26.913Z"
   },
   {
    "duration": 798,
    "start_time": "2021-11-08T11:30:39.899Z"
   },
   {
    "duration": 7,
    "start_time": "2021-11-08T11:30:44.162Z"
   },
   {
    "duration": 5,
    "start_time": "2021-11-08T11:30:46.313Z"
   },
   {
    "duration": 6,
    "start_time": "2021-11-08T11:32:24.684Z"
   },
   {
    "duration": 83,
    "start_time": "2021-11-08T11:32:29.183Z"
   },
   {
    "duration": 7,
    "start_time": "2021-11-08T11:32:33.822Z"
   },
   {
    "duration": 5,
    "start_time": "2021-11-08T11:32:35.884Z"
   },
   {
    "duration": 751,
    "start_time": "2021-11-08T11:33:25.829Z"
   },
   {
    "duration": 9,
    "start_time": "2021-11-08T11:33:26.583Z"
   },
   {
    "duration": 38,
    "start_time": "2021-11-08T11:33:26.594Z"
   },
   {
    "duration": 10,
    "start_time": "2021-11-08T11:33:26.635Z"
   },
   {
    "duration": 247,
    "start_time": "2021-11-08T11:33:26.647Z"
   },
   {
    "duration": 1135,
    "start_time": "2021-11-08T11:33:26.897Z"
   },
   {
    "duration": 16540,
    "start_time": "2021-11-08T11:33:28.034Z"
   },
   {
    "duration": 60,
    "start_time": "2021-11-08T11:33:44.577Z"
   },
   {
    "duration": 7,
    "start_time": "2021-11-08T11:33:44.640Z"
   },
   {
    "duration": 20,
    "start_time": "2021-11-08T11:33:44.649Z"
   },
   {
    "duration": 8,
    "start_time": "2021-11-08T11:33:44.672Z"
   },
   {
    "duration": 13,
    "start_time": "2021-11-08T11:33:44.682Z"
   },
   {
    "duration": 11,
    "start_time": "2021-11-08T11:33:44.697Z"
   },
   {
    "duration": 61,
    "start_time": "2021-11-08T11:33:44.711Z"
   },
   {
    "duration": 7,
    "start_time": "2021-11-08T11:33:44.774Z"
   },
   {
    "duration": 140,
    "start_time": "2021-11-08T11:33:44.784Z"
   },
   {
    "duration": 6,
    "start_time": "2021-11-08T11:33:44.929Z"
   },
   {
    "duration": 11,
    "start_time": "2021-11-08T11:33:44.937Z"
   },
   {
    "duration": 9,
    "start_time": "2021-11-08T11:33:44.951Z"
   },
   {
    "duration": 2923,
    "start_time": "2021-11-08T11:33:44.962Z"
   },
   {
    "duration": 4,
    "start_time": "2021-11-08T11:33:47.887Z"
   },
   {
    "duration": 9,
    "start_time": "2021-11-08T11:33:47.894Z"
   },
   {
    "duration": 5,
    "start_time": "2021-11-08T11:33:47.928Z"
   },
   {
    "duration": 107,
    "start_time": "2021-11-08T11:33:47.936Z"
   },
   {
    "duration": 8,
    "start_time": "2021-11-08T11:33:48.045Z"
   },
   {
    "duration": 409,
    "start_time": "2021-11-08T11:33:48.056Z"
   },
   {
    "duration": -103,
    "start_time": "2021-11-08T11:33:48.570Z"
   },
   {
    "duration": -105,
    "start_time": "2021-11-08T11:33:48.573Z"
   },
   {
    "duration": -105,
    "start_time": "2021-11-08T11:33:48.575Z"
   },
   {
    "duration": -111,
    "start_time": "2021-11-08T11:33:48.583Z"
   },
   {
    "duration": -113,
    "start_time": "2021-11-08T11:33:48.586Z"
   },
   {
    "duration": -114,
    "start_time": "2021-11-08T11:33:48.588Z"
   },
   {
    "duration": -114,
    "start_time": "2021-11-08T11:33:48.590Z"
   },
   {
    "duration": -114,
    "start_time": "2021-11-08T11:33:48.592Z"
   },
   {
    "duration": -114,
    "start_time": "2021-11-08T11:33:48.594Z"
   },
   {
    "duration": -115,
    "start_time": "2021-11-08T11:33:48.596Z"
   },
   {
    "duration": -116,
    "start_time": "2021-11-08T11:33:48.598Z"
   },
   {
    "duration": -117,
    "start_time": "2021-11-08T11:33:48.601Z"
   },
   {
    "duration": 5,
    "start_time": "2021-11-08T12:44:55.055Z"
   },
   {
    "duration": 13,
    "start_time": "2021-11-08T12:44:57.503Z"
   },
   {
    "duration": 6,
    "start_time": "2021-11-08T12:45:38.370Z"
   },
   {
    "duration": 552,
    "start_time": "2021-11-08T12:45:40.307Z"
   },
   {
    "duration": 5,
    "start_time": "2021-11-08T12:46:18.854Z"
   },
   {
    "duration": 50,
    "start_time": "2021-11-08T12:46:21.054Z"
   },
   {
    "duration": 4,
    "start_time": "2021-11-08T12:46:36.193Z"
   },
   {
    "duration": 47,
    "start_time": "2021-11-08T12:46:38.830Z"
   },
   {
    "duration": 4,
    "start_time": "2021-11-08T12:47:50.512Z"
   },
   {
    "duration": 48,
    "start_time": "2021-11-08T12:47:52.948Z"
   },
   {
    "duration": 9,
    "start_time": "2021-11-08T12:47:57.697Z"
   },
   {
    "duration": 328,
    "start_time": "2021-11-08T12:48:39.522Z"
   },
   {
    "duration": 6,
    "start_time": "2021-11-08T12:48:42.423Z"
   },
   {
    "duration": 122,
    "start_time": "2021-11-08T12:48:44.248Z"
   },
   {
    "duration": 6,
    "start_time": "2021-11-08T12:49:05.218Z"
   },
   {
    "duration": 430,
    "start_time": "2021-11-08T12:49:07.373Z"
   },
   {
    "duration": 8,
    "start_time": "2021-11-08T12:49:10.172Z"
   },
   {
    "duration": 6,
    "start_time": "2021-11-08T12:50:27.308Z"
   },
   {
    "duration": 1524,
    "start_time": "2021-11-08T12:50:29.110Z"
   },
   {
    "duration": 8,
    "start_time": "2021-11-08T12:50:33.360Z"
   },
   {
    "duration": 7,
    "start_time": "2021-11-08T12:51:06.577Z"
   },
   {
    "duration": 1585,
    "start_time": "2021-11-08T12:51:09.173Z"
   },
   {
    "duration": 1555,
    "start_time": "2021-11-08T12:52:12.466Z"
   },
   {
    "duration": 12,
    "start_time": "2021-11-08T12:52:20.109Z"
   },
   {
    "duration": 1530,
    "start_time": "2021-11-08T12:52:33.591Z"
   },
   {
    "duration": 8,
    "start_time": "2021-11-08T12:54:41.444Z"
   },
   {
    "duration": 478,
    "start_time": "2021-11-08T12:54:43.940Z"
   },
   {
    "duration": 8,
    "start_time": "2021-11-08T12:54:47.742Z"
   },
   {
    "duration": 749,
    "start_time": "2021-11-08T12:55:26.058Z"
   },
   {
    "duration": 7,
    "start_time": "2021-11-08T12:55:29.404Z"
   },
   {
    "duration": 1367,
    "start_time": "2021-11-08T12:55:31.368Z"
   },
   {
    "duration": 7,
    "start_time": "2021-11-08T12:55:51.829Z"
   },
   {
    "duration": 477,
    "start_time": "2021-11-08T12:55:55.217Z"
   },
   {
    "duration": 7,
    "start_time": "2021-11-08T12:55:57.829Z"
   },
   {
    "duration": 3,
    "start_time": "2021-11-08T12:55:59.791Z"
   },
   {
    "duration": 7,
    "start_time": "2021-11-08T12:56:09.766Z"
   },
   {
    "duration": 474,
    "start_time": "2021-11-08T12:56:11.455Z"
   },
   {
    "duration": 7,
    "start_time": "2021-11-08T12:56:13.054Z"
   },
   {
    "duration": 5,
    "start_time": "2021-11-08T12:56:14.728Z"
   },
   {
    "duration": 7,
    "start_time": "2021-11-08T12:56:44.090Z"
   },
   {
    "duration": 495,
    "start_time": "2021-11-08T12:56:48.066Z"
   },
   {
    "duration": 1008,
    "start_time": "2021-11-08T12:57:03.041Z"
   },
   {
    "duration": 1068,
    "start_time": "2021-11-08T12:57:43.325Z"
   },
   {
    "duration": 1011,
    "start_time": "2021-11-08T12:57:48.537Z"
   },
   {
    "duration": 6,
    "start_time": "2021-11-08T12:58:06.225Z"
   },
   {
    "duration": 1474,
    "start_time": "2021-11-08T12:58:08.373Z"
   },
   {
    "duration": 7,
    "start_time": "2021-11-08T13:07:40.792Z"
   },
   {
    "duration": 254,
    "start_time": "2021-11-08T13:07:42.543Z"
   },
   {
    "duration": 601,
    "start_time": "2021-11-08T13:08:08.904Z"
   },
   {
    "duration": 6,
    "start_time": "2021-11-08T13:08:49.164Z"
   },
   {
    "duration": 249,
    "start_time": "2021-11-08T13:08:50.113Z"
   },
   {
    "duration": 6,
    "start_time": "2021-11-08T13:09:57.676Z"
   },
   {
    "duration": 379,
    "start_time": "2021-11-08T13:09:59.826Z"
   },
   {
    "duration": 758,
    "start_time": "2021-11-08T13:10:45.600Z"
   },
   {
    "duration": 9,
    "start_time": "2021-11-08T13:10:53.879Z"
   },
   {
    "duration": 367,
    "start_time": "2021-11-08T13:10:55.672Z"
   },
   {
    "duration": 494,
    "start_time": "2021-11-08T13:11:10.835Z"
   },
   {
    "duration": 743,
    "start_time": "2021-11-08T13:11:24.823Z"
   },
   {
    "duration": 371,
    "start_time": "2021-11-08T13:11:32.022Z"
   },
   {
    "duration": 1178,
    "start_time": "2021-11-08T13:11:50.520Z"
   },
   {
    "duration": 1634,
    "start_time": "2021-11-08T13:12:04.206Z"
   },
   {
    "duration": 7,
    "start_time": "2021-11-08T13:12:49.478Z"
   },
   {
    "duration": 1635,
    "start_time": "2021-11-08T13:12:51.355Z"
   },
   {
    "duration": 8,
    "start_time": "2021-11-08T13:13:07.878Z"
   },
   {
    "duration": 6,
    "start_time": "2021-11-08T13:13:09.906Z"
   },
   {
    "duration": 9,
    "start_time": "2021-11-08T14:28:28.661Z"
   },
   {
    "duration": 1594,
    "start_time": "2021-11-08T14:28:30.578Z"
   },
   {
    "duration": 7,
    "start_time": "2021-11-08T14:28:33.871Z"
   },
   {
    "duration": 2676,
    "start_time": "2021-11-08T14:28:51.046Z"
   },
   {
    "duration": 4,
    "start_time": "2021-11-08T14:29:40.613Z"
   },
   {
    "duration": 12,
    "start_time": "2021-11-08T14:29:42.980Z"
   },
   {
    "duration": 8,
    "start_time": "2021-11-08T14:29:45.668Z"
   },
   {
    "duration": 5,
    "start_time": "2021-11-08T15:41:38.611Z"
   },
   {
    "duration": 12,
    "start_time": "2021-11-08T15:41:42.749Z"
   },
   {
    "duration": 5,
    "start_time": "2021-11-08T15:42:04.424Z"
   },
   {
    "duration": 5,
    "start_time": "2021-11-08T15:42:10.736Z"
   },
   {
    "duration": 494,
    "start_time": "2021-11-08T15:42:15.798Z"
   },
   {
    "duration": 936,
    "start_time": "2021-11-08T15:46:38.683Z"
   },
   {
    "duration": 1217,
    "start_time": "2021-11-08T15:48:26.268Z"
   },
   {
    "duration": 790,
    "start_time": "2021-11-08T15:48:37.413Z"
   },
   {
    "duration": 709,
    "start_time": "2021-11-08T15:49:42.561Z"
   },
   {
    "duration": 436,
    "start_time": "2021-11-08T15:50:03.643Z"
   },
   {
    "duration": 771,
    "start_time": "2021-11-08T15:50:14.181Z"
   },
   {
    "duration": 107,
    "start_time": "2021-11-08T15:53:46.131Z"
   },
   {
    "duration": 5,
    "start_time": "2021-11-08T15:54:28.540Z"
   },
   {
    "duration": 882,
    "start_time": "2021-11-08T15:59:20.055Z"
   },
   {
    "duration": 931,
    "start_time": "2021-11-08T15:59:46.118Z"
   },
   {
    "duration": 745,
    "start_time": "2021-11-08T15:59:56.620Z"
   },
   {
    "duration": 781,
    "start_time": "2021-11-08T16:00:08.418Z"
   },
   {
    "duration": 463,
    "start_time": "2021-11-08T16:00:42.995Z"
   },
   {
    "duration": 460,
    "start_time": "2021-11-08T16:01:09.138Z"
   },
   {
    "duration": 151,
    "start_time": "2021-11-08T16:11:30.300Z"
   },
   {
    "duration": 314,
    "start_time": "2021-11-08T16:11:32.375Z"
   },
   {
    "duration": 23788,
    "start_time": "2021-11-08T16:34:45.306Z"
   },
   {
    "duration": 436,
    "start_time": "2021-11-08T16:35:25.318Z"
   },
   {
    "duration": 6,
    "start_time": "2021-11-08T16:35:32.216Z"
   },
   {
    "duration": 9,
    "start_time": "2021-11-08T16:35:38.806Z"
   },
   {
    "duration": 16,
    "start_time": "2021-11-08T16:36:40.666Z"
   },
   {
    "duration": 12,
    "start_time": "2021-11-08T16:37:09.029Z"
   },
   {
    "duration": 18,
    "start_time": "2021-11-08T16:37:15.105Z"
   },
   {
    "duration": 5,
    "start_time": "2021-11-08T16:37:19.178Z"
   },
   {
    "duration": 684,
    "start_time": "2021-11-08T17:59:58.999Z"
   },
   {
    "duration": 482,
    "start_time": "2021-11-08T18:10:58.028Z"
   },
   {
    "duration": 468,
    "start_time": "2021-11-08T18:12:08.714Z"
   },
   {
    "duration": 6,
    "start_time": "2021-11-08T18:12:42.371Z"
   },
   {
    "duration": 725,
    "start_time": "2021-11-08T18:13:14.079Z"
   },
   {
    "duration": 7,
    "start_time": "2021-11-08T18:13:21.793Z"
   },
   {
    "duration": 496,
    "start_time": "2021-11-08T18:13:55.019Z"
   },
   {
    "duration": 542,
    "start_time": "2021-11-08T18:14:03.181Z"
   },
   {
    "duration": 430,
    "start_time": "2021-11-08T18:23:10.103Z"
   },
   {
    "duration": 482,
    "start_time": "2021-11-08T18:23:25.710Z"
   },
   {
    "duration": 459,
    "start_time": "2021-11-08T18:29:24.251Z"
   },
   {
    "duration": 461,
    "start_time": "2021-11-08T18:30:42.189Z"
   },
   {
    "duration": 569,
    "start_time": "2021-11-08T18:31:01.734Z"
   },
   {
    "duration": 7,
    "start_time": "2021-11-09T10:21:09.486Z"
   },
   {
    "duration": 7,
    "start_time": "2021-11-09T10:21:14.065Z"
   },
   {
    "duration": 5,
    "start_time": "2021-11-09T10:21:18.554Z"
   },
   {
    "duration": 343,
    "start_time": "2021-11-09T10:22:17.076Z"
   },
   {
    "duration": 741,
    "start_time": "2021-11-09T10:22:28.169Z"
   },
   {
    "duration": 9,
    "start_time": "2021-11-09T10:22:28.913Z"
   },
   {
    "duration": 23,
    "start_time": "2021-11-09T10:22:28.925Z"
   },
   {
    "duration": 14,
    "start_time": "2021-11-09T10:22:28.951Z"
   },
   {
    "duration": 262,
    "start_time": "2021-11-09T10:22:28.967Z"
   },
   {
    "duration": 1208,
    "start_time": "2021-11-09T10:22:29.232Z"
   },
   {
    "duration": 18383,
    "start_time": "2021-11-09T10:22:30.443Z"
   },
   {
    "duration": 47,
    "start_time": "2021-11-09T10:22:48.830Z"
   },
   {
    "duration": 7,
    "start_time": "2021-11-09T10:22:48.879Z"
   },
   {
    "duration": 36,
    "start_time": "2021-11-09T10:22:48.889Z"
   },
   {
    "duration": 6,
    "start_time": "2021-11-09T10:22:48.927Z"
   },
   {
    "duration": 6,
    "start_time": "2021-11-09T10:22:48.935Z"
   },
   {
    "duration": 15,
    "start_time": "2021-11-09T10:22:48.944Z"
   },
   {
    "duration": 75,
    "start_time": "2021-11-09T10:22:48.961Z"
   },
   {
    "duration": 7,
    "start_time": "2021-11-09T10:22:49.038Z"
   },
   {
    "duration": 137,
    "start_time": "2021-11-09T10:22:49.048Z"
   },
   {
    "duration": 4,
    "start_time": "2021-11-09T10:22:49.187Z"
   },
   {
    "duration": 8,
    "start_time": "2021-11-09T10:22:49.194Z"
   },
   {
    "duration": 7,
    "start_time": "2021-11-09T10:22:49.222Z"
   },
   {
    "duration": 2984,
    "start_time": "2021-11-09T10:22:49.231Z"
   },
   {
    "duration": 4,
    "start_time": "2021-11-09T10:22:52.222Z"
   },
   {
    "duration": 9,
    "start_time": "2021-11-09T10:22:52.228Z"
   },
   {
    "duration": 7,
    "start_time": "2021-11-09T10:22:52.242Z"
   },
   {
    "duration": 1793,
    "start_time": "2021-11-09T10:22:52.251Z"
   },
   {
    "duration": 5,
    "start_time": "2021-11-09T10:22:54.046Z"
   },
   {
    "duration": 30,
    "start_time": "2021-11-09T10:22:54.053Z"
   },
   {
    "duration": 20731,
    "start_time": "2021-11-09T10:22:54.085Z"
   },
   {
    "duration": 9,
    "start_time": "2021-11-09T10:23:14.819Z"
   },
   {
    "duration": 454,
    "start_time": "2021-11-09T10:23:14.830Z"
   },
   {
    "duration": -622,
    "start_time": "2021-11-09T10:23:15.909Z"
   },
   {
    "duration": -624,
    "start_time": "2021-11-09T10:23:15.913Z"
   },
   {
    "duration": -625,
    "start_time": "2021-11-09T10:23:15.916Z"
   },
   {
    "duration": -625,
    "start_time": "2021-11-09T10:23:15.919Z"
   },
   {
    "duration": 4,
    "start_time": "2021-11-09T10:24:07.967Z"
   },
   {
    "duration": 4,
    "start_time": "2021-11-09T10:24:10.379Z"
   },
   {
    "duration": 11,
    "start_time": "2021-11-09T10:24:12.195Z"
   },
   {
    "duration": 7,
    "start_time": "2021-11-09T10:24:14.166Z"
   },
   {
    "duration": 5,
    "start_time": "2021-11-09T10:24:14.943Z"
   },
   {
    "duration": 6,
    "start_time": "2021-11-09T10:24:16.879Z"
   },
   {
    "duration": 549,
    "start_time": "2021-11-09T10:24:23.468Z"
   },
   {
    "duration": 5,
    "start_time": "2021-11-09T10:27:33.308Z"
   },
   {
    "duration": 554,
    "start_time": "2021-11-09T10:27:35.700Z"
   },
   {
    "duration": 569,
    "start_time": "2021-11-09T10:28:20.114Z"
   },
   {
    "duration": 606,
    "start_time": "2021-11-09T10:28:55.698Z"
   },
   {
    "duration": 589,
    "start_time": "2021-11-09T10:30:04.427Z"
   },
   {
    "duration": 609,
    "start_time": "2021-11-09T10:31:16.867Z"
   },
   {
    "duration": 622,
    "start_time": "2021-11-09T10:33:19.564Z"
   },
   {
    "duration": 4,
    "start_time": "2021-11-09T10:41:05.839Z"
   },
   {
    "duration": 20199,
    "start_time": "2021-11-09T10:41:07.897Z"
   },
   {
    "duration": 847,
    "start_time": "2021-11-09T15:13:48.719Z"
   },
   {
    "duration": 12,
    "start_time": "2021-11-09T15:13:49.569Z"
   },
   {
    "duration": 32,
    "start_time": "2021-11-09T15:13:49.585Z"
   },
   {
    "duration": 10,
    "start_time": "2021-11-09T15:13:49.620Z"
   },
   {
    "duration": 267,
    "start_time": "2021-11-09T15:13:49.633Z"
   },
   {
    "duration": 1134,
    "start_time": "2021-11-09T15:13:49.903Z"
   },
   {
    "duration": 17781,
    "start_time": "2021-11-09T15:13:51.040Z"
   },
   {
    "duration": 47,
    "start_time": "2021-11-09T15:14:08.825Z"
   },
   {
    "duration": 27,
    "start_time": "2021-11-09T15:14:08.875Z"
   },
   {
    "duration": 11,
    "start_time": "2021-11-09T15:14:08.905Z"
   },
   {
    "duration": 9,
    "start_time": "2021-11-09T15:14:08.919Z"
   },
   {
    "duration": 11,
    "start_time": "2021-11-09T15:14:08.931Z"
   },
   {
    "duration": 12,
    "start_time": "2021-11-09T15:14:08.945Z"
   },
   {
    "duration": 70,
    "start_time": "2021-11-09T15:14:08.959Z"
   },
   {
    "duration": 7,
    "start_time": "2021-11-09T15:14:09.032Z"
   },
   {
    "duration": 140,
    "start_time": "2021-11-09T15:14:09.042Z"
   },
   {
    "duration": 15,
    "start_time": "2021-11-09T15:14:09.185Z"
   },
   {
    "duration": 5,
    "start_time": "2021-11-09T15:14:09.203Z"
   },
   {
    "duration": 10,
    "start_time": "2021-11-09T15:14:09.211Z"
   },
   {
    "duration": 3118,
    "start_time": "2021-11-09T15:14:09.223Z"
   },
   {
    "duration": 6,
    "start_time": "2021-11-09T15:14:12.344Z"
   },
   {
    "duration": 10,
    "start_time": "2021-11-09T15:14:12.353Z"
   },
   {
    "duration": 34,
    "start_time": "2021-11-09T15:14:12.370Z"
   },
   {
    "duration": 1719,
    "start_time": "2021-11-09T15:14:12.409Z"
   },
   {
    "duration": 6,
    "start_time": "2021-11-09T15:14:14.131Z"
   },
   {
    "duration": 31,
    "start_time": "2021-11-09T15:14:14.140Z"
   },
   {
    "duration": 21918,
    "start_time": "2021-11-09T15:14:14.173Z"
   },
   {
    "duration": 8,
    "start_time": "2021-11-09T15:14:36.093Z"
   },
   {
    "duration": 6,
    "start_time": "2021-11-09T15:14:36.104Z"
   },
   {
    "duration": 5,
    "start_time": "2021-11-09T15:14:36.113Z"
   },
   {
    "duration": 7,
    "start_time": "2021-11-09T15:14:36.121Z"
   },
   {
    "duration": 18,
    "start_time": "2021-11-09T15:14:36.130Z"
   },
   {
    "duration": 10,
    "start_time": "2021-11-09T15:14:36.151Z"
   },
   {
    "duration": 43,
    "start_time": "2021-11-09T15:14:36.164Z"
   },
   {
    "duration": 6,
    "start_time": "2021-11-09T15:14:36.210Z"
   },
   {
    "duration": 684,
    "start_time": "2021-11-09T15:14:36.219Z"
   },
   {
    "duration": 714,
    "start_time": "2021-11-09T15:14:36.905Z"
   },
   {
    "duration": 520,
    "start_time": "2021-11-09T15:14:37.621Z"
   },
   {
    "duration": 5,
    "start_time": "2021-11-09T15:14:38.143Z"
   },
   {
    "duration": 812,
    "start_time": "2021-11-09T15:14:38.151Z"
   },
   {
    "duration": 7,
    "start_time": "2021-11-09T15:14:38.966Z"
   },
   {
    "duration": 547,
    "start_time": "2021-11-09T15:14:38.975Z"
   },
   {
    "duration": 12,
    "start_time": "2021-11-09T15:14:39.526Z"
   },
   {
    "duration": 11,
    "start_time": "2021-11-09T15:14:39.541Z"
   },
   {
    "duration": 45,
    "start_time": "2021-11-09T15:14:39.556Z"
   },
   {
    "duration": 15,
    "start_time": "2021-11-09T15:14:39.604Z"
   },
   {
    "duration": 12,
    "start_time": "2021-11-09T15:14:39.622Z"
   },
   {
    "duration": 4,
    "start_time": "2021-11-09T15:17:41.608Z"
   },
   {
    "duration": 19618,
    "start_time": "2021-11-09T15:17:48.322Z"
   },
   {
    "duration": 10,
    "start_time": "2021-11-09T15:18:16.766Z"
   },
   {
    "duration": 4,
    "start_time": "2021-11-09T15:18:42.020Z"
   },
   {
    "duration": 3506,
    "start_time": "2021-11-09T15:18:44.761Z"
   },
   {
    "duration": 4,
    "start_time": "2021-11-09T15:19:26.144Z"
   },
   {
    "duration": 11187,
    "start_time": "2021-11-09T15:19:29.769Z"
   },
   {
    "duration": 8,
    "start_time": "2021-11-09T15:19:55.191Z"
   },
   {
    "duration": 643,
    "start_time": "2021-11-09T15:20:12.315Z"
   },
   {
    "duration": 5,
    "start_time": "2021-11-09T15:41:09.229Z"
   },
   {
    "duration": 20420,
    "start_time": "2021-11-09T15:41:11.458Z"
   },
   {
    "duration": 4,
    "start_time": "2021-11-09T15:42:01.768Z"
   },
   {
    "duration": 20075,
    "start_time": "2021-11-09T15:42:03.732Z"
   },
   {
    "duration": 778,
    "start_time": "2021-11-11T08:23:42.845Z"
   },
   {
    "duration": 12,
    "start_time": "2021-11-11T08:23:43.626Z"
   },
   {
    "duration": 24,
    "start_time": "2021-11-11T08:23:43.642Z"
   },
   {
    "duration": 12,
    "start_time": "2021-11-11T08:23:43.669Z"
   },
   {
    "duration": 275,
    "start_time": "2021-11-11T08:23:43.683Z"
   },
   {
    "duration": 1168,
    "start_time": "2021-11-11T08:23:43.961Z"
   },
   {
    "duration": 17873,
    "start_time": "2021-11-11T08:23:45.132Z"
   },
   {
    "duration": 57,
    "start_time": "2021-11-11T08:24:03.010Z"
   },
   {
    "duration": 8,
    "start_time": "2021-11-11T08:24:03.071Z"
   },
   {
    "duration": 10,
    "start_time": "2021-11-11T08:24:03.082Z"
   },
   {
    "duration": 38,
    "start_time": "2021-11-11T08:24:03.095Z"
   },
   {
    "duration": 8,
    "start_time": "2021-11-11T08:24:03.135Z"
   },
   {
    "duration": 13,
    "start_time": "2021-11-11T08:24:03.146Z"
   },
   {
    "duration": 68,
    "start_time": "2021-11-11T08:24:03.161Z"
   },
   {
    "duration": 8,
    "start_time": "2021-11-11T08:24:03.231Z"
   },
   {
    "duration": 156,
    "start_time": "2021-11-11T08:24:03.241Z"
   },
   {
    "duration": 5,
    "start_time": "2021-11-11T08:24:03.399Z"
   },
   {
    "duration": 23,
    "start_time": "2021-11-11T08:24:03.406Z"
   },
   {
    "duration": 20,
    "start_time": "2021-11-11T08:24:03.431Z"
   },
   {
    "duration": 3413,
    "start_time": "2021-11-11T08:24:03.453Z"
   },
   {
    "duration": 5,
    "start_time": "2021-11-11T08:24:06.868Z"
   },
   {
    "duration": 9,
    "start_time": "2021-11-11T08:24:06.875Z"
   },
   {
    "duration": 6,
    "start_time": "2021-11-11T08:24:06.889Z"
   },
   {
    "duration": 1623,
    "start_time": "2021-11-11T08:24:06.897Z"
   },
   {
    "duration": 10,
    "start_time": "2021-11-11T08:24:08.522Z"
   },
   {
    "duration": 26,
    "start_time": "2021-11-11T08:24:08.534Z"
   },
   {
    "duration": 4,
    "start_time": "2021-11-11T08:24:08.563Z"
   },
   {
    "duration": 18308,
    "start_time": "2021-11-11T08:24:08.570Z"
   },
   {
    "duration": 9,
    "start_time": "2021-11-11T08:24:26.880Z"
   },
   {
    "duration": 8,
    "start_time": "2021-11-11T08:24:26.891Z"
   },
   {
    "duration": 6,
    "start_time": "2021-11-11T08:24:26.901Z"
   },
   {
    "duration": 7,
    "start_time": "2021-11-11T08:24:26.909Z"
   },
   {
    "duration": 24,
    "start_time": "2021-11-11T08:24:26.918Z"
   },
   {
    "duration": 8,
    "start_time": "2021-11-11T08:24:26.944Z"
   },
   {
    "duration": 6,
    "start_time": "2021-11-11T08:24:26.955Z"
   },
   {
    "duration": 5,
    "start_time": "2021-11-11T08:24:26.963Z"
   },
   {
    "duration": 643,
    "start_time": "2021-11-11T08:24:26.971Z"
   },
   {
    "duration": 18,
    "start_time": "2021-11-11T08:24:27.617Z"
   },
   {
    "duration": 13,
    "start_time": "2021-11-11T08:24:27.638Z"
   },
   {
    "duration": 9,
    "start_time": "2021-11-11T08:24:27.654Z"
   },
   {
    "duration": 3,
    "start_time": "2021-11-11T08:25:34.626Z"
   },
   {
    "duration": 4,
    "start_time": "2021-11-11T08:25:35.352Z"
   },
   {
    "duration": 18845,
    "start_time": "2021-11-11T08:25:37.485Z"
   },
   {
    "duration": 12,
    "start_time": "2021-11-11T08:26:16.214Z"
   },
   {
    "duration": 5,
    "start_time": "2021-11-11T08:26:19.125Z"
   },
   {
    "duration": 9,
    "start_time": "2021-11-11T09:39:09.695Z"
   },
   {
    "duration": 10,
    "start_time": "2021-11-11T09:42:16.653Z"
   },
   {
    "duration": 9,
    "start_time": "2021-11-11T09:43:57.486Z"
   },
   {
    "duration": 11,
    "start_time": "2021-11-11T09:48:16.410Z"
   },
   {
    "duration": 8,
    "start_time": "2021-11-11T10:38:09.601Z"
   },
   {
    "duration": 7,
    "start_time": "2021-11-11T10:38:11.517Z"
   },
   {
    "duration": 10,
    "start_time": "2021-11-11T10:40:06.989Z"
   },
   {
    "duration": 12,
    "start_time": "2021-11-11T10:40:08.735Z"
   },
   {
    "duration": 783,
    "start_time": "2021-11-11T11:43:37.513Z"
   },
   {
    "duration": 9,
    "start_time": "2021-11-11T11:43:38.299Z"
   },
   {
    "duration": 26,
    "start_time": "2021-11-11T11:43:38.311Z"
   },
   {
    "duration": 15,
    "start_time": "2021-11-11T11:43:38.340Z"
   },
   {
    "duration": 274,
    "start_time": "2021-11-11T11:43:38.358Z"
   },
   {
    "duration": 1106,
    "start_time": "2021-11-11T11:43:38.634Z"
   },
   {
    "duration": 17041,
    "start_time": "2021-11-11T11:43:39.743Z"
   },
   {
    "duration": 68,
    "start_time": "2021-11-11T11:43:56.790Z"
   },
   {
    "duration": 7,
    "start_time": "2021-11-11T11:43:56.862Z"
   },
   {
    "duration": 17,
    "start_time": "2021-11-11T11:43:56.872Z"
   },
   {
    "duration": 9,
    "start_time": "2021-11-11T11:43:56.892Z"
   },
   {
    "duration": 29,
    "start_time": "2021-11-11T11:43:56.904Z"
   },
   {
    "duration": 24,
    "start_time": "2021-11-11T11:43:56.935Z"
   },
   {
    "duration": 58,
    "start_time": "2021-11-11T11:43:56.962Z"
   },
   {
    "duration": 8,
    "start_time": "2021-11-11T11:43:57.022Z"
   },
   {
    "duration": 141,
    "start_time": "2021-11-11T11:43:57.033Z"
   },
   {
    "duration": 6,
    "start_time": "2021-11-11T11:43:57.176Z"
   },
   {
    "duration": 10,
    "start_time": "2021-11-11T11:43:57.184Z"
   },
   {
    "duration": 23,
    "start_time": "2021-11-11T11:43:57.196Z"
   },
   {
    "duration": 2943,
    "start_time": "2021-11-11T11:43:57.222Z"
   },
   {
    "duration": 4,
    "start_time": "2021-11-11T11:44:00.168Z"
   },
   {
    "duration": 28,
    "start_time": "2021-11-11T11:44:00.174Z"
   },
   {
    "duration": 17,
    "start_time": "2021-11-11T11:44:00.207Z"
   },
   {
    "duration": 1588,
    "start_time": "2021-11-11T11:44:00.226Z"
   },
   {
    "duration": 5,
    "start_time": "2021-11-11T11:44:01.817Z"
   },
   {
    "duration": 37,
    "start_time": "2021-11-11T11:44:01.829Z"
   },
   {
    "duration": 4,
    "start_time": "2021-11-11T11:44:01.869Z"
   },
   {
    "duration": 18586,
    "start_time": "2021-11-11T11:44:01.875Z"
   },
   {
    "duration": 9,
    "start_time": "2021-11-11T11:44:20.463Z"
   },
   {
    "duration": 9,
    "start_time": "2021-11-11T11:44:20.474Z"
   },
   {
    "duration": 25,
    "start_time": "2021-11-11T11:44:20.486Z"
   },
   {
    "duration": 16,
    "start_time": "2021-11-11T11:44:20.514Z"
   },
   {
    "duration": 22,
    "start_time": "2021-11-11T11:44:20.532Z"
   },
   {
    "duration": 10,
    "start_time": "2021-11-11T11:44:20.556Z"
   },
   {
    "duration": 24,
    "start_time": "2021-11-11T11:44:20.568Z"
   },
   {
    "duration": 23,
    "start_time": "2021-11-11T11:44:20.594Z"
   },
   {
    "duration": 29,
    "start_time": "2021-11-11T11:44:20.619Z"
   },
   {
    "duration": 28,
    "start_time": "2021-11-11T11:44:20.650Z"
   },
   {
    "duration": 10,
    "start_time": "2021-11-11T11:44:20.680Z"
   },
   {
    "duration": 636,
    "start_time": "2021-11-11T11:44:20.693Z"
   },
   {
    "duration": 158,
    "start_time": "2021-11-11T18:26:13.405Z"
   },
   {
    "duration": 1650,
    "start_time": "2021-11-11T18:33:11.732Z"
   },
   {
    "duration": 20,
    "start_time": "2021-11-11T18:33:13.385Z"
   },
   {
    "duration": 9,
    "start_time": "2021-11-11T18:33:13.408Z"
   },
   {
    "duration": 19,
    "start_time": "2021-11-11T18:33:13.420Z"
   },
   {
    "duration": 10,
    "start_time": "2021-11-11T18:33:13.441Z"
   },
   {
    "duration": 169,
    "start_time": "2021-11-11T18:33:13.454Z"
   },
   {
    "duration": 544,
    "start_time": "2021-11-11T18:33:13.626Z"
   },
   {
    "duration": 18682,
    "start_time": "2021-11-11T18:33:14.172Z"
   },
   {
    "duration": 6,
    "start_time": "2021-11-11T18:33:32.857Z"
   },
   {
    "duration": 39,
    "start_time": "2021-11-11T18:33:32.866Z"
   },
   {
    "duration": 8,
    "start_time": "2021-11-11T18:33:32.908Z"
   },
   {
    "duration": 14,
    "start_time": "2021-11-11T18:33:32.919Z"
   },
   {
    "duration": 6,
    "start_time": "2021-11-11T18:33:32.936Z"
   },
   {
    "duration": 7,
    "start_time": "2021-11-11T18:33:32.945Z"
   },
   {
    "duration": 52,
    "start_time": "2021-11-11T18:33:32.955Z"
   },
   {
    "duration": 143,
    "start_time": "2021-11-11T18:33:33.009Z"
   },
   {
    "duration": 5,
    "start_time": "2021-11-11T18:33:33.154Z"
   },
   {
    "duration": 5,
    "start_time": "2021-11-11T18:33:33.164Z"
   },
   {
    "duration": 31,
    "start_time": "2021-11-11T18:33:33.173Z"
   },
   {
    "duration": 3131,
    "start_time": "2021-11-11T18:33:33.207Z"
   },
   {
    "duration": 5,
    "start_time": "2021-11-11T18:33:36.341Z"
   },
   {
    "duration": 8,
    "start_time": "2021-11-11T18:33:36.348Z"
   },
   {
    "duration": 7,
    "start_time": "2021-11-11T18:33:36.358Z"
   },
   {
    "duration": 1734,
    "start_time": "2021-11-11T18:33:36.367Z"
   },
   {
    "duration": 5,
    "start_time": "2021-11-11T18:33:38.104Z"
   },
   {
    "duration": 5,
    "start_time": "2021-11-11T18:33:38.111Z"
   },
   {
    "duration": 19435,
    "start_time": "2021-11-11T18:33:38.119Z"
   },
   {
    "duration": 11,
    "start_time": "2021-11-11T18:33:57.557Z"
   },
   {
    "duration": 9,
    "start_time": "2021-11-11T18:33:57.571Z"
   },
   {
    "duration": 8,
    "start_time": "2021-11-11T18:33:57.583Z"
   },
   {
    "duration": 16,
    "start_time": "2021-11-11T18:33:57.593Z"
   },
   {
    "duration": 10,
    "start_time": "2021-11-11T18:33:57.611Z"
   },
   {
    "duration": 7,
    "start_time": "2021-11-11T18:33:57.623Z"
   },
   {
    "duration": 8,
    "start_time": "2021-11-11T18:33:57.632Z"
   },
   {
    "duration": 64,
    "start_time": "2021-11-11T18:33:57.642Z"
   },
   {
    "duration": 9,
    "start_time": "2021-11-11T18:33:57.709Z"
   },
   {
    "duration": 4,
    "start_time": "2021-11-11T18:33:57.721Z"
   },
   {
    "duration": 683,
    "start_time": "2021-11-11T18:33:57.728Z"
   },
   {
    "duration": 11,
    "start_time": "2021-11-11T19:16:25.007Z"
   },
   {
    "duration": 160,
    "start_time": "2021-11-11T19:17:32.524Z"
   },
   {
    "duration": 6,
    "start_time": "2021-11-11T19:18:10.050Z"
   },
   {
    "duration": 28,
    "start_time": "2021-11-11T19:18:10.059Z"
   },
   {
    "duration": 9,
    "start_time": "2021-11-11T19:18:10.090Z"
   },
   {
    "duration": 17,
    "start_time": "2021-11-11T19:18:10.102Z"
   },
   {
    "duration": 11,
    "start_time": "2021-11-11T19:18:10.122Z"
   },
   {
    "duration": 181,
    "start_time": "2021-11-11T19:18:10.136Z"
   },
   {
    "duration": 550,
    "start_time": "2021-11-11T19:18:10.320Z"
   },
   {
    "duration": 17444,
    "start_time": "2021-11-11T19:18:10.874Z"
   },
   {
    "duration": 5,
    "start_time": "2021-11-11T19:18:28.321Z"
   },
   {
    "duration": 12,
    "start_time": "2021-11-11T19:18:28.328Z"
   },
   {
    "duration": 157,
    "start_time": "2021-11-11T19:18:35.207Z"
   },
   {
    "duration": 541,
    "start_time": "2021-11-11T19:20:20.049Z"
   },
   {
    "duration": 6,
    "start_time": "2021-11-11T19:23:21.340Z"
   },
   {
    "duration": 4,
    "start_time": "2021-11-11T19:26:46.700Z"
   },
   {
    "duration": 423,
    "start_time": "2021-11-11T19:26:59.949Z"
   },
   {
    "duration": 4,
    "start_time": "2021-11-11T19:27:10.861Z"
   },
   {
    "duration": 11,
    "start_time": "2021-11-11T19:27:12.924Z"
   },
   {
    "duration": 162,
    "start_time": "2021-11-11T19:27:17.174Z"
   },
   {
    "duration": 23,
    "start_time": "2021-11-11T19:27:39.911Z"
   },
   {
    "duration": 168,
    "start_time": "2021-11-11T19:29:34.578Z"
   },
   {
    "duration": 6,
    "start_time": "2021-11-11T19:34:31.599Z"
   },
   {
    "duration": 162,
    "start_time": "2021-11-11T19:34:56.688Z"
   },
   {
    "duration": 10,
    "start_time": "2021-11-11T19:35:12.964Z"
   },
   {
    "duration": 162,
    "start_time": "2021-11-11T19:35:14.676Z"
   },
   {
    "duration": 9,
    "start_time": "2021-11-11T19:35:32.899Z"
   },
   {
    "duration": 8,
    "start_time": "2021-11-11T19:35:40.825Z"
   },
   {
    "duration": 9,
    "start_time": "2021-11-11T19:36:08.589Z"
   },
   {
    "duration": 8,
    "start_time": "2021-11-11T19:36:13.598Z"
   },
   {
    "duration": 8,
    "start_time": "2021-11-11T19:40:25.401Z"
   },
   {
    "duration": 1403,
    "start_time": "2021-11-11T19:44:49.212Z"
   },
   {
    "duration": 1407,
    "start_time": "2021-11-11T19:45:50.465Z"
   },
   {
    "duration": 1691,
    "start_time": "2021-11-11T19:46:05.884Z"
   },
   {
    "duration": 21,
    "start_time": "2021-11-11T19:46:07.577Z"
   },
   {
    "duration": 12,
    "start_time": "2021-11-11T19:46:07.604Z"
   },
   {
    "duration": 18,
    "start_time": "2021-11-11T19:46:07.618Z"
   },
   {
    "duration": 10,
    "start_time": "2021-11-11T19:46:07.638Z"
   },
   {
    "duration": 169,
    "start_time": "2021-11-11T19:46:07.650Z"
   },
   {
    "duration": 551,
    "start_time": "2021-11-11T19:46:07.822Z"
   },
   {
    "duration": 18438,
    "start_time": "2021-11-11T19:46:08.377Z"
   },
   {
    "duration": 5,
    "start_time": "2021-11-11T19:46:26.818Z"
   },
   {
    "duration": 22,
    "start_time": "2021-11-11T19:46:26.826Z"
   },
   {
    "duration": 1419,
    "start_time": "2021-11-11T19:46:26.850Z"
   },
   {
    "duration": 7,
    "start_time": "2021-11-11T19:46:28.272Z"
   },
   {
    "duration": 16,
    "start_time": "2021-11-11T19:46:28.281Z"
   },
   {
    "duration": 18,
    "start_time": "2021-11-11T19:46:28.299Z"
   },
   {
    "duration": 13,
    "start_time": "2021-11-11T19:46:28.320Z"
   },
   {
    "duration": 18,
    "start_time": "2021-11-11T19:46:28.336Z"
   },
   {
    "duration": 12,
    "start_time": "2021-11-11T19:46:28.356Z"
   },
   {
    "duration": 14,
    "start_time": "2021-11-11T19:46:28.371Z"
   },
   {
    "duration": 18,
    "start_time": "2021-11-11T19:46:28.388Z"
   },
   {
    "duration": 9,
    "start_time": "2021-11-11T19:46:28.408Z"
   },
   {
    "duration": 145,
    "start_time": "2021-11-11T19:46:28.420Z"
   },
   {
    "duration": 6,
    "start_time": "2021-11-11T19:46:28.568Z"
   },
   {
    "duration": 7,
    "start_time": "2021-11-11T19:46:28.599Z"
   },
   {
    "duration": 8,
    "start_time": "2021-11-11T19:46:28.610Z"
   },
   {
    "duration": 3024,
    "start_time": "2021-11-11T19:46:28.621Z"
   },
   {
    "duration": 5,
    "start_time": "2021-11-11T19:46:31.649Z"
   },
   {
    "duration": 13,
    "start_time": "2021-11-11T19:46:31.657Z"
   },
   {
    "duration": 32,
    "start_time": "2021-11-11T19:46:31.673Z"
   },
   {
    "duration": 1738,
    "start_time": "2021-11-11T19:46:31.708Z"
   },
   {
    "duration": 5,
    "start_time": "2021-11-11T19:46:33.448Z"
   },
   {
    "duration": 5,
    "start_time": "2021-11-11T19:46:33.456Z"
   },
   {
    "duration": 20008,
    "start_time": "2021-11-11T19:46:33.464Z"
   },
   {
    "duration": 10,
    "start_time": "2021-11-11T19:46:53.475Z"
   },
   {
    "duration": 6,
    "start_time": "2021-11-11T19:46:53.488Z"
   },
   {
    "duration": 10,
    "start_time": "2021-11-11T19:46:53.496Z"
   },
   {
    "duration": 10,
    "start_time": "2021-11-11T19:46:53.509Z"
   },
   {
    "duration": 10,
    "start_time": "2021-11-11T19:46:53.521Z"
   },
   {
    "duration": 7,
    "start_time": "2021-11-11T19:46:53.534Z"
   },
   {
    "duration": 7,
    "start_time": "2021-11-11T19:46:53.543Z"
   },
   {
    "duration": 53,
    "start_time": "2021-11-11T19:46:53.553Z"
   },
   {
    "duration": 8,
    "start_time": "2021-11-11T19:46:53.609Z"
   },
   {
    "duration": 6,
    "start_time": "2021-11-11T19:46:53.620Z"
   },
   {
    "duration": 831,
    "start_time": "2021-11-11T19:46:53.628Z"
   },
   {
    "duration": 1118,
    "start_time": "2021-11-11T19:47:48.922Z"
   },
   {
    "duration": 9,
    "start_time": "2021-11-11T20:05:23.181Z"
   },
   {
    "duration": 9,
    "start_time": "2021-11-11T20:07:36.201Z"
   },
   {
    "duration": 8,
    "start_time": "2021-11-11T20:07:54.280Z"
   },
   {
    "duration": 9,
    "start_time": "2021-11-11T20:07:59.852Z"
   },
   {
    "duration": 10,
    "start_time": "2021-11-11T20:08:02.239Z"
   },
   {
    "duration": 430,
    "start_time": "2021-11-11T20:08:24.314Z"
   },
   {
    "duration": 8,
    "start_time": "2021-11-11T20:08:44.114Z"
   },
   {
    "duration": 6,
    "start_time": "2021-11-11T20:08:59.165Z"
   },
   {
    "duration": 6,
    "start_time": "2021-11-11T20:09:00.557Z"
   },
   {
    "duration": 6,
    "start_time": "2021-11-11T20:09:01.225Z"
   },
   {
    "duration": 1129,
    "start_time": "2021-11-12T10:36:35.616Z"
   },
   {
    "duration": 19,
    "start_time": "2021-11-12T10:36:36.747Z"
   },
   {
    "duration": 19,
    "start_time": "2021-11-12T10:36:36.768Z"
   },
   {
    "duration": 29,
    "start_time": "2021-11-12T10:36:36.789Z"
   },
   {
    "duration": 26,
    "start_time": "2021-11-12T10:36:36.820Z"
   },
   {
    "duration": 85,
    "start_time": "2021-11-12T10:36:36.848Z"
   },
   {
    "duration": 367,
    "start_time": "2021-11-12T10:36:36.935Z"
   },
   {
    "duration": 10644,
    "start_time": "2021-11-12T10:36:37.305Z"
   },
   {
    "duration": 4,
    "start_time": "2021-11-12T10:36:47.952Z"
   },
   {
    "duration": 15,
    "start_time": "2021-11-12T10:36:47.957Z"
   },
   {
    "duration": 18,
    "start_time": "2021-11-12T10:36:47.973Z"
   },
   {
    "duration": 7,
    "start_time": "2021-11-12T10:36:47.993Z"
   },
   {
    "duration": 14,
    "start_time": "2021-11-12T10:36:48.002Z"
   },
   {
    "duration": 18,
    "start_time": "2021-11-12T10:36:48.017Z"
   },
   {
    "duration": 23,
    "start_time": "2021-11-12T10:36:48.037Z"
   },
   {
    "duration": 86,
    "start_time": "2021-11-12T10:36:48.061Z"
   },
   {
    "duration": 3,
    "start_time": "2021-11-12T10:36:48.149Z"
   },
   {
    "duration": 17,
    "start_time": "2021-11-12T10:36:48.153Z"
   },
   {
    "duration": 8,
    "start_time": "2021-11-12T10:36:48.171Z"
   },
   {
    "duration": 1871,
    "start_time": "2021-11-12T10:36:48.180Z"
   },
   {
    "duration": 4,
    "start_time": "2021-11-12T10:36:50.054Z"
   },
   {
    "duration": 9,
    "start_time": "2021-11-12T10:36:50.059Z"
   },
   {
    "duration": 19,
    "start_time": "2021-11-12T10:36:50.072Z"
   },
   {
    "duration": 1036,
    "start_time": "2021-11-12T10:36:50.094Z"
   },
   {
    "duration": 4,
    "start_time": "2021-11-12T10:36:51.132Z"
   },
   {
    "duration": 12,
    "start_time": "2021-11-12T10:36:51.138Z"
   },
   {
    "duration": 13134,
    "start_time": "2021-11-12T10:36:51.152Z"
   },
   {
    "duration": 11,
    "start_time": "2021-11-12T10:37:04.288Z"
   },
   {
    "duration": 14,
    "start_time": "2021-11-12T10:37:04.300Z"
   },
   {
    "duration": 20,
    "start_time": "2021-11-12T10:37:04.316Z"
   },
   {
    "duration": 17,
    "start_time": "2021-11-12T10:37:04.337Z"
   },
   {
    "duration": 9,
    "start_time": "2021-11-12T10:37:04.356Z"
   },
   {
    "duration": 19,
    "start_time": "2021-11-12T10:37:04.366Z"
   },
   {
    "duration": 10,
    "start_time": "2021-11-12T10:37:04.387Z"
   },
   {
    "duration": 8,
    "start_time": "2021-11-12T10:37:04.398Z"
   },
   {
    "duration": 6,
    "start_time": "2021-11-12T10:37:04.408Z"
   },
   {
    "duration": 5,
    "start_time": "2021-11-12T10:37:04.415Z"
   },
   {
    "duration": 435,
    "start_time": "2021-11-12T10:37:04.421Z"
   },
   {
    "duration": 371,
    "start_time": "2021-11-12T10:39:15.380Z"
   },
   {
    "duration": 3,
    "start_time": "2021-11-12T10:39:21.707Z"
   },
   {
    "duration": 388,
    "start_time": "2021-11-12T10:39:23.778Z"
   },
   {
    "duration": 5,
    "start_time": "2021-11-12T10:50:16.254Z"
   },
   {
    "duration": 7,
    "start_time": "2021-11-12T10:50:26.715Z"
   },
   {
    "duration": 2,
    "start_time": "2021-11-12T10:53:30.233Z"
   },
   {
    "duration": 11,
    "start_time": "2021-11-12T11:00:51.796Z"
   },
   {
    "duration": 11,
    "start_time": "2021-11-12T11:02:00.169Z"
   },
   {
    "duration": 7,
    "start_time": "2021-11-12T11:02:20.376Z"
   },
   {
    "duration": 8,
    "start_time": "2021-11-12T11:02:35.948Z"
   },
   {
    "duration": 7,
    "start_time": "2021-11-12T11:02:38.949Z"
   },
   {
    "duration": 7,
    "start_time": "2021-11-12T11:03:43.828Z"
   },
   {
    "duration": 8,
    "start_time": "2021-11-12T11:03:50.429Z"
   },
   {
    "duration": 7,
    "start_time": "2021-11-12T11:06:01.230Z"
   },
   {
    "duration": 15,
    "start_time": "2021-11-12T11:07:27.213Z"
   },
   {
    "duration": 286,
    "start_time": "2021-11-12T11:07:42.466Z"
   },
   {
    "duration": 8,
    "start_time": "2021-11-12T11:07:56.169Z"
   },
   {
    "duration": 8,
    "start_time": "2021-11-12T11:08:12.693Z"
   },
   {
    "duration": 7,
    "start_time": "2021-11-12T11:08:18.056Z"
   },
   {
    "duration": 192,
    "start_time": "2021-11-12T11:08:35.397Z"
   },
   {
    "duration": 8,
    "start_time": "2021-11-12T11:08:43.442Z"
   },
   {
    "duration": 8,
    "start_time": "2021-11-12T11:08:54.030Z"
   },
   {
    "duration": 4,
    "start_time": "2021-11-12T11:08:56.385Z"
   },
   {
    "duration": 7,
    "start_time": "2021-11-12T11:08:58.144Z"
   },
   {
    "duration": 7,
    "start_time": "2021-11-12T11:09:01.956Z"
   },
   {
    "duration": 7,
    "start_time": "2021-11-12T11:09:22.955Z"
   },
   {
    "duration": 6,
    "start_time": "2021-11-12T11:09:24.756Z"
   },
   {
    "duration": 1050,
    "start_time": "2021-11-12T11:09:38.948Z"
   },
   {
    "duration": 19,
    "start_time": "2021-11-12T11:09:40.000Z"
   },
   {
    "duration": 10,
    "start_time": "2021-11-12T11:09:40.022Z"
   },
   {
    "duration": 15,
    "start_time": "2021-11-12T11:09:40.034Z"
   },
   {
    "duration": 9,
    "start_time": "2021-11-12T11:09:40.051Z"
   },
   {
    "duration": 89,
    "start_time": "2021-11-12T11:09:40.062Z"
   },
   {
    "duration": 372,
    "start_time": "2021-11-12T11:09:40.152Z"
   },
   {
    "duration": 10634,
    "start_time": "2021-11-12T11:09:40.527Z"
   },
   {
    "duration": 4,
    "start_time": "2021-11-12T11:09:51.163Z"
   },
   {
    "duration": 25,
    "start_time": "2021-11-12T11:09:51.169Z"
   },
   {
    "duration": 7,
    "start_time": "2021-11-12T11:09:51.196Z"
   },
   {
    "duration": 14,
    "start_time": "2021-11-12T11:09:51.204Z"
   },
   {
    "duration": 14,
    "start_time": "2021-11-12T11:09:51.220Z"
   },
   {
    "duration": 17,
    "start_time": "2021-11-12T11:09:51.235Z"
   },
   {
    "duration": 17,
    "start_time": "2021-11-12T11:09:51.253Z"
   },
   {
    "duration": 9,
    "start_time": "2021-11-12T11:09:51.271Z"
   },
   {
    "duration": 11,
    "start_time": "2021-11-12T11:09:51.282Z"
   },
   {
    "duration": 90,
    "start_time": "2021-11-12T11:09:51.295Z"
   },
   {
    "duration": 4,
    "start_time": "2021-11-12T11:09:51.387Z"
   },
   {
    "duration": 6,
    "start_time": "2021-11-12T11:09:51.393Z"
   },
   {
    "duration": 12,
    "start_time": "2021-11-12T11:09:51.400Z"
   },
   {
    "duration": 6,
    "start_time": "2021-11-12T11:09:51.414Z"
   },
   {
    "duration": 1878,
    "start_time": "2021-11-12T11:09:51.423Z"
   },
   {
    "duration": 4,
    "start_time": "2021-11-12T11:09:53.303Z"
   },
   {
    "duration": 8,
    "start_time": "2021-11-12T11:09:53.309Z"
   },
   {
    "duration": 9,
    "start_time": "2021-11-12T11:09:53.319Z"
   },
   {
    "duration": 1025,
    "start_time": "2021-11-12T11:09:53.329Z"
   },
   {
    "duration": 4,
    "start_time": "2021-11-12T11:09:54.355Z"
   },
   {
    "duration": 8,
    "start_time": "2021-11-12T11:09:54.360Z"
   },
   {
    "duration": 13019,
    "start_time": "2021-11-12T11:09:54.369Z"
   },
   {
    "duration": 7,
    "start_time": "2021-11-12T11:10:07.389Z"
   },
   {
    "duration": 6,
    "start_time": "2021-11-12T11:10:07.398Z"
   },
   {
    "duration": 6,
    "start_time": "2021-11-12T11:10:07.405Z"
   },
   {
    "duration": 8,
    "start_time": "2021-11-12T11:10:07.413Z"
   },
   {
    "duration": 8,
    "start_time": "2021-11-12T11:10:07.423Z"
   },
   {
    "duration": 5,
    "start_time": "2021-11-12T11:10:07.433Z"
   },
   {
    "duration": 54,
    "start_time": "2021-11-12T11:10:07.440Z"
   },
   {
    "duration": 10,
    "start_time": "2021-11-12T11:10:07.497Z"
   },
   {
    "duration": 7,
    "start_time": "2021-11-12T11:10:07.509Z"
   },
   {
    "duration": 4,
    "start_time": "2021-11-12T11:10:07.517Z"
   },
   {
    "duration": 406,
    "start_time": "2021-11-12T11:10:07.523Z"
   },
   {
    "duration": 6,
    "start_time": "2021-11-12T12:11:12.704Z"
   },
   {
    "duration": 5,
    "start_time": "2021-11-12T12:14:54.263Z"
   },
   {
    "duration": 4,
    "start_time": "2021-11-12T12:14:54.841Z"
   },
   {
    "duration": 1573,
    "start_time": "2021-11-13T08:16:46.641Z"
   },
   {
    "duration": 21,
    "start_time": "2021-11-13T08:16:48.217Z"
   },
   {
    "duration": 9,
    "start_time": "2021-11-13T08:16:48.241Z"
   },
   {
    "duration": 21,
    "start_time": "2021-11-13T08:16:48.253Z"
   },
   {
    "duration": 10,
    "start_time": "2021-11-13T08:16:48.276Z"
   },
   {
    "duration": 150,
    "start_time": "2021-11-13T08:16:48.289Z"
   },
   {
    "duration": 540,
    "start_time": "2021-11-13T08:16:48.442Z"
   },
   {
    "duration": 17773,
    "start_time": "2021-11-13T08:16:48.987Z"
   },
   {
    "duration": 7,
    "start_time": "2021-11-13T08:17:06.764Z"
   },
   {
    "duration": 17,
    "start_time": "2021-11-13T08:17:06.774Z"
   },
   {
    "duration": 10,
    "start_time": "2021-11-13T08:17:06.794Z"
   },
   {
    "duration": 13,
    "start_time": "2021-11-13T08:17:06.806Z"
   },
   {
    "duration": 39,
    "start_time": "2021-11-13T08:17:06.822Z"
   },
   {
    "duration": 7,
    "start_time": "2021-11-13T08:17:06.864Z"
   },
   {
    "duration": 11,
    "start_time": "2021-11-13T08:17:06.874Z"
   },
   {
    "duration": 7,
    "start_time": "2021-11-13T08:17:06.888Z"
   },
   {
    "duration": 9,
    "start_time": "2021-11-13T08:17:06.897Z"
   },
   {
    "duration": 172,
    "start_time": "2021-11-13T08:17:06.909Z"
   },
   {
    "duration": 6,
    "start_time": "2021-11-13T08:17:07.084Z"
   },
   {
    "duration": 8,
    "start_time": "2021-11-13T08:17:07.093Z"
   },
   {
    "duration": 14,
    "start_time": "2021-11-13T08:17:07.104Z"
   },
   {
    "duration": 7,
    "start_time": "2021-11-13T08:17:07.161Z"
   },
   {
    "duration": 2809,
    "start_time": "2021-11-13T08:17:07.175Z"
   },
   {
    "duration": 6,
    "start_time": "2021-11-13T08:17:09.987Z"
   },
   {
    "duration": 6,
    "start_time": "2021-11-13T08:17:09.996Z"
   },
   {
    "duration": 9,
    "start_time": "2021-11-13T08:17:10.005Z"
   },
   {
    "duration": 1634,
    "start_time": "2021-11-13T08:17:10.017Z"
   },
   {
    "duration": 10,
    "start_time": "2021-11-13T08:17:11.654Z"
   },
   {
    "duration": 18,
    "start_time": "2021-11-13T08:17:11.666Z"
   },
   {
    "duration": 19807,
    "start_time": "2021-11-13T08:17:11.687Z"
   },
   {
    "duration": 17,
    "start_time": "2021-11-13T08:17:31.497Z"
   },
   {
    "duration": 42,
    "start_time": "2021-11-13T08:17:31.516Z"
   },
   {
    "duration": 39,
    "start_time": "2021-11-13T08:17:31.561Z"
   },
   {
    "duration": 10,
    "start_time": "2021-11-13T08:17:31.602Z"
   },
   {
    "duration": 17,
    "start_time": "2021-11-13T08:17:31.614Z"
   },
   {
    "duration": 6,
    "start_time": "2021-11-13T08:17:31.634Z"
   },
   {
    "duration": 7,
    "start_time": "2021-11-13T08:17:31.642Z"
   },
   {
    "duration": 11,
    "start_time": "2021-11-13T08:17:31.659Z"
   },
   {
    "duration": 9,
    "start_time": "2021-11-13T08:17:31.673Z"
   },
   {
    "duration": 5,
    "start_time": "2021-11-13T08:17:31.684Z"
   },
   {
    "duration": 655,
    "start_time": "2021-11-13T08:17:31.691Z"
   },
   {
    "duration": 135,
    "start_time": "2021-11-13T08:32:12.965Z"
   },
   {
    "duration": 8,
    "start_time": "2021-11-13T08:32:15.455Z"
   },
   {
    "duration": 5,
    "start_time": "2021-11-13T08:32:25.304Z"
   },
   {
    "duration": 6,
    "start_time": "2021-11-13T08:34:52.669Z"
   },
   {
    "duration": 6,
    "start_time": "2021-11-13T08:44:37.804Z"
   },
   {
    "duration": 1561,
    "start_time": "2021-11-14T16:28:26.019Z"
   },
   {
    "duration": 19,
    "start_time": "2021-11-14T16:28:27.583Z"
   },
   {
    "duration": 19,
    "start_time": "2021-11-14T16:28:27.605Z"
   },
   {
    "duration": 24,
    "start_time": "2021-11-14T16:28:27.627Z"
   },
   {
    "duration": 15,
    "start_time": "2021-11-14T16:28:27.654Z"
   },
   {
    "duration": 129,
    "start_time": "2021-11-14T16:28:27.671Z"
   },
   {
    "duration": 562,
    "start_time": "2021-11-14T16:28:27.802Z"
   },
   {
    "duration": 20529,
    "start_time": "2021-11-14T16:28:28.368Z"
   },
   {
    "duration": 5,
    "start_time": "2021-11-14T16:28:48.900Z"
   },
   {
    "duration": 30,
    "start_time": "2021-11-14T16:28:48.907Z"
   },
   {
    "duration": 9,
    "start_time": "2021-11-14T16:28:48.940Z"
   },
   {
    "duration": 11,
    "start_time": "2021-11-14T16:28:48.951Z"
   },
   {
    "duration": 11,
    "start_time": "2021-11-14T16:28:48.964Z"
   },
   {
    "duration": 14,
    "start_time": "2021-11-14T16:28:48.978Z"
   },
   {
    "duration": 41,
    "start_time": "2021-11-14T16:28:48.994Z"
   },
   {
    "duration": 7,
    "start_time": "2021-11-14T16:28:49.038Z"
   },
   {
    "duration": 9,
    "start_time": "2021-11-14T16:28:49.048Z"
   },
   {
    "duration": 151,
    "start_time": "2021-11-14T16:28:49.060Z"
   },
   {
    "duration": 16,
    "start_time": "2021-11-14T16:28:49.213Z"
   },
   {
    "duration": 7,
    "start_time": "2021-11-14T16:28:49.231Z"
   },
   {
    "duration": 33,
    "start_time": "2021-11-14T16:28:49.240Z"
   },
   {
    "duration": 17,
    "start_time": "2021-11-14T16:28:49.275Z"
   },
   {
    "duration": 2947,
    "start_time": "2021-11-14T16:28:49.297Z"
   },
   {
    "duration": 5,
    "start_time": "2021-11-14T16:28:52.246Z"
   },
   {
    "duration": 16,
    "start_time": "2021-11-14T16:28:52.253Z"
   },
   {
    "duration": 7,
    "start_time": "2021-11-14T16:28:52.271Z"
   },
   {
    "duration": 1705,
    "start_time": "2021-11-14T16:28:52.280Z"
   },
   {
    "duration": 5,
    "start_time": "2021-11-14T16:28:53.988Z"
   },
   {
    "duration": 5,
    "start_time": "2021-11-14T16:28:53.996Z"
   },
   {
    "duration": 20066,
    "start_time": "2021-11-14T16:28:54.004Z"
   },
   {
    "duration": 21,
    "start_time": "2021-11-14T16:29:14.073Z"
   },
   {
    "duration": 19,
    "start_time": "2021-11-14T16:29:14.096Z"
   },
   {
    "duration": 25,
    "start_time": "2021-11-14T16:29:14.117Z"
   },
   {
    "duration": 33,
    "start_time": "2021-11-14T16:29:14.144Z"
   },
   {
    "duration": 27,
    "start_time": "2021-11-14T16:29:14.179Z"
   },
   {
    "duration": 47,
    "start_time": "2021-11-14T16:29:14.209Z"
   },
   {
    "duration": 39,
    "start_time": "2021-11-14T16:29:14.259Z"
   },
   {
    "duration": 52,
    "start_time": "2021-11-14T16:29:14.301Z"
   },
   {
    "duration": 17,
    "start_time": "2021-11-14T16:29:14.356Z"
   },
   {
    "duration": 5,
    "start_time": "2021-11-14T16:29:14.376Z"
   },
   {
    "duration": 856,
    "start_time": "2021-11-14T16:29:14.383Z"
   },
   {
    "duration": 585,
    "start_time": "2021-11-14T16:49:19.622Z"
   },
   {
    "duration": 6,
    "start_time": "2021-11-14T16:49:29.790Z"
   },
   {
    "duration": 54,
    "start_time": "2021-11-14T16:49:29.798Z"
   },
   {
    "duration": 18,
    "start_time": "2021-11-14T16:49:29.856Z"
   },
   {
    "duration": 37,
    "start_time": "2021-11-14T16:49:29.877Z"
   },
   {
    "duration": 17,
    "start_time": "2021-11-14T16:49:29.917Z"
   },
   {
    "duration": 184,
    "start_time": "2021-11-14T16:49:29.937Z"
   },
   {
    "duration": 542,
    "start_time": "2021-11-14T16:49:30.123Z"
   },
   {
    "duration": 19911,
    "start_time": "2021-11-14T16:49:30.671Z"
   },
   {
    "duration": 5,
    "start_time": "2021-11-14T16:49:50.585Z"
   },
   {
    "duration": 36,
    "start_time": "2021-11-14T16:49:50.593Z"
   },
   {
    "duration": 8,
    "start_time": "2021-11-14T16:49:50.631Z"
   },
   {
    "duration": 10,
    "start_time": "2021-11-14T16:49:50.642Z"
   },
   {
    "duration": 11,
    "start_time": "2021-11-14T16:49:50.656Z"
   },
   {
    "duration": 12,
    "start_time": "2021-11-14T16:49:50.670Z"
   },
   {
    "duration": 42,
    "start_time": "2021-11-14T16:49:50.687Z"
   },
   {
    "duration": 7,
    "start_time": "2021-11-14T16:49:50.732Z"
   },
   {
    "duration": 8,
    "start_time": "2021-11-14T16:49:50.743Z"
   },
   {
    "duration": 28358,
    "start_time": "2021-11-14T16:49:50.754Z"
   },
   {
    "duration": 147,
    "start_time": "2021-11-14T16:50:19.115Z"
   },
   {
    "duration": 6,
    "start_time": "2021-11-14T16:50:19.266Z"
   },
   {
    "duration": 20,
    "start_time": "2021-11-14T16:50:19.275Z"
   },
   {
    "duration": 32,
    "start_time": "2021-11-14T16:50:19.297Z"
   },
   {
    "duration": 12,
    "start_time": "2021-11-14T16:50:19.335Z"
   },
   {
    "duration": 28,
    "start_time": "2021-11-14T16:50:19.350Z"
   },
   {
    "duration": 3809,
    "start_time": "2021-11-14T16:50:19.380Z"
   },
   {
    "duration": 6,
    "start_time": "2021-11-14T16:50:23.192Z"
   },
   {
    "duration": 27,
    "start_time": "2021-11-14T16:50:23.204Z"
   },
   {
    "duration": 18,
    "start_time": "2021-11-14T16:50:23.234Z"
   },
   {
    "duration": 2736,
    "start_time": "2021-11-14T16:50:23.254Z"
   },
   {
    "duration": 7,
    "start_time": "2021-11-14T16:50:25.993Z"
   },
   {
    "duration": 18,
    "start_time": "2021-11-14T16:50:26.003Z"
   },
   {
    "duration": 19358,
    "start_time": "2021-11-14T16:50:26.031Z"
   },
   {
    "duration": 16,
    "start_time": "2021-11-14T16:50:45.391Z"
   },
   {
    "duration": 17,
    "start_time": "2021-11-14T16:50:45.410Z"
   },
   {
    "duration": 24,
    "start_time": "2021-11-14T16:50:45.429Z"
   },
   {
    "duration": 26,
    "start_time": "2021-11-14T16:50:45.455Z"
   },
   {
    "duration": 19,
    "start_time": "2021-11-14T16:50:45.483Z"
   },
   {
    "duration": 22,
    "start_time": "2021-11-14T16:50:45.504Z"
   },
   {
    "duration": 26,
    "start_time": "2021-11-14T16:50:45.528Z"
   },
   {
    "duration": 35,
    "start_time": "2021-11-14T16:50:45.557Z"
   },
   {
    "duration": 39,
    "start_time": "2021-11-14T16:50:45.594Z"
   },
   {
    "duration": 10,
    "start_time": "2021-11-14T16:50:45.637Z"
   },
   {
    "duration": 666,
    "start_time": "2021-11-14T16:50:45.651Z"
   },
   {
    "duration": 115,
    "start_time": "2021-11-14T16:52:07.012Z"
   },
   {
    "duration": 313,
    "start_time": "2021-11-14T16:52:21.003Z"
   },
   {
    "duration": 306,
    "start_time": "2021-11-14T16:52:36.552Z"
   },
   {
    "duration": 1998,
    "start_time": "2021-11-14T16:54:54.598Z"
   },
   {
    "duration": 21,
    "start_time": "2021-11-14T16:54:56.598Z"
   },
   {
    "duration": 13,
    "start_time": "2021-11-14T16:54:56.621Z"
   },
   {
    "duration": 18,
    "start_time": "2021-11-14T16:54:56.636Z"
   },
   {
    "duration": 20,
    "start_time": "2021-11-14T16:54:56.657Z"
   },
   {
    "duration": 154,
    "start_time": "2021-11-14T16:54:56.679Z"
   },
   {
    "duration": 521,
    "start_time": "2021-11-14T16:54:56.836Z"
   },
   {
    "duration": 17860,
    "start_time": "2021-11-14T16:54:57.361Z"
   },
   {
    "duration": 5,
    "start_time": "2021-11-14T16:55:15.229Z"
   },
   {
    "duration": 16,
    "start_time": "2021-11-14T16:55:15.237Z"
   },
   {
    "duration": 7,
    "start_time": "2021-11-14T16:55:15.255Z"
   },
   {
    "duration": 5,
    "start_time": "2021-11-14T16:55:15.265Z"
   },
   {
    "duration": 10,
    "start_time": "2021-11-14T16:55:15.272Z"
   },
   {
    "duration": 46,
    "start_time": "2021-11-14T16:55:15.285Z"
   },
   {
    "duration": 8,
    "start_time": "2021-11-14T16:55:15.333Z"
   },
   {
    "duration": 8,
    "start_time": "2021-11-14T16:55:15.343Z"
   },
   {
    "duration": 7,
    "start_time": "2021-11-14T16:55:15.353Z"
   },
   {
    "duration": 88550,
    "start_time": "2021-11-14T16:55:15.364Z"
   },
   {
    "duration": 568,
    "start_time": "2021-11-14T16:56:43.349Z"
   },
   {
    "duration": 566,
    "start_time": "2021-11-14T16:56:43.353Z"
   },
   {
    "duration": 564,
    "start_time": "2021-11-14T16:56:43.356Z"
   },
   {
    "duration": 564,
    "start_time": "2021-11-14T16:56:43.358Z"
   },
   {
    "duration": 562,
    "start_time": "2021-11-14T16:56:43.361Z"
   },
   {
    "duration": 553,
    "start_time": "2021-11-14T16:56:43.372Z"
   },
   {
    "duration": 551,
    "start_time": "2021-11-14T16:56:43.375Z"
   },
   {
    "duration": 550,
    "start_time": "2021-11-14T16:56:43.378Z"
   },
   {
    "duration": 548,
    "start_time": "2021-11-14T16:56:43.381Z"
   },
   {
    "duration": 547,
    "start_time": "2021-11-14T16:56:43.384Z"
   },
   {
    "duration": 544,
    "start_time": "2021-11-14T16:56:43.388Z"
   },
   {
    "duration": 544,
    "start_time": "2021-11-14T16:56:43.390Z"
   },
   {
    "duration": 542,
    "start_time": "2021-11-14T16:56:43.393Z"
   },
   {
    "duration": 541,
    "start_time": "2021-11-14T16:56:43.396Z"
   },
   {
    "duration": 540,
    "start_time": "2021-11-14T16:56:43.398Z"
   },
   {
    "duration": 538,
    "start_time": "2021-11-14T16:56:43.401Z"
   },
   {
    "duration": 537,
    "start_time": "2021-11-14T16:56:43.404Z"
   },
   {
    "duration": 537,
    "start_time": "2021-11-14T16:56:43.406Z"
   },
   {
    "duration": 533,
    "start_time": "2021-11-14T16:56:43.411Z"
   },
   {
    "duration": 532,
    "start_time": "2021-11-14T16:56:43.414Z"
   },
   {
    "duration": 529,
    "start_time": "2021-11-14T16:56:43.418Z"
   },
   {
    "duration": 520,
    "start_time": "2021-11-14T16:56:43.429Z"
   },
   {
    "duration": 519,
    "start_time": "2021-11-14T16:56:43.431Z"
   },
   {
    "duration": 517,
    "start_time": "2021-11-14T16:56:43.435Z"
   },
   {
    "duration": 513,
    "start_time": "2021-11-14T16:56:43.440Z"
   },
   {
    "duration": 291,
    "start_time": "2021-11-14T16:56:46.403Z"
   },
   {
    "duration": 76015,
    "start_time": "2021-11-14T16:57:19.733Z"
   },
   {
    "duration": 141,
    "start_time": "2021-11-14T17:00:01.081Z"
   },
   {
    "duration": 6,
    "start_time": "2021-11-14T17:00:02.360Z"
   },
   {
    "duration": 6,
    "start_time": "2021-11-14T17:00:03.372Z"
   },
   {
    "duration": 10,
    "start_time": "2021-11-14T17:00:40.961Z"
   },
   {
    "duration": 62878,
    "start_time": "2021-11-14T17:01:27.956Z"
   },
   {
    "duration": 1192,
    "start_time": "2021-11-15T11:02:10.120Z"
   },
   {
    "duration": 18,
    "start_time": "2021-11-15T11:02:11.313Z"
   },
   {
    "duration": 6,
    "start_time": "2021-11-15T11:02:11.333Z"
   },
   {
    "duration": 17,
    "start_time": "2021-11-15T11:02:11.341Z"
   },
   {
    "duration": 6,
    "start_time": "2021-11-15T11:02:11.360Z"
   },
   {
    "duration": 81,
    "start_time": "2021-11-15T11:02:11.368Z"
   },
   {
    "duration": 351,
    "start_time": "2021-11-15T11:02:11.451Z"
   },
   {
    "duration": 9542,
    "start_time": "2021-11-15T11:02:11.806Z"
   },
   {
    "duration": 4,
    "start_time": "2021-11-15T11:02:21.351Z"
   },
   {
    "duration": 32,
    "start_time": "2021-11-15T11:02:21.357Z"
   },
   {
    "duration": 24,
    "start_time": "2021-11-15T11:02:21.390Z"
   },
   {
    "duration": 29,
    "start_time": "2021-11-15T11:02:21.416Z"
   },
   {
    "duration": 33,
    "start_time": "2021-11-15T11:02:21.447Z"
   },
   {
    "duration": 33,
    "start_time": "2021-11-15T11:02:21.481Z"
   },
   {
    "duration": 24,
    "start_time": "2021-11-15T11:02:21.516Z"
   },
   {
    "duration": 19,
    "start_time": "2021-11-15T11:02:21.542Z"
   },
   {
    "duration": 29,
    "start_time": "2021-11-15T11:02:21.563Z"
   },
   {
    "duration": 39617,
    "start_time": "2021-11-15T11:02:21.594Z"
   },
   {
    "duration": 6,
    "start_time": "2021-11-15T11:03:01.212Z"
   },
   {
    "duration": 108,
    "start_time": "2021-11-15T11:03:01.220Z"
   },
   {
    "duration": 3,
    "start_time": "2021-11-15T11:03:01.330Z"
   },
   {
    "duration": 27,
    "start_time": "2021-11-15T11:03:01.335Z"
   },
   {
    "duration": 38,
    "start_time": "2021-11-15T11:03:01.364Z"
   },
   {
    "duration": 13,
    "start_time": "2021-11-15T11:03:01.403Z"
   },
   {
    "duration": 21,
    "start_time": "2021-11-15T11:03:01.417Z"
   },
   {
    "duration": 1952,
    "start_time": "2021-11-15T11:03:01.440Z"
   },
   {
    "duration": 3,
    "start_time": "2021-11-15T11:03:03.396Z"
   },
   {
    "duration": 7,
    "start_time": "2021-11-15T11:03:03.407Z"
   },
   {
    "duration": 33,
    "start_time": "2021-11-15T11:03:03.416Z"
   },
   {
    "duration": 1016,
    "start_time": "2021-11-15T11:03:03.451Z"
   },
   {
    "duration": 3,
    "start_time": "2021-11-15T11:03:04.468Z"
   },
   {
    "duration": 5,
    "start_time": "2021-11-15T11:03:04.473Z"
   },
   {
    "duration": 14403,
    "start_time": "2021-11-15T11:03:04.480Z"
   },
   {
    "duration": 7,
    "start_time": "2021-11-15T11:03:18.885Z"
   },
   {
    "duration": 9,
    "start_time": "2021-11-15T11:03:18.893Z"
   },
   {
    "duration": 5,
    "start_time": "2021-11-15T11:03:18.904Z"
   },
   {
    "duration": 9,
    "start_time": "2021-11-15T11:03:18.910Z"
   },
   {
    "duration": 6,
    "start_time": "2021-11-15T11:03:18.921Z"
   },
   {
    "duration": 6,
    "start_time": "2021-11-15T11:03:18.929Z"
   },
   {
    "duration": 8,
    "start_time": "2021-11-15T11:03:18.936Z"
   },
   {
    "duration": 7,
    "start_time": "2021-11-15T11:03:18.945Z"
   },
   {
    "duration": 11,
    "start_time": "2021-11-15T11:03:18.954Z"
   },
   {
    "duration": 3,
    "start_time": "2021-11-15T11:03:18.966Z"
   },
   {
    "duration": 358,
    "start_time": "2021-11-15T11:03:19.007Z"
   },
   {
    "duration": 38748,
    "start_time": "2021-11-15T11:05:05.961Z"
   },
   {
    "duration": 6,
    "start_time": "2021-11-15T11:06:04.405Z"
   },
   {
    "duration": 6,
    "start_time": "2021-11-15T11:13:03.367Z"
   },
   {
    "duration": 41383,
    "start_time": "2021-11-15T11:13:58.514Z"
   },
   {
    "duration": 6,
    "start_time": "2021-11-15T11:18:26.020Z"
   },
   {
    "duration": 6,
    "start_time": "2021-11-15T11:18:43.296Z"
   },
   {
    "duration": 41967,
    "start_time": "2021-11-15T11:21:19.105Z"
   },
   {
    "duration": 5,
    "start_time": "2021-11-15T11:22:20.156Z"
   },
   {
    "duration": 5,
    "start_time": "2021-11-15T11:22:46.804Z"
   },
   {
    "duration": 41519,
    "start_time": "2021-11-15T11:22:55.804Z"
   },
   {
    "duration": 5,
    "start_time": "2021-11-15T11:23:46.739Z"
   },
   {
    "duration": 5,
    "start_time": "2021-11-15T11:23:48.366Z"
   },
   {
    "duration": 36932,
    "start_time": "2021-11-15T11:24:08.713Z"
   },
   {
    "duration": 6,
    "start_time": "2021-11-15T11:25:12.008Z"
   },
   {
    "duration": 6,
    "start_time": "2021-11-15T11:25:12.608Z"
   },
   {
    "duration": 96,
    "start_time": "2021-11-15T11:25:15.971Z"
   },
   {
    "duration": 27537,
    "start_time": "2021-11-15T11:25:31.900Z"
   },
   {
    "duration": 7,
    "start_time": "2021-11-15T11:26:08.442Z"
   },
   {
    "duration": 6,
    "start_time": "2021-11-15T11:26:09.306Z"
   },
   {
    "duration": 60882,
    "start_time": "2021-11-15T11:26:39.704Z"
   },
   {
    "duration": 6,
    "start_time": "2021-11-15T11:27:46.748Z"
   },
   {
    "duration": 6,
    "start_time": "2021-11-15T11:27:47.698Z"
   },
   {
    "duration": 71113,
    "start_time": "2021-11-15T11:36:41.904Z"
   },
   {
    "duration": 6,
    "start_time": "2021-11-15T11:38:03.822Z"
   },
   {
    "duration": 6,
    "start_time": "2021-11-15T11:38:05.936Z"
   },
   {
    "duration": 66207,
    "start_time": "2021-11-15T11:38:30.495Z"
   },
   {
    "duration": 6,
    "start_time": "2021-11-15T11:40:17.695Z"
   },
   {
    "duration": 6,
    "start_time": "2021-11-15T11:40:18.689Z"
   },
   {
    "duration": 295675,
    "start_time": "2021-11-15T11:40:24.202Z"
   },
   {
    "duration": 5,
    "start_time": "2021-11-15T11:48:39.927Z"
   },
   {
    "duration": 5,
    "start_time": "2021-11-15T11:48:42.451Z"
   },
   {
    "duration": 108471,
    "start_time": "2021-11-15T11:49:19.635Z"
   },
   {
    "duration": 6,
    "start_time": "2021-11-15T11:53:20.173Z"
   },
   {
    "duration": 5,
    "start_time": "2021-11-15T11:53:20.902Z"
   },
   {
    "duration": 51339,
    "start_time": "2021-11-15T11:53:46.435Z"
   },
   {
    "duration": 882,
    "start_time": "2021-11-15T11:55:18.062Z"
   },
   {
    "duration": 5,
    "start_time": "2021-11-15T11:56:14.562Z"
   },
   {
    "duration": 754,
    "start_time": "2021-11-15T11:56:18.258Z"
   },
   {
    "duration": 3,
    "start_time": "2021-11-15T11:57:20.316Z"
   },
   {
    "duration": 11,
    "start_time": "2021-11-15T11:57:39.441Z"
   },
   {
    "duration": 8,
    "start_time": "2021-11-15T11:57:47.315Z"
   },
   {
    "duration": 4,
    "start_time": "2021-11-15T11:58:18.814Z"
   },
   {
    "duration": 12,
    "start_time": "2021-11-15T11:58:23.877Z"
   },
   {
    "duration": 9,
    "start_time": "2021-11-15T11:58:26.096Z"
   },
   {
    "duration": 2,
    "start_time": "2021-11-15T12:02:25.972Z"
   },
   {
    "duration": 4,
    "start_time": "2021-11-15T12:02:30.808Z"
   },
   {
    "duration": 37,
    "start_time": "2021-11-15T12:02:30.814Z"
   },
   {
    "duration": 23,
    "start_time": "2021-11-15T12:02:30.853Z"
   },
   {
    "duration": 34,
    "start_time": "2021-11-15T12:02:30.878Z"
   },
   {
    "duration": 29,
    "start_time": "2021-11-15T12:02:30.914Z"
   },
   {
    "duration": 100,
    "start_time": "2021-11-15T12:02:30.944Z"
   },
   {
    "duration": 359,
    "start_time": "2021-11-15T12:02:31.045Z"
   },
   {
    "duration": 10405,
    "start_time": "2021-11-15T12:02:31.406Z"
   },
   {
    "duration": 3,
    "start_time": "2021-11-15T12:02:41.814Z"
   },
   {
    "duration": 12,
    "start_time": "2021-11-15T12:02:41.819Z"
   },
   {
    "duration": 9,
    "start_time": "2021-11-15T12:02:41.833Z"
   },
   {
    "duration": 7,
    "start_time": "2021-11-15T12:02:41.844Z"
   },
   {
    "duration": 11,
    "start_time": "2021-11-15T12:02:41.853Z"
   },
   {
    "duration": 15,
    "start_time": "2021-11-15T12:02:41.866Z"
   },
   {
    "duration": 10,
    "start_time": "2021-11-15T12:02:41.883Z"
   },
   {
    "duration": 8,
    "start_time": "2021-11-15T12:02:41.894Z"
   },
   {
    "duration": 7,
    "start_time": "2021-11-15T12:02:41.907Z"
   },
   {
    "duration": 51168,
    "start_time": "2021-11-15T12:02:41.916Z"
   },
   {
    "duration": 5,
    "start_time": "2021-11-15T12:03:33.086Z"
   },
   {
    "duration": 15,
    "start_time": "2021-11-15T12:03:33.093Z"
   },
   {
    "duration": 16,
    "start_time": "2021-11-15T12:03:33.110Z"
   },
   {
    "duration": 27,
    "start_time": "2021-11-15T12:03:33.127Z"
   },
   {
    "duration": 98,
    "start_time": "2021-11-15T12:03:33.157Z"
   },
   {
    "duration": 4,
    "start_time": "2021-11-15T12:03:33.257Z"
   },
   {
    "duration": 23,
    "start_time": "2021-11-15T12:03:33.262Z"
   },
   {
    "duration": 34,
    "start_time": "2021-11-15T12:03:33.286Z"
   },
   {
    "duration": 10,
    "start_time": "2021-11-15T12:03:33.322Z"
   },
   {
    "duration": 17,
    "start_time": "2021-11-15T12:03:33.334Z"
   },
   {
    "duration": 2141,
    "start_time": "2021-11-15T12:03:33.353Z"
   },
   {
    "duration": 4,
    "start_time": "2021-11-15T12:03:35.495Z"
   },
   {
    "duration": 4,
    "start_time": "2021-11-15T12:03:35.506Z"
   },
   {
    "duration": 31,
    "start_time": "2021-11-15T12:03:35.511Z"
   },
   {
    "duration": 1122,
    "start_time": "2021-11-15T12:03:35.544Z"
   },
   {
    "duration": 4,
    "start_time": "2021-11-15T12:03:36.667Z"
   },
   {
    "duration": 7,
    "start_time": "2021-11-15T12:03:36.672Z"
   },
   {
    "duration": 14391,
    "start_time": "2021-11-15T12:03:36.681Z"
   },
   {
    "duration": 12,
    "start_time": "2021-11-15T12:03:51.074Z"
   },
   {
    "duration": 21,
    "start_time": "2021-11-15T12:03:51.088Z"
   },
   {
    "duration": 17,
    "start_time": "2021-11-15T12:03:51.111Z"
   },
   {
    "duration": 21,
    "start_time": "2021-11-15T12:03:51.129Z"
   },
   {
    "duration": 15,
    "start_time": "2021-11-15T12:03:51.152Z"
   },
   {
    "duration": 21,
    "start_time": "2021-11-15T12:03:51.169Z"
   },
   {
    "duration": 12,
    "start_time": "2021-11-15T12:03:51.192Z"
   },
   {
    "duration": 19,
    "start_time": "2021-11-15T12:03:51.206Z"
   },
   {
    "duration": 7,
    "start_time": "2021-11-15T12:03:51.227Z"
   },
   {
    "duration": 12,
    "start_time": "2021-11-15T12:03:51.236Z"
   },
   {
    "duration": 400,
    "start_time": "2021-11-15T12:03:51.250Z"
   },
   {
    "duration": 120,
    "start_time": "2021-11-15T12:12:11.793Z"
   },
   {
    "duration": 4,
    "start_time": "2021-11-15T12:12:25.055Z"
   },
   {
    "duration": 5,
    "start_time": "2021-11-15T12:16:06.814Z"
   },
   {
    "duration": 54599,
    "start_time": "2021-11-15T12:18:56.407Z"
   },
   {
    "duration": 3,
    "start_time": "2021-11-15T12:26:49.646Z"
   },
   {
    "duration": 4,
    "start_time": "2021-11-15T12:31:14.093Z"
   },
   {
    "duration": 222995,
    "start_time": "2021-11-15T12:31:14.098Z"
   },
   {
    "duration": 3,
    "start_time": "2021-11-15T12:41:05.758Z"
   },
   {
    "duration": 3,
    "start_time": "2021-11-15T12:41:07.808Z"
   },
   {
    "duration": 156177,
    "start_time": "2021-11-15T12:41:11.750Z"
   },
   {
    "duration": 7,
    "start_time": "2021-11-15T12:44:26.595Z"
   },
   {
    "duration": 8,
    "start_time": "2021-11-15T12:45:29.003Z"
   },
   {
    "duration": 4,
    "start_time": "2021-11-15T12:46:56.151Z"
   },
   {
    "duration": 3,
    "start_time": "2021-11-15T12:46:58.614Z"
   },
   {
    "duration": 331437,
    "start_time": "2021-11-15T12:47:00.791Z"
   },
   {
    "duration": 8,
    "start_time": "2021-11-15T12:53:22.070Z"
   },
   {
    "duration": 20,
    "start_time": "2021-11-15T12:55:19.466Z"
   },
   {
    "duration": 9,
    "start_time": "2021-11-15T12:55:21.498Z"
   },
   {
    "duration": 3,
    "start_time": "2021-11-15T12:59:30.041Z"
   },
   {
    "duration": 3,
    "start_time": "2021-11-15T13:00:50.790Z"
   },
   {
    "duration": 19861,
    "start_time": "2021-11-15T13:01:24.302Z"
   },
   {
    "duration": 3,
    "start_time": "2021-11-15T13:02:14.359Z"
   },
   {
    "duration": 3,
    "start_time": "2021-11-15T13:02:32.225Z"
   },
   {
    "duration": 367,
    "start_time": "2021-11-15T13:02:34.274Z"
   },
   {
    "duration": 3,
    "start_time": "2021-11-15T13:02:47.511Z"
   },
   {
    "duration": 3,
    "start_time": "2021-11-15T13:02:49.399Z"
   },
   {
    "duration": 51936,
    "start_time": "2021-11-15T13:02:52.682Z"
   },
   {
    "duration": 6,
    "start_time": "2021-11-15T13:05:18.197Z"
   },
   {
    "duration": 3,
    "start_time": "2021-11-15T13:05:40.797Z"
   },
   {
    "duration": 3,
    "start_time": "2021-11-15T13:05:43.128Z"
   },
   {
    "duration": 26108,
    "start_time": "2021-11-15T13:05:45.019Z"
   },
   {
    "duration": 3,
    "start_time": "2021-11-15T13:06:54.753Z"
   },
   {
    "duration": 3,
    "start_time": "2021-11-15T13:06:56.718Z"
   },
   {
    "duration": 39787,
    "start_time": "2021-11-15T13:06:59.379Z"
   },
   {
    "duration": 3,
    "start_time": "2021-11-15T13:07:39.168Z"
   },
   {
    "duration": 3,
    "start_time": "2021-11-15T13:07:39.951Z"
   },
   {
    "duration": 94005,
    "start_time": "2021-11-15T13:07:43.002Z"
   },
   {
    "duration": 4,
    "start_time": "2021-11-15T13:09:34.043Z"
   },
   {
    "duration": 3,
    "start_time": "2021-11-15T13:09:35.730Z"
   },
   {
    "duration": 51207,
    "start_time": "2021-11-15T13:09:38.667Z"
   },
   {
    "duration": -947,
    "start_time": "2021-11-15T13:10:30.826Z"
   },
   {
    "duration": -949,
    "start_time": "2021-11-15T13:10:30.830Z"
   },
   {
    "duration": 3,
    "start_time": "2021-11-15T13:10:31.429Z"
   },
   {
    "duration": 3,
    "start_time": "2021-11-15T13:10:33.966Z"
   },
   {
    "duration": 77016,
    "start_time": "2021-11-15T13:10:35.330Z"
   },
   {
    "duration": 3,
    "start_time": "2021-11-15T13:12:06.603Z"
   },
   {
    "duration": 3,
    "start_time": "2021-11-15T13:12:09.083Z"
   },
   {
    "duration": 3,
    "start_time": "2021-11-15T13:13:38.236Z"
   },
   {
    "duration": 11,
    "start_time": "2021-11-15T13:13:38.242Z"
   },
   {
    "duration": 19034,
    "start_time": "2021-11-15T13:13:38.255Z"
   },
   {
    "duration": 3,
    "start_time": "2021-11-15T13:13:58.551Z"
   },
   {
    "duration": 3,
    "start_time": "2021-11-15T13:14:00.843Z"
   },
   {
    "duration": 20197,
    "start_time": "2021-11-15T13:14:02.678Z"
   },
   {
    "duration": 4,
    "start_time": "2021-11-15T13:14:23.776Z"
   },
   {
    "duration": 8845,
    "start_time": "2021-11-15T13:14:32.213Z"
   },
   {
    "duration": 3,
    "start_time": "2021-11-15T13:14:42.154Z"
   },
   {
    "duration": 3,
    "start_time": "2021-11-15T13:14:43.975Z"
   },
   {
    "duration": 74630,
    "start_time": "2021-11-15T13:14:45.700Z"
   },
   {
    "duration": 7,
    "start_time": "2021-11-15T13:23:59.017Z"
   },
   {
    "duration": 6,
    "start_time": "2021-11-15T13:25:58.524Z"
   },
   {
    "duration": 13,
    "start_time": "2021-11-15T13:29:27.727Z"
   },
   {
    "duration": 10,
    "start_time": "2021-11-15T13:29:37.400Z"
   },
   {
    "duration": 9,
    "start_time": "2021-11-15T13:36:51.922Z"
   },
   {
    "duration": 34,
    "start_time": "2021-11-15T13:36:57.637Z"
   },
   {
    "duration": 11,
    "start_time": "2021-11-15T13:37:00.456Z"
   },
   {
    "duration": 378,
    "start_time": "2021-11-15T13:42:23.111Z"
   },
   {
    "duration": 375,
    "start_time": "2021-11-15T13:43:35.956Z"
   },
   {
    "duration": 11,
    "start_time": "2021-11-15T13:44:12.116Z"
   },
   {
    "duration": 10,
    "start_time": "2021-11-15T13:44:20.776Z"
   },
   {
    "duration": 15,
    "start_time": "2021-11-15T13:45:50.998Z"
   },
   {
    "duration": 15,
    "start_time": "2021-11-15T13:46:04.458Z"
   },
   {
    "duration": 5,
    "start_time": "2021-11-15T13:46:34.710Z"
   },
   {
    "duration": 4,
    "start_time": "2021-11-15T13:47:06.207Z"
   },
   {
    "duration": 122,
    "start_time": "2021-11-15T13:47:45.920Z"
   },
   {
    "duration": 62216,
    "start_time": "2021-11-15T13:48:47.256Z"
   },
   {
    "duration": 63522,
    "start_time": "2021-11-15T13:50:43.297Z"
   },
   {
    "duration": 64887,
    "start_time": "2021-11-15T13:52:09.153Z"
   },
   {
    "duration": 452,
    "start_time": "2021-11-15T18:04:06.836Z"
   },
   {
    "duration": 1708,
    "start_time": "2021-11-15T18:04:26.998Z"
   },
   {
    "duration": 21,
    "start_time": "2021-11-15T18:04:28.709Z"
   },
   {
    "duration": 9,
    "start_time": "2021-11-15T18:04:28.734Z"
   },
   {
    "duration": 20,
    "start_time": "2021-11-15T18:04:28.745Z"
   },
   {
    "duration": 10,
    "start_time": "2021-11-15T18:04:28.767Z"
   },
   {
    "duration": 176,
    "start_time": "2021-11-15T18:04:28.779Z"
   },
   {
    "duration": 590,
    "start_time": "2021-11-15T18:04:28.957Z"
   },
   {
    "duration": 18678,
    "start_time": "2021-11-15T18:04:29.549Z"
   },
   {
    "duration": 5,
    "start_time": "2021-11-15T18:04:48.231Z"
   },
   {
    "duration": 12,
    "start_time": "2021-11-15T18:04:48.239Z"
   },
   {
    "duration": 7,
    "start_time": "2021-11-15T18:04:48.253Z"
   },
   {
    "duration": 52,
    "start_time": "2021-11-15T18:04:48.263Z"
   },
   {
    "duration": 4,
    "start_time": "2021-11-15T18:04:48.318Z"
   },
   {
    "duration": 8,
    "start_time": "2021-11-15T18:04:48.324Z"
   },
   {
    "duration": 9,
    "start_time": "2021-11-15T18:04:48.335Z"
   },
   {
    "duration": 9,
    "start_time": "2021-11-15T18:04:48.346Z"
   },
   {
    "duration": 9,
    "start_time": "2021-11-15T18:04:48.357Z"
   },
   {
    "duration": 35,
    "start_time": "2021-11-15T18:04:48.369Z"
   },
   {
    "duration": 80520,
    "start_time": "2021-11-15T18:04:48.408Z"
   },
   {
    "duration": 9,
    "start_time": "2021-11-15T18:06:08.931Z"
   },
   {
    "duration": 11,
    "start_time": "2021-11-15T18:06:08.943Z"
   },
   {
    "duration": 45,
    "start_time": "2021-11-15T18:06:08.957Z"
   },
   {
    "duration": 13,
    "start_time": "2021-11-15T18:06:09.004Z"
   },
   {
    "duration": 5,
    "start_time": "2021-11-15T18:06:09.020Z"
   },
   {
    "duration": 11,
    "start_time": "2021-11-15T18:06:09.027Z"
   },
   {
    "duration": 518879,
    "start_time": "2021-11-15T18:06:09.040Z"
   },
   {
    "duration": 12,
    "start_time": "2021-11-15T18:14:47.926Z"
   },
   {
    "duration": 74,
    "start_time": "2021-11-15T18:14:47.942Z"
   },
   {
    "duration": 19,
    "start_time": "2021-11-15T18:14:48.019Z"
   },
   {
    "duration": 11,
    "start_time": "2021-11-15T18:14:48.041Z"
   },
   {
    "duration": 14,
    "start_time": "2021-11-15T18:14:48.055Z"
   },
   {
    "duration": 116718,
    "start_time": "2021-11-15T18:14:48.072Z"
   },
   {
    "duration": 12,
    "start_time": "2021-11-15T18:16:44.792Z"
   },
   {
    "duration": 17,
    "start_time": "2021-11-15T18:16:44.806Z"
   },
   {
    "duration": 13,
    "start_time": "2021-11-15T18:16:44.825Z"
   },
   {
    "duration": 6,
    "start_time": "2021-11-15T18:16:44.840Z"
   },
   {
    "duration": 18910,
    "start_time": "2021-11-15T18:16:44.849Z"
   },
   {
    "duration": 9,
    "start_time": "2021-11-15T18:17:03.762Z"
   },
   {
    "duration": 33,
    "start_time": "2021-11-15T18:17:03.774Z"
   },
   {
    "duration": 15,
    "start_time": "2021-11-15T18:17:03.810Z"
   },
   {
    "duration": 12,
    "start_time": "2021-11-15T18:17:03.828Z"
   },
   {
    "duration": 92083,
    "start_time": "2021-11-15T18:17:03.842Z"
   },
   {
    "duration": 15,
    "start_time": "2021-11-15T18:18:35.928Z"
   },
   {
    "duration": 15,
    "start_time": "2021-11-15T18:18:35.946Z"
   },
   {
    "duration": 474,
    "start_time": "2021-11-15T18:18:35.964Z"
   },
   {
    "duration": -44,
    "start_time": "2021-11-15T18:18:36.485Z"
   },
   {
    "duration": -51,
    "start_time": "2021-11-15T18:18:36.494Z"
   },
   {
    "duration": -57,
    "start_time": "2021-11-15T18:18:36.502Z"
   },
   {
    "duration": -62,
    "start_time": "2021-11-15T18:18:36.509Z"
   },
   {
    "duration": -65,
    "start_time": "2021-11-15T18:18:36.514Z"
   },
   {
    "duration": -65,
    "start_time": "2021-11-15T18:18:36.517Z"
   },
   {
    "duration": -66,
    "start_time": "2021-11-15T18:18:36.520Z"
   },
   {
    "duration": -67,
    "start_time": "2021-11-15T18:18:36.523Z"
   },
   {
    "duration": -68,
    "start_time": "2021-11-15T18:18:36.526Z"
   },
   {
    "duration": 1546,
    "start_time": "2021-11-16T06:06:28.359Z"
   },
   {
    "duration": 20,
    "start_time": "2021-11-16T06:06:29.908Z"
   },
   {
    "duration": 9,
    "start_time": "2021-11-16T06:06:29.931Z"
   },
   {
    "duration": 26,
    "start_time": "2021-11-16T06:06:29.942Z"
   },
   {
    "duration": 11,
    "start_time": "2021-11-16T06:06:29.970Z"
   },
   {
    "duration": 156,
    "start_time": "2021-11-16T06:06:29.983Z"
   },
   {
    "duration": 556,
    "start_time": "2021-11-16T06:06:30.142Z"
   },
   {
    "duration": 17616,
    "start_time": "2021-11-16T06:06:30.701Z"
   },
   {
    "duration": 5,
    "start_time": "2021-11-16T06:06:48.320Z"
   },
   {
    "duration": 36,
    "start_time": "2021-11-16T06:06:48.327Z"
   },
   {
    "duration": 7,
    "start_time": "2021-11-16T06:06:48.366Z"
   },
   {
    "duration": 5,
    "start_time": "2021-11-16T06:06:48.375Z"
   },
   {
    "duration": 9,
    "start_time": "2021-11-16T06:06:48.382Z"
   },
   {
    "duration": 6,
    "start_time": "2021-11-16T06:06:48.393Z"
   },
   {
    "duration": 11,
    "start_time": "2021-11-16T06:06:48.401Z"
   },
   {
    "duration": 46,
    "start_time": "2021-11-16T06:06:48.415Z"
   },
   {
    "duration": 6,
    "start_time": "2021-11-16T06:06:48.463Z"
   },
   {
    "duration": 5,
    "start_time": "2021-11-16T06:06:48.471Z"
   },
   {
    "duration": 71046,
    "start_time": "2021-11-16T06:06:48.479Z"
   },
   {
    "duration": 7,
    "start_time": "2021-11-16T06:07:59.527Z"
   },
   {
    "duration": 24,
    "start_time": "2021-11-16T06:07:59.536Z"
   },
   {
    "duration": 24,
    "start_time": "2021-11-16T06:07:59.563Z"
   },
   {
    "duration": 12,
    "start_time": "2021-11-16T06:07:59.593Z"
   },
   {
    "duration": 5,
    "start_time": "2021-11-16T06:07:59.608Z"
   },
   {
    "duration": 5,
    "start_time": "2021-11-16T06:07:59.615Z"
   },
   {
    "duration": 478307,
    "start_time": "2021-11-16T06:07:59.623Z"
   },
   {
    "duration": 11,
    "start_time": "2021-11-16T06:15:57.933Z"
   },
   {
    "duration": 30,
    "start_time": "2021-11-16T06:15:57.960Z"
   },
   {
    "duration": 13,
    "start_time": "2021-11-16T06:15:57.992Z"
   },
   {
    "duration": 4,
    "start_time": "2021-11-16T06:15:58.007Z"
   },
   {
    "duration": 8,
    "start_time": "2021-11-16T06:15:58.014Z"
   },
   {
    "duration": 104382,
    "start_time": "2021-11-16T06:15:58.025Z"
   },
   {
    "duration": 8,
    "start_time": "2021-11-16T06:17:42.409Z"
   },
   {
    "duration": 40,
    "start_time": "2021-11-16T06:17:42.419Z"
   },
   {
    "duration": 14,
    "start_time": "2021-11-16T06:17:42.462Z"
   },
   {
    "duration": 8,
    "start_time": "2021-11-16T06:17:42.478Z"
   },
   {
    "duration": 19451,
    "start_time": "2021-11-16T06:17:42.489Z"
   },
   {
    "duration": 11,
    "start_time": "2021-11-16T06:18:01.943Z"
   },
   {
    "duration": 25,
    "start_time": "2021-11-16T06:18:01.956Z"
   },
   {
    "duration": 14,
    "start_time": "2021-11-16T06:18:01.984Z"
   },
   {
    "duration": 8,
    "start_time": "2021-11-16T06:18:02.000Z"
   },
   {
    "duration": 85848,
    "start_time": "2021-11-16T06:18:02.010Z"
   },
   {
    "duration": 15,
    "start_time": "2021-11-16T06:19:27.861Z"
   },
   {
    "duration": 13,
    "start_time": "2021-11-16T06:19:27.879Z"
   },
   {
    "duration": 511,
    "start_time": "2021-11-16T06:19:27.895Z"
   },
   {
    "duration": -55,
    "start_time": "2021-11-16T06:19:28.463Z"
   },
   {
    "duration": -60,
    "start_time": "2021-11-16T06:19:28.470Z"
   },
   {
    "duration": -63,
    "start_time": "2021-11-16T06:19:28.474Z"
   },
   {
    "duration": -70,
    "start_time": "2021-11-16T06:19:28.483Z"
   },
   {
    "duration": -74,
    "start_time": "2021-11-16T06:19:28.488Z"
   },
   {
    "duration": -77,
    "start_time": "2021-11-16T06:19:28.493Z"
   },
   {
    "duration": -86,
    "start_time": "2021-11-16T06:19:28.503Z"
   },
   {
    "duration": -103,
    "start_time": "2021-11-16T06:19:28.522Z"
   },
   {
    "duration": -116,
    "start_time": "2021-11-16T06:19:28.536Z"
   },
   {
    "duration": 7536,
    "start_time": "2021-11-16T09:05:17.556Z"
   },
   {
    "duration": 6,
    "start_time": "2021-11-16T09:05:41.167Z"
   },
   {
    "duration": 19,
    "start_time": "2021-11-16T09:06:50.543Z"
   },
   {
    "duration": 17,
    "start_time": "2021-11-16T09:07:14.407Z"
   },
   {
    "duration": 6,
    "start_time": "2021-11-16T09:08:06.574Z"
   },
   {
    "duration": 15,
    "start_time": "2021-11-16T09:08:17.311Z"
   },
   {
    "duration": 15,
    "start_time": "2021-11-16T09:08:44.785Z"
   },
   {
    "duration": 15,
    "start_time": "2021-11-16T09:08:51.810Z"
   },
   {
    "duration": 611581,
    "start_time": "2021-11-16T10:10:59.753Z"
   },
   {
    "duration": 10,
    "start_time": "2021-11-16T10:21:11.336Z"
   },
   {
    "duration": 15,
    "start_time": "2021-11-16T10:21:44.721Z"
   },
   {
    "duration": 39,
    "start_time": "2021-11-16T10:22:36.325Z"
   },
   {
    "duration": 15,
    "start_time": "2021-11-16T10:22:43.851Z"
   },
   {
    "duration": 138299,
    "start_time": "2021-11-16T12:02:19.773Z"
   },
   {
    "duration": 18,
    "start_time": "2021-11-16T12:05:49.082Z"
   },
   {
    "duration": 16,
    "start_time": "2021-11-16T12:05:56.580Z"
   },
   {
    "duration": 30838,
    "start_time": "2021-11-16T12:06:45.099Z"
   },
   {
    "duration": 24,
    "start_time": "2021-11-16T12:08:51.616Z"
   },
   {
    "duration": 61,
    "start_time": "2021-11-16T12:09:50.451Z"
   },
   {
    "duration": 17,
    "start_time": "2021-11-16T12:10:03.200Z"
   },
   {
    "duration": 5,
    "start_time": "2021-11-16T12:11:09.119Z"
   },
   {
    "duration": 718,
    "start_time": "2021-11-16T12:11:12.461Z"
   },
   {
    "duration": 1666,
    "start_time": "2021-11-16T12:13:35.262Z"
   },
   {
    "duration": 21,
    "start_time": "2021-11-16T12:13:36.930Z"
   },
   {
    "duration": 12,
    "start_time": "2021-11-16T12:13:36.954Z"
   },
   {
    "duration": 17,
    "start_time": "2021-11-16T12:13:36.968Z"
   },
   {
    "duration": 12,
    "start_time": "2021-11-16T12:13:36.988Z"
   },
   {
    "duration": 175,
    "start_time": "2021-11-16T12:13:37.003Z"
   },
   {
    "duration": 644,
    "start_time": "2021-11-16T12:13:37.180Z"
   },
   {
    "duration": 19911,
    "start_time": "2021-11-16T12:13:37.828Z"
   },
   {
    "duration": 18,
    "start_time": "2021-11-16T12:13:57.742Z"
   },
   {
    "duration": 23,
    "start_time": "2021-11-16T12:13:57.763Z"
   },
   {
    "duration": 8,
    "start_time": "2021-11-16T12:13:57.789Z"
   },
   {
    "duration": 6,
    "start_time": "2021-11-16T12:13:57.800Z"
   },
   {
    "duration": 13,
    "start_time": "2021-11-16T12:13:57.809Z"
   },
   {
    "duration": 36,
    "start_time": "2021-11-16T12:13:57.825Z"
   },
   {
    "duration": 14,
    "start_time": "2021-11-16T12:13:57.864Z"
   },
   {
    "duration": 8,
    "start_time": "2021-11-16T12:13:57.881Z"
   },
   {
    "duration": 10,
    "start_time": "2021-11-16T12:13:57.892Z"
   },
   {
    "duration": 10,
    "start_time": "2021-11-16T12:13:57.905Z"
   },
   {
    "duration": 83941,
    "start_time": "2021-11-16T12:13:57.918Z"
   },
   {
    "duration": 8,
    "start_time": "2021-11-16T12:15:21.861Z"
   },
   {
    "duration": 9,
    "start_time": "2021-11-16T12:15:21.871Z"
   },
   {
    "duration": 21,
    "start_time": "2021-11-16T12:15:21.882Z"
   },
   {
    "duration": 13,
    "start_time": "2021-11-16T12:15:21.905Z"
   },
   {
    "duration": 5,
    "start_time": "2021-11-16T12:15:21.961Z"
   },
   {
    "duration": 9,
    "start_time": "2021-11-16T12:15:21.968Z"
   },
   {
    "duration": 1702,
    "start_time": "2021-11-16T12:17:10.474Z"
   },
   {
    "duration": 20,
    "start_time": "2021-11-16T12:17:12.179Z"
   },
   {
    "duration": 9,
    "start_time": "2021-11-16T12:17:12.203Z"
   },
   {
    "duration": 24,
    "start_time": "2021-11-16T12:17:12.215Z"
   },
   {
    "duration": 39,
    "start_time": "2021-11-16T12:17:12.241Z"
   },
   {
    "duration": 162,
    "start_time": "2021-11-16T12:17:12.283Z"
   },
   {
    "duration": 593,
    "start_time": "2021-11-16T12:17:12.448Z"
   },
   {
    "duration": 22201,
    "start_time": "2021-11-16T12:17:13.044Z"
   },
   {
    "duration": 17,
    "start_time": "2021-11-16T12:17:35.249Z"
   },
   {
    "duration": 21,
    "start_time": "2021-11-16T12:17:35.271Z"
   },
   {
    "duration": 9,
    "start_time": "2021-11-16T12:17:35.296Z"
   },
   {
    "duration": 6,
    "start_time": "2021-11-16T12:17:35.308Z"
   },
   {
    "duration": 45,
    "start_time": "2021-11-16T12:17:35.316Z"
   },
   {
    "duration": 26,
    "start_time": "2021-11-16T12:17:35.364Z"
   },
   {
    "duration": 10,
    "start_time": "2021-11-16T12:17:35.392Z"
   },
   {
    "duration": 8,
    "start_time": "2021-11-16T12:17:35.404Z"
   },
   {
    "duration": 14,
    "start_time": "2021-11-16T12:17:35.415Z"
   },
   {
    "duration": 10,
    "start_time": "2021-11-16T12:17:35.432Z"
   },
   {
    "duration": 174791,
    "start_time": "2021-11-16T12:17:35.444Z"
   },
   {
    "duration": 23,
    "start_time": "2021-11-16T12:20:30.238Z"
   },
   {
    "duration": 17,
    "start_time": "2021-11-16T12:20:30.265Z"
   },
   {
    "duration": 31,
    "start_time": "2021-11-16T12:20:30.285Z"
   },
   {
    "duration": 32,
    "start_time": "2021-11-16T12:20:30.319Z"
   },
   {
    "duration": 14,
    "start_time": "2021-11-16T12:20:30.353Z"
   },
   {
    "duration": 12,
    "start_time": "2021-11-16T12:20:30.369Z"
   },
   {
    "duration": 1191912,
    "start_time": "2021-11-16T12:20:30.384Z"
   },
   {
    "duration": 15,
    "start_time": "2021-11-16T12:40:22.304Z"
   },
   {
    "duration": 65,
    "start_time": "2021-11-16T12:40:22.323Z"
   },
   {
    "duration": 14,
    "start_time": "2021-11-16T12:40:22.391Z"
   },
   {
    "duration": 10,
    "start_time": "2021-11-16T12:40:22.407Z"
   },
   {
    "duration": 11,
    "start_time": "2021-11-16T12:40:22.419Z"
   },
   {
    "duration": 111326,
    "start_time": "2021-11-16T12:40:22.433Z"
   },
   {
    "duration": -711,
    "start_time": "2021-11-16T12:42:14.473Z"
   },
   {
    "duration": -714,
    "start_time": "2021-11-16T12:42:14.477Z"
   },
   {
    "duration": -716,
    "start_time": "2021-11-16T12:42:14.481Z"
   },
   {
    "duration": -724,
    "start_time": "2021-11-16T12:42:14.491Z"
   },
   {
    "duration": -725,
    "start_time": "2021-11-16T12:42:14.494Z"
   },
   {
    "duration": -727,
    "start_time": "2021-11-16T12:42:14.498Z"
   },
   {
    "duration": -734,
    "start_time": "2021-11-16T12:42:14.507Z"
   },
   {
    "duration": -736,
    "start_time": "2021-11-16T12:42:14.511Z"
   },
   {
    "duration": -738,
    "start_time": "2021-11-16T12:42:14.514Z"
   },
   {
    "duration": -747,
    "start_time": "2021-11-16T12:42:14.524Z"
   },
   {
    "duration": -749,
    "start_time": "2021-11-16T12:42:14.528Z"
   },
   {
    "duration": -752,
    "start_time": "2021-11-16T12:42:14.532Z"
   },
   {
    "duration": -761,
    "start_time": "2021-11-16T12:42:14.542Z"
   },
   {
    "duration": -764,
    "start_time": "2021-11-16T12:42:14.546Z"
   },
   {
    "duration": -774,
    "start_time": "2021-11-16T12:42:14.558Z"
   },
   {
    "duration": -777,
    "start_time": "2021-11-16T12:42:14.563Z"
   },
   {
    "duration": -780,
    "start_time": "2021-11-16T12:42:14.568Z"
   },
   {
    "duration": -781,
    "start_time": "2021-11-16T12:42:14.571Z"
   },
   {
    "duration": -786,
    "start_time": "2021-11-16T12:42:14.578Z"
   },
   {
    "duration": -788,
    "start_time": "2021-11-16T12:42:14.582Z"
   },
   {
    "duration": -789,
    "start_time": "2021-11-16T12:42:14.585Z"
   },
   {
    "duration": -790,
    "start_time": "2021-11-16T12:42:14.588Z"
   },
   {
    "duration": -792,
    "start_time": "2021-11-16T12:42:14.592Z"
   },
   {
    "duration": -736,
    "start_time": "2021-11-16T12:42:14.595Z"
   },
   {
    "duration": -738,
    "start_time": "2021-11-16T12:42:14.599Z"
   },
   {
    "duration": -739,
    "start_time": "2021-11-16T12:42:14.602Z"
   },
   {
    "duration": -742,
    "start_time": "2021-11-16T12:42:14.607Z"
   },
   {
    "duration": -744,
    "start_time": "2021-11-16T12:42:14.611Z"
   },
   {
    "duration": -746,
    "start_time": "2021-11-16T12:42:14.615Z"
   },
   {
    "duration": -749,
    "start_time": "2021-11-16T12:42:14.620Z"
   },
   {
    "duration": -751,
    "start_time": "2021-11-16T12:42:14.624Z"
   },
   {
    "duration": -753,
    "start_time": "2021-11-16T12:42:14.628Z"
   },
   {
    "duration": -757,
    "start_time": "2021-11-16T12:42:14.634Z"
   },
   {
    "duration": -758,
    "start_time": "2021-11-16T12:42:14.637Z"
   },
   {
    "duration": 308,
    "start_time": "2021-11-16T12:42:15.454Z"
   },
   {
    "duration": 391,
    "start_time": "2021-11-16T12:42:21.769Z"
   },
   {
    "duration": 5,
    "start_time": "2021-11-16T12:42:31.394Z"
   },
   {
    "duration": 1647,
    "start_time": "2021-11-16T12:44:06.700Z"
   },
   {
    "duration": 21,
    "start_time": "2021-11-16T12:44:08.349Z"
   },
   {
    "duration": 30,
    "start_time": "2021-11-16T12:44:08.373Z"
   },
   {
    "duration": 23,
    "start_time": "2021-11-16T12:44:08.405Z"
   },
   {
    "duration": 20,
    "start_time": "2021-11-16T12:44:08.431Z"
   },
   {
    "duration": 193,
    "start_time": "2021-11-16T12:44:08.453Z"
   },
   {
    "duration": 583,
    "start_time": "2021-11-16T12:44:08.649Z"
   },
   {
    "duration": 20257,
    "start_time": "2021-11-16T12:44:09.236Z"
   },
   {
    "duration": 5,
    "start_time": "2021-11-16T12:44:29.496Z"
   },
   {
    "duration": 11,
    "start_time": "2021-11-16T12:44:29.503Z"
   },
   {
    "duration": 44,
    "start_time": "2021-11-16T12:44:29.517Z"
   },
   {
    "duration": 5,
    "start_time": "2021-11-16T12:44:29.563Z"
   },
   {
    "duration": 10,
    "start_time": "2021-11-16T12:44:29.570Z"
   },
   {
    "duration": 8,
    "start_time": "2021-11-16T12:44:29.582Z"
   },
   {
    "duration": 10,
    "start_time": "2021-11-16T12:44:29.593Z"
   },
   {
    "duration": 7,
    "start_time": "2021-11-16T12:44:29.605Z"
   },
   {
    "duration": 45,
    "start_time": "2021-11-16T12:44:29.614Z"
   },
   {
    "duration": 3,
    "start_time": "2021-11-16T12:44:29.662Z"
   },
   {
    "duration": 186148,
    "start_time": "2021-11-16T12:44:29.668Z"
   },
   {
    "duration": 7,
    "start_time": "2021-11-16T12:47:35.818Z"
   },
   {
    "duration": 30,
    "start_time": "2021-11-16T12:47:35.828Z"
   },
   {
    "duration": 18,
    "start_time": "2021-11-16T12:47:35.861Z"
   },
   {
    "duration": 12,
    "start_time": "2021-11-16T12:47:35.885Z"
   },
   {
    "duration": 6,
    "start_time": "2021-11-16T12:47:35.901Z"
   },
   {
    "duration": 146,
    "start_time": "2021-11-16T12:47:35.910Z"
   },
   {
    "duration": -643,
    "start_time": "2021-11-16T12:47:36.702Z"
   },
   {
    "duration": -645,
    "start_time": "2021-11-16T12:47:36.705Z"
   },
   {
    "duration": -647,
    "start_time": "2021-11-16T12:47:36.709Z"
   },
   {
    "duration": -648,
    "start_time": "2021-11-16T12:47:36.712Z"
   },
   {
    "duration": -650,
    "start_time": "2021-11-16T12:47:36.715Z"
   },
   {
    "duration": -651,
    "start_time": "2021-11-16T12:47:36.718Z"
   },
   {
    "duration": -653,
    "start_time": "2021-11-16T12:47:36.722Z"
   },
   {
    "duration": -656,
    "start_time": "2021-11-16T12:47:36.726Z"
   },
   {
    "duration": -665,
    "start_time": "2021-11-16T12:47:36.736Z"
   },
   {
    "duration": -667,
    "start_time": "2021-11-16T12:47:36.740Z"
   },
   {
    "duration": -669,
    "start_time": "2021-11-16T12:47:36.743Z"
   },
   {
    "duration": -671,
    "start_time": "2021-11-16T12:47:36.747Z"
   },
   {
    "duration": -673,
    "start_time": "2021-11-16T12:47:36.750Z"
   },
   {
    "duration": -675,
    "start_time": "2021-11-16T12:47:36.754Z"
   },
   {
    "duration": -678,
    "start_time": "2021-11-16T12:47:36.758Z"
   },
   {
    "duration": -678,
    "start_time": "2021-11-16T12:47:36.761Z"
   },
   {
    "duration": -679,
    "start_time": "2021-11-16T12:47:36.764Z"
   },
   {
    "duration": -681,
    "start_time": "2021-11-16T12:47:36.767Z"
   },
   {
    "duration": -689,
    "start_time": "2021-11-16T12:47:36.777Z"
   },
   {
    "duration": -692,
    "start_time": "2021-11-16T12:47:36.781Z"
   },
   {
    "duration": -694,
    "start_time": "2021-11-16T12:47:36.785Z"
   },
   {
    "duration": -697,
    "start_time": "2021-11-16T12:47:36.789Z"
   },
   {
    "duration": -699,
    "start_time": "2021-11-16T12:47:36.792Z"
   },
   {
    "duration": -700,
    "start_time": "2021-11-16T12:47:36.795Z"
   },
   {
    "duration": -702,
    "start_time": "2021-11-16T12:47:36.798Z"
   },
   {
    "duration": -704,
    "start_time": "2021-11-16T12:47:36.802Z"
   },
   {
    "duration": -706,
    "start_time": "2021-11-16T12:47:36.805Z"
   },
   {
    "duration": -708,
    "start_time": "2021-11-16T12:47:36.808Z"
   },
   {
    "duration": -651,
    "start_time": "2021-11-16T12:47:36.811Z"
   },
   {
    "duration": -652,
    "start_time": "2021-11-16T12:47:36.814Z"
   },
   {
    "duration": -653,
    "start_time": "2021-11-16T12:47:36.817Z"
   },
   {
    "duration": -655,
    "start_time": "2021-11-16T12:47:36.820Z"
   },
   {
    "duration": -658,
    "start_time": "2021-11-16T12:47:36.824Z"
   },
   {
    "duration": -659,
    "start_time": "2021-11-16T12:47:36.827Z"
   },
   {
    "duration": -660,
    "start_time": "2021-11-16T12:47:36.829Z"
   },
   {
    "duration": -661,
    "start_time": "2021-11-16T12:47:36.832Z"
   },
   {
    "duration": -663,
    "start_time": "2021-11-16T12:47:36.835Z"
   },
   {
    "duration": -665,
    "start_time": "2021-11-16T12:47:36.839Z"
   },
   {
    "duration": -667,
    "start_time": "2021-11-16T12:47:36.842Z"
   },
   {
    "duration": -678,
    "start_time": "2021-11-16T12:47:36.855Z"
   },
   {
    "duration": -681,
    "start_time": "2021-11-16T12:47:36.859Z"
   },
   {
    "duration": 4,
    "start_time": "2021-11-16T12:51:24.416Z"
   },
   {
    "duration": 381713,
    "start_time": "2021-11-16T12:51:28.183Z"
   },
   {
    "duration": 12,
    "start_time": "2021-11-16T12:58:23.981Z"
   },
   {
    "duration": 41,
    "start_time": "2021-11-16T12:58:29.470Z"
   },
   {
    "duration": 20,
    "start_time": "2021-11-16T12:58:30.209Z"
   },
   {
    "duration": 4,
    "start_time": "2021-11-16T12:58:36.531Z"
   },
   {
    "duration": 4,
    "start_time": "2021-11-16T12:58:39.344Z"
   },
   {
    "duration": 222854,
    "start_time": "2021-11-16T12:58:41.880Z"
   },
   {
    "duration": 9,
    "start_time": "2021-11-16T13:02:51.323Z"
   },
   {
    "duration": 18,
    "start_time": "2021-11-16T13:02:59.351Z"
   },
   {
    "duration": 14,
    "start_time": "2021-11-16T13:03:00.547Z"
   },
   {
    "duration": 4,
    "start_time": "2021-11-16T13:03:03.266Z"
   },
   {
    "duration": 18652,
    "start_time": "2021-11-16T13:03:04.850Z"
   },
   {
    "duration": 17,
    "start_time": "2021-11-16T13:03:32.785Z"
   },
   {
    "duration": 65,
    "start_time": "2021-11-16T13:03:35.120Z"
   },
   {
    "duration": 14,
    "start_time": "2021-11-16T13:03:36.947Z"
   },
   {
    "duration": 5,
    "start_time": "2021-11-16T13:03:40.197Z"
   },
   {
    "duration": 16,
    "start_time": "2021-11-16T13:03:45.908Z"
   },
   {
    "duration": 218604,
    "start_time": "2021-11-16T13:04:10.185Z"
   },
   {
    "duration": 16,
    "start_time": "2021-11-16T13:07:48.791Z"
   },
   {
    "duration": 15,
    "start_time": "2021-11-16T13:07:48.810Z"
   },
   {
    "duration": 34,
    "start_time": "2021-11-16T13:07:48.827Z"
   },
   {
    "duration": 451669,
    "start_time": "2021-11-16T13:07:48.864Z"
   },
   {
    "duration": 46,
    "start_time": "2021-11-16T13:15:20.535Z"
   },
   {
    "duration": 14,
    "start_time": "2021-11-16T13:15:20.583Z"
   },
   {
    "duration": 329214,
    "start_time": "2021-11-16T13:15:20.601Z"
   },
   {
    "duration": 19,
    "start_time": "2021-11-16T13:20:49.818Z"
   },
   {
    "duration": 35,
    "start_time": "2021-11-16T13:20:49.840Z"
   },
   {
    "duration": 30649,
    "start_time": "2021-11-16T13:20:49.878Z"
   },
   {
    "duration": 11,
    "start_time": "2021-11-16T13:21:20.529Z"
   },
   {
    "duration": 39,
    "start_time": "2021-11-16T13:21:20.542Z"
   },
   {
    "duration": 15,
    "start_time": "2021-11-16T13:21:20.583Z"
   },
   {
    "duration": 5,
    "start_time": "2021-11-16T13:21:20.601Z"
   },
   {
    "duration": 774,
    "start_time": "2021-11-16T13:21:20.609Z"
   },
   {
    "duration": 6,
    "start_time": "2021-11-16T13:24:00.159Z"
   },
   {
    "duration": 532,
    "start_time": "2021-11-16T13:25:40.467Z"
   },
   {
    "duration": 4,
    "start_time": "2021-11-16T13:25:49.430Z"
   },
   {
    "duration": 5,
    "start_time": "2021-11-16T13:26:28.714Z"
   },
   {
    "duration": 19880,
    "start_time": "2021-11-16T13:26:29.413Z"
   },
   {
    "duration": 25,
    "start_time": "2021-11-16T13:28:12.043Z"
   },
   {
    "duration": 23,
    "start_time": "2021-11-16T13:31:52.242Z"
   },
   {
    "duration": 4,
    "start_time": "2021-11-16T13:32:05.651Z"
   },
   {
    "duration": 21118,
    "start_time": "2021-11-16T13:32:06.962Z"
   },
   {
    "duration": 3,
    "start_time": "2021-11-16T13:32:30.986Z"
   },
   {
    "duration": 20835,
    "start_time": "2021-11-16T13:32:31.799Z"
   },
   {
    "duration": 4,
    "start_time": "2021-11-16T13:33:01.459Z"
   },
   {
    "duration": 21116,
    "start_time": "2021-11-16T13:33:02.058Z"
   },
   {
    "duration": 27,
    "start_time": "2021-11-16T13:33:29.573Z"
   },
   {
    "duration": 357,
    "start_time": "2021-11-16T18:48:57.890Z"
   },
   {
    "duration": 1605,
    "start_time": "2021-11-16T18:49:05.906Z"
   },
   {
    "duration": 20,
    "start_time": "2021-11-16T18:49:07.514Z"
   },
   {
    "duration": 9,
    "start_time": "2021-11-16T18:49:07.537Z"
   },
   {
    "duration": 21,
    "start_time": "2021-11-16T18:49:07.550Z"
   },
   {
    "duration": 13,
    "start_time": "2021-11-16T18:49:07.574Z"
   },
   {
    "duration": 167,
    "start_time": "2021-11-16T18:49:07.589Z"
   },
   {
    "duration": 562,
    "start_time": "2021-11-16T18:49:07.758Z"
   },
   {
    "duration": 19516,
    "start_time": "2021-11-16T18:49:08.328Z"
   },
   {
    "duration": 5,
    "start_time": "2021-11-16T18:49:27.847Z"
   },
   {
    "duration": 13,
    "start_time": "2021-11-16T18:49:27.855Z"
   },
   {
    "duration": 9,
    "start_time": "2021-11-16T18:49:27.871Z"
   },
   {
    "duration": 51,
    "start_time": "2021-11-16T18:49:27.882Z"
   },
   {
    "duration": 5,
    "start_time": "2021-11-16T18:49:27.936Z"
   },
   {
    "duration": 6,
    "start_time": "2021-11-16T18:49:27.943Z"
   },
   {
    "duration": 8,
    "start_time": "2021-11-16T18:49:27.951Z"
   },
   {
    "duration": 7,
    "start_time": "2021-11-16T18:49:27.962Z"
   },
   {
    "duration": 12,
    "start_time": "2021-11-16T18:49:27.971Z"
   },
   {
    "duration": 44,
    "start_time": "2021-11-16T18:49:27.985Z"
   },
   {
    "duration": 92104,
    "start_time": "2021-11-16T18:49:28.031Z"
   },
   {
    "duration": 8,
    "start_time": "2021-11-16T18:51:00.137Z"
   },
   {
    "duration": 12,
    "start_time": "2021-11-16T18:51:00.148Z"
   },
   {
    "duration": 20,
    "start_time": "2021-11-16T18:51:00.162Z"
   },
   {
    "duration": 13,
    "start_time": "2021-11-16T18:51:00.185Z"
   },
   {
    "duration": 4,
    "start_time": "2021-11-16T18:51:00.229Z"
   },
   {
    "duration": 15,
    "start_time": "2021-11-16T18:51:00.236Z"
   },
   {
    "duration": 367524,
    "start_time": "2021-11-16T18:51:00.258Z"
   },
   {
    "duration": 10,
    "start_time": "2021-11-16T18:57:07.786Z"
   },
   {
    "duration": 48,
    "start_time": "2021-11-16T18:57:07.798Z"
   },
   {
    "duration": 13,
    "start_time": "2021-11-16T18:57:07.848Z"
   },
   {
    "duration": 6,
    "start_time": "2021-11-16T18:57:07.864Z"
   },
   {
    "duration": 7,
    "start_time": "2021-11-16T18:57:07.872Z"
   },
   {
    "duration": 211865,
    "start_time": "2021-11-16T18:57:07.881Z"
   },
   {
    "duration": 7,
    "start_time": "2021-11-16T19:00:39.748Z"
   },
   {
    "duration": 18,
    "start_time": "2021-11-16T19:00:39.757Z"
   },
   {
    "duration": 13,
    "start_time": "2021-11-16T19:00:39.778Z"
   },
   {
    "duration": 36,
    "start_time": "2021-11-16T19:00:39.793Z"
   },
   {
    "duration": 19545,
    "start_time": "2021-11-16T19:00:39.832Z"
   },
   {
    "duration": 8,
    "start_time": "2021-11-16T19:00:59.380Z"
   },
   {
    "duration": 46,
    "start_time": "2021-11-16T19:00:59.390Z"
   },
   {
    "duration": 14,
    "start_time": "2021-11-16T19:00:59.438Z"
   },
   {
    "duration": 6,
    "start_time": "2021-11-16T19:00:59.455Z"
   },
   {
    "duration": 10,
    "start_time": "2021-11-16T19:00:59.464Z"
   },
   {
    "duration": 17,
    "start_time": "2021-11-16T19:00:59.477Z"
   },
   {
    "duration": 95514,
    "start_time": "2021-11-16T19:00:59.496Z"
   },
   {
    "duration": 29,
    "start_time": "2021-11-16T19:02:35.013Z"
   },
   {
    "duration": 32,
    "start_time": "2021-11-16T19:02:35.044Z"
   },
   {
    "duration": 50,
    "start_time": "2021-11-16T19:02:35.079Z"
   },
   {
    "duration": 424076,
    "start_time": "2021-11-16T19:02:35.132Z"
   },
   {
    "duration": 52,
    "start_time": "2021-11-16T19:09:39.211Z"
   },
   {
    "duration": 16,
    "start_time": "2021-11-16T19:09:39.266Z"
   },
   {
    "duration": 317218,
    "start_time": "2021-11-16T19:09:39.284Z"
   },
   {
    "duration": 29,
    "start_time": "2021-11-16T19:14:56.504Z"
   },
   {
    "duration": 16,
    "start_time": "2021-11-16T19:14:56.535Z"
   },
   {
    "duration": 21766,
    "start_time": "2021-11-16T19:14:56.553Z"
   },
   {
    "duration": 9,
    "start_time": "2021-11-16T19:15:18.322Z"
   },
   {
    "duration": 27,
    "start_time": "2021-11-16T19:15:18.333Z"
   },
   {
    "duration": 16,
    "start_time": "2021-11-16T19:15:18.362Z"
   },
   {
    "duration": 7,
    "start_time": "2021-11-16T19:15:18.380Z"
   },
   {
    "duration": 3,
    "start_time": "2021-11-16T19:15:18.430Z"
   },
   {
    "duration": 10,
    "start_time": "2021-11-16T19:15:18.435Z"
   },
   {
    "duration": 6,
    "start_time": "2021-11-16T19:15:18.448Z"
   },
   {
    "duration": 9,
    "start_time": "2021-11-16T19:15:18.457Z"
   },
   {
    "duration": 5,
    "start_time": "2021-11-16T19:15:18.469Z"
   },
   {
    "duration": 6,
    "start_time": "2021-11-16T19:15:18.477Z"
   },
   {
    "duration": 5,
    "start_time": "2021-11-16T19:15:18.485Z"
   },
   {
    "duration": 39,
    "start_time": "2021-11-16T19:15:18.493Z"
   },
   {
    "duration": 650,
    "start_time": "2021-11-16T19:15:18.535Z"
   },
   {
    "duration": 5,
    "start_time": "2021-11-16T19:22:00.992Z"
   },
   {
    "duration": 6,
    "start_time": "2021-11-16T19:32:13.966Z"
   },
   {
    "duration": 24,
    "start_time": "2021-11-16T19:32:13.975Z"
   },
   {
    "duration": 8,
    "start_time": "2021-11-16T19:32:14.002Z"
   },
   {
    "duration": 13,
    "start_time": "2021-11-16T19:32:14.013Z"
   },
   {
    "duration": 11,
    "start_time": "2021-11-16T19:32:14.028Z"
   },
   {
    "duration": 176,
    "start_time": "2021-11-16T19:32:14.042Z"
   },
   {
    "duration": 629,
    "start_time": "2021-11-16T19:32:14.221Z"
   },
   {
    "duration": 17276,
    "start_time": "2021-11-16T19:32:14.854Z"
   },
   {
    "duration": 6,
    "start_time": "2021-11-16T19:32:32.133Z"
   },
   {
    "duration": 25,
    "start_time": "2021-11-16T19:32:32.141Z"
   },
   {
    "duration": 12,
    "start_time": "2021-11-16T19:32:32.168Z"
   },
   {
    "duration": 6,
    "start_time": "2021-11-16T19:32:32.183Z"
   },
   {
    "duration": 8,
    "start_time": "2021-11-16T19:32:32.191Z"
   },
   {
    "duration": 5,
    "start_time": "2021-11-16T19:32:32.230Z"
   },
   {
    "duration": 11,
    "start_time": "2021-11-16T19:32:32.237Z"
   },
   {
    "duration": 10,
    "start_time": "2021-11-16T19:32:32.250Z"
   },
   {
    "duration": 8,
    "start_time": "2021-11-16T19:32:32.263Z"
   },
   {
    "duration": 11,
    "start_time": "2021-11-16T19:32:32.273Z"
   },
   {
    "duration": 82074,
    "start_time": "2021-11-16T19:32:32.286Z"
   },
   {
    "duration": 7,
    "start_time": "2021-11-16T19:33:54.363Z"
   },
   {
    "duration": 9,
    "start_time": "2021-11-16T19:33:54.372Z"
   },
   {
    "duration": 51,
    "start_time": "2021-11-16T19:33:54.383Z"
   },
   {
    "duration": 13,
    "start_time": "2021-11-16T19:33:54.438Z"
   },
   {
    "duration": 9,
    "start_time": "2021-11-16T19:33:54.455Z"
   },
   {
    "duration": 7,
    "start_time": "2021-11-16T19:33:54.466Z"
   },
   {
    "duration": 367656,
    "start_time": "2021-11-16T19:33:54.475Z"
   },
   {
    "duration": 11,
    "start_time": "2021-11-16T19:40:02.134Z"
   },
   {
    "duration": 40,
    "start_time": "2021-11-16T19:40:02.148Z"
   },
   {
    "duration": 14,
    "start_time": "2021-11-16T19:40:02.190Z"
   },
   {
    "duration": 4,
    "start_time": "2021-11-16T19:40:02.230Z"
   },
   {
    "duration": 7,
    "start_time": "2021-11-16T19:40:02.237Z"
   },
   {
    "duration": 205340,
    "start_time": "2021-11-16T19:40:02.247Z"
   },
   {
    "duration": 6,
    "start_time": "2021-11-16T19:43:27.590Z"
   },
   {
    "duration": 32,
    "start_time": "2021-11-16T19:43:27.599Z"
   },
   {
    "duration": 13,
    "start_time": "2021-11-16T19:43:27.633Z"
   },
   {
    "duration": 4,
    "start_time": "2021-11-16T19:43:27.649Z"
   },
   {
    "duration": 18239,
    "start_time": "2021-11-16T19:43:27.656Z"
   },
   {
    "duration": 10,
    "start_time": "2021-11-16T19:43:45.897Z"
   },
   {
    "duration": 31,
    "start_time": "2021-11-16T19:43:45.910Z"
   },
   {
    "duration": 14,
    "start_time": "2021-11-16T19:43:45.944Z"
   },
   {
    "duration": 10,
    "start_time": "2021-11-16T19:43:45.960Z"
   },
   {
    "duration": 3,
    "start_time": "2021-11-16T19:43:55.140Z"
   },
   {
    "duration": 4,
    "start_time": "2021-11-16T19:43:58.083Z"
   },
   {
    "duration": 13739,
    "start_time": "2021-11-16T19:44:00.244Z"
   },
   {
    "duration": 7,
    "start_time": "2021-11-16T19:44:27.868Z"
   },
   {
    "duration": 4,
    "start_time": "2021-11-16T19:44:40.779Z"
   },
   {
    "duration": 4,
    "start_time": "2021-11-16T19:44:42.729Z"
   },
   {
    "duration": 43821,
    "start_time": "2021-11-16T19:44:51.966Z"
   },
   {
    "duration": 9,
    "start_time": "2021-11-16T19:45:48.062Z"
   },
   {
    "duration": 4,
    "start_time": "2021-11-16T19:46:06.262Z"
   },
   {
    "duration": 4,
    "start_time": "2021-11-16T19:46:10.837Z"
   },
   {
    "duration": 50885,
    "start_time": "2021-11-16T19:46:14.086Z"
   },
   {
    "duration": 7,
    "start_time": "2021-11-16T19:47:10.172Z"
   },
   {
    "duration": 4,
    "start_time": "2021-11-16T19:47:21.749Z"
   },
   {
    "duration": 4,
    "start_time": "2021-11-16T19:47:24.083Z"
   },
   {
    "duration": 43561,
    "start_time": "2021-11-16T19:47:26.844Z"
   },
   {
    "duration": 4,
    "start_time": "2021-11-16T19:48:21.394Z"
   },
   {
    "duration": 3,
    "start_time": "2021-11-16T19:48:23.267Z"
   },
   {
    "duration": 53705,
    "start_time": "2021-11-16T19:48:25.031Z"
   },
   {
    "duration": 9,
    "start_time": "2021-11-16T19:49:23.137Z"
   },
   {
    "duration": 8,
    "start_time": "2021-11-16T19:54:25.153Z"
   },
   {
    "duration": 98,
    "start_time": "2021-11-16T19:54:26.044Z"
   },
   {
    "duration": 6,
    "start_time": "2021-11-16T19:54:39.132Z"
   },
   {
    "duration": 18,
    "start_time": "2021-11-16T19:56:34.635Z"
   },
   {
    "duration": 23,
    "start_time": "2021-11-16T19:56:35.525Z"
   },
   {
    "duration": 18,
    "start_time": "2021-11-16T19:57:36.683Z"
   },
   {
    "duration": 33,
    "start_time": "2021-11-16T19:57:38.033Z"
   },
   {
    "duration": 20,
    "start_time": "2021-11-16T19:58:09.808Z"
   },
   {
    "duration": 33,
    "start_time": "2021-11-16T19:58:10.883Z"
   },
   {
    "duration": 35,
    "start_time": "2021-11-16T20:04:19.840Z"
   },
   {
    "duration": 6,
    "start_time": "2021-11-16T20:05:38.110Z"
   },
   {
    "duration": 6,
    "start_time": "2021-11-16T20:06:00.145Z"
   },
   {
    "duration": 17,
    "start_time": "2021-11-16T20:09:00.561Z"
   },
   {
    "duration": 17,
    "start_time": "2021-11-16T20:09:20.465Z"
   },
   {
    "duration": 18,
    "start_time": "2021-11-16T20:10:50.239Z"
   },
   {
    "duration": 78,
    "start_time": "2021-11-16T20:11:21.825Z"
   },
   {
    "duration": 5,
    "start_time": "2021-11-16T20:13:09.628Z"
   },
   {
    "duration": 285,
    "start_time": "2021-11-16T20:14:20.008Z"
   },
   {
    "duration": 22,
    "start_time": "2021-11-16T20:14:34.795Z"
   },
   {
    "duration": 43,
    "start_time": "2021-11-16T20:16:39.585Z"
   },
   {
    "duration": 38,
    "start_time": "2021-11-16T20:16:40.566Z"
   },
   {
    "duration": 1588,
    "start_time": "2021-11-16T20:19:43.041Z"
   },
   {
    "duration": 21,
    "start_time": "2021-11-16T20:19:44.632Z"
   },
   {
    "duration": 10,
    "start_time": "2021-11-16T20:19:44.656Z"
   },
   {
    "duration": 19,
    "start_time": "2021-11-16T20:19:44.669Z"
   },
   {
    "duration": 41,
    "start_time": "2021-11-16T20:19:44.690Z"
   },
   {
    "duration": 144,
    "start_time": "2021-11-16T20:19:44.733Z"
   },
   {
    "duration": 600,
    "start_time": "2021-11-16T20:19:44.880Z"
   },
   {
    "duration": 28052,
    "start_time": "2021-11-16T20:19:45.482Z"
   },
   {
    "duration": 7,
    "start_time": "2021-11-16T20:20:13.541Z"
   },
   {
    "duration": 40,
    "start_time": "2021-11-16T20:20:13.552Z"
   },
   {
    "duration": 7,
    "start_time": "2021-11-16T20:20:13.594Z"
   },
   {
    "duration": 7,
    "start_time": "2021-11-16T20:20:13.604Z"
   },
   {
    "duration": 18,
    "start_time": "2021-11-16T20:20:13.613Z"
   },
   {
    "duration": 6,
    "start_time": "2021-11-16T20:20:13.634Z"
   },
   {
    "duration": 15,
    "start_time": "2021-11-16T20:20:13.642Z"
   },
   {
    "duration": 8,
    "start_time": "2021-11-16T20:20:13.660Z"
   },
   {
    "duration": 7,
    "start_time": "2021-11-16T20:20:13.671Z"
   },
   {
    "duration": 5,
    "start_time": "2021-11-16T20:20:13.681Z"
   },
   {
    "duration": 94939,
    "start_time": "2021-11-16T20:20:13.730Z"
   },
   {
    "duration": 8,
    "start_time": "2021-11-16T20:21:48.671Z"
   },
   {
    "duration": 8,
    "start_time": "2021-11-16T20:21:48.681Z"
   },
   {
    "duration": 51,
    "start_time": "2021-11-16T20:21:48.691Z"
   },
   {
    "duration": 13,
    "start_time": "2021-11-16T20:21:48.744Z"
   },
   {
    "duration": 9,
    "start_time": "2021-11-16T20:21:48.760Z"
   },
   {
    "duration": 7,
    "start_time": "2021-11-16T20:21:48.771Z"
   },
   {
    "duration": 422419,
    "start_time": "2021-11-16T20:21:48.780Z"
   },
   {
    "duration": 25,
    "start_time": "2021-11-16T20:28:51.204Z"
   },
   {
    "duration": 29,
    "start_time": "2021-11-16T20:28:51.232Z"
   },
   {
    "duration": 14,
    "start_time": "2021-11-16T20:28:51.263Z"
   },
   {
    "duration": 17,
    "start_time": "2021-11-16T20:28:51.280Z"
   },
   {
    "duration": 13,
    "start_time": "2021-11-16T20:28:51.300Z"
   },
   {
    "duration": 50479,
    "start_time": "2021-11-16T20:28:51.315Z"
   },
   {
    "duration": 10,
    "start_time": "2021-11-16T20:29:41.797Z"
   },
   {
    "duration": 19,
    "start_time": "2021-11-16T20:29:41.828Z"
   },
   {
    "duration": 16,
    "start_time": "2021-11-16T20:29:41.850Z"
   },
   {
    "duration": 5,
    "start_time": "2021-11-16T20:29:41.868Z"
   },
   {
    "duration": 18822,
    "start_time": "2021-11-16T20:29:41.876Z"
   },
   {
    "duration": 14,
    "start_time": "2021-11-16T20:30:00.701Z"
   },
   {
    "duration": 39,
    "start_time": "2021-11-16T20:30:00.718Z"
   },
   {
    "duration": 15,
    "start_time": "2021-11-16T20:30:00.759Z"
   },
   {
    "duration": 16,
    "start_time": "2021-11-16T20:30:00.776Z"
   },
   {
    "duration": 38,
    "start_time": "2021-11-16T20:30:00.795Z"
   },
   {
    "duration": 25,
    "start_time": "2021-11-16T20:30:00.835Z"
   },
   {
    "duration": 40,
    "start_time": "2021-11-16T20:30:00.862Z"
   },
   {
    "duration": 27,
    "start_time": "2021-11-16T20:30:00.904Z"
   },
   {
    "duration": 20,
    "start_time": "2021-11-16T20:30:00.933Z"
   },
   {
    "duration": 28,
    "start_time": "2021-11-16T20:30:00.956Z"
   },
   {
    "duration": 88,
    "start_time": "2021-11-16T20:30:00.986Z"
   },
   {
    "duration": 30,
    "start_time": "2021-11-16T20:30:01.076Z"
   },
   {
    "duration": 30,
    "start_time": "2021-11-16T20:30:01.109Z"
   },
   {
    "duration": 14,
    "start_time": "2021-11-16T20:30:01.142Z"
   },
   {
    "duration": 34,
    "start_time": "2021-11-16T20:30:01.159Z"
   },
   {
    "duration": 52,
    "start_time": "2021-11-16T20:30:01.195Z"
   },
   {
    "duration": 31,
    "start_time": "2021-11-16T20:30:01.250Z"
   },
   {
    "duration": 31785,
    "start_time": "2021-11-16T20:30:01.283Z"
   },
   {
    "duration": 12,
    "start_time": "2021-11-16T20:30:33.070Z"
   },
   {
    "duration": 59,
    "start_time": "2021-11-16T20:30:33.085Z"
   },
   {
    "duration": 17,
    "start_time": "2021-11-16T20:30:33.146Z"
   },
   {
    "duration": 10,
    "start_time": "2021-11-16T20:30:33.166Z"
   },
   {
    "duration": 648,
    "start_time": "2021-11-16T20:30:33.178Z"
   },
   {
    "duration": 19,
    "start_time": "2021-11-16T20:33:41.725Z"
   },
   {
    "duration": 18,
    "start_time": "2021-11-16T20:34:02.477Z"
   },
   {
    "duration": 18,
    "start_time": "2021-11-16T20:34:03.401Z"
   },
   {
    "duration": 85,
    "start_time": "2021-11-16T20:34:30.327Z"
   },
   {
    "duration": 32,
    "start_time": "2021-11-16T20:34:41.367Z"
   },
   {
    "duration": 18,
    "start_time": "2021-11-16T20:34:42.163Z"
   },
   {
    "duration": 1621,
    "start_time": "2021-11-16T20:36:14.313Z"
   },
   {
    "duration": 20,
    "start_time": "2021-11-16T20:36:15.936Z"
   },
   {
    "duration": 22,
    "start_time": "2021-11-16T20:36:15.958Z"
   },
   {
    "duration": 33,
    "start_time": "2021-11-16T20:36:15.982Z"
   },
   {
    "duration": 12,
    "start_time": "2021-11-16T20:36:16.018Z"
   },
   {
    "duration": 155,
    "start_time": "2021-11-16T20:36:16.033Z"
   },
   {
    "duration": 650,
    "start_time": "2021-11-16T20:36:16.191Z"
   },
   {
    "duration": 18864,
    "start_time": "2021-11-16T20:36:16.845Z"
   },
   {
    "duration": 18,
    "start_time": "2021-11-16T20:36:35.712Z"
   },
   {
    "duration": 13,
    "start_time": "2021-11-16T20:36:35.732Z"
   },
   {
    "duration": 21,
    "start_time": "2021-11-16T20:36:35.747Z"
   },
   {
    "duration": 6,
    "start_time": "2021-11-16T20:36:35.770Z"
   },
   {
    "duration": 23,
    "start_time": "2021-11-16T20:36:35.778Z"
   },
   {
    "duration": 13,
    "start_time": "2021-11-16T20:36:35.803Z"
   },
   {
    "duration": 29,
    "start_time": "2021-11-16T20:36:35.819Z"
   },
   {
    "duration": 22,
    "start_time": "2021-11-16T20:36:35.852Z"
   },
   {
    "duration": 29,
    "start_time": "2021-11-16T20:36:35.878Z"
   },
   {
    "duration": 27,
    "start_time": "2021-11-16T20:36:35.911Z"
   },
   {
    "duration": 79978,
    "start_time": "2021-11-16T20:36:35.940Z"
   },
   {
    "duration": 13,
    "start_time": "2021-11-16T20:37:55.921Z"
   },
   {
    "duration": 9,
    "start_time": "2021-11-16T20:37:55.937Z"
   },
   {
    "duration": 17,
    "start_time": "2021-11-16T20:37:55.949Z"
   },
   {
    "duration": 14,
    "start_time": "2021-11-16T20:37:55.971Z"
   },
   {
    "duration": 4,
    "start_time": "2021-11-16T20:37:56.031Z"
   },
   {
    "duration": 6,
    "start_time": "2021-11-16T20:37:56.038Z"
   },
   {
    "duration": 404415,
    "start_time": "2021-11-16T20:37:56.046Z"
   },
   {
    "duration": 11,
    "start_time": "2021-11-16T20:44:40.463Z"
   },
   {
    "duration": 60,
    "start_time": "2021-11-16T20:44:40.476Z"
   },
   {
    "duration": 14,
    "start_time": "2021-11-16T20:44:40.538Z"
   },
   {
    "duration": 7,
    "start_time": "2021-11-16T20:44:40.554Z"
   },
   {
    "duration": 7,
    "start_time": "2021-11-16T20:44:40.563Z"
   },
   {
    "duration": 65231,
    "start_time": "2021-11-16T20:44:40.572Z"
   },
   {
    "duration": 10,
    "start_time": "2021-11-16T20:45:45.805Z"
   },
   {
    "duration": 20,
    "start_time": "2021-11-16T20:45:45.831Z"
   },
   {
    "duration": 14,
    "start_time": "2021-11-16T20:45:45.854Z"
   },
   {
    "duration": 7,
    "start_time": "2021-11-16T20:45:45.871Z"
   },
   {
    "duration": 18598,
    "start_time": "2021-11-16T20:45:45.881Z"
   },
   {
    "duration": 11,
    "start_time": "2021-11-16T20:46:04.482Z"
   },
   {
    "duration": 23,
    "start_time": "2021-11-16T20:46:04.495Z"
   },
   {
    "duration": 19,
    "start_time": "2021-11-16T20:46:04.520Z"
   },
   {
    "duration": 9,
    "start_time": "2021-11-16T20:46:04.541Z"
   },
   {
    "duration": 7,
    "start_time": "2021-11-16T20:46:04.552Z"
   },
   {
    "duration": 11,
    "start_time": "2021-11-16T20:46:04.562Z"
   },
   {
    "duration": 21,
    "start_time": "2021-11-16T20:46:04.575Z"
   },
   {
    "duration": 44,
    "start_time": "2021-11-16T20:46:04.599Z"
   },
   {
    "duration": 16,
    "start_time": "2021-11-16T20:46:04.646Z"
   },
   {
    "duration": 17,
    "start_time": "2021-11-16T20:46:04.665Z"
   },
   {
    "duration": 107,
    "start_time": "2021-11-16T20:46:04.685Z"
   },
   {
    "duration": 42,
    "start_time": "2021-11-16T20:46:04.795Z"
   },
   {
    "duration": 15,
    "start_time": "2021-11-16T20:46:04.840Z"
   },
   {
    "duration": 7,
    "start_time": "2021-11-16T20:46:04.857Z"
   },
   {
    "duration": 18,
    "start_time": "2021-11-16T20:46:04.867Z"
   },
   {
    "duration": 45,
    "start_time": "2021-11-16T20:46:04.887Z"
   },
   {
    "duration": 15,
    "start_time": "2021-11-16T20:46:04.935Z"
   },
   {
    "duration": 25446,
    "start_time": "2021-11-16T20:46:04.953Z"
   },
   {
    "duration": 12,
    "start_time": "2021-11-16T20:46:30.402Z"
   },
   {
    "duration": 42,
    "start_time": "2021-11-16T20:46:30.416Z"
   },
   {
    "duration": 19,
    "start_time": "2021-11-16T20:46:30.461Z"
   },
   {
    "duration": 36,
    "start_time": "2021-11-16T20:46:30.483Z"
   },
   {
    "duration": 649,
    "start_time": "2021-11-16T20:46:30.529Z"
   },
   {
    "duration": 8,
    "start_time": "2021-11-16T20:53:52.370Z"
   },
   {
    "duration": 4,
    "start_time": "2021-11-16T21:03:02.657Z"
   },
   {
    "duration": 4,
    "start_time": "2021-11-16T21:03:07.587Z"
   },
   {
    "duration": 32098,
    "start_time": "2021-11-16T21:03:09.910Z"
   },
   {
    "duration": 4,
    "start_time": "2021-11-16T21:03:43.449Z"
   },
   {
    "duration": 5,
    "start_time": "2021-11-16T21:03:46.708Z"
   },
   {
    "duration": 78621,
    "start_time": "2021-11-16T21:03:48.360Z"
   },
   {
    "duration": 105,
    "start_time": "2021-11-16T21:10:37.575Z"
   },
   {
    "duration": 6,
    "start_time": "2021-11-16T21:33:58.409Z"
   },
   {
    "duration": 636,
    "start_time": "2021-11-16T21:34:00.762Z"
   },
   {
    "duration": 623,
    "start_time": "2021-11-16T21:36:14.421Z"
   },
   {
    "duration": 18,
    "start_time": "2021-11-16T21:37:16.503Z"
   },
   {
    "duration": 1557,
    "start_time": "2021-11-16T21:53:51.139Z"
   },
   {
    "duration": 20,
    "start_time": "2021-11-16T21:53:52.699Z"
   },
   {
    "duration": 12,
    "start_time": "2021-11-16T21:53:52.722Z"
   },
   {
    "duration": 25,
    "start_time": "2021-11-16T21:53:52.736Z"
   },
   {
    "duration": 9,
    "start_time": "2021-11-16T21:53:52.763Z"
   },
   {
    "duration": 149,
    "start_time": "2021-11-16T21:53:52.775Z"
   },
   {
    "duration": 551,
    "start_time": "2021-11-16T21:53:52.928Z"
   },
   {
    "duration": 17103,
    "start_time": "2021-11-16T21:53:53.485Z"
   },
   {
    "duration": 4,
    "start_time": "2021-11-16T21:54:10.591Z"
   },
   {
    "duration": 36,
    "start_time": "2021-11-16T21:54:10.598Z"
   },
   {
    "duration": 8,
    "start_time": "2021-11-16T21:54:10.636Z"
   },
   {
    "duration": 12,
    "start_time": "2021-11-16T21:54:10.646Z"
   },
   {
    "duration": 21,
    "start_time": "2021-11-16T21:54:10.660Z"
   },
   {
    "duration": 12,
    "start_time": "2021-11-16T21:54:10.683Z"
   },
   {
    "duration": 10,
    "start_time": "2021-11-16T21:54:10.697Z"
   },
   {
    "duration": 20,
    "start_time": "2021-11-16T21:54:10.709Z"
   },
   {
    "duration": 9,
    "start_time": "2021-11-16T21:54:10.731Z"
   },
   {
    "duration": 9,
    "start_time": "2021-11-16T21:54:10.743Z"
   },
   {
    "duration": 78903,
    "start_time": "2021-11-16T21:54:10.755Z"
   },
   {
    "duration": 7,
    "start_time": "2021-11-16T21:55:29.660Z"
   },
   {
    "duration": 18,
    "start_time": "2021-11-16T21:55:29.670Z"
   },
   {
    "duration": 39,
    "start_time": "2021-11-16T21:55:29.691Z"
   },
   {
    "duration": 4,
    "start_time": "2021-11-16T21:55:29.736Z"
   },
   {
    "duration": 6,
    "start_time": "2021-11-16T21:55:29.743Z"
   },
   {
    "duration": 365866,
    "start_time": "2021-11-16T21:55:29.751Z"
   },
   {
    "duration": 17,
    "start_time": "2021-11-16T22:01:35.619Z"
   },
   {
    "duration": 35,
    "start_time": "2021-11-16T22:01:35.639Z"
   },
   {
    "duration": 19,
    "start_time": "2021-11-16T22:01:35.676Z"
   },
   {
    "duration": 33,
    "start_time": "2021-11-16T22:01:35.697Z"
   },
   {
    "duration": 12,
    "start_time": "2021-11-16T22:01:35.733Z"
   },
   {
    "duration": 19027,
    "start_time": "2021-11-16T22:01:35.747Z"
   },
   {
    "duration": 8,
    "start_time": "2021-11-16T22:01:54.776Z"
   },
   {
    "duration": 24,
    "start_time": "2021-11-16T22:01:54.787Z"
   },
   {
    "duration": 30,
    "start_time": "2021-11-16T22:01:54.814Z"
   },
   {
    "duration": 7,
    "start_time": "2021-11-16T22:01:54.847Z"
   },
   {
    "duration": 19108,
    "start_time": "2021-11-16T22:01:54.856Z"
   },
   {
    "duration": 9,
    "start_time": "2021-11-16T22:02:13.967Z"
   },
   {
    "duration": 55,
    "start_time": "2021-11-16T22:02:13.978Z"
   },
   {
    "duration": 18,
    "start_time": "2021-11-16T22:02:14.035Z"
   },
   {
    "duration": 7,
    "start_time": "2021-11-16T22:02:14.056Z"
   },
   {
    "duration": 8,
    "start_time": "2021-11-16T22:02:14.065Z"
   },
   {
    "duration": 55,
    "start_time": "2021-11-16T22:02:14.075Z"
   },
   {
    "duration": 17,
    "start_time": "2021-11-16T22:02:14.133Z"
   },
   {
    "duration": 16,
    "start_time": "2021-11-16T22:02:14.152Z"
   },
   {
    "duration": 5,
    "start_time": "2021-11-16T22:02:14.171Z"
   },
   {
    "duration": 120,
    "start_time": "2021-11-16T22:02:14.178Z"
   },
   {
    "duration": 38,
    "start_time": "2021-11-16T22:02:14.300Z"
   },
   {
    "duration": 16,
    "start_time": "2021-11-16T22:02:14.340Z"
   },
   {
    "duration": 13,
    "start_time": "2021-11-16T22:02:14.358Z"
   },
   {
    "duration": 23,
    "start_time": "2021-11-16T22:02:14.373Z"
   },
   {
    "duration": 37,
    "start_time": "2021-11-16T22:02:14.398Z"
   },
   {
    "duration": 16,
    "start_time": "2021-11-16T22:02:14.438Z"
   },
   {
    "duration": 20629,
    "start_time": "2021-11-16T22:02:14.456Z"
   },
   {
    "duration": 10,
    "start_time": "2021-11-16T22:02:35.088Z"
   },
   {
    "duration": 37,
    "start_time": "2021-11-16T22:02:35.100Z"
   },
   {
    "duration": 17,
    "start_time": "2021-11-16T22:02:35.140Z"
   },
   {
    "duration": 7,
    "start_time": "2021-11-16T22:02:35.159Z"
   },
   {
    "duration": 665,
    "start_time": "2021-11-16T22:02:35.168Z"
   },
   {
    "duration": 18,
    "start_time": "2021-11-16T22:02:35.835Z"
   }
  ],
  "kernelspec": {
   "display_name": "Python 3 (ipykernel)",
   "language": "python",
   "name": "python3"
  },
  "language_info": {
   "codemirror_mode": {
    "name": "ipython",
    "version": 3
   },
   "file_extension": ".py",
   "mimetype": "text/x-python",
   "name": "python",
   "nbconvert_exporter": "python",
   "pygments_lexer": "ipython3",
   "version": "3.9.12"
  },
  "toc": {
   "base_numbering": 1,
   "nav_menu": {},
   "number_sections": true,
   "sideBar": true,
   "skip_h1_title": true,
   "title_cell": "Table of Contents",
   "title_sidebar": "Contents",
   "toc_cell": false,
   "toc_position": {
    "height": "1146px",
    "left": "299px",
    "top": "494px",
    "width": "473.594px"
   },
   "toc_section_display": true,
   "toc_window_display": true
  }
 },
 "nbformat": 4,
 "nbformat_minor": 2
}
