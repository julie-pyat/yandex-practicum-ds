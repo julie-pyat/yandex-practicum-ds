{
 "cells": [
  {
   "cell_type": "markdown",
   "metadata": {},
   "source": [
    "# Исследование надёжности заёмщиков\n",
    "\n",
    "Заказчик — кредитный отдел банка. Нужно разобраться, влияет ли семейное положение и количество детей клиента на факт погашения кредита в срок. Входные данные от банка — статистика о платёжеспособности клиентов.\n",
    "\n",
    "Результаты исследования будут учтены при построении модели **кредитного скоринга** — специальной системы, которая оценивает способность потенциального заёмщика вернуть кредит банку."
   ]
  },
  {
   "cell_type": "markdown",
   "metadata": {},
   "source": [
    "## Шаг 1. Откройте файл с данными и изучите общую информацию"
   ]
  },
  {
   "cell_type": "markdown",
   "metadata": {},
   "source": [
    "### Изучение общей информации файла таблицы"
   ]
  },
  {
   "cell_type": "markdown",
   "metadata": {},
   "source": [
    "Прежде чем начать работать с таблицей, было бы хорошо изучить общую информацию о файле наших исходных данных: сколько имеется столбцов у таблицы, названия этих столбцов и их типов, а также количество строк каждого столбца. Это нужно для того, чтобы определить, в каких столбцах есть пустые значения и насколько их много."
   ]
  },
  {
   "cell_type": "code",
   "execution_count": 1,
   "metadata": {
    "scrolled": true
   },
   "outputs": [
    {
     "name": "stdout",
     "output_type": "stream",
     "text": [
      "<class 'pandas.core.frame.DataFrame'>\n",
      "RangeIndex: 21525 entries, 0 to 21524\n",
      "Data columns (total 12 columns):\n",
      "children            21525 non-null int64\n",
      "days_employed       19351 non-null float64\n",
      "dob_years           21525 non-null int64\n",
      "education           21525 non-null object\n",
      "education_id        21525 non-null int64\n",
      "family_status       21525 non-null object\n",
      "family_status_id    21525 non-null int64\n",
      "gender              21525 non-null object\n",
      "income_type         21525 non-null object\n",
      "debt                21525 non-null int64\n",
      "total_income        19351 non-null float64\n",
      "purpose             21525 non-null object\n",
      "dtypes: float64(2), int64(5), object(5)\n",
      "memory usage: 2.0+ MB\n"
     ]
    }
   ],
   "source": [
    "#импорт библиотеки pandas, открытие файла с данными и чтение общей информации файла таблицы\n",
    "import pandas as pd\n",
    "df = pd.read_csv('/datasets/data.csv')\n",
    "df.info()"
   ]
  },
  {
   "cell_type": "markdown",
   "metadata": {},
   "source": [
    "Из описания проекта мы уже знаем, что таблица имеет 12 столбцов:\n",
    "\n",
    "* children — количество детей в семье\n",
    "* days_employed — трудовой стаж в днях\n",
    "* dob_days — возраст клиента в годах\n",
    "* education — образование клиента\n",
    "* education_id — идентификатор образования\n",
    "* family_status — семейное положение\n",
    "* family_status_id — идентификатор семейного положения\n",
    "* gender — пол клиента\n",
    "* income_type — тип занятости\n",
    "* debt — имел ли задолженность по возврату кредитов\n",
    "* total_income — доход в месяц\n",
    "* purpose — цель получения кредита\n",
    "\n",
    "Также мы видим, какие есть типы данных и в каких столбцах."
   ]
  },
  {
   "cell_type": "markdown",
   "metadata": {},
   "source": [
    "**Вывод**"
   ]
  },
  {
   "cell_type": "markdown",
   "metadata": {},
   "source": [
    "Мы можем сделать выводы по общей информации файла исходной таблицы:\n",
    "1. Общее количество строк таблицы - 21525.\n",
    "2. В столбцах days_employes и total_income присутствуют пустые значения, причем их количество совпадает 21525 - 19351 = 2174.\n",
    "3. Значения столбца days_employed (трудовой стаж в днях) имеет вещественный тип float64, хотя стаж считается в полных днях, а значит, правильнее было бы сделать тип столбца целый int64."
   ]
  },
  {
   "cell_type": "markdown",
   "metadata": {},
   "source": [
    "### Изучение общего вида таблицы"
   ]
  },
  {
   "cell_type": "markdown",
   "metadata": {},
   "source": [
    "Изучим внешний вид таблицы, чтобы визуально оценить какие данные требуют более глубокого анализа. Прочтем первые 15 строк из нашей таблицы:"
   ]
  },
  {
   "cell_type": "code",
   "execution_count": 2,
   "metadata": {},
   "outputs": [
    {
     "data": {
      "text/html": [
       "<div>\n",
       "<style scoped>\n",
       "    .dataframe tbody tr th:only-of-type {\n",
       "        vertical-align: middle;\n",
       "    }\n",
       "\n",
       "    .dataframe tbody tr th {\n",
       "        vertical-align: top;\n",
       "    }\n",
       "\n",
       "    .dataframe thead th {\n",
       "        text-align: right;\n",
       "    }\n",
       "</style>\n",
       "<table border=\"1\" class=\"dataframe\">\n",
       "  <thead>\n",
       "    <tr style=\"text-align: right;\">\n",
       "      <th></th>\n",
       "      <th>children</th>\n",
       "      <th>days_employed</th>\n",
       "      <th>dob_years</th>\n",
       "      <th>education</th>\n",
       "      <th>education_id</th>\n",
       "      <th>family_status</th>\n",
       "      <th>family_status_id</th>\n",
       "      <th>gender</th>\n",
       "      <th>income_type</th>\n",
       "      <th>debt</th>\n",
       "      <th>total_income</th>\n",
       "      <th>purpose</th>\n",
       "    </tr>\n",
       "  </thead>\n",
       "  <tbody>\n",
       "    <tr>\n",
       "      <td>0</td>\n",
       "      <td>1</td>\n",
       "      <td>-8437.673028</td>\n",
       "      <td>42</td>\n",
       "      <td>высшее</td>\n",
       "      <td>0</td>\n",
       "      <td>женат / замужем</td>\n",
       "      <td>0</td>\n",
       "      <td>F</td>\n",
       "      <td>сотрудник</td>\n",
       "      <td>0</td>\n",
       "      <td>253875.639453</td>\n",
       "      <td>покупка жилья</td>\n",
       "    </tr>\n",
       "    <tr>\n",
       "      <td>1</td>\n",
       "      <td>1</td>\n",
       "      <td>-4024.803754</td>\n",
       "      <td>36</td>\n",
       "      <td>среднее</td>\n",
       "      <td>1</td>\n",
       "      <td>женат / замужем</td>\n",
       "      <td>0</td>\n",
       "      <td>F</td>\n",
       "      <td>сотрудник</td>\n",
       "      <td>0</td>\n",
       "      <td>112080.014102</td>\n",
       "      <td>приобретение автомобиля</td>\n",
       "    </tr>\n",
       "    <tr>\n",
       "      <td>2</td>\n",
       "      <td>0</td>\n",
       "      <td>-5623.422610</td>\n",
       "      <td>33</td>\n",
       "      <td>Среднее</td>\n",
       "      <td>1</td>\n",
       "      <td>женат / замужем</td>\n",
       "      <td>0</td>\n",
       "      <td>M</td>\n",
       "      <td>сотрудник</td>\n",
       "      <td>0</td>\n",
       "      <td>145885.952297</td>\n",
       "      <td>покупка жилья</td>\n",
       "    </tr>\n",
       "    <tr>\n",
       "      <td>3</td>\n",
       "      <td>3</td>\n",
       "      <td>-4124.747207</td>\n",
       "      <td>32</td>\n",
       "      <td>среднее</td>\n",
       "      <td>1</td>\n",
       "      <td>женат / замужем</td>\n",
       "      <td>0</td>\n",
       "      <td>M</td>\n",
       "      <td>сотрудник</td>\n",
       "      <td>0</td>\n",
       "      <td>267628.550329</td>\n",
       "      <td>дополнительное образование</td>\n",
       "    </tr>\n",
       "    <tr>\n",
       "      <td>4</td>\n",
       "      <td>0</td>\n",
       "      <td>340266.072047</td>\n",
       "      <td>53</td>\n",
       "      <td>среднее</td>\n",
       "      <td>1</td>\n",
       "      <td>гражданский брак</td>\n",
       "      <td>1</td>\n",
       "      <td>F</td>\n",
       "      <td>пенсионер</td>\n",
       "      <td>0</td>\n",
       "      <td>158616.077870</td>\n",
       "      <td>сыграть свадьбу</td>\n",
       "    </tr>\n",
       "    <tr>\n",
       "      <td>5</td>\n",
       "      <td>0</td>\n",
       "      <td>-926.185831</td>\n",
       "      <td>27</td>\n",
       "      <td>высшее</td>\n",
       "      <td>0</td>\n",
       "      <td>гражданский брак</td>\n",
       "      <td>1</td>\n",
       "      <td>M</td>\n",
       "      <td>компаньон</td>\n",
       "      <td>0</td>\n",
       "      <td>255763.565419</td>\n",
       "      <td>покупка жилья</td>\n",
       "    </tr>\n",
       "    <tr>\n",
       "      <td>6</td>\n",
       "      <td>0</td>\n",
       "      <td>-2879.202052</td>\n",
       "      <td>43</td>\n",
       "      <td>высшее</td>\n",
       "      <td>0</td>\n",
       "      <td>женат / замужем</td>\n",
       "      <td>0</td>\n",
       "      <td>F</td>\n",
       "      <td>компаньон</td>\n",
       "      <td>0</td>\n",
       "      <td>240525.971920</td>\n",
       "      <td>операции с жильем</td>\n",
       "    </tr>\n",
       "    <tr>\n",
       "      <td>7</td>\n",
       "      <td>0</td>\n",
       "      <td>-152.779569</td>\n",
       "      <td>50</td>\n",
       "      <td>СРЕДНЕЕ</td>\n",
       "      <td>1</td>\n",
       "      <td>женат / замужем</td>\n",
       "      <td>0</td>\n",
       "      <td>M</td>\n",
       "      <td>сотрудник</td>\n",
       "      <td>0</td>\n",
       "      <td>135823.934197</td>\n",
       "      <td>образование</td>\n",
       "    </tr>\n",
       "    <tr>\n",
       "      <td>8</td>\n",
       "      <td>2</td>\n",
       "      <td>-6929.865299</td>\n",
       "      <td>35</td>\n",
       "      <td>ВЫСШЕЕ</td>\n",
       "      <td>0</td>\n",
       "      <td>гражданский брак</td>\n",
       "      <td>1</td>\n",
       "      <td>F</td>\n",
       "      <td>сотрудник</td>\n",
       "      <td>0</td>\n",
       "      <td>95856.832424</td>\n",
       "      <td>на проведение свадьбы</td>\n",
       "    </tr>\n",
       "    <tr>\n",
       "      <td>9</td>\n",
       "      <td>0</td>\n",
       "      <td>-2188.756445</td>\n",
       "      <td>41</td>\n",
       "      <td>среднее</td>\n",
       "      <td>1</td>\n",
       "      <td>женат / замужем</td>\n",
       "      <td>0</td>\n",
       "      <td>M</td>\n",
       "      <td>сотрудник</td>\n",
       "      <td>0</td>\n",
       "      <td>144425.938277</td>\n",
       "      <td>покупка жилья для семьи</td>\n",
       "    </tr>\n",
       "    <tr>\n",
       "      <td>10</td>\n",
       "      <td>2</td>\n",
       "      <td>-4171.483647</td>\n",
       "      <td>36</td>\n",
       "      <td>высшее</td>\n",
       "      <td>0</td>\n",
       "      <td>женат / замужем</td>\n",
       "      <td>0</td>\n",
       "      <td>M</td>\n",
       "      <td>компаньон</td>\n",
       "      <td>0</td>\n",
       "      <td>113943.491460</td>\n",
       "      <td>покупка недвижимости</td>\n",
       "    </tr>\n",
       "    <tr>\n",
       "      <td>11</td>\n",
       "      <td>0</td>\n",
       "      <td>-792.701887</td>\n",
       "      <td>40</td>\n",
       "      <td>среднее</td>\n",
       "      <td>1</td>\n",
       "      <td>женат / замужем</td>\n",
       "      <td>0</td>\n",
       "      <td>F</td>\n",
       "      <td>сотрудник</td>\n",
       "      <td>0</td>\n",
       "      <td>77069.234271</td>\n",
       "      <td>покупка коммерческой недвижимости</td>\n",
       "    </tr>\n",
       "    <tr>\n",
       "      <td>12</td>\n",
       "      <td>0</td>\n",
       "      <td>NaN</td>\n",
       "      <td>65</td>\n",
       "      <td>среднее</td>\n",
       "      <td>1</td>\n",
       "      <td>гражданский брак</td>\n",
       "      <td>1</td>\n",
       "      <td>M</td>\n",
       "      <td>пенсионер</td>\n",
       "      <td>0</td>\n",
       "      <td>NaN</td>\n",
       "      <td>сыграть свадьбу</td>\n",
       "    </tr>\n",
       "    <tr>\n",
       "      <td>13</td>\n",
       "      <td>0</td>\n",
       "      <td>-1846.641941</td>\n",
       "      <td>54</td>\n",
       "      <td>неоконченное высшее</td>\n",
       "      <td>2</td>\n",
       "      <td>женат / замужем</td>\n",
       "      <td>0</td>\n",
       "      <td>F</td>\n",
       "      <td>сотрудник</td>\n",
       "      <td>0</td>\n",
       "      <td>130458.228857</td>\n",
       "      <td>приобретение автомобиля</td>\n",
       "    </tr>\n",
       "    <tr>\n",
       "      <td>14</td>\n",
       "      <td>0</td>\n",
       "      <td>-1844.956182</td>\n",
       "      <td>56</td>\n",
       "      <td>высшее</td>\n",
       "      <td>0</td>\n",
       "      <td>гражданский брак</td>\n",
       "      <td>1</td>\n",
       "      <td>F</td>\n",
       "      <td>компаньон</td>\n",
       "      <td>1</td>\n",
       "      <td>165127.911772</td>\n",
       "      <td>покупка жилой недвижимости</td>\n",
       "    </tr>\n",
       "  </tbody>\n",
       "</table>\n",
       "</div>"
      ],
      "text/plain": [
       "    children  days_employed  dob_years            education  education_id  \\\n",
       "0          1   -8437.673028         42               высшее             0   \n",
       "1          1   -4024.803754         36              среднее             1   \n",
       "2          0   -5623.422610         33              Среднее             1   \n",
       "3          3   -4124.747207         32              среднее             1   \n",
       "4          0  340266.072047         53              среднее             1   \n",
       "5          0    -926.185831         27               высшее             0   \n",
       "6          0   -2879.202052         43               высшее             0   \n",
       "7          0    -152.779569         50              СРЕДНЕЕ             1   \n",
       "8          2   -6929.865299         35               ВЫСШЕЕ             0   \n",
       "9          0   -2188.756445         41              среднее             1   \n",
       "10         2   -4171.483647         36               высшее             0   \n",
       "11         0    -792.701887         40              среднее             1   \n",
       "12         0            NaN         65              среднее             1   \n",
       "13         0   -1846.641941         54  неоконченное высшее             2   \n",
       "14         0   -1844.956182         56               высшее             0   \n",
       "\n",
       "       family_status  family_status_id gender income_type  debt  \\\n",
       "0    женат / замужем                 0      F   сотрудник     0   \n",
       "1    женат / замужем                 0      F   сотрудник     0   \n",
       "2    женат / замужем                 0      M   сотрудник     0   \n",
       "3    женат / замужем                 0      M   сотрудник     0   \n",
       "4   гражданский брак                 1      F   пенсионер     0   \n",
       "5   гражданский брак                 1      M   компаньон     0   \n",
       "6    женат / замужем                 0      F   компаньон     0   \n",
       "7    женат / замужем                 0      M   сотрудник     0   \n",
       "8   гражданский брак                 1      F   сотрудник     0   \n",
       "9    женат / замужем                 0      M   сотрудник     0   \n",
       "10   женат / замужем                 0      M   компаньон     0   \n",
       "11   женат / замужем                 0      F   сотрудник     0   \n",
       "12  гражданский брак                 1      M   пенсионер     0   \n",
       "13   женат / замужем                 0      F   сотрудник     0   \n",
       "14  гражданский брак                 1      F   компаньон     1   \n",
       "\n",
       "     total_income                            purpose  \n",
       "0   253875.639453                      покупка жилья  \n",
       "1   112080.014102            приобретение автомобиля  \n",
       "2   145885.952297                      покупка жилья  \n",
       "3   267628.550329         дополнительное образование  \n",
       "4   158616.077870                    сыграть свадьбу  \n",
       "5   255763.565419                      покупка жилья  \n",
       "6   240525.971920                  операции с жильем  \n",
       "7   135823.934197                        образование  \n",
       "8    95856.832424              на проведение свадьбы  \n",
       "9   144425.938277            покупка жилья для семьи  \n",
       "10  113943.491460               покупка недвижимости  \n",
       "11   77069.234271  покупка коммерческой недвижимости  \n",
       "12            NaN                    сыграть свадьбу  \n",
       "13  130458.228857            приобретение автомобиля  \n",
       "14  165127.911772         покупка жилой недвижимости  "
      ]
     },
     "execution_count": 2,
     "metadata": {},
     "output_type": "execute_result"
    }
   ],
   "source": [
    "#чтение первых 15 строк таблицы\n",
    "df.head(15)"
   ]
  },
  {
   "cell_type": "markdown",
   "metadata": {},
   "source": [
    "**Вывод**"
   ]
  },
  {
   "cell_type": "markdown",
   "metadata": {},
   "source": [
    "Каждая строка таблицы содержит информацию о клиенте: количество детей, трудовой стаж с днях, возраст, уровень образования, семейный статус, пол, тип занятости, имел ли задолженность по возврату кредитов, месячный доход и цель получения кредита. Присутсвуют проблемы, которые видны невооруженным глазом:\n",
    "1. Есть строки с пустыми значениями в столбцах с трудовым стажом (days_employes) и месячным доходом (total_income), причем если они и встречаются, то в двух столбцах одновременно.\n",
    "2. В столбце с трудовым стажем (days_employes) большинство значений отрицательных, хотя стаж не может быть со знаком минус, а положительные значения для стажа в днях слишком большие.\n",
    "3. В столбце с уровнем образования (education) есть слова с верхним регистром.\n",
    "\n",
    "Для проверки рабочих гипотез наиболее ценны столбцы количества детей (children), семейное положение (family_status), наличие задолженностей по кредиту (debt), уровень дохода (total_income) и цели (purpose). "
   ]
  },
  {
   "cell_type": "markdown",
   "metadata": {},
   "source": [
    "## Шаг 2. Предобработка данных"
   ]
  },
  {
   "cell_type": "markdown",
   "metadata": {},
   "source": [
    "### Обработка пропусков"
   ]
  },
  {
   "cell_type": "markdown",
   "metadata": {},
   "source": [
    "В прошлых пунктах мы выяснили, что пустые значения присутствуют только в двух столбцах: days_employes и total_income. Подсчитаем их количество:"
   ]
  },
  {
   "cell_type": "code",
   "execution_count": 3,
   "metadata": {},
   "outputs": [
    {
     "data": {
      "text/plain": [
       "children               0\n",
       "days_employed       2174\n",
       "dob_years              0\n",
       "education              0\n",
       "education_id           0\n",
       "family_status          0\n",
       "family_status_id       0\n",
       "gender                 0\n",
       "income_type            0\n",
       "debt                   0\n",
       "total_income        2174\n",
       "purpose                0\n",
       "dtype: int64"
      ]
     },
     "execution_count": 3,
     "metadata": {},
     "output_type": "execute_result"
    }
   ],
   "source": [
    "df.isnull().sum()"
   ]
  },
  {
   "cell_type": "markdown",
   "metadata": {},
   "source": [
    "Как мы заметили выше, количество пропусков в этих столбцах совпадают и если в столбце days_employes нет данных, то скорее всего и в total_income их не будет. Причин появления пустых значений в данных столбцах может быть несколько: клиент банка никогда не работал и трудовой стаж просто отсутствует или клиент работал неофициально и подтвержденный документами трудового стажа нет, или данные были введены с ошибками и не сохранились. Дохода, подтвержденного официальными документами, при отсуствии трудовой деятельности, скорее всего нет и соответственно в столбце total_income также будут пустые значения."
   ]
  },
  {
   "cell_type": "markdown",
   "metadata": {},
   "source": [
    "Данные столбцов days_employes и total_income являются количественными и их значения могут быть любые неотрицательные числа.\n",
    "Для проверки наших гипотез столбец days_employed не участвует в анализе и к тому же данные еще сырые: нужно избавиться от отрицательных значений и больших чисел. Поэтому пока не будем заменять пустые значения столбца days_employe. Сделаем это после."
   ]
  },
  {
   "cell_type": "markdown",
   "metadata": {},
   "source": [
    "Что насчет столбца с месячным доходом total_income, то он нужен для проверки одной гипотезы. Для этого мы заменим все пустые значения на медианные, вычисленные для каждой категории типа занятости, так как в случае дохода это наиболее предпочтительный способ заполнения пустых значений. "
   ]
  },
  {
   "cell_type": "code",
   "execution_count": 4,
   "metadata": {},
   "outputs": [
    {
     "data": {
      "text/html": [
       "<div>\n",
       "<style scoped>\n",
       "    .dataframe tbody tr th:only-of-type {\n",
       "        vertical-align: middle;\n",
       "    }\n",
       "\n",
       "    .dataframe tbody tr th {\n",
       "        vertical-align: top;\n",
       "    }\n",
       "\n",
       "    .dataframe thead th {\n",
       "        text-align: right;\n",
       "    }\n",
       "</style>\n",
       "<table border=\"1\" class=\"dataframe\">\n",
       "  <thead>\n",
       "    <tr style=\"text-align: right;\">\n",
       "      <th></th>\n",
       "      <th>children</th>\n",
       "      <th>days_employed</th>\n",
       "      <th>dob_years</th>\n",
       "      <th>education</th>\n",
       "      <th>education_id</th>\n",
       "      <th>family_status</th>\n",
       "      <th>family_status_id</th>\n",
       "      <th>gender</th>\n",
       "      <th>income_type</th>\n",
       "      <th>debt</th>\n",
       "      <th>total_income</th>\n",
       "      <th>purpose</th>\n",
       "    </tr>\n",
       "  </thead>\n",
       "  <tbody>\n",
       "    <tr>\n",
       "      <td>0</td>\n",
       "      <td>1</td>\n",
       "      <td>-8437.673028</td>\n",
       "      <td>42</td>\n",
       "      <td>высшее</td>\n",
       "      <td>0</td>\n",
       "      <td>женат / замужем</td>\n",
       "      <td>0</td>\n",
       "      <td>F</td>\n",
       "      <td>сотрудник</td>\n",
       "      <td>0</td>\n",
       "      <td>253875.639453</td>\n",
       "      <td>покупка жилья</td>\n",
       "    </tr>\n",
       "    <tr>\n",
       "      <td>1</td>\n",
       "      <td>1</td>\n",
       "      <td>-4024.803754</td>\n",
       "      <td>36</td>\n",
       "      <td>среднее</td>\n",
       "      <td>1</td>\n",
       "      <td>женат / замужем</td>\n",
       "      <td>0</td>\n",
       "      <td>F</td>\n",
       "      <td>сотрудник</td>\n",
       "      <td>0</td>\n",
       "      <td>112080.014102</td>\n",
       "      <td>приобретение автомобиля</td>\n",
       "    </tr>\n",
       "    <tr>\n",
       "      <td>2</td>\n",
       "      <td>0</td>\n",
       "      <td>-5623.422610</td>\n",
       "      <td>33</td>\n",
       "      <td>Среднее</td>\n",
       "      <td>1</td>\n",
       "      <td>женат / замужем</td>\n",
       "      <td>0</td>\n",
       "      <td>M</td>\n",
       "      <td>сотрудник</td>\n",
       "      <td>0</td>\n",
       "      <td>145885.952297</td>\n",
       "      <td>покупка жилья</td>\n",
       "    </tr>\n",
       "    <tr>\n",
       "      <td>3</td>\n",
       "      <td>3</td>\n",
       "      <td>-4124.747207</td>\n",
       "      <td>32</td>\n",
       "      <td>среднее</td>\n",
       "      <td>1</td>\n",
       "      <td>женат / замужем</td>\n",
       "      <td>0</td>\n",
       "      <td>M</td>\n",
       "      <td>сотрудник</td>\n",
       "      <td>0</td>\n",
       "      <td>267628.550329</td>\n",
       "      <td>дополнительное образование</td>\n",
       "    </tr>\n",
       "    <tr>\n",
       "      <td>4</td>\n",
       "      <td>0</td>\n",
       "      <td>340266.072047</td>\n",
       "      <td>53</td>\n",
       "      <td>среднее</td>\n",
       "      <td>1</td>\n",
       "      <td>гражданский брак</td>\n",
       "      <td>1</td>\n",
       "      <td>F</td>\n",
       "      <td>пенсионер</td>\n",
       "      <td>0</td>\n",
       "      <td>158616.077870</td>\n",
       "      <td>сыграть свадьбу</td>\n",
       "    </tr>\n",
       "  </tbody>\n",
       "</table>\n",
       "</div>"
      ],
      "text/plain": [
       "   children  days_employed  dob_years education  education_id  \\\n",
       "0         1   -8437.673028         42    высшее             0   \n",
       "1         1   -4024.803754         36   среднее             1   \n",
       "2         0   -5623.422610         33   Среднее             1   \n",
       "3         3   -4124.747207         32   среднее             1   \n",
       "4         0  340266.072047         53   среднее             1   \n",
       "\n",
       "      family_status  family_status_id gender income_type  debt   total_income  \\\n",
       "0   женат / замужем                 0      F   сотрудник     0  253875.639453   \n",
       "1   женат / замужем                 0      F   сотрудник     0  112080.014102   \n",
       "2   женат / замужем                 0      M   сотрудник     0  145885.952297   \n",
       "3   женат / замужем                 0      M   сотрудник     0  267628.550329   \n",
       "4  гражданский брак                 1      F   пенсионер     0  158616.077870   \n",
       "\n",
       "                      purpose  \n",
       "0               покупка жилья  \n",
       "1     приобретение автомобиля  \n",
       "2               покупка жилья  \n",
       "3  дополнительное образование  \n",
       "4             сыграть свадьбу  "
      ]
     },
     "execution_count": 4,
     "metadata": {},
     "output_type": "execute_result"
    }
   ],
   "source": [
    "df['total_income'] = df['total_income'].fillna(df.groupby('income_type')['total_income'].transform('median'))\n",
    "df.head()"
   ]
  },
  {
   "cell_type": "markdown",
   "metadata": {},
   "source": [
    "Теперь проверим, от всех ли пропусков удалось избавиться."
   ]
  },
  {
   "cell_type": "code",
   "execution_count": 5,
   "metadata": {
    "scrolled": true
   },
   "outputs": [
    {
     "data": {
      "text/plain": [
       "children               0\n",
       "days_employed       2174\n",
       "dob_years              0\n",
       "education              0\n",
       "education_id           0\n",
       "family_status          0\n",
       "family_status_id       0\n",
       "gender                 0\n",
       "income_type            0\n",
       "debt                   0\n",
       "total_income           0\n",
       "purpose                0\n",
       "dtype: int64"
      ]
     },
     "execution_count": 5,
     "metadata": {},
     "output_type": "execute_result"
    }
   ],
   "source": [
    "#проверка\n",
    "df.isnull().sum()"
   ]
  },
  {
   "cell_type": "markdown",
   "metadata": {},
   "source": [
    "**Вывод**"
   ]
  },
  {
   "cell_type": "markdown",
   "metadata": {},
   "source": [
    "На этапе обработки пропусков мы выявили пустые значения только в двух столбцах - days_employes и total_income -, и предположив, что пустые значения образовались из-за отсутвия трудового стажа и официальной работы у клиента или сбоя при записи данных в таблицу. Мы заменили пустые значения на медианные в столбце  total_income, пустые значения в столбце days_employes заполним после исплавления данных в следующем пункте."
   ]
  },
  {
   "cell_type": "markdown",
   "metadata": {},
   "source": [
    "### Замена типа данных"
   ]
  },
  {
   "cell_type": "markdown",
   "metadata": {},
   "source": [
    "В нашей таблице данных есть столбец с трудовым стажем (days_employes) в котором есть отрицательные значения, хотя трудовой стаж не может быть отрицательным, и данные хранятся в типе данных float64, хотя более правильно было бы хранить трудовой стаж с днях в целых числах int64. Если же встречаются положительные значения, то они слишком большие, чтобы быть трудовым стажем в днях. Предположим, что в таких случаях произошла ошибка и день был указан в часах.\n",
    "\n",
    "Преобразуем данные столбца days_employes в целый тип и уберем отрицательные значения, а положительные данные переведем в из часов в дни."
   ]
  },
  {
   "cell_type": "code",
   "execution_count": 6,
   "metadata": {},
   "outputs": [],
   "source": [
    "#функция days_employed_norm, которая получает на вход столбец с трудовым стажем и положительные значения переводит в стаж в днях\n",
    "#а отрицательные - в положительные, возвращает измененный столбец\n",
    "count_errors = 0\n",
    "def days_employed_norm(days_employed):\n",
    "    result = []\n",
    "    count_errors = 0\n",
    "    for element in days_employed:\n",
    "        try:\n",
    "            if element > 0:\n",
    "                element /= 24\n",
    "            elif element < 0:\n",
    "                element = -element\n",
    "        except:\n",
    "            count_errors +=1\n",
    "        result.append(element)    \n",
    "    return result"
   ]
  },
  {
   "cell_type": "code",
   "execution_count": 7,
   "metadata": {},
   "outputs": [
    {
     "data": {
      "text/html": [
       "<div>\n",
       "<style scoped>\n",
       "    .dataframe tbody tr th:only-of-type {\n",
       "        vertical-align: middle;\n",
       "    }\n",
       "\n",
       "    .dataframe tbody tr th {\n",
       "        vertical-align: top;\n",
       "    }\n",
       "\n",
       "    .dataframe thead th {\n",
       "        text-align: right;\n",
       "    }\n",
       "</style>\n",
       "<table border=\"1\" class=\"dataframe\">\n",
       "  <thead>\n",
       "    <tr style=\"text-align: right;\">\n",
       "      <th></th>\n",
       "      <th>children</th>\n",
       "      <th>days_employed</th>\n",
       "      <th>dob_years</th>\n",
       "      <th>education</th>\n",
       "      <th>education_id</th>\n",
       "      <th>family_status</th>\n",
       "      <th>family_status_id</th>\n",
       "      <th>gender</th>\n",
       "      <th>income_type</th>\n",
       "      <th>debt</th>\n",
       "      <th>total_income</th>\n",
       "      <th>purpose</th>\n",
       "    </tr>\n",
       "  </thead>\n",
       "  <tbody>\n",
       "    <tr>\n",
       "      <td>0</td>\n",
       "      <td>1</td>\n",
       "      <td>8437.673028</td>\n",
       "      <td>42</td>\n",
       "      <td>высшее</td>\n",
       "      <td>0</td>\n",
       "      <td>женат / замужем</td>\n",
       "      <td>0</td>\n",
       "      <td>F</td>\n",
       "      <td>сотрудник</td>\n",
       "      <td>0</td>\n",
       "      <td>253875.639453</td>\n",
       "      <td>покупка жилья</td>\n",
       "    </tr>\n",
       "    <tr>\n",
       "      <td>1</td>\n",
       "      <td>1</td>\n",
       "      <td>4024.803754</td>\n",
       "      <td>36</td>\n",
       "      <td>среднее</td>\n",
       "      <td>1</td>\n",
       "      <td>женат / замужем</td>\n",
       "      <td>0</td>\n",
       "      <td>F</td>\n",
       "      <td>сотрудник</td>\n",
       "      <td>0</td>\n",
       "      <td>112080.014102</td>\n",
       "      <td>приобретение автомобиля</td>\n",
       "    </tr>\n",
       "    <tr>\n",
       "      <td>2</td>\n",
       "      <td>0</td>\n",
       "      <td>5623.422610</td>\n",
       "      <td>33</td>\n",
       "      <td>Среднее</td>\n",
       "      <td>1</td>\n",
       "      <td>женат / замужем</td>\n",
       "      <td>0</td>\n",
       "      <td>M</td>\n",
       "      <td>сотрудник</td>\n",
       "      <td>0</td>\n",
       "      <td>145885.952297</td>\n",
       "      <td>покупка жилья</td>\n",
       "    </tr>\n",
       "    <tr>\n",
       "      <td>3</td>\n",
       "      <td>3</td>\n",
       "      <td>4124.747207</td>\n",
       "      <td>32</td>\n",
       "      <td>среднее</td>\n",
       "      <td>1</td>\n",
       "      <td>женат / замужем</td>\n",
       "      <td>0</td>\n",
       "      <td>M</td>\n",
       "      <td>сотрудник</td>\n",
       "      <td>0</td>\n",
       "      <td>267628.550329</td>\n",
       "      <td>дополнительное образование</td>\n",
       "    </tr>\n",
       "    <tr>\n",
       "      <td>4</td>\n",
       "      <td>0</td>\n",
       "      <td>14177.753002</td>\n",
       "      <td>53</td>\n",
       "      <td>среднее</td>\n",
       "      <td>1</td>\n",
       "      <td>гражданский брак</td>\n",
       "      <td>1</td>\n",
       "      <td>F</td>\n",
       "      <td>пенсионер</td>\n",
       "      <td>0</td>\n",
       "      <td>158616.077870</td>\n",
       "      <td>сыграть свадьбу</td>\n",
       "    </tr>\n",
       "  </tbody>\n",
       "</table>\n",
       "</div>"
      ],
      "text/plain": [
       "   children  days_employed  dob_years education  education_id  \\\n",
       "0         1    8437.673028         42    высшее             0   \n",
       "1         1    4024.803754         36   среднее             1   \n",
       "2         0    5623.422610         33   Среднее             1   \n",
       "3         3    4124.747207         32   среднее             1   \n",
       "4         0   14177.753002         53   среднее             1   \n",
       "\n",
       "      family_status  family_status_id gender income_type  debt   total_income  \\\n",
       "0   женат / замужем                 0      F   сотрудник     0  253875.639453   \n",
       "1   женат / замужем                 0      F   сотрудник     0  112080.014102   \n",
       "2   женат / замужем                 0      M   сотрудник     0  145885.952297   \n",
       "3   женат / замужем                 0      M   сотрудник     0  267628.550329   \n",
       "4  гражданский брак                 1      F   пенсионер     0  158616.077870   \n",
       "\n",
       "                      purpose  \n",
       "0               покупка жилья  \n",
       "1     приобретение автомобиля  \n",
       "2               покупка жилья  \n",
       "3  дополнительное образование  \n",
       "4             сыграть свадьбу  "
      ]
     },
     "execution_count": 7,
     "metadata": {},
     "output_type": "execute_result"
    }
   ],
   "source": [
    "#проверка и исправление столбца days_employed на наличие отрицательныех значений и больших чисел\n",
    "df['days_employed'] = days_employed_norm(df['days_employed'])\n",
    "\n",
    "#проверка на наличие ошибок\n",
    "if count_errors != 0:\n",
    "    print('замена прошла с ошибками, количество ошибок', count_errors)\n",
    "df.head(5)"
   ]
  },
  {
   "cell_type": "markdown",
   "metadata": {},
   "source": [
    "Теперь можно заполнить нулевые значения медианными, вычисленными по каждой группе занятости. Также переведем трудовой стаж в целочисленный тип."
   ]
  },
  {
   "cell_type": "code",
   "execution_count": 8,
   "metadata": {},
   "outputs": [
    {
     "data": {
      "text/html": [
       "<div>\n",
       "<style scoped>\n",
       "    .dataframe tbody tr th:only-of-type {\n",
       "        vertical-align: middle;\n",
       "    }\n",
       "\n",
       "    .dataframe tbody tr th {\n",
       "        vertical-align: top;\n",
       "    }\n",
       "\n",
       "    .dataframe thead th {\n",
       "        text-align: right;\n",
       "    }\n",
       "</style>\n",
       "<table border=\"1\" class=\"dataframe\">\n",
       "  <thead>\n",
       "    <tr style=\"text-align: right;\">\n",
       "      <th></th>\n",
       "      <th>children</th>\n",
       "      <th>days_employed</th>\n",
       "      <th>dob_years</th>\n",
       "      <th>education</th>\n",
       "      <th>education_id</th>\n",
       "      <th>family_status</th>\n",
       "      <th>family_status_id</th>\n",
       "      <th>gender</th>\n",
       "      <th>income_type</th>\n",
       "      <th>debt</th>\n",
       "      <th>total_income</th>\n",
       "      <th>purpose</th>\n",
       "    </tr>\n",
       "  </thead>\n",
       "  <tbody>\n",
       "    <tr>\n",
       "      <td>0</td>\n",
       "      <td>1</td>\n",
       "      <td>8437</td>\n",
       "      <td>42</td>\n",
       "      <td>высшее</td>\n",
       "      <td>0</td>\n",
       "      <td>женат / замужем</td>\n",
       "      <td>0</td>\n",
       "      <td>F</td>\n",
       "      <td>сотрудник</td>\n",
       "      <td>0</td>\n",
       "      <td>253875.639453</td>\n",
       "      <td>покупка жилья</td>\n",
       "    </tr>\n",
       "    <tr>\n",
       "      <td>1</td>\n",
       "      <td>1</td>\n",
       "      <td>4024</td>\n",
       "      <td>36</td>\n",
       "      <td>среднее</td>\n",
       "      <td>1</td>\n",
       "      <td>женат / замужем</td>\n",
       "      <td>0</td>\n",
       "      <td>F</td>\n",
       "      <td>сотрудник</td>\n",
       "      <td>0</td>\n",
       "      <td>112080.014102</td>\n",
       "      <td>приобретение автомобиля</td>\n",
       "    </tr>\n",
       "    <tr>\n",
       "      <td>2</td>\n",
       "      <td>0</td>\n",
       "      <td>5623</td>\n",
       "      <td>33</td>\n",
       "      <td>Среднее</td>\n",
       "      <td>1</td>\n",
       "      <td>женат / замужем</td>\n",
       "      <td>0</td>\n",
       "      <td>M</td>\n",
       "      <td>сотрудник</td>\n",
       "      <td>0</td>\n",
       "      <td>145885.952297</td>\n",
       "      <td>покупка жилья</td>\n",
       "    </tr>\n",
       "    <tr>\n",
       "      <td>3</td>\n",
       "      <td>3</td>\n",
       "      <td>4124</td>\n",
       "      <td>32</td>\n",
       "      <td>среднее</td>\n",
       "      <td>1</td>\n",
       "      <td>женат / замужем</td>\n",
       "      <td>0</td>\n",
       "      <td>M</td>\n",
       "      <td>сотрудник</td>\n",
       "      <td>0</td>\n",
       "      <td>267628.550329</td>\n",
       "      <td>дополнительное образование</td>\n",
       "    </tr>\n",
       "    <tr>\n",
       "      <td>4</td>\n",
       "      <td>0</td>\n",
       "      <td>14177</td>\n",
       "      <td>53</td>\n",
       "      <td>среднее</td>\n",
       "      <td>1</td>\n",
       "      <td>гражданский брак</td>\n",
       "      <td>1</td>\n",
       "      <td>F</td>\n",
       "      <td>пенсионер</td>\n",
       "      <td>0</td>\n",
       "      <td>158616.077870</td>\n",
       "      <td>сыграть свадьбу</td>\n",
       "    </tr>\n",
       "  </tbody>\n",
       "</table>\n",
       "</div>"
      ],
      "text/plain": [
       "   children  days_employed  dob_years education  education_id  \\\n",
       "0         1           8437         42    высшее             0   \n",
       "1         1           4024         36   среднее             1   \n",
       "2         0           5623         33   Среднее             1   \n",
       "3         3           4124         32   среднее             1   \n",
       "4         0          14177         53   среднее             1   \n",
       "\n",
       "      family_status  family_status_id gender income_type  debt   total_income  \\\n",
       "0   женат / замужем                 0      F   сотрудник     0  253875.639453   \n",
       "1   женат / замужем                 0      F   сотрудник     0  112080.014102   \n",
       "2   женат / замужем                 0      M   сотрудник     0  145885.952297   \n",
       "3   женат / замужем                 0      M   сотрудник     0  267628.550329   \n",
       "4  гражданский брак                 1      F   пенсионер     0  158616.077870   \n",
       "\n",
       "                      purpose  \n",
       "0               покупка жилья  \n",
       "1     приобретение автомобиля  \n",
       "2               покупка жилья  \n",
       "3  дополнительное образование  \n",
       "4             сыграть свадьбу  "
      ]
     },
     "execution_count": 8,
     "metadata": {},
     "output_type": "execute_result"
    }
   ],
   "source": [
    "#вычисление медианного значения по каждой группы типа занятости, заполнение медианами пустых значений и перевод в цел-ый тип\n",
    "df['days_employed'] = df['days_employed'].fillna(df.groupby('income_type')['days_employed'].transform('median'))\n",
    "df['days_employed'] = df['days_employed'].astype(int)\n",
    "df.head()"
   ]
  },
  {
   "cell_type": "markdown",
   "metadata": {},
   "source": [
    "Для большей наглядности создадим новый столбец и запишем туда стаж в годах."
   ]
  },
  {
   "cell_type": "code",
   "execution_count": 9,
   "metadata": {},
   "outputs": [
    {
     "data": {
      "text/html": [
       "<div>\n",
       "<style scoped>\n",
       "    .dataframe tbody tr th:only-of-type {\n",
       "        vertical-align: middle;\n",
       "    }\n",
       "\n",
       "    .dataframe tbody tr th {\n",
       "        vertical-align: top;\n",
       "    }\n",
       "\n",
       "    .dataframe thead th {\n",
       "        text-align: right;\n",
       "    }\n",
       "</style>\n",
       "<table border=\"1\" class=\"dataframe\">\n",
       "  <thead>\n",
       "    <tr style=\"text-align: right;\">\n",
       "      <th></th>\n",
       "      <th>children</th>\n",
       "      <th>days_employed</th>\n",
       "      <th>dob_years</th>\n",
       "      <th>education</th>\n",
       "      <th>education_id</th>\n",
       "      <th>family_status</th>\n",
       "      <th>family_status_id</th>\n",
       "      <th>gender</th>\n",
       "      <th>income_type</th>\n",
       "      <th>debt</th>\n",
       "      <th>total_income</th>\n",
       "      <th>purpose</th>\n",
       "      <th>days_employed_years</th>\n",
       "    </tr>\n",
       "  </thead>\n",
       "  <tbody>\n",
       "    <tr>\n",
       "      <td>0</td>\n",
       "      <td>1</td>\n",
       "      <td>8437</td>\n",
       "      <td>42</td>\n",
       "      <td>высшее</td>\n",
       "      <td>0</td>\n",
       "      <td>женат / замужем</td>\n",
       "      <td>0</td>\n",
       "      <td>F</td>\n",
       "      <td>сотрудник</td>\n",
       "      <td>0</td>\n",
       "      <td>253875.639453</td>\n",
       "      <td>покупка жилья</td>\n",
       "      <td>23</td>\n",
       "    </tr>\n",
       "    <tr>\n",
       "      <td>1</td>\n",
       "      <td>1</td>\n",
       "      <td>4024</td>\n",
       "      <td>36</td>\n",
       "      <td>среднее</td>\n",
       "      <td>1</td>\n",
       "      <td>женат / замужем</td>\n",
       "      <td>0</td>\n",
       "      <td>F</td>\n",
       "      <td>сотрудник</td>\n",
       "      <td>0</td>\n",
       "      <td>112080.014102</td>\n",
       "      <td>приобретение автомобиля</td>\n",
       "      <td>11</td>\n",
       "    </tr>\n",
       "    <tr>\n",
       "      <td>2</td>\n",
       "      <td>0</td>\n",
       "      <td>5623</td>\n",
       "      <td>33</td>\n",
       "      <td>Среднее</td>\n",
       "      <td>1</td>\n",
       "      <td>женат / замужем</td>\n",
       "      <td>0</td>\n",
       "      <td>M</td>\n",
       "      <td>сотрудник</td>\n",
       "      <td>0</td>\n",
       "      <td>145885.952297</td>\n",
       "      <td>покупка жилья</td>\n",
       "      <td>15</td>\n",
       "    </tr>\n",
       "    <tr>\n",
       "      <td>3</td>\n",
       "      <td>3</td>\n",
       "      <td>4124</td>\n",
       "      <td>32</td>\n",
       "      <td>среднее</td>\n",
       "      <td>1</td>\n",
       "      <td>женат / замужем</td>\n",
       "      <td>0</td>\n",
       "      <td>M</td>\n",
       "      <td>сотрудник</td>\n",
       "      <td>0</td>\n",
       "      <td>267628.550329</td>\n",
       "      <td>дополнительное образование</td>\n",
       "      <td>11</td>\n",
       "    </tr>\n",
       "    <tr>\n",
       "      <td>4</td>\n",
       "      <td>0</td>\n",
       "      <td>14177</td>\n",
       "      <td>53</td>\n",
       "      <td>среднее</td>\n",
       "      <td>1</td>\n",
       "      <td>гражданский брак</td>\n",
       "      <td>1</td>\n",
       "      <td>F</td>\n",
       "      <td>пенсионер</td>\n",
       "      <td>0</td>\n",
       "      <td>158616.077870</td>\n",
       "      <td>сыграть свадьбу</td>\n",
       "      <td>38</td>\n",
       "    </tr>\n",
       "  </tbody>\n",
       "</table>\n",
       "</div>"
      ],
      "text/plain": [
       "   children  days_employed  dob_years education  education_id  \\\n",
       "0         1           8437         42    высшее             0   \n",
       "1         1           4024         36   среднее             1   \n",
       "2         0           5623         33   Среднее             1   \n",
       "3         3           4124         32   среднее             1   \n",
       "4         0          14177         53   среднее             1   \n",
       "\n",
       "      family_status  family_status_id gender income_type  debt   total_income  \\\n",
       "0   женат / замужем                 0      F   сотрудник     0  253875.639453   \n",
       "1   женат / замужем                 0      F   сотрудник     0  112080.014102   \n",
       "2   женат / замужем                 0      M   сотрудник     0  145885.952297   \n",
       "3   женат / замужем                 0      M   сотрудник     0  267628.550329   \n",
       "4  гражданский брак                 1      F   пенсионер     0  158616.077870   \n",
       "\n",
       "                      purpose  days_employed_years  \n",
       "0               покупка жилья                   23  \n",
       "1     приобретение автомобиля                   11  \n",
       "2               покупка жилья                   15  \n",
       "3  дополнительное образование                   11  \n",
       "4             сыграть свадьбу                   38  "
      ]
     },
     "execution_count": 9,
     "metadata": {},
     "output_type": "execute_result"
    }
   ],
   "source": [
    "#создание нового столбца и запись туда стажа клиентов в годах\n",
    "df['days_employed_years'] = (df['days_employed'] / 365.2425)\n",
    "df['days_employed_years'] = df['days_employed_years'].astype(int)\n",
    "df.head(5)"
   ]
  },
  {
   "cell_type": "markdown",
   "metadata": {},
   "source": [
    "Для лучшей читаемости преобразуем содержимое столбца total_income в целый тип, так как для проверки нашей гипотезы точность месячного дохода до копеек нам не требуется."
   ]
  },
  {
   "cell_type": "code",
   "execution_count": 10,
   "metadata": {},
   "outputs": [
    {
     "data": {
      "text/html": [
       "<div>\n",
       "<style scoped>\n",
       "    .dataframe tbody tr th:only-of-type {\n",
       "        vertical-align: middle;\n",
       "    }\n",
       "\n",
       "    .dataframe tbody tr th {\n",
       "        vertical-align: top;\n",
       "    }\n",
       "\n",
       "    .dataframe thead th {\n",
       "        text-align: right;\n",
       "    }\n",
       "</style>\n",
       "<table border=\"1\" class=\"dataframe\">\n",
       "  <thead>\n",
       "    <tr style=\"text-align: right;\">\n",
       "      <th></th>\n",
       "      <th>children</th>\n",
       "      <th>days_employed</th>\n",
       "      <th>dob_years</th>\n",
       "      <th>education</th>\n",
       "      <th>education_id</th>\n",
       "      <th>family_status</th>\n",
       "      <th>family_status_id</th>\n",
       "      <th>gender</th>\n",
       "      <th>income_type</th>\n",
       "      <th>debt</th>\n",
       "      <th>total_income</th>\n",
       "      <th>purpose</th>\n",
       "      <th>days_employed_years</th>\n",
       "    </tr>\n",
       "  </thead>\n",
       "  <tbody>\n",
       "    <tr>\n",
       "      <td>0</td>\n",
       "      <td>1</td>\n",
       "      <td>8437</td>\n",
       "      <td>42</td>\n",
       "      <td>высшее</td>\n",
       "      <td>0</td>\n",
       "      <td>женат / замужем</td>\n",
       "      <td>0</td>\n",
       "      <td>F</td>\n",
       "      <td>сотрудник</td>\n",
       "      <td>0</td>\n",
       "      <td>253875</td>\n",
       "      <td>покупка жилья</td>\n",
       "      <td>23</td>\n",
       "    </tr>\n",
       "    <tr>\n",
       "      <td>1</td>\n",
       "      <td>1</td>\n",
       "      <td>4024</td>\n",
       "      <td>36</td>\n",
       "      <td>среднее</td>\n",
       "      <td>1</td>\n",
       "      <td>женат / замужем</td>\n",
       "      <td>0</td>\n",
       "      <td>F</td>\n",
       "      <td>сотрудник</td>\n",
       "      <td>0</td>\n",
       "      <td>112080</td>\n",
       "      <td>приобретение автомобиля</td>\n",
       "      <td>11</td>\n",
       "    </tr>\n",
       "    <tr>\n",
       "      <td>2</td>\n",
       "      <td>0</td>\n",
       "      <td>5623</td>\n",
       "      <td>33</td>\n",
       "      <td>Среднее</td>\n",
       "      <td>1</td>\n",
       "      <td>женат / замужем</td>\n",
       "      <td>0</td>\n",
       "      <td>M</td>\n",
       "      <td>сотрудник</td>\n",
       "      <td>0</td>\n",
       "      <td>145885</td>\n",
       "      <td>покупка жилья</td>\n",
       "      <td>15</td>\n",
       "    </tr>\n",
       "    <tr>\n",
       "      <td>3</td>\n",
       "      <td>3</td>\n",
       "      <td>4124</td>\n",
       "      <td>32</td>\n",
       "      <td>среднее</td>\n",
       "      <td>1</td>\n",
       "      <td>женат / замужем</td>\n",
       "      <td>0</td>\n",
       "      <td>M</td>\n",
       "      <td>сотрудник</td>\n",
       "      <td>0</td>\n",
       "      <td>267628</td>\n",
       "      <td>дополнительное образование</td>\n",
       "      <td>11</td>\n",
       "    </tr>\n",
       "    <tr>\n",
       "      <td>4</td>\n",
       "      <td>0</td>\n",
       "      <td>14177</td>\n",
       "      <td>53</td>\n",
       "      <td>среднее</td>\n",
       "      <td>1</td>\n",
       "      <td>гражданский брак</td>\n",
       "      <td>1</td>\n",
       "      <td>F</td>\n",
       "      <td>пенсионер</td>\n",
       "      <td>0</td>\n",
       "      <td>158616</td>\n",
       "      <td>сыграть свадьбу</td>\n",
       "      <td>38</td>\n",
       "    </tr>\n",
       "  </tbody>\n",
       "</table>\n",
       "</div>"
      ],
      "text/plain": [
       "   children  days_employed  dob_years education  education_id  \\\n",
       "0         1           8437         42    высшее             0   \n",
       "1         1           4024         36   среднее             1   \n",
       "2         0           5623         33   Среднее             1   \n",
       "3         3           4124         32   среднее             1   \n",
       "4         0          14177         53   среднее             1   \n",
       "\n",
       "      family_status  family_status_id gender income_type  debt  total_income  \\\n",
       "0   женат / замужем                 0      F   сотрудник     0        253875   \n",
       "1   женат / замужем                 0      F   сотрудник     0        112080   \n",
       "2   женат / замужем                 0      M   сотрудник     0        145885   \n",
       "3   женат / замужем                 0      M   сотрудник     0        267628   \n",
       "4  гражданский брак                 1      F   пенсионер     0        158616   \n",
       "\n",
       "                      purpose  days_employed_years  \n",
       "0               покупка жилья                   23  \n",
       "1     приобретение автомобиля                   11  \n",
       "2               покупка жилья                   15  \n",
       "3  дополнительное образование                   11  \n",
       "4             сыграть свадьбу                   38  "
      ]
     },
     "execution_count": 10,
     "metadata": {},
     "output_type": "execute_result"
    }
   ],
   "source": [
    "df['total_income'] = df['total_income'].astype(int)\n",
    "df.head(5)"
   ]
  },
  {
   "cell_type": "markdown",
   "metadata": {},
   "source": [
    "**Вывод**"
   ]
  },
  {
   "cell_type": "markdown",
   "metadata": {},
   "source": [
    "Мы избавились от артефактов в столбце с трудовым стажем days_employed, заполнили нулевые значения медианными и препобразовали его в целый тип, а также для наглядности создали новый столбец со стажем в годах. Это понадобится нам для сводных таблиц."
   ]
  },
  {
   "cell_type": "markdown",
   "metadata": {},
   "source": [
    "### Обработка дубликатов"
   ]
  },
  {
   "cell_type": "markdown",
   "metadata": {},
   "source": [
    "Теперь исследуем данные на наличие дубликатов в таблице. Дубликаты бывают явные и неявные. Сначала найдем полные дубликаты с помощью метода duplicated(). Если мы обнаружим дубликаты, то удалим их."
   ]
  },
  {
   "cell_type": "code",
   "execution_count": 11,
   "metadata": {},
   "outputs": [
    {
     "data": {
      "text/plain": [
       "54"
      ]
     },
     "execution_count": 11,
     "metadata": {},
     "output_type": "execute_result"
    }
   ],
   "source": [
    "#нахождение общего количества дубликатов в таблице\n",
    "df.duplicated().sum()"
   ]
  },
  {
   "cell_type": "code",
   "execution_count": 12,
   "metadata": {
    "scrolled": true
   },
   "outputs": [
    {
     "data": {
      "text/plain": [
       "0"
      ]
     },
     "execution_count": 12,
     "metadata": {},
     "output_type": "execute_result"
    }
   ],
   "source": [
    "#удаление дубликатов и проверка на их отсутствие\n",
    "df = df.drop_duplicates().reset_index(drop = True)\n",
    "df.duplicated().sum()"
   ]
  },
  {
   "cell_type": "markdown",
   "metadata": {},
   "source": [
    "Дубликаты могли появится из-за технического сбоя записи в таблицу или человеческого фактора. Все полные дубликаты мы удалили, но могли остаться неочевидные. Это может произойти из-за сбоя записей в таблицу или неккоректного ввода данных на этапе формирования таблицы. Рассмотрим подробнее столбцы в таблице."
   ]
  },
  {
   "cell_type": "markdown",
   "metadata": {},
   "source": [
    "Для начала рассмотрим более подробно те столбцы, которые нужны нам для анализа гипотез - это children, family_status и debt. Столбец total_income мы уже исправили, а к столбцу purpose вернемся позже."
   ]
  },
  {
   "cell_type": "markdown",
   "metadata": {},
   "source": [
    "Рассмотрим столбец с количеством детей. Значения  данного столбца являются категориальными, то есть принимают ограниченное количество значений."
   ]
  },
  {
   "cell_type": "code",
   "execution_count": 13,
   "metadata": {},
   "outputs": [
    {
     "data": {
      "text/plain": [
       " 0     14107\n",
       " 1      4809\n",
       " 2      2052\n",
       " 3       330\n",
       " 20       76\n",
       "-1        47\n",
       " 4        41\n",
       " 5         9\n",
       "Name: children, dtype: int64"
      ]
     },
     "execution_count": 13,
     "metadata": {},
     "output_type": "execute_result"
    }
   ],
   "source": [
    "df['children'].value_counts()"
   ]
  },
  {
   "cell_type": "markdown",
   "metadata": {},
   "source": [
    "Как видно у нас 2 проблемы: это минус 1 ребенок и многодетные семьи с 20 детьми. Предположим, что при вводе данных были допущены ошибки и вместо 1 ребенка внесли -1, а вместо 20 детей имелось в виду 2 ребенка. Проведем данные замены."
   ]
  },
  {
   "cell_type": "code",
   "execution_count": 14,
   "metadata": {},
   "outputs": [
    {
     "data": {
      "text/plain": [
       "0    14107\n",
       "1     4856\n",
       "2     2128\n",
       "3      330\n",
       "4       41\n",
       "5        9\n",
       "Name: children, dtype: int64"
      ]
     },
     "execution_count": 14,
     "metadata": {},
     "output_type": "execute_result"
    }
   ],
   "source": [
    "#замена неккоректных данных и проверка результата\n",
    "df['children'] = df['children'].replace(-1, 1)\n",
    "df['children'] = df['children'].replace(20, 2)\n",
    "df['children'].value_counts()"
   ]
  },
  {
   "cell_type": "markdown",
   "metadata": {},
   "source": [
    "Так теперь намного лучше. Рассмотрим столбец family_status:"
   ]
  },
  {
   "cell_type": "code",
   "execution_count": 15,
   "metadata": {
    "scrolled": true
   },
   "outputs": [
    {
     "data": {
      "text/plain": [
       "женат / замужем          12344\n",
       "гражданский брак          4163\n",
       "Не женат / не замужем     2810\n",
       "в разводе                 1195\n",
       "вдовец / вдова             959\n",
       "Name: family_status, dtype: int64"
      ]
     },
     "execution_count": 15,
     "metadata": {},
     "output_type": "execute_result"
    }
   ],
   "source": [
    "df['family_status'].value_counts()"
   ]
  },
  {
   "cell_type": "markdown",
   "metadata": {},
   "source": [
    "В данном столбце дубликатов нет. Применим к столбцу family_status метод str.lower(), чтобы избавиться от букв с верхним регистром"
   ]
  },
  {
   "cell_type": "code",
   "execution_count": 16,
   "metadata": {},
   "outputs": [
    {
     "data": {
      "text/plain": [
       "женат / замужем          12344\n",
       "гражданский брак          4163\n",
       "не женат / не замужем     2810\n",
       "в разводе                 1195\n",
       "вдовец / вдова             959\n",
       "Name: family_status, dtype: int64"
      ]
     },
     "execution_count": 16,
     "metadata": {},
     "output_type": "execute_result"
    }
   ],
   "source": [
    "df['family_status'] = df['family_status'].str.lower()\n",
    "df['family_status'].value_counts()"
   ]
  },
  {
   "cell_type": "markdown",
   "metadata": {},
   "source": [
    "Теперь рассмотрим один из ключевых для анализа столбцов о наличии задолженности debt."
   ]
  },
  {
   "cell_type": "code",
   "execution_count": 17,
   "metadata": {},
   "outputs": [
    {
     "data": {
      "text/plain": [
       "0    19730\n",
       "1     1741\n",
       "Name: debt, dtype: int64"
      ]
     },
     "execution_count": 17,
     "metadata": {},
     "output_type": "execute_result"
    }
   ],
   "source": [
    "df['debt'].value_counts()"
   ]
  },
  {
   "cell_type": "markdown",
   "metadata": {},
   "source": [
    "Данный столбец имеет только два значения, где 0 значит, что клиент не имел задолженностей по кредиту, а 1 - имел. На первый взгляд ошибок нет. Сейчас рассмотрим более подробно столбец education."
   ]
  },
  {
   "cell_type": "code",
   "execution_count": 18,
   "metadata": {
    "scrolled": true
   },
   "outputs": [
    {
     "data": {
      "text/plain": [
       "среднее                13705\n",
       "высшее                  4710\n",
       "СРЕДНЕЕ                  772\n",
       "Среднее                  711\n",
       "неоконченное высшее      668\n",
       "ВЫСШЕЕ                   273\n",
       "Высшее                   268\n",
       "начальное                250\n",
       "Неоконченное высшее       47\n",
       "НЕОКОНЧЕННОЕ ВЫСШЕЕ       29\n",
       "НАЧАЛЬНОЕ                 17\n",
       "Начальное                 15\n",
       "ученая степень             4\n",
       "УЧЕНАЯ СТЕПЕНЬ             1\n",
       "Ученая степень             1\n",
       "Name: education, dtype: int64"
      ]
     },
     "execution_count": 18,
     "metadata": {},
     "output_type": "execute_result"
    }
   ],
   "source": [
    "df['education'].value_counts()"
   ]
  },
  {
   "cell_type": "markdown",
   "metadata": {},
   "source": [
    "Из полученной таблицы видно, то данные различаются только регистром букв. Такие дубликаты легко исправить, заменив строчные буквы на прописные. Используем для этого метод lower() "
   ]
  },
  {
   "cell_type": "code",
   "execution_count": 19,
   "metadata": {
    "scrolled": true
   },
   "outputs": [
    {
     "data": {
      "text/plain": [
       "среднее                15188\n",
       "высшее                  5251\n",
       "неоконченное высшее      744\n",
       "начальное                282\n",
       "ученая степень             6\n",
       "Name: education, dtype: int64"
      ]
     },
     "execution_count": 19,
     "metadata": {},
     "output_type": "execute_result"
    }
   ],
   "source": [
    "#приведение всех строк в нижний регистр и проверка результата\n",
    "df['education'] = df['education'].str.lower()\n",
    "df['education'].value_counts()"
   ]
  },
  {
   "cell_type": "markdown",
   "metadata": {},
   "source": [
    "Пришло время для столбца gender:"
   ]
  },
  {
   "cell_type": "code",
   "execution_count": 20,
   "metadata": {
    "scrolled": true
   },
   "outputs": [
    {
     "data": {
      "text/plain": [
       "F      14189\n",
       "M       7281\n",
       "XNA        1\n",
       "Name: gender, dtype: int64"
      ]
     },
     "execution_count": 20,
     "metadata": {},
     "output_type": "execute_result"
    }
   ],
   "source": [
    "df['gender'].value_counts()"
   ]
  },
  {
   "cell_type": "markdown",
   "metadata": {},
   "source": [
    "Среди мужчин и женщин есть один неизвестный, рассмотрим его повнимательнее:"
   ]
  },
  {
   "cell_type": "code",
   "execution_count": 21,
   "metadata": {},
   "outputs": [
    {
     "data": {
      "text/html": [
       "<div>\n",
       "<style scoped>\n",
       "    .dataframe tbody tr th:only-of-type {\n",
       "        vertical-align: middle;\n",
       "    }\n",
       "\n",
       "    .dataframe tbody tr th {\n",
       "        vertical-align: top;\n",
       "    }\n",
       "\n",
       "    .dataframe thead th {\n",
       "        text-align: right;\n",
       "    }\n",
       "</style>\n",
       "<table border=\"1\" class=\"dataframe\">\n",
       "  <thead>\n",
       "    <tr style=\"text-align: right;\">\n",
       "      <th></th>\n",
       "      <th>children</th>\n",
       "      <th>days_employed</th>\n",
       "      <th>dob_years</th>\n",
       "      <th>education</th>\n",
       "      <th>education_id</th>\n",
       "      <th>family_status</th>\n",
       "      <th>family_status_id</th>\n",
       "      <th>gender</th>\n",
       "      <th>income_type</th>\n",
       "      <th>debt</th>\n",
       "      <th>total_income</th>\n",
       "      <th>purpose</th>\n",
       "      <th>days_employed_years</th>\n",
       "    </tr>\n",
       "  </thead>\n",
       "  <tbody>\n",
       "    <tr>\n",
       "      <td>10690</td>\n",
       "      <td>0</td>\n",
       "      <td>2358</td>\n",
       "      <td>24</td>\n",
       "      <td>неоконченное высшее</td>\n",
       "      <td>2</td>\n",
       "      <td>гражданский брак</td>\n",
       "      <td>1</td>\n",
       "      <td>XNA</td>\n",
       "      <td>компаньон</td>\n",
       "      <td>0</td>\n",
       "      <td>203905</td>\n",
       "      <td>покупка недвижимости</td>\n",
       "      <td>6</td>\n",
       "    </tr>\n",
       "  </tbody>\n",
       "</table>\n",
       "</div>"
      ],
      "text/plain": [
       "       children  days_employed  dob_years            education  education_id  \\\n",
       "10690         0           2358         24  неоконченное высшее             2   \n",
       "\n",
       "          family_status  family_status_id gender income_type  debt  \\\n",
       "10690  гражданский брак                 1    XNA   компаньон     0   \n",
       "\n",
       "       total_income               purpose  days_employed_years  \n",
       "10690        203905  покупка недвижимости                    6  "
      ]
     },
     "execution_count": 21,
     "metadata": {},
     "output_type": "execute_result"
    }
   ],
   "source": [
    "df[df['gender'] == 'XNA']"
   ]
  },
  {
   "cell_type": "markdown",
   "metadata": {},
   "source": [
    "Проверим, нет ли скрытого дубликата."
   ]
  },
  {
   "cell_type": "code",
   "execution_count": 22,
   "metadata": {},
   "outputs": [
    {
     "data": {
      "text/html": [
       "<div>\n",
       "<style scoped>\n",
       "    .dataframe tbody tr th:only-of-type {\n",
       "        vertical-align: middle;\n",
       "    }\n",
       "\n",
       "    .dataframe tbody tr th {\n",
       "        vertical-align: top;\n",
       "    }\n",
       "\n",
       "    .dataframe thead th {\n",
       "        text-align: right;\n",
       "    }\n",
       "</style>\n",
       "<table border=\"1\" class=\"dataframe\">\n",
       "  <thead>\n",
       "    <tr style=\"text-align: right;\">\n",
       "      <th></th>\n",
       "      <th>children</th>\n",
       "      <th>days_employed</th>\n",
       "      <th>dob_years</th>\n",
       "      <th>education</th>\n",
       "      <th>education_id</th>\n",
       "      <th>family_status</th>\n",
       "      <th>family_status_id</th>\n",
       "      <th>gender</th>\n",
       "      <th>income_type</th>\n",
       "      <th>debt</th>\n",
       "      <th>total_income</th>\n",
       "      <th>purpose</th>\n",
       "      <th>days_employed_years</th>\n",
       "    </tr>\n",
       "  </thead>\n",
       "  <tbody>\n",
       "    <tr>\n",
       "      <td>1248</td>\n",
       "      <td>0</td>\n",
       "      <td>2358</td>\n",
       "      <td>27</td>\n",
       "      <td>высшее</td>\n",
       "      <td>0</td>\n",
       "      <td>не женат / не замужем</td>\n",
       "      <td>4</td>\n",
       "      <td>F</td>\n",
       "      <td>сотрудник</td>\n",
       "      <td>1</td>\n",
       "      <td>184398</td>\n",
       "      <td>операции с коммерческой недвижимостью</td>\n",
       "      <td>6</td>\n",
       "    </tr>\n",
       "    <tr>\n",
       "      <td>6565</td>\n",
       "      <td>0</td>\n",
       "      <td>2358</td>\n",
       "      <td>61</td>\n",
       "      <td>среднее</td>\n",
       "      <td>1</td>\n",
       "      <td>в разводе</td>\n",
       "      <td>3</td>\n",
       "      <td>M</td>\n",
       "      <td>компаньон</td>\n",
       "      <td>0</td>\n",
       "      <td>189082</td>\n",
       "      <td>покупка жилья для семьи</td>\n",
       "      <td>6</td>\n",
       "    </tr>\n",
       "    <tr>\n",
       "      <td>6881</td>\n",
       "      <td>0</td>\n",
       "      <td>2358</td>\n",
       "      <td>33</td>\n",
       "      <td>среднее</td>\n",
       "      <td>1</td>\n",
       "      <td>женат / замужем</td>\n",
       "      <td>0</td>\n",
       "      <td>M</td>\n",
       "      <td>сотрудник</td>\n",
       "      <td>0</td>\n",
       "      <td>95387</td>\n",
       "      <td>покупка коммерческой недвижимости</td>\n",
       "      <td>6</td>\n",
       "    </tr>\n",
       "    <tr>\n",
       "      <td>8728</td>\n",
       "      <td>1</td>\n",
       "      <td>2358</td>\n",
       "      <td>29</td>\n",
       "      <td>среднее</td>\n",
       "      <td>1</td>\n",
       "      <td>женат / замужем</td>\n",
       "      <td>0</td>\n",
       "      <td>F</td>\n",
       "      <td>сотрудник</td>\n",
       "      <td>0</td>\n",
       "      <td>58726</td>\n",
       "      <td>строительство недвижимости</td>\n",
       "      <td>6</td>\n",
       "    </tr>\n",
       "    <tr>\n",
       "      <td>10303</td>\n",
       "      <td>0</td>\n",
       "      <td>2358</td>\n",
       "      <td>62</td>\n",
       "      <td>среднее</td>\n",
       "      <td>1</td>\n",
       "      <td>женат / замужем</td>\n",
       "      <td>0</td>\n",
       "      <td>F</td>\n",
       "      <td>компаньон</td>\n",
       "      <td>0</td>\n",
       "      <td>94518</td>\n",
       "      <td>получение образования</td>\n",
       "      <td>6</td>\n",
       "    </tr>\n",
       "    <tr>\n",
       "      <td>10690</td>\n",
       "      <td>0</td>\n",
       "      <td>2358</td>\n",
       "      <td>24</td>\n",
       "      <td>неоконченное высшее</td>\n",
       "      <td>2</td>\n",
       "      <td>гражданский брак</td>\n",
       "      <td>1</td>\n",
       "      <td>XNA</td>\n",
       "      <td>компаньон</td>\n",
       "      <td>0</td>\n",
       "      <td>203905</td>\n",
       "      <td>покупка недвижимости</td>\n",
       "      <td>6</td>\n",
       "    </tr>\n",
       "    <tr>\n",
       "      <td>12141</td>\n",
       "      <td>0</td>\n",
       "      <td>2358</td>\n",
       "      <td>50</td>\n",
       "      <td>среднее</td>\n",
       "      <td>1</td>\n",
       "      <td>женат / замужем</td>\n",
       "      <td>0</td>\n",
       "      <td>F</td>\n",
       "      <td>сотрудник</td>\n",
       "      <td>0</td>\n",
       "      <td>80911</td>\n",
       "      <td>операции с недвижимостью</td>\n",
       "      <td>6</td>\n",
       "    </tr>\n",
       "  </tbody>\n",
       "</table>\n",
       "</div>"
      ],
      "text/plain": [
       "       children  days_employed  dob_years            education  education_id  \\\n",
       "1248          0           2358         27               высшее             0   \n",
       "6565          0           2358         61              среднее             1   \n",
       "6881          0           2358         33              среднее             1   \n",
       "8728          1           2358         29              среднее             1   \n",
       "10303         0           2358         62              среднее             1   \n",
       "10690         0           2358         24  неоконченное высшее             2   \n",
       "12141         0           2358         50              среднее             1   \n",
       "\n",
       "               family_status  family_status_id gender income_type  debt  \\\n",
       "1248   не женат / не замужем                 4      F   сотрудник     1   \n",
       "6565               в разводе                 3      M   компаньон     0   \n",
       "6881         женат / замужем                 0      M   сотрудник     0   \n",
       "8728         женат / замужем                 0      F   сотрудник     0   \n",
       "10303        женат / замужем                 0      F   компаньон     0   \n",
       "10690       гражданский брак                 1    XNA   компаньон     0   \n",
       "12141        женат / замужем                 0      F   сотрудник     0   \n",
       "\n",
       "       total_income                                purpose  \\\n",
       "1248         184398  операции с коммерческой недвижимостью   \n",
       "6565         189082                покупка жилья для семьи   \n",
       "6881          95387      покупка коммерческой недвижимости   \n",
       "8728          58726             строительство недвижимости   \n",
       "10303         94518                  получение образования   \n",
       "10690        203905                   покупка недвижимости   \n",
       "12141         80911               операции с недвижимостью   \n",
       "\n",
       "       days_employed_years  \n",
       "1248                     6  \n",
       "6565                     6  \n",
       "6881                     6  \n",
       "8728                     6  \n",
       "10303                    6  \n",
       "10690                    6  \n",
       "12141                    6  "
      ]
     },
     "execution_count": 22,
     "metadata": {},
     "output_type": "execute_result"
    }
   ],
   "source": [
    "df[df['days_employed'] == 2358]"
   ]
  },
  {
   "cell_type": "markdown",
   "metadata": {},
   "source": [
    "Определить пол данного клиента по другим столбцам не получилось, но для нашего исследования это неважно, поэтому можно либо оставить данную строку в покое, либо просто удалить ее, чтобы в сводных таблицах она не выделялась. Удалим данную строку."
   ]
  },
  {
   "cell_type": "code",
   "execution_count": 23,
   "metadata": {},
   "outputs": [
    {
     "data": {
      "text/plain": [
       "(21470, 13)"
      ]
     },
     "execution_count": 23,
     "metadata": {},
     "output_type": "execute_result"
    }
   ],
   "source": [
    "df =  df[df['gender'] != 'XNA']\n",
    "df.shape"
   ]
  },
  {
   "cell_type": "markdown",
   "metadata": {},
   "source": [
    "Теперь изучим столбец income_type:"
   ]
  },
  {
   "cell_type": "code",
   "execution_count": 24,
   "metadata": {
    "scrolled": true
   },
   "outputs": [
    {
     "data": {
      "text/plain": [
       "сотрудник          11091\n",
       "компаньон           5079\n",
       "пенсионер           3837\n",
       "госслужащий         1457\n",
       "безработный            2\n",
       "предприниматель        2\n",
       "в декрете              1\n",
       "студент                1\n",
       "Name: income_type, dtype: int64"
      ]
     },
     "execution_count": 24,
     "metadata": {},
     "output_type": "execute_result"
    }
   ],
   "source": [
    "df['income_type'].value_counts()"
   ]
  },
  {
   "cell_type": "markdown",
   "metadata": {},
   "source": [
    "Видно, что к типу занятости 'безработный', 'предприниматель', 'студент' и 'в декрете' относится только 6 клиентов, а остальные приходятся на другие 4 категории.  Для проверки наших гипотез тип занятости не имеет значения, так что пока тоже ничего делать с этими пунктами не будем."
   ]
  },
  {
   "cell_type": "markdown",
   "metadata": {},
   "source": [
    "Проверим после исправления ошибок на наличие дубликатов. И если они найдутся, то удалим их."
   ]
  },
  {
   "cell_type": "code",
   "execution_count": 25,
   "metadata": {
    "scrolled": true
   },
   "outputs": [
    {
     "data": {
      "text/plain": [
       "17"
      ]
     },
     "execution_count": 25,
     "metadata": {},
     "output_type": "execute_result"
    }
   ],
   "source": [
    "df.duplicated().sum()"
   ]
  },
  {
   "cell_type": "code",
   "execution_count": 26,
   "metadata": {},
   "outputs": [
    {
     "data": {
      "text/plain": [
       "0"
      ]
     },
     "execution_count": 26,
     "metadata": {},
     "output_type": "execute_result"
    }
   ],
   "source": [
    "df = df.drop_duplicates().reset_index(drop = True)\n",
    "df.duplicated().sum()"
   ]
  },
  {
   "cell_type": "markdown",
   "metadata": {},
   "source": [
    "**Вывод**"
   ]
  },
  {
   "cell_type": "markdown",
   "metadata": {},
   "source": [
    "Итак, мы избавились от полных дубликатов в данных, привели в порядок данные в столбце education, children. Проверили столбцы на наличие ошибок и исправили те ошибки, которые удалось обнаружить."
   ]
  },
  {
   "cell_type": "markdown",
   "metadata": {},
   "source": [
    "### Лемматизация"
   ]
  },
  {
   "cell_type": "markdown",
   "metadata": {},
   "source": [
    "Рассмотрим теперь столбец purpose, где указаны цели получения кредита: "
   ]
  },
  {
   "cell_type": "code",
   "execution_count": 27,
   "metadata": {},
   "outputs": [
    {
     "data": {
      "text/plain": [
       "0                              покупка жилья\n",
       "1                    приобретение автомобиля\n",
       "2                 дополнительное образование\n",
       "3                            сыграть свадьбу\n",
       "4                          операции с жильем\n",
       "5                                образование\n",
       "6                      на проведение свадьбы\n",
       "7                    покупка жилья для семьи\n",
       "8                       покупка недвижимости\n",
       "9          покупка коммерческой недвижимости\n",
       "10                покупка жилой недвижимости\n",
       "11    строительство собственной недвижимости\n",
       "12                              недвижимость\n",
       "13                строительство недвижимости\n",
       "14        на покупку подержанного автомобиля\n",
       "15              на покупку своего автомобиля\n",
       "16     операции с коммерческой недвижимостью\n",
       "17          строительство жилой недвижимости\n",
       "18                                     жилье\n",
       "19           операции со своей недвижимостью\n",
       "20                                автомобили\n",
       "21                     заняться образованием\n",
       "22          сделка с подержанным автомобилем\n",
       "23                     получение образования\n",
       "24                                автомобиль\n",
       "25                                   свадьба\n",
       "26     получение дополнительного образования\n",
       "27                      покупка своего жилья\n",
       "28                  операции с недвижимостью\n",
       "29             получение высшего образования\n",
       "30                           свой автомобиль\n",
       "31                      сделка с автомобилем\n",
       "32                    профильное образование\n",
       "33                        высшее образование\n",
       "34                   покупка жилья для сдачи\n",
       "35                     на покупку автомобиля\n",
       "36                              ремонт жилью\n",
       "37              заняться высшим образованием\n",
       "dtype: object"
      ]
     },
     "execution_count": 27,
     "metadata": {},
     "output_type": "execute_result"
    }
   ],
   "source": [
    "purpose_fo_lemmatize = pd.Series(df['purpose'].unique())\n",
    "purpose_fo_lemmatize"
   ]
  },
  {
   "cell_type": "markdown",
   "metadata": {},
   "source": [
    "Определим частоту встречаемости лемм в целях приобретения кредита."
   ]
  },
  {
   "cell_type": "code",
   "execution_count": 28,
   "metadata": {},
   "outputs": [
    {
     "data": {
      "text/plain": [
       "Counter({'покупка': 10,\n",
       "         ' ': 59,\n",
       "         'жилье': 7,\n",
       "         '\\n': 38,\n",
       "         'приобретение': 1,\n",
       "         'автомобиль': 9,\n",
       "         'дополнительный': 2,\n",
       "         'образование': 9,\n",
       "         'сыграть': 1,\n",
       "         'свадьба': 3,\n",
       "         'операция': 4,\n",
       "         'с': 5,\n",
       "         'на': 4,\n",
       "         'проведение': 1,\n",
       "         'для': 2,\n",
       "         'семья': 1,\n",
       "         'недвижимость': 10,\n",
       "         'коммерческий': 2,\n",
       "         'жилой': 2,\n",
       "         'строительство': 3,\n",
       "         'собственный': 1,\n",
       "         'подержать': 1,\n",
       "         'свой': 4,\n",
       "         'со': 1,\n",
       "         'заниматься': 2,\n",
       "         'сделка': 2,\n",
       "         'подержанный': 1,\n",
       "         'получение': 3,\n",
       "         'высокий': 3,\n",
       "         'профильный': 1,\n",
       "         'сдача': 1,\n",
       "         'ремонт': 1})"
      ]
     },
     "execution_count": 28,
     "metadata": {},
     "output_type": "execute_result"
    }
   ],
   "source": [
    "from pymystem3 import Mystem\n",
    "m = Mystem()\n",
    "lemmas_counter = []\n",
    "from collections import Counter\n",
    "for row in purpose_fo_lemmatize:\n",
    "        lemmas_counter += m.lemmatize(row)\n",
    "Counter(lemmas_counter)"
   ]
  },
  {
   "cell_type": "markdown",
   "metadata": {},
   "source": [
    "Как видно из данных, цель кредитов можно разделить на 4-5 общих категорий: люди хотят жениться, приобрести автомобиль, купить жилье и получить образование. Я бы еще перенесла в отдельный пункт ремонт жилья, так как к покупке это не относится, это все-таки потребительский кредит, а не ипотека. Чтобы было легче разделить цели на категории лематизируем выражения. Лемматизация — это процесс преобразования слова в его базовую форму. Для этого воспользуемся библиотекой pymystem3."
   ]
  },
  {
   "cell_type": "markdown",
   "metadata": {},
   "source": [
    "Напишем функцию lemma_to_category, которая на вход получает лемматизированное выражение из столбца purpose, а на выходе передает категорию, к какому типу (свадьба, недвижимость, образование или автомобиль или ремонт) относится данный кредит."
   ]
  },
  {
   "cell_type": "code",
   "execution_count": 29,
   "metadata": {},
   "outputs": [],
   "source": [
    "from pymystem3 import Mystem\n",
    "m = Mystem()\n",
    "#определяем тип кредита по лемматизированному выражению\n",
    "def lemma_to_category(lemmas):\n",
    "    for element in lemmas:\n",
    "        if element == 'ремонт':\n",
    "            return 'ремонт'\n",
    "        elif element == 'свадьба':\n",
    "            return 'свадьба'\n",
    "        elif element in ['недвижимость', 'жилье']:\n",
    "            return 'недвижимость'\n",
    "        elif element == 'образование':\n",
    "            return 'образование'\n",
    "        elif element == 'автомобиль':\n",
    "            return 'автомобиль'\n",
    "        else:\n",
    "            element == 'не определено'"
   ]
  },
  {
   "cell_type": "markdown",
   "metadata": {},
   "source": [
    "Теперь создадим функцию purpose_category, которая принимает столбец с целями кредита и возвращает столбец с категориями кредита. Запишем полученне данные в новом столбце purpose_category."
   ]
  },
  {
   "cell_type": "code",
   "execution_count": 30,
   "metadata": {},
   "outputs": [
    {
     "data": {
      "text/html": [
       "<div>\n",
       "<style scoped>\n",
       "    .dataframe tbody tr th:only-of-type {\n",
       "        vertical-align: middle;\n",
       "    }\n",
       "\n",
       "    .dataframe tbody tr th {\n",
       "        vertical-align: top;\n",
       "    }\n",
       "\n",
       "    .dataframe thead th {\n",
       "        text-align: right;\n",
       "    }\n",
       "</style>\n",
       "<table border=\"1\" class=\"dataframe\">\n",
       "  <thead>\n",
       "    <tr style=\"text-align: right;\">\n",
       "      <th></th>\n",
       "      <th>children</th>\n",
       "      <th>days_employed</th>\n",
       "      <th>dob_years</th>\n",
       "      <th>education</th>\n",
       "      <th>education_id</th>\n",
       "      <th>family_status</th>\n",
       "      <th>family_status_id</th>\n",
       "      <th>gender</th>\n",
       "      <th>income_type</th>\n",
       "      <th>debt</th>\n",
       "      <th>total_income</th>\n",
       "      <th>purpose</th>\n",
       "      <th>days_employed_years</th>\n",
       "      <th>purpose_category</th>\n",
       "    </tr>\n",
       "  </thead>\n",
       "  <tbody>\n",
       "    <tr>\n",
       "      <td>0</td>\n",
       "      <td>1</td>\n",
       "      <td>8437</td>\n",
       "      <td>42</td>\n",
       "      <td>высшее</td>\n",
       "      <td>0</td>\n",
       "      <td>женат / замужем</td>\n",
       "      <td>0</td>\n",
       "      <td>F</td>\n",
       "      <td>сотрудник</td>\n",
       "      <td>0</td>\n",
       "      <td>253875</td>\n",
       "      <td>покупка жилья</td>\n",
       "      <td>23</td>\n",
       "      <td>недвижимость</td>\n",
       "    </tr>\n",
       "    <tr>\n",
       "      <td>1</td>\n",
       "      <td>1</td>\n",
       "      <td>4024</td>\n",
       "      <td>36</td>\n",
       "      <td>среднее</td>\n",
       "      <td>1</td>\n",
       "      <td>женат / замужем</td>\n",
       "      <td>0</td>\n",
       "      <td>F</td>\n",
       "      <td>сотрудник</td>\n",
       "      <td>0</td>\n",
       "      <td>112080</td>\n",
       "      <td>приобретение автомобиля</td>\n",
       "      <td>11</td>\n",
       "      <td>автомобиль</td>\n",
       "    </tr>\n",
       "    <tr>\n",
       "      <td>2</td>\n",
       "      <td>0</td>\n",
       "      <td>5623</td>\n",
       "      <td>33</td>\n",
       "      <td>среднее</td>\n",
       "      <td>1</td>\n",
       "      <td>женат / замужем</td>\n",
       "      <td>0</td>\n",
       "      <td>M</td>\n",
       "      <td>сотрудник</td>\n",
       "      <td>0</td>\n",
       "      <td>145885</td>\n",
       "      <td>покупка жилья</td>\n",
       "      <td>15</td>\n",
       "      <td>недвижимость</td>\n",
       "    </tr>\n",
       "    <tr>\n",
       "      <td>3</td>\n",
       "      <td>3</td>\n",
       "      <td>4124</td>\n",
       "      <td>32</td>\n",
       "      <td>среднее</td>\n",
       "      <td>1</td>\n",
       "      <td>женат / замужем</td>\n",
       "      <td>0</td>\n",
       "      <td>M</td>\n",
       "      <td>сотрудник</td>\n",
       "      <td>0</td>\n",
       "      <td>267628</td>\n",
       "      <td>дополнительное образование</td>\n",
       "      <td>11</td>\n",
       "      <td>образование</td>\n",
       "    </tr>\n",
       "    <tr>\n",
       "      <td>4</td>\n",
       "      <td>0</td>\n",
       "      <td>14177</td>\n",
       "      <td>53</td>\n",
       "      <td>среднее</td>\n",
       "      <td>1</td>\n",
       "      <td>гражданский брак</td>\n",
       "      <td>1</td>\n",
       "      <td>F</td>\n",
       "      <td>пенсионер</td>\n",
       "      <td>0</td>\n",
       "      <td>158616</td>\n",
       "      <td>сыграть свадьбу</td>\n",
       "      <td>38</td>\n",
       "      <td>свадьба</td>\n",
       "    </tr>\n",
       "  </tbody>\n",
       "</table>\n",
       "</div>"
      ],
      "text/plain": [
       "   children  days_employed  dob_years education  education_id  \\\n",
       "0         1           8437         42    высшее             0   \n",
       "1         1           4024         36   среднее             1   \n",
       "2         0           5623         33   среднее             1   \n",
       "3         3           4124         32   среднее             1   \n",
       "4         0          14177         53   среднее             1   \n",
       "\n",
       "      family_status  family_status_id gender income_type  debt  total_income  \\\n",
       "0   женат / замужем                 0      F   сотрудник     0        253875   \n",
       "1   женат / замужем                 0      F   сотрудник     0        112080   \n",
       "2   женат / замужем                 0      M   сотрудник     0        145885   \n",
       "3   женат / замужем                 0      M   сотрудник     0        267628   \n",
       "4  гражданский брак                 1      F   пенсионер     0        158616   \n",
       "\n",
       "                      purpose  days_employed_years purpose_category  \n",
       "0               покупка жилья                   23     недвижимость  \n",
       "1     приобретение автомобиля                   11       автомобиль  \n",
       "2               покупка жилья                   15     недвижимость  \n",
       "3  дополнительное образование                   11      образование  \n",
       "4             сыграть свадьбу                   38          свадьба  "
      ]
     },
     "execution_count": 30,
     "metadata": {},
     "output_type": "execute_result"
    }
   ],
   "source": [
    "df['purpose_category'] = df['purpose'].apply(m.lemmatize)\n",
    "df['purpose_category'] = df['purpose_category'].apply(lemma_to_category)\n",
    "df.head(5)"
   ]
  },
  {
   "cell_type": "markdown",
   "metadata": {},
   "source": [
    "Посмотрим, что у нас получилось:"
   ]
  },
  {
   "cell_type": "code",
   "execution_count": 31,
   "metadata": {
    "scrolled": true
   },
   "outputs": [
    {
     "data": {
      "text/plain": [
       "недвижимость    10203\n",
       "автомобиль       4306\n",
       "образование      4013\n",
       "свадьба          2324\n",
       "ремонт            607\n",
       "Name: purpose_category, dtype: int64"
      ]
     },
     "execution_count": 31,
     "metadata": {},
     "output_type": "execute_result"
    }
   ],
   "source": [
    "df['purpose_category'].value_counts()"
   ]
  },
  {
   "cell_type": "markdown",
   "metadata": {},
   "source": [
    "**Вывод**"
   ]
  },
  {
   "cell_type": "markdown",
   "metadata": {},
   "source": [
    "Нам удалось распределить цели получения кредита на 5 категорий, теперь проводить анализ будет проще."
   ]
  },
  {
   "cell_type": "markdown",
   "metadata": {},
   "source": [
    "### Категоризация данных"
   ]
  },
  {
   "cell_type": "markdown",
   "metadata": {},
   "source": [
    "Мы хотим поделить клиентов на возрастные категории для удобства анализа данных. Для этого рассмотрим данные столбца dob_years."
   ]
  },
  {
   "cell_type": "code",
   "execution_count": 32,
   "metadata": {},
   "outputs": [
    {
     "data": {
      "text/plain": [
       "42     0\n",
       "53    19\n",
       "29    20\n",
       "17    21\n",
       "49    22\n",
       "38    23\n",
       "16    24\n",
       "26    25\n",
       "14    26\n",
       "5     27\n",
       "20    28\n",
       "44    29\n",
       "28    30\n",
       "27    31\n",
       "3     32\n",
       "2     33\n",
       "24    34\n",
       "8     35\n",
       "1     36\n",
       "31    37\n",
       "39    38\n",
       "40    39\n",
       "10    40\n",
       "9     41\n",
       "0     42\n",
       "6     43\n",
       "35    44\n",
       "32    45\n",
       "37    46\n",
       "23    47\n",
       "15    48\n",
       "30    49\n",
       "7     50\n",
       "41    51\n",
       "36    52\n",
       "4     53\n",
       "12    54\n",
       "46    55\n",
       "13    56\n",
       "18    57\n",
       "47    58\n",
       "43    59\n",
       "45    60\n",
       "33    61\n",
       "22    62\n",
       "21    63\n",
       "34    64\n",
       "11    65\n",
       "51    66\n",
       "19    67\n",
       "25    68\n",
       "52    69\n",
       "55    70\n",
       "48    71\n",
       "54    72\n",
       "50    73\n",
       "56    74\n",
       "57    75\n",
       "dtype: int64"
      ]
     },
     "execution_count": 32,
     "metadata": {},
     "output_type": "execute_result"
    }
   ],
   "source": [
    "#определение уникальных значений столбца dob_years и сортировка по возрастанию\n",
    "years = pd.Series(df['dob_years'].unique())\n",
    "years.sort_values()"
   ]
  },
  {
   "cell_type": "markdown",
   "metadata": {},
   "source": [
    "Мы видим, что в данной таблице возраст клиентов находится в диапазоне 19-75 лет и мы можем поделить клиентов на три возрастные категории: 18-34, 35-59, 60-75. Также мы обнаружили одно некорректное значение - 0, рассмотрим его повнимательнее."
   ]
  },
  {
   "cell_type": "code",
   "execution_count": 33,
   "metadata": {},
   "outputs": [
    {
     "data": {
      "text/html": [
       "<div>\n",
       "<style scoped>\n",
       "    .dataframe tbody tr th:only-of-type {\n",
       "        vertical-align: middle;\n",
       "    }\n",
       "\n",
       "    .dataframe tbody tr th {\n",
       "        vertical-align: top;\n",
       "    }\n",
       "\n",
       "    .dataframe thead th {\n",
       "        text-align: right;\n",
       "    }\n",
       "</style>\n",
       "<table border=\"1\" class=\"dataframe\">\n",
       "  <thead>\n",
       "    <tr style=\"text-align: right;\">\n",
       "      <th></th>\n",
       "      <th>children</th>\n",
       "      <th>days_employed</th>\n",
       "      <th>dob_years</th>\n",
       "      <th>education</th>\n",
       "      <th>education_id</th>\n",
       "      <th>family_status</th>\n",
       "      <th>family_status_id</th>\n",
       "      <th>gender</th>\n",
       "      <th>income_type</th>\n",
       "      <th>debt</th>\n",
       "      <th>total_income</th>\n",
       "      <th>purpose</th>\n",
       "      <th>days_employed_years</th>\n",
       "      <th>purpose_category</th>\n",
       "    </tr>\n",
       "  </thead>\n",
       "  <tbody>\n",
       "    <tr>\n",
       "      <td>99</td>\n",
       "      <td>0</td>\n",
       "      <td>14439</td>\n",
       "      <td>0</td>\n",
       "      <td>среднее</td>\n",
       "      <td>1</td>\n",
       "      <td>женат / замужем</td>\n",
       "      <td>0</td>\n",
       "      <td>F</td>\n",
       "      <td>пенсионер</td>\n",
       "      <td>0</td>\n",
       "      <td>71291</td>\n",
       "      <td>автомобиль</td>\n",
       "      <td>39</td>\n",
       "      <td>автомобиль</td>\n",
       "    </tr>\n",
       "    <tr>\n",
       "      <td>149</td>\n",
       "      <td>0</td>\n",
       "      <td>2664</td>\n",
       "      <td>0</td>\n",
       "      <td>среднее</td>\n",
       "      <td>1</td>\n",
       "      <td>в разводе</td>\n",
       "      <td>3</td>\n",
       "      <td>F</td>\n",
       "      <td>сотрудник</td>\n",
       "      <td>0</td>\n",
       "      <td>70176</td>\n",
       "      <td>операции с жильем</td>\n",
       "      <td>7</td>\n",
       "      <td>недвижимость</td>\n",
       "    </tr>\n",
       "    <tr>\n",
       "      <td>270</td>\n",
       "      <td>3</td>\n",
       "      <td>1872</td>\n",
       "      <td>0</td>\n",
       "      <td>среднее</td>\n",
       "      <td>1</td>\n",
       "      <td>женат / замужем</td>\n",
       "      <td>0</td>\n",
       "      <td>F</td>\n",
       "      <td>сотрудник</td>\n",
       "      <td>0</td>\n",
       "      <td>102166</td>\n",
       "      <td>ремонт жилью</td>\n",
       "      <td>5</td>\n",
       "      <td>ремонт</td>\n",
       "    </tr>\n",
       "    <tr>\n",
       "      <td>578</td>\n",
       "      <td>0</td>\n",
       "      <td>16577</td>\n",
       "      <td>0</td>\n",
       "      <td>среднее</td>\n",
       "      <td>1</td>\n",
       "      <td>женат / замужем</td>\n",
       "      <td>0</td>\n",
       "      <td>F</td>\n",
       "      <td>пенсионер</td>\n",
       "      <td>0</td>\n",
       "      <td>97620</td>\n",
       "      <td>строительство собственной недвижимости</td>\n",
       "      <td>45</td>\n",
       "      <td>недвижимость</td>\n",
       "    </tr>\n",
       "    <tr>\n",
       "      <td>1040</td>\n",
       "      <td>0</td>\n",
       "      <td>1158</td>\n",
       "      <td>0</td>\n",
       "      <td>высшее</td>\n",
       "      <td>0</td>\n",
       "      <td>в разводе</td>\n",
       "      <td>3</td>\n",
       "      <td>F</td>\n",
       "      <td>компаньон</td>\n",
       "      <td>0</td>\n",
       "      <td>303994</td>\n",
       "      <td>свой автомобиль</td>\n",
       "      <td>3</td>\n",
       "      <td>автомобиль</td>\n",
       "    </tr>\n",
       "  </tbody>\n",
       "</table>\n",
       "</div>"
      ],
      "text/plain": [
       "      children  days_employed  dob_years education  education_id  \\\n",
       "99           0          14439          0   среднее             1   \n",
       "149          0           2664          0   среднее             1   \n",
       "270          3           1872          0   среднее             1   \n",
       "578          0          16577          0   среднее             1   \n",
       "1040         0           1158          0    высшее             0   \n",
       "\n",
       "        family_status  family_status_id gender income_type  debt  \\\n",
       "99    женат / замужем                 0      F   пенсионер     0   \n",
       "149         в разводе                 3      F   сотрудник     0   \n",
       "270   женат / замужем                 0      F   сотрудник     0   \n",
       "578   женат / замужем                 0      F   пенсионер     0   \n",
       "1040        в разводе                 3      F   компаньон     0   \n",
       "\n",
       "      total_income                                 purpose  \\\n",
       "99           71291                              автомобиль   \n",
       "149          70176                       операции с жильем   \n",
       "270         102166                            ремонт жилью   \n",
       "578          97620  строительство собственной недвижимости   \n",
       "1040        303994                         свой автомобиль   \n",
       "\n",
       "      days_employed_years purpose_category  \n",
       "99                     39       автомобиль  \n",
       "149                     7     недвижимость  \n",
       "270                     5           ремонт  \n",
       "578                    45     недвижимость  \n",
       "1040                    3       автомобиль  "
      ]
     },
     "execution_count": 33,
     "metadata": {},
     "output_type": "execute_result"
    }
   ],
   "source": [
    "df[df['dob_years'] == 0].head(5)"
   ]
  },
  {
   "cell_type": "markdown",
   "metadata": {},
   "source": [
    "Как видно из таблицы, появление нуля в рассматриваемом столбце скорее всего технический сбой или человеческий фактор при вводе данных. Для проверки наших гипотез данные о возрасте не нужны, но мы все равно избавимся от этого артефакта, так как он не попадает ни в одну из наших будующих категорий. \n",
    "\n",
    "Так как возраст является количественной переменной, то для заполнения потерянных данных используем среднее значение, используя метод mean()."
   ]
  },
  {
   "cell_type": "markdown",
   "metadata": {},
   "source": [
    "Заменим нулевые значения на медианные по типу занятости."
   ]
  },
  {
   "cell_type": "code",
   "execution_count": 34,
   "metadata": {},
   "outputs": [
    {
     "data": {
      "text/plain": [
       "42.0"
      ]
     },
     "execution_count": 34,
     "metadata": {},
     "output_type": "execute_result"
    }
   ],
   "source": [
    "df['dob_years'] = df['dob_years'].replace(0, (df.groupby('income_type')['dob_years'].transform('median')).astype(int))\n",
    "df['dob_years'].median()"
   ]
  },
  {
   "cell_type": "markdown",
   "metadata": {},
   "source": [
    "Посмотрим, что получилось."
   ]
  },
  {
   "cell_type": "code",
   "execution_count": 35,
   "metadata": {},
   "outputs": [
    {
     "data": {
      "text/plain": [
       "array([42, 36, 33, 32, 53, 27, 43, 50, 35, 41, 40, 65, 54, 56, 26, 48, 24,\n",
       "       21, 57, 67, 28, 63, 62, 47, 34, 68, 25, 31, 30, 20, 49, 37, 45, 61,\n",
       "       64, 44, 52, 46, 23, 38, 39, 51, 60, 59, 29, 55, 58, 71, 22, 73, 66,\n",
       "       69, 19, 72, 70, 74, 75])"
      ]
     },
     "execution_count": 35,
     "metadata": {},
     "output_type": "execute_result"
    }
   ],
   "source": [
    "#получение и вывод уникальных значений столбца dob_years на экран\n",
    "df['dob_years'].unique()"
   ]
  },
  {
   "cell_type": "markdown",
   "metadata": {},
   "source": [
    "Теперь артифактов нет и можно категорезировать данные. Создадим функцию, которая бы принимала возраст клиента и возвращала бы название категории."
   ]
  },
  {
   "cell_type": "code",
   "execution_count": 36,
   "metadata": {},
   "outputs": [
    {
     "data": {
      "text/plain": [
       "'дети'"
      ]
     },
     "execution_count": 36,
     "metadata": {},
     "output_type": "execute_result"
    }
   ],
   "source": [
    "def age_category(age):\n",
    "    try:\n",
    "        if 18 < age < 35:\n",
    "            return '19 - 34'\n",
    "        elif 35 <= age < 60:\n",
    "            return '35 - 59'\n",
    "        elif age >= 60 :\n",
    "            return '60 - 75'\n",
    "        else: \n",
    "            return 'дети'\n",
    "    except:\n",
    "        return 'ошибка'\n",
    "#пример выполнения функции\n",
    "age_category(18)"
   ]
  },
  {
   "cell_type": "markdown",
   "metadata": {},
   "source": [
    "Создадим новый столбец dob_years_category, куда запишем результат выполнения нашей функции."
   ]
  },
  {
   "cell_type": "code",
   "execution_count": 37,
   "metadata": {},
   "outputs": [
    {
     "data": {
      "text/html": [
       "<div>\n",
       "<style scoped>\n",
       "    .dataframe tbody tr th:only-of-type {\n",
       "        vertical-align: middle;\n",
       "    }\n",
       "\n",
       "    .dataframe tbody tr th {\n",
       "        vertical-align: top;\n",
       "    }\n",
       "\n",
       "    .dataframe thead th {\n",
       "        text-align: right;\n",
       "    }\n",
       "</style>\n",
       "<table border=\"1\" class=\"dataframe\">\n",
       "  <thead>\n",
       "    <tr style=\"text-align: right;\">\n",
       "      <th></th>\n",
       "      <th>children</th>\n",
       "      <th>days_employed</th>\n",
       "      <th>dob_years</th>\n",
       "      <th>education</th>\n",
       "      <th>education_id</th>\n",
       "      <th>family_status</th>\n",
       "      <th>family_status_id</th>\n",
       "      <th>gender</th>\n",
       "      <th>income_type</th>\n",
       "      <th>debt</th>\n",
       "      <th>total_income</th>\n",
       "      <th>purpose</th>\n",
       "      <th>days_employed_years</th>\n",
       "      <th>purpose_category</th>\n",
       "      <th>dob_years_category</th>\n",
       "    </tr>\n",
       "  </thead>\n",
       "  <tbody>\n",
       "    <tr>\n",
       "      <td>0</td>\n",
       "      <td>1</td>\n",
       "      <td>8437</td>\n",
       "      <td>42</td>\n",
       "      <td>высшее</td>\n",
       "      <td>0</td>\n",
       "      <td>женат / замужем</td>\n",
       "      <td>0</td>\n",
       "      <td>F</td>\n",
       "      <td>сотрудник</td>\n",
       "      <td>0</td>\n",
       "      <td>253875</td>\n",
       "      <td>покупка жилья</td>\n",
       "      <td>23</td>\n",
       "      <td>недвижимость</td>\n",
       "      <td>35 - 59</td>\n",
       "    </tr>\n",
       "    <tr>\n",
       "      <td>1</td>\n",
       "      <td>1</td>\n",
       "      <td>4024</td>\n",
       "      <td>36</td>\n",
       "      <td>среднее</td>\n",
       "      <td>1</td>\n",
       "      <td>женат / замужем</td>\n",
       "      <td>0</td>\n",
       "      <td>F</td>\n",
       "      <td>сотрудник</td>\n",
       "      <td>0</td>\n",
       "      <td>112080</td>\n",
       "      <td>приобретение автомобиля</td>\n",
       "      <td>11</td>\n",
       "      <td>автомобиль</td>\n",
       "      <td>35 - 59</td>\n",
       "    </tr>\n",
       "    <tr>\n",
       "      <td>2</td>\n",
       "      <td>0</td>\n",
       "      <td>5623</td>\n",
       "      <td>33</td>\n",
       "      <td>среднее</td>\n",
       "      <td>1</td>\n",
       "      <td>женат / замужем</td>\n",
       "      <td>0</td>\n",
       "      <td>M</td>\n",
       "      <td>сотрудник</td>\n",
       "      <td>0</td>\n",
       "      <td>145885</td>\n",
       "      <td>покупка жилья</td>\n",
       "      <td>15</td>\n",
       "      <td>недвижимость</td>\n",
       "      <td>19 - 34</td>\n",
       "    </tr>\n",
       "    <tr>\n",
       "      <td>3</td>\n",
       "      <td>3</td>\n",
       "      <td>4124</td>\n",
       "      <td>32</td>\n",
       "      <td>среднее</td>\n",
       "      <td>1</td>\n",
       "      <td>женат / замужем</td>\n",
       "      <td>0</td>\n",
       "      <td>M</td>\n",
       "      <td>сотрудник</td>\n",
       "      <td>0</td>\n",
       "      <td>267628</td>\n",
       "      <td>дополнительное образование</td>\n",
       "      <td>11</td>\n",
       "      <td>образование</td>\n",
       "      <td>19 - 34</td>\n",
       "    </tr>\n",
       "    <tr>\n",
       "      <td>4</td>\n",
       "      <td>0</td>\n",
       "      <td>14177</td>\n",
       "      <td>53</td>\n",
       "      <td>среднее</td>\n",
       "      <td>1</td>\n",
       "      <td>гражданский брак</td>\n",
       "      <td>1</td>\n",
       "      <td>F</td>\n",
       "      <td>пенсионер</td>\n",
       "      <td>0</td>\n",
       "      <td>158616</td>\n",
       "      <td>сыграть свадьбу</td>\n",
       "      <td>38</td>\n",
       "      <td>свадьба</td>\n",
       "      <td>35 - 59</td>\n",
       "    </tr>\n",
       "  </tbody>\n",
       "</table>\n",
       "</div>"
      ],
      "text/plain": [
       "   children  days_employed  dob_years education  education_id  \\\n",
       "0         1           8437         42    высшее             0   \n",
       "1         1           4024         36   среднее             1   \n",
       "2         0           5623         33   среднее             1   \n",
       "3         3           4124         32   среднее             1   \n",
       "4         0          14177         53   среднее             1   \n",
       "\n",
       "      family_status  family_status_id gender income_type  debt  total_income  \\\n",
       "0   женат / замужем                 0      F   сотрудник     0        253875   \n",
       "1   женат / замужем                 0      F   сотрудник     0        112080   \n",
       "2   женат / замужем                 0      M   сотрудник     0        145885   \n",
       "3   женат / замужем                 0      M   сотрудник     0        267628   \n",
       "4  гражданский брак                 1      F   пенсионер     0        158616   \n",
       "\n",
       "                      purpose  days_employed_years purpose_category  \\\n",
       "0               покупка жилья                   23     недвижимость   \n",
       "1     приобретение автомобиля                   11       автомобиль   \n",
       "2               покупка жилья                   15     недвижимость   \n",
       "3  дополнительное образование                   11      образование   \n",
       "4             сыграть свадьбу                   38          свадьба   \n",
       "\n",
       "  dob_years_category  \n",
       "0            35 - 59  \n",
       "1            35 - 59  \n",
       "2            19 - 34  \n",
       "3            19 - 34  \n",
       "4            35 - 59  "
      ]
     },
     "execution_count": 37,
     "metadata": {},
     "output_type": "execute_result"
    }
   ],
   "source": [
    "df['dob_years_category'] = df['dob_years'].apply(age_category)\n",
    "df.head()"
   ]
  },
  {
   "cell_type": "markdown",
   "metadata": {},
   "source": [
    "Итак, мы поработали со столбцом dob_years, избавились нуля и категоризировали данный столбец."
   ]
  },
  {
   "cell_type": "markdown",
   "metadata": {},
   "source": [
    "Также для категоризации можно воспользоваться методом qcut, которая автоматически поделит клиентов на категории."
   ]
  },
  {
   "cell_type": "code",
   "execution_count": 38,
   "metadata": {},
   "outputs": [
    {
     "data": {
      "text/html": [
       "<div>\n",
       "<style scoped>\n",
       "    .dataframe tbody tr th:only-of-type {\n",
       "        vertical-align: middle;\n",
       "    }\n",
       "\n",
       "    .dataframe tbody tr th {\n",
       "        vertical-align: top;\n",
       "    }\n",
       "\n",
       "    .dataframe thead th {\n",
       "        text-align: right;\n",
       "    }\n",
       "</style>\n",
       "<table border=\"1\" class=\"dataframe\">\n",
       "  <thead>\n",
       "    <tr style=\"text-align: right;\">\n",
       "      <th></th>\n",
       "      <th>count</th>\n",
       "      <th>mean</th>\n",
       "    </tr>\n",
       "    <tr>\n",
       "      <th>dob_years_bin</th>\n",
       "      <th></th>\n",
       "      <th></th>\n",
       "    </tr>\n",
       "  </thead>\n",
       "  <tbody>\n",
       "    <tr>\n",
       "      <td>(18.999, 32.0]</td>\n",
       "      <td>4784</td>\n",
       "      <td>0.110995</td>\n",
       "    </tr>\n",
       "    <tr>\n",
       "      <td>(32.0, 39.0]</td>\n",
       "      <td>4132</td>\n",
       "      <td>0.091239</td>\n",
       "    </tr>\n",
       "    <tr>\n",
       "      <td>(39.0, 47.0]</td>\n",
       "      <td>4316</td>\n",
       "      <td>0.078545</td>\n",
       "    </tr>\n",
       "    <tr>\n",
       "      <td>(47.0, 56.0]</td>\n",
       "      <td>4348</td>\n",
       "      <td>0.065777</td>\n",
       "    </tr>\n",
       "    <tr>\n",
       "      <td>(56.0, 75.0]</td>\n",
       "      <td>3873</td>\n",
       "      <td>0.053705</td>\n",
       "    </tr>\n",
       "  </tbody>\n",
       "</table>\n",
       "</div>"
      ],
      "text/plain": [
       "                count      mean\n",
       "dob_years_bin                  \n",
       "(18.999, 32.0]   4784  0.110995\n",
       "(32.0, 39.0]     4132  0.091239\n",
       "(39.0, 47.0]     4316  0.078545\n",
       "(47.0, 56.0]     4348  0.065777\n",
       "(56.0, 75.0]     3873  0.053705"
      ]
     },
     "execution_count": 38,
     "metadata": {},
     "output_type": "execute_result"
    }
   ],
   "source": [
    "df['dob_years_bin'] = pd.qcut(df['dob_years'], 5)\n",
    "df.groupby('dob_years_bin')['debt'].agg(['count','mean'])"
   ]
  },
  {
   "cell_type": "markdown",
   "metadata": {},
   "source": [
    "**Вывод**"
   ]
  },
  {
   "cell_type": "markdown",
   "metadata": {},
   "source": [
    "Итак, на этапе предобработки данных мы обнаружили и удалили дубликаты в таблице, нашли и исправили ошибки в данных, заполнили пропуски, лемматизировали цели кредита, что позволило разбить их на категории, а также категоризировали данные по возрасту."
   ]
  },
  {
   "cell_type": "markdown",
   "metadata": {},
   "source": [
    "## Шаг 3. Ответьте на вопросы"
   ]
  },
  {
   "cell_type": "markdown",
   "metadata": {},
   "source": [
    "- Есть ли зависимость между наличием детей и возвратом кредита в срок?"
   ]
  },
  {
   "cell_type": "markdown",
   "metadata": {},
   "source": [
    "После всех преобразований посмотрим реальные размеры таблицы."
   ]
  },
  {
   "cell_type": "code",
   "execution_count": 39,
   "metadata": {},
   "outputs": [
    {
     "data": {
      "text/plain": [
       "(21453, 16)"
      ]
     },
     "execution_count": 39,
     "metadata": {},
     "output_type": "execute_result"
    }
   ],
   "source": [
    "df.shape"
   ]
  },
  {
   "cell_type": "markdown",
   "metadata": {},
   "source": [
    "Общее количество записей составляет 21454. Узнаем, сколько клиентов из них имеет задолженность, а сколько - нет."
   ]
  },
  {
   "cell_type": "code",
   "execution_count": 40,
   "metadata": {},
   "outputs": [
    {
     "data": {
      "text/plain": [
       "0    19712\n",
       "1     1741\n",
       "Name: debt, dtype: int64"
      ]
     },
     "execution_count": 40,
     "metadata": {},
     "output_type": "execute_result"
    }
   ],
   "source": [
    "df['debt'].value_counts()"
   ]
  },
  {
   "cell_type": "markdown",
   "metadata": {},
   "source": [
    "Выясним долю клиентов в разрезе наличия задолженности."
   ]
  },
  {
   "cell_type": "code",
   "execution_count": 41,
   "metadata": {},
   "outputs": [
    {
     "data": {
      "text/plain": [
       "0    0.918846\n",
       "1    0.081154\n",
       "Name: debt, dtype: float64"
      ]
     },
     "execution_count": 41,
     "metadata": {},
     "output_type": "execute_result"
    }
   ],
   "source": [
    "df['debt'].value_counts(normalize=True)"
   ]
  },
  {
   "cell_type": "markdown",
   "metadata": {},
   "source": [
    "Общая доля клиентов с задолженностью по кредиту составляет 8,12%. Вычислим долю клиентов в разрезе количества детей к общему числу клиентов."
   ]
  },
  {
   "cell_type": "code",
   "execution_count": 42,
   "metadata": {},
   "outputs": [
    {
     "data": {
      "text/plain": [
       "0    0.656785\n",
       "1    0.226309\n",
       "2    0.099194\n",
       "3    0.015382\n",
       "4    0.001911\n",
       "5    0.000420\n",
       "Name: children, dtype: float64"
      ]
     },
     "execution_count": 42,
     "metadata": {},
     "output_type": "execute_result"
    }
   ],
   "source": [
    "debt_general_children = df['children'].value_counts()\n",
    "debt_general_children / df.shape[0]"
   ]
  },
  {
   "cell_type": "markdown",
   "metadata": {},
   "source": [
    "Как видно из данных, самая многочисленная группа клиентов - это клиенты, не имеющие детей, их - 65.68% от общего числа клиентов. Затем идут клиенты, имеющие одного (22.62%) и двух детей (9.91%) соотвественно. Намного меньше категория клиентов с требя детьми - всего 1.53%. Для остальных категорий слишком мало данных, чтобы считать такие данные релевантными."
   ]
  },
  {
   "cell_type": "markdown",
   "metadata": {},
   "source": [
    "Теперь выясним долю клиентов с кредитной задолженностью с разрезе количества детей."
   ]
  },
  {
   "cell_type": "code",
   "execution_count": 43,
   "metadata": {
    "scrolled": true
   },
   "outputs": [
    {
     "data": {
      "text/html": [
       "<div>\n",
       "<style scoped>\n",
       "    .dataframe tbody tr th:only-of-type {\n",
       "        vertical-align: middle;\n",
       "    }\n",
       "\n",
       "    .dataframe tbody tr th {\n",
       "        vertical-align: top;\n",
       "    }\n",
       "\n",
       "    .dataframe thead th {\n",
       "        text-align: right;\n",
       "    }\n",
       "</style>\n",
       "<table border=\"1\" class=\"dataframe\">\n",
       "  <thead>\n",
       "    <tr style=\"text-align: right;\">\n",
       "      <th></th>\n",
       "      <th>count</th>\n",
       "      <th>mean</th>\n",
       "    </tr>\n",
       "    <tr>\n",
       "      <th>children</th>\n",
       "      <th></th>\n",
       "      <th></th>\n",
       "    </tr>\n",
       "  </thead>\n",
       "  <tbody>\n",
       "    <tr>\n",
       "      <td>0</td>\n",
       "      <td>14090</td>\n",
       "      <td>0.075444</td>\n",
       "    </tr>\n",
       "    <tr>\n",
       "      <td>1</td>\n",
       "      <td>4855</td>\n",
       "      <td>0.091658</td>\n",
       "    </tr>\n",
       "    <tr>\n",
       "      <td>2</td>\n",
       "      <td>2128</td>\n",
       "      <td>0.094925</td>\n",
       "    </tr>\n",
       "    <tr>\n",
       "      <td>3</td>\n",
       "      <td>330</td>\n",
       "      <td>0.081818</td>\n",
       "    </tr>\n",
       "    <tr>\n",
       "      <td>4</td>\n",
       "      <td>41</td>\n",
       "      <td>0.097561</td>\n",
       "    </tr>\n",
       "    <tr>\n",
       "      <td>5</td>\n",
       "      <td>9</td>\n",
       "      <td>0.000000</td>\n",
       "    </tr>\n",
       "  </tbody>\n",
       "</table>\n",
       "</div>"
      ],
      "text/plain": [
       "          count      mean\n",
       "children                 \n",
       "0         14090  0.075444\n",
       "1          4855  0.091658\n",
       "2          2128  0.094925\n",
       "3           330  0.081818\n",
       "4            41  0.097561\n",
       "5             9  0.000000"
      ]
     },
     "execution_count": 43,
     "metadata": {},
     "output_type": "execute_result"
    }
   ],
   "source": [
    "df.groupby('children')['debt'].agg(['count', 'mean'])"
   ]
  },
  {
   "cell_type": "markdown",
   "metadata": {},
   "source": [
    "**Вывод**"
   ]
  },
  {
   "cell_type": "markdown",
   "metadata": {},
   "source": [
    "Исходя из полученных данных, модно сделать выводы:\n",
    " 1. Самые кредитоспособные клиенты - это клиенты, не имеющие детей, она же самая и многочесленная -  65.7% от общего количества клиентов. Это интуитивно понятно, так как чем меньше в семье иждивенцев, тем проще производить регулярные выплаты даже в сложные периоды времени. \n",
    " 2. На втором месте по кредитоспособности стоят клиенты, имеющие троих детей. Скорее всего, это связано с тем, что во-первых, таких клиентов более тщательно проверяют на кредитоспособность, их всего 1.5% от общего количества клиентов, а во-вторых, данные клиенты относятся к категории многодетных семей, и соответственно им предоставляются различные льготы, благодаря которым, проще вносить платежи вовремя.\n",
    " 3. Также особняком стоят клиенты с 5-ю детьми, среди них совсем нет клиентов с задолженностми, их в процентном отношении совсем мало, всего 0.04% , скорее всего их кредитоспособность должна быть просто идеальной, чтобы им одобрили кредит.\n",
    " 4. Клиенты же, имеющие 1, 2 и 4 детей имеют выше процент невозвратов, чем в среднем по всем клиентам. И чем детей больше, тем процент клиентов, имеющие задолженность по кредитам, выше."
   ]
  },
  {
   "cell_type": "markdown",
   "metadata": {},
   "source": [
    "- Есть ли зависимость между семейным положением и возвратом кредита в срок?"
   ]
  },
  {
   "cell_type": "markdown",
   "metadata": {},
   "source": [
    "Выше мы выяснили, что общая доля клиентов с задолженностью по кредиту составляет 8,115%. Теперь рассмотрим долю клиентов в разрезе семейного положения к общему числу клиентов."
   ]
  },
  {
   "cell_type": "code",
   "execution_count": 44,
   "metadata": {},
   "outputs": [
    {
     "data": {
      "text/plain": [
       "женат / замужем          0.575164\n",
       "гражданский брак         0.193446\n",
       "не женат / не замужем    0.130984\n",
       "в разводе                0.055703\n",
       "вдовец / вдова           0.044702\n",
       "Name: family_status, dtype: float64"
      ]
     },
     "execution_count": 44,
     "metadata": {},
     "output_type": "execute_result"
    }
   ],
   "source": [
    "debt_general_family_status = df['family_status'].value_counts()\n",
    "debt_general_family_status / df.shape[0]"
   ]
  },
  {
   "cell_type": "markdown",
   "metadata": {},
   "source": [
    "Как видно из данных, самая многочисленная группа клиентов - это клиенты, состоящие в браке, их - 57.51% от общего числа клиентов. Затем идут клиенты, состоящие в гражданском браке (19.34%), неженатые (незамужние) 13.10%) соотвественно. Самыми малочесленными категориями являются клиенты, состоящие в разводе (5.57%) и вдовцы (4.47%)."
   ]
  },
  {
   "cell_type": "markdown",
   "metadata": {},
   "source": [
    "Теперь выясним долю клиентов с кредитной задолженностью с разрезе семейного статуса."
   ]
  },
  {
   "cell_type": "code",
   "execution_count": 45,
   "metadata": {
    "scrolled": true
   },
   "outputs": [
    {
     "data": {
      "text/html": [
       "<div>\n",
       "<style scoped>\n",
       "    .dataframe tbody tr th:only-of-type {\n",
       "        vertical-align: middle;\n",
       "    }\n",
       "\n",
       "    .dataframe tbody tr th {\n",
       "        vertical-align: top;\n",
       "    }\n",
       "\n",
       "    .dataframe thead th {\n",
       "        text-align: right;\n",
       "    }\n",
       "</style>\n",
       "<table border=\"1\" class=\"dataframe\">\n",
       "  <thead>\n",
       "    <tr style=\"text-align: right;\">\n",
       "      <th></th>\n",
       "      <th>count</th>\n",
       "      <th>mean</th>\n",
       "    </tr>\n",
       "    <tr>\n",
       "      <th>family_status</th>\n",
       "      <th></th>\n",
       "      <th></th>\n",
       "    </tr>\n",
       "  </thead>\n",
       "  <tbody>\n",
       "    <tr>\n",
       "      <td>в разводе</td>\n",
       "      <td>1195</td>\n",
       "      <td>0.071130</td>\n",
       "    </tr>\n",
       "    <tr>\n",
       "      <td>вдовец / вдова</td>\n",
       "      <td>959</td>\n",
       "      <td>0.065693</td>\n",
       "    </tr>\n",
       "    <tr>\n",
       "      <td>гражданский брак</td>\n",
       "      <td>4150</td>\n",
       "      <td>0.093494</td>\n",
       "    </tr>\n",
       "    <tr>\n",
       "      <td>женат / замужем</td>\n",
       "      <td>12339</td>\n",
       "      <td>0.075452</td>\n",
       "    </tr>\n",
       "    <tr>\n",
       "      <td>не женат / не замужем</td>\n",
       "      <td>2810</td>\n",
       "      <td>0.097509</td>\n",
       "    </tr>\n",
       "  </tbody>\n",
       "</table>\n",
       "</div>"
      ],
      "text/plain": [
       "                       count      mean\n",
       "family_status                         \n",
       "в разводе               1195  0.071130\n",
       "вдовец / вдова           959  0.065693\n",
       "гражданский брак        4150  0.093494\n",
       "женат / замужем        12339  0.075452\n",
       "не женат / не замужем   2810  0.097509"
      ]
     },
     "execution_count": 45,
     "metadata": {},
     "output_type": "execute_result"
    }
   ],
   "source": [
    "#вычисление количества клиентов, имеющие задолженность в разрезе количества детей\n",
    "df.groupby('family_status')['debt'].agg(['count', 'mean'])"
   ]
  },
  {
   "cell_type": "markdown",
   "metadata": {},
   "source": [
    "**Вывод**"
   ]
  },
  {
   "cell_type": "markdown",
   "metadata": {},
   "source": [
    "Итак, можно сделать выводы:\n",
    "1. Самые кредитоспособные клиенты - вдовцы, но она является самой малочесленной категорией. Затем идут женатые (замужние) клиенты, а следом за ними -  в разводе. Получается, что самые кредитоспособные клиенты - это клиенты прошедшие институт брака.\n",
    "2. Самые ненадежные клиенты  - это клиенты, не состоящие в отношениях, то есть неженатые (незамужние). Чуть лучше обстоят дела с клиентами, состоящие в гражданском браке. У этих двух категорий клиентов процент задолженностей по кредитам выше, чем в целом по всем клиентам.\n",
    "\n",
    "Это можно объяснить тем, что во-первых, человек, который решился на брак, как правило более ответственный, а во-вторых, в браке проблема финансовых платежей является общей семейной проблемой, и при возможной проблеме в выплате кредита как правило второй супруг более активно будет участвовать в его погашении."
   ]
  },
  {
   "cell_type": "markdown",
   "metadata": {},
   "source": [
    "- Есть ли зависимость между уровнем дохода и возвратом кредита в срок?"
   ]
  },
  {
   "cell_type": "markdown",
   "metadata": {},
   "source": [
    "Вычислим медианную зарплату у клиентов в разрезе наличия задолженностей по кредиту."
   ]
  },
  {
   "cell_type": "code",
   "execution_count": 46,
   "metadata": {},
   "outputs": [
    {
     "data": {
      "text/plain": [
       "debt\n",
       "0    142594\n",
       "1    142594\n",
       "Name: total_income, dtype: int64"
      ]
     },
     "execution_count": 46,
     "metadata": {},
     "output_type": "execute_result"
    }
   ],
   "source": [
    "#вычисление медианной и средней месячного дохода клиентов в разрезе кредитоспособности\n",
    "debt_total_income_mean = df.groupby('debt')['total_income'].mean()\n",
    "debt_good_total_income_median = df.groupby('debt')['total_income'].median()\n",
    "#медианная зарплата у клиентов без проблем с выплатами и у клиентов, имеющих проблему в выплате кредита\n",
    "debt_good_total_income_median"
   ]
  },
  {
   "cell_type": "code",
   "execution_count": 47,
   "metadata": {},
   "outputs": [
    {
     "data": {
      "text/plain": [
       "debt\n",
       "0    165685.137784\n",
       "1    161158.393452\n",
       "Name: total_income, dtype: float64"
      ]
     },
     "execution_count": 47,
     "metadata": {},
     "output_type": "execute_result"
    }
   ],
   "source": [
    "#средняя зарплата у клиентов без проблем с выплатами и у клиентов, имеющих проблему в выплате кредита\n",
    "debt_total_income_mean"
   ]
  },
  {
   "cell_type": "code",
   "execution_count": 48,
   "metadata": {},
   "outputs": [
    {
     "data": {
      "text/html": [
       "<div>\n",
       "<style scoped>\n",
       "    .dataframe tbody tr th:only-of-type {\n",
       "        vertical-align: middle;\n",
       "    }\n",
       "\n",
       "    .dataframe tbody tr th {\n",
       "        vertical-align: top;\n",
       "    }\n",
       "\n",
       "    .dataframe thead th {\n",
       "        text-align: right;\n",
       "    }\n",
       "</style>\n",
       "<table border=\"1\" class=\"dataframe\">\n",
       "  <thead>\n",
       "    <tr style=\"text-align: right;\">\n",
       "      <th></th>\n",
       "      <th>count</th>\n",
       "      <th>mean</th>\n",
       "    </tr>\n",
       "    <tr>\n",
       "      <th>total_income_bin</th>\n",
       "      <th></th>\n",
       "      <th></th>\n",
       "    </tr>\n",
       "  </thead>\n",
       "  <tbody>\n",
       "    <tr>\n",
       "      <td>(20666.999, 61237.28]</td>\n",
       "      <td>859</td>\n",
       "      <td>0.059371</td>\n",
       "    </tr>\n",
       "    <tr>\n",
       "      <td>(61237.28, 73217.8]</td>\n",
       "      <td>858</td>\n",
       "      <td>0.079254</td>\n",
       "    </tr>\n",
       "    <tr>\n",
       "      <td>(73217.8, 82861.2]</td>\n",
       "      <td>858</td>\n",
       "      <td>0.090909</td>\n",
       "    </tr>\n",
       "    <tr>\n",
       "      <td>(82861.2, 90853.2]</td>\n",
       "      <td>858</td>\n",
       "      <td>0.085082</td>\n",
       "    </tr>\n",
       "    <tr>\n",
       "      <td>(90853.2, 98536.4]</td>\n",
       "      <td>858</td>\n",
       "      <td>0.086247</td>\n",
       "    </tr>\n",
       "    <tr>\n",
       "      <td>(98536.4, 105659.92]</td>\n",
       "      <td>858</td>\n",
       "      <td>0.069930</td>\n",
       "    </tr>\n",
       "    <tr>\n",
       "      <td>(105659.92, 112638.6]</td>\n",
       "      <td>858</td>\n",
       "      <td>0.089744</td>\n",
       "    </tr>\n",
       "    <tr>\n",
       "      <td>(112638.6, 118514.0]</td>\n",
       "      <td>1089</td>\n",
       "      <td>0.089991</td>\n",
       "    </tr>\n",
       "    <tr>\n",
       "      <td>(118514.0, 124670.44]</td>\n",
       "      <td>627</td>\n",
       "      <td>0.095694</td>\n",
       "    </tr>\n",
       "    <tr>\n",
       "      <td>(124670.44, 132131.0]</td>\n",
       "      <td>858</td>\n",
       "      <td>0.076923</td>\n",
       "    </tr>\n",
       "    <tr>\n",
       "      <td>(132131.0, 139452.0]</td>\n",
       "      <td>858</td>\n",
       "      <td>0.086247</td>\n",
       "    </tr>\n",
       "    <tr>\n",
       "      <td>(139452.0, 142594.0]</td>\n",
       "      <td>1404</td>\n",
       "      <td>0.093305</td>\n",
       "    </tr>\n",
       "    <tr>\n",
       "      <td>(142594.0, 145200.4]</td>\n",
       "      <td>313</td>\n",
       "      <td>0.086262</td>\n",
       "    </tr>\n",
       "    <tr>\n",
       "      <td>(145200.4, 152719.36]</td>\n",
       "      <td>858</td>\n",
       "      <td>0.086247</td>\n",
       "    </tr>\n",
       "    <tr>\n",
       "      <td>(152719.36, 161332.0]</td>\n",
       "      <td>858</td>\n",
       "      <td>0.080420</td>\n",
       "    </tr>\n",
       "    <tr>\n",
       "      <td>(161332.0, 169935.12]</td>\n",
       "      <td>858</td>\n",
       "      <td>0.096737</td>\n",
       "    </tr>\n",
       "    <tr>\n",
       "      <td>(169935.12, 174062.32]</td>\n",
       "      <td>858</td>\n",
       "      <td>0.074592</td>\n",
       "    </tr>\n",
       "    <tr>\n",
       "      <td>(174062.32, 186219.4]</td>\n",
       "      <td>858</td>\n",
       "      <td>0.081585</td>\n",
       "    </tr>\n",
       "    <tr>\n",
       "      <td>(186219.4, 198629.12]</td>\n",
       "      <td>858</td>\n",
       "      <td>0.094406</td>\n",
       "    </tr>\n",
       "    <tr>\n",
       "      <td>(198629.12, 214622.8]</td>\n",
       "      <td>858</td>\n",
       "      <td>0.073427</td>\n",
       "    </tr>\n",
       "    <tr>\n",
       "      <td>(214622.8, 231753.4]</td>\n",
       "      <td>858</td>\n",
       "      <td>0.073427</td>\n",
       "    </tr>\n",
       "    <tr>\n",
       "      <td>(231753.4, 256850.8]</td>\n",
       "      <td>858</td>\n",
       "      <td>0.068765</td>\n",
       "    </tr>\n",
       "    <tr>\n",
       "      <td>(256850.8, 287145.2]</td>\n",
       "      <td>858</td>\n",
       "      <td>0.067599</td>\n",
       "    </tr>\n",
       "    <tr>\n",
       "      <td>(287145.2, 350060.52]</td>\n",
       "      <td>858</td>\n",
       "      <td>0.075758</td>\n",
       "    </tr>\n",
       "    <tr>\n",
       "      <td>(350060.52, 2265604.0]</td>\n",
       "      <td>859</td>\n",
       "      <td>0.064028</td>\n",
       "    </tr>\n",
       "  </tbody>\n",
       "</table>\n",
       "</div>"
      ],
      "text/plain": [
       "                        count      mean\n",
       "total_income_bin                       \n",
       "(20666.999, 61237.28]     859  0.059371\n",
       "(61237.28, 73217.8]       858  0.079254\n",
       "(73217.8, 82861.2]        858  0.090909\n",
       "(82861.2, 90853.2]        858  0.085082\n",
       "(90853.2, 98536.4]        858  0.086247\n",
       "(98536.4, 105659.92]      858  0.069930\n",
       "(105659.92, 112638.6]     858  0.089744\n",
       "(112638.6, 118514.0]     1089  0.089991\n",
       "(118514.0, 124670.44]     627  0.095694\n",
       "(124670.44, 132131.0]     858  0.076923\n",
       "(132131.0, 139452.0]      858  0.086247\n",
       "(139452.0, 142594.0]     1404  0.093305\n",
       "(142594.0, 145200.4]      313  0.086262\n",
       "(145200.4, 152719.36]     858  0.086247\n",
       "(152719.36, 161332.0]     858  0.080420\n",
       "(161332.0, 169935.12]     858  0.096737\n",
       "(169935.12, 174062.32]    858  0.074592\n",
       "(174062.32, 186219.4]     858  0.081585\n",
       "(186219.4, 198629.12]     858  0.094406\n",
       "(198629.12, 214622.8]     858  0.073427\n",
       "(214622.8, 231753.4]      858  0.073427\n",
       "(231753.4, 256850.8]      858  0.068765\n",
       "(256850.8, 287145.2]      858  0.067599\n",
       "(287145.2, 350060.52]     858  0.075758\n",
       "(350060.52, 2265604.0]    859  0.064028"
      ]
     },
     "execution_count": 48,
     "metadata": {},
     "output_type": "execute_result"
    }
   ],
   "source": [
    "#вычисление доли клиентов, имеющих задолженность по кредиту, в разрезе уровня дохода\n",
    "df['total_income_bin'] = pd.qcut(df['total_income'], 25)\n",
    "df.groupby('total_income_bin')['debt'].agg(['count','mean'])"
   ]
  },
  {
   "cell_type": "code",
   "execution_count": 74,
   "metadata": {},
   "outputs": [
    {
     "data": {
      "text/plain": [
       "<matplotlib.axes._subplots.AxesSubplot at 0x7fd60cbf8750>"
      ]
     },
     "execution_count": 74,
     "metadata": {},
     "output_type": "execute_result"
    },
    {
     "data": {
      "image/png": "[encoded data removed]",
      "text/plain": [
       "<Figure size 1080x288 with 1 Axes>"
      ]
     },
     "metadata": {
      "needs_background": "light"
     },
     "output_type": "display_data"
    }
   ],
   "source": [
    "import matplotlib.pyplot as plt\n",
    "plt.figure(figsize=(15,4))\n",
    "pl = df.groupby('total_income_bin')['debt'].mean().plot.bar()\n",
    "pl.set_xlabel(\"Уровень дохода\")\n",
    "pl.set_ylabel(\"Доля невозвратных кредитов\")\n",
    "pl"
   ]
  },
  {
   "cell_type": "markdown",
   "metadata": {},
   "source": [
    "**Вывод**"
   ]
  },
  {
   "cell_type": "markdown",
   "metadata": {},
   "source": [
    "Если смотреть на диаграмму, то видно, что процент проблемных клиентов по краям диаграммы небольшой, а к середине увеличивается. Такие маленькие проценты в начале указывает на то, что при небольшом месячном доходе клиенту неохотно дают кредит, и соотвественно таких клиентов тщательнее проверяют на кредитоспособность, к середне графика процент невозвратов увеличивается, скорее всего среднячков сложнее сканировать на кредитоспособность. А в конце графика процент возрата увеличивается, потому что проще с высоким доходом обслуживать кредит."
   ]
  },
  {
   "cell_type": "markdown",
   "metadata": {},
   "source": [
    "- Как разные цели кредита влияют на его возврат в срок?"
   ]
  },
  {
   "cell_type": "markdown",
   "metadata": {},
   "source": [
    "Рассмотрим долю невозврата кредита в разрезе целей получения кредита."
   ]
  },
  {
   "cell_type": "code",
   "execution_count": 50,
   "metadata": {},
   "outputs": [
    {
     "data": {
      "text/plain": [
       "недвижимость    0.475598\n",
       "автомобиль      0.200718\n",
       "образование     0.187060\n",
       "свадьба         0.108330\n",
       "ремонт          0.028294\n",
       "Name: purpose_category, dtype: float64"
      ]
     },
     "execution_count": 50,
     "metadata": {},
     "output_type": "execute_result"
    }
   ],
   "source": [
    "debt_general_family_status = df['purpose_category'].value_counts()\n",
    "debt_general_family_status / df.shape[0]"
   ]
  },
  {
   "cell_type": "markdown",
   "metadata": {},
   "source": [
    "Как видно из таблицы, самая многочисленная категория  - это ипотека, почти половина всех выданных кредитов 47.56%, затем идет автокредит (20%) и образование (18.71%), а потом  - свадьба - 10%. Ремонт занимает всего 2.82% от общего количества выданных кредитов."
   ]
  },
  {
   "cell_type": "markdown",
   "metadata": {},
   "source": [
    "Теперь выясним долю клиентов с кредитной задолженностью в зависимости от целей кредита."
   ]
  },
  {
   "cell_type": "code",
   "execution_count": 51,
   "metadata": {
    "scrolled": true
   },
   "outputs": [
    {
     "data": {
      "text/html": [
       "<div>\n",
       "<style scoped>\n",
       "    .dataframe tbody tr th:only-of-type {\n",
       "        vertical-align: middle;\n",
       "    }\n",
       "\n",
       "    .dataframe tbody tr th {\n",
       "        vertical-align: top;\n",
       "    }\n",
       "\n",
       "    .dataframe thead th {\n",
       "        text-align: right;\n",
       "    }\n",
       "</style>\n",
       "<table border=\"1\" class=\"dataframe\">\n",
       "  <thead>\n",
       "    <tr style=\"text-align: right;\">\n",
       "      <th></th>\n",
       "      <th>count</th>\n",
       "      <th>mean</th>\n",
       "    </tr>\n",
       "    <tr>\n",
       "      <th>purpose_category</th>\n",
       "      <th></th>\n",
       "      <th></th>\n",
       "    </tr>\n",
       "  </thead>\n",
       "  <tbody>\n",
       "    <tr>\n",
       "      <td>автомобиль</td>\n",
       "      <td>4306</td>\n",
       "      <td>0.093590</td>\n",
       "    </tr>\n",
       "    <tr>\n",
       "      <td>недвижимость</td>\n",
       "      <td>10203</td>\n",
       "      <td>0.073214</td>\n",
       "    </tr>\n",
       "    <tr>\n",
       "      <td>образование</td>\n",
       "      <td>4013</td>\n",
       "      <td>0.092200</td>\n",
       "    </tr>\n",
       "    <tr>\n",
       "      <td>ремонт</td>\n",
       "      <td>607</td>\n",
       "      <td>0.057661</td>\n",
       "    </tr>\n",
       "    <tr>\n",
       "      <td>свадьба</td>\n",
       "      <td>2324</td>\n",
       "      <td>0.080034</td>\n",
       "    </tr>\n",
       "  </tbody>\n",
       "</table>\n",
       "</div>"
      ],
      "text/plain": [
       "                  count      mean\n",
       "purpose_category                 \n",
       "автомобиль         4306  0.093590\n",
       "недвижимость      10203  0.073214\n",
       "образование        4013  0.092200\n",
       "ремонт              607  0.057661\n",
       "свадьба            2324  0.080034"
      ]
     },
     "execution_count": 51,
     "metadata": {},
     "output_type": "execute_result"
    }
   ],
   "source": [
    "df.groupby('purpose_category')['debt'].agg(['count', 'mean'])"
   ]
  },
  {
   "cell_type": "markdown",
   "metadata": {},
   "source": [
    "Из таблицы видно, что в зависимости от целей кредита, процент проблемных кредитов разный. Меньше всего проблем с возвратом кредита, если не брать в расчет незначительную категорию ремонт (5.77%), - это ипотека, процент клиентов, имеющих задолженность составляет всего 7.32%, потом идет категория кредитов на свадьбу - невозвратных кредитов 8%. Самые проблемные кредиты - это автокредит (9.36%) и кредит на образование (9.22%)."
   ]
  },
  {
   "cell_type": "markdown",
   "metadata": {},
   "source": [
    "Теперь рассмотрим более подробные таблицы для более детального анализа."
   ]
  },
  {
   "cell_type": "code",
   "execution_count": 52,
   "metadata": {
    "scrolled": false
   },
   "outputs": [
    {
     "data": {
      "text/html": [
       "<div>\n",
       "<style scoped>\n",
       "    .dataframe tbody tr th:only-of-type {\n",
       "        vertical-align: middle;\n",
       "    }\n",
       "\n",
       "    .dataframe tbody tr th {\n",
       "        vertical-align: top;\n",
       "    }\n",
       "\n",
       "    .dataframe thead tr th {\n",
       "        text-align: left;\n",
       "    }\n",
       "\n",
       "    .dataframe thead tr:last-of-type th {\n",
       "        text-align: right;\n",
       "    }\n",
       "</style>\n",
       "<table border=\"1\" class=\"dataframe\">\n",
       "  <thead>\n",
       "    <tr>\n",
       "      <th></th>\n",
       "      <th colspan=\"5\" halign=\"left\">count</th>\n",
       "      <th colspan=\"5\" halign=\"left\">mean</th>\n",
       "    </tr>\n",
       "    <tr>\n",
       "      <th>family_status</th>\n",
       "      <th>в разводе</th>\n",
       "      <th>вдовец / вдова</th>\n",
       "      <th>гражданский брак</th>\n",
       "      <th>женат / замужем</th>\n",
       "      <th>не женат / не замужем</th>\n",
       "      <th>в разводе</th>\n",
       "      <th>вдовец / вдова</th>\n",
       "      <th>гражданский брак</th>\n",
       "      <th>женат / замужем</th>\n",
       "      <th>не женат / не замужем</th>\n",
       "    </tr>\n",
       "    <tr>\n",
       "      <th>purpose_category</th>\n",
       "      <th></th>\n",
       "      <th></th>\n",
       "      <th></th>\n",
       "      <th></th>\n",
       "      <th></th>\n",
       "      <th></th>\n",
       "      <th></th>\n",
       "      <th></th>\n",
       "      <th></th>\n",
       "      <th></th>\n",
       "    </tr>\n",
       "  </thead>\n",
       "  <tbody>\n",
       "    <tr>\n",
       "      <td>автомобиль</td>\n",
       "      <td>281.0</td>\n",
       "      <td>218.0</td>\n",
       "      <td>434.0</td>\n",
       "      <td>2736.0</td>\n",
       "      <td>637.0</td>\n",
       "      <td>0.074733</td>\n",
       "      <td>0.091743</td>\n",
       "      <td>0.117512</td>\n",
       "      <td>0.083699</td>\n",
       "      <td>0.128728</td>\n",
       "    </tr>\n",
       "    <tr>\n",
       "      <td>недвижимость</td>\n",
       "      <td>637.0</td>\n",
       "      <td>510.0</td>\n",
       "      <td>933.0</td>\n",
       "      <td>6620.0</td>\n",
       "      <td>1503.0</td>\n",
       "      <td>0.065934</td>\n",
       "      <td>0.050980</td>\n",
       "      <td>0.094319</td>\n",
       "      <td>0.070544</td>\n",
       "      <td>0.082502</td>\n",
       "    </tr>\n",
       "    <tr>\n",
       "      <td>образование</td>\n",
       "      <td>238.0</td>\n",
       "      <td>199.0</td>\n",
       "      <td>404.0</td>\n",
       "      <td>2595.0</td>\n",
       "      <td>577.0</td>\n",
       "      <td>0.071429</td>\n",
       "      <td>0.075377</td>\n",
       "      <td>0.148515</td>\n",
       "      <td>0.083237</td>\n",
       "      <td>0.107452</td>\n",
       "    </tr>\n",
       "    <tr>\n",
       "      <td>ремонт</td>\n",
       "      <td>39.0</td>\n",
       "      <td>32.0</td>\n",
       "      <td>55.0</td>\n",
       "      <td>388.0</td>\n",
       "      <td>93.0</td>\n",
       "      <td>0.128205</td>\n",
       "      <td>0.062500</td>\n",
       "      <td>0.054545</td>\n",
       "      <td>0.048969</td>\n",
       "      <td>0.064516</td>\n",
       "    </tr>\n",
       "    <tr>\n",
       "      <td>свадьба</td>\n",
       "      <td>NaN</td>\n",
       "      <td>NaN</td>\n",
       "      <td>2324.0</td>\n",
       "      <td>NaN</td>\n",
       "      <td>NaN</td>\n",
       "      <td>NaN</td>\n",
       "      <td>NaN</td>\n",
       "      <td>0.080034</td>\n",
       "      <td>NaN</td>\n",
       "      <td>NaN</td>\n",
       "    </tr>\n",
       "  </tbody>\n",
       "</table>\n",
       "</div>"
      ],
      "text/plain": [
       "                     count                                                  \\\n",
       "family_status    в разводе вдовец / вдова гражданский брак женат / замужем   \n",
       "purpose_category                                                             \n",
       "автомобиль           281.0          218.0            434.0          2736.0   \n",
       "недвижимость         637.0          510.0            933.0          6620.0   \n",
       "образование          238.0          199.0            404.0          2595.0   \n",
       "ремонт                39.0           32.0             55.0           388.0   \n",
       "свадьба                NaN            NaN           2324.0             NaN   \n",
       "\n",
       "                                            mean                 \\\n",
       "family_status    не женат / не замужем в разводе вдовец / вдова   \n",
       "purpose_category                                                  \n",
       "автомобиль                       637.0  0.074733       0.091743   \n",
       "недвижимость                    1503.0  0.065934       0.050980   \n",
       "образование                      577.0  0.071429       0.075377   \n",
       "ремонт                            93.0  0.128205       0.062500   \n",
       "свадьба                            NaN       NaN            NaN   \n",
       "\n",
       "                                                                         \n",
       "family_status    гражданский брак женат / замужем не женат / не замужем  \n",
       "purpose_category                                                         \n",
       "автомобиль               0.117512        0.083699              0.128728  \n",
       "недвижимость             0.094319        0.070544              0.082502  \n",
       "образование              0.148515        0.083237              0.107452  \n",
       "ремонт                   0.054545        0.048969              0.064516  \n",
       "свадьба                  0.080034             NaN                   NaN  "
      ]
     },
     "execution_count": 52,
     "metadata": {},
     "output_type": "execute_result"
    }
   ],
   "source": [
    "df.pivot_table(index = 'purpose_category', values = 'debt', columns = 'family_status', aggfunc = ['count','mean'])"
   ]
  },
  {
   "cell_type": "code",
   "execution_count": 53,
   "metadata": {
    "scrolled": true
   },
   "outputs": [
    {
     "data": {
      "text/html": [
       "<div>\n",
       "<style scoped>\n",
       "    .dataframe tbody tr th:only-of-type {\n",
       "        vertical-align: middle;\n",
       "    }\n",
       "\n",
       "    .dataframe tbody tr th {\n",
       "        vertical-align: top;\n",
       "    }\n",
       "\n",
       "    .dataframe thead tr th {\n",
       "        text-align: left;\n",
       "    }\n",
       "\n",
       "    .dataframe thead tr:last-of-type th {\n",
       "        text-align: right;\n",
       "    }\n",
       "</style>\n",
       "<table border=\"1\" class=\"dataframe\">\n",
       "  <thead>\n",
       "    <tr>\n",
       "      <th></th>\n",
       "      <th colspan=\"6\" halign=\"left\">count</th>\n",
       "      <th colspan=\"6\" halign=\"left\">mean</th>\n",
       "    </tr>\n",
       "    <tr>\n",
       "      <th>children</th>\n",
       "      <th>0</th>\n",
       "      <th>1</th>\n",
       "      <th>2</th>\n",
       "      <th>3</th>\n",
       "      <th>4</th>\n",
       "      <th>5</th>\n",
       "      <th>0</th>\n",
       "      <th>1</th>\n",
       "      <th>2</th>\n",
       "      <th>3</th>\n",
       "      <th>4</th>\n",
       "      <th>5</th>\n",
       "    </tr>\n",
       "    <tr>\n",
       "      <th>purpose_category</th>\n",
       "      <th></th>\n",
       "      <th></th>\n",
       "      <th></th>\n",
       "      <th></th>\n",
       "      <th></th>\n",
       "      <th></th>\n",
       "      <th></th>\n",
       "      <th></th>\n",
       "      <th></th>\n",
       "      <th></th>\n",
       "      <th></th>\n",
       "      <th></th>\n",
       "    </tr>\n",
       "  </thead>\n",
       "  <tbody>\n",
       "    <tr>\n",
       "      <td>автомобиль</td>\n",
       "      <td>2845.0</td>\n",
       "      <td>974.0</td>\n",
       "      <td>415.0</td>\n",
       "      <td>60.0</td>\n",
       "      <td>10.0</td>\n",
       "      <td>2.0</td>\n",
       "      <td>0.085413</td>\n",
       "      <td>0.106776</td>\n",
       "      <td>0.120482</td>\n",
       "      <td>0.083333</td>\n",
       "      <td>0.100000</td>\n",
       "      <td>0.0</td>\n",
       "    </tr>\n",
       "    <tr>\n",
       "      <td>недвижимость</td>\n",
       "      <td>6671.0</td>\n",
       "      <td>2334.0</td>\n",
       "      <td>1012.0</td>\n",
       "      <td>160.0</td>\n",
       "      <td>21.0</td>\n",
       "      <td>5.0</td>\n",
       "      <td>0.067906</td>\n",
       "      <td>0.082691</td>\n",
       "      <td>0.085968</td>\n",
       "      <td>0.068750</td>\n",
       "      <td>0.142857</td>\n",
       "      <td>0.0</td>\n",
       "    </tr>\n",
       "    <tr>\n",
       "      <td>образование</td>\n",
       "      <td>2642.0</td>\n",
       "      <td>876.0</td>\n",
       "      <td>418.0</td>\n",
       "      <td>69.0</td>\n",
       "      <td>7.0</td>\n",
       "      <td>1.0</td>\n",
       "      <td>0.086677</td>\n",
       "      <td>0.102740</td>\n",
       "      <td>0.112440</td>\n",
       "      <td>0.057971</td>\n",
       "      <td>0.000000</td>\n",
       "      <td>0.0</td>\n",
       "    </tr>\n",
       "    <tr>\n",
       "      <td>ремонт</td>\n",
       "      <td>402.0</td>\n",
       "      <td>137.0</td>\n",
       "      <td>59.0</td>\n",
       "      <td>9.0</td>\n",
       "      <td>NaN</td>\n",
       "      <td>NaN</td>\n",
       "      <td>0.057214</td>\n",
       "      <td>0.051095</td>\n",
       "      <td>0.050847</td>\n",
       "      <td>0.222222</td>\n",
       "      <td>NaN</td>\n",
       "      <td>NaN</td>\n",
       "    </tr>\n",
       "    <tr>\n",
       "      <td>свадьба</td>\n",
       "      <td>1530.0</td>\n",
       "      <td>534.0</td>\n",
       "      <td>224.0</td>\n",
       "      <td>32.0</td>\n",
       "      <td>3.0</td>\n",
       "      <td>1.0</td>\n",
       "      <td>0.075163</td>\n",
       "      <td>0.095506</td>\n",
       "      <td>0.066964</td>\n",
       "      <td>0.156250</td>\n",
       "      <td>0.000000</td>\n",
       "      <td>0.0</td>\n",
       "    </tr>\n",
       "  </tbody>\n",
       "</table>\n",
       "</div>"
      ],
      "text/plain": [
       "                   count                                        mean  \\\n",
       "children               0       1       2      3     4    5         0   \n",
       "purpose_category                                                       \n",
       "автомобиль        2845.0   974.0   415.0   60.0  10.0  2.0  0.085413   \n",
       "недвижимость      6671.0  2334.0  1012.0  160.0  21.0  5.0  0.067906   \n",
       "образование       2642.0   876.0   418.0   69.0   7.0  1.0  0.086677   \n",
       "ремонт             402.0   137.0    59.0    9.0   NaN  NaN  0.057214   \n",
       "свадьба           1530.0   534.0   224.0   32.0   3.0  1.0  0.075163   \n",
       "\n",
       "                                                               \n",
       "children                 1         2         3         4    5  \n",
       "purpose_category                                               \n",
       "автомобиль        0.106776  0.120482  0.083333  0.100000  0.0  \n",
       "недвижимость      0.082691  0.085968  0.068750  0.142857  0.0  \n",
       "образование       0.102740  0.112440  0.057971  0.000000  0.0  \n",
       "ремонт            0.051095  0.050847  0.222222       NaN  NaN  \n",
       "свадьба           0.095506  0.066964  0.156250  0.000000  0.0  "
      ]
     },
     "execution_count": 53,
     "metadata": {},
     "output_type": "execute_result"
    }
   ],
   "source": [
    "df.pivot_table(index = 'purpose_category', values = 'debt', columns = 'children', aggfunc = ['count','mean'])"
   ]
  },
  {
   "cell_type": "code",
   "execution_count": 54,
   "metadata": {
    "scrolled": true
   },
   "outputs": [
    {
     "data": {
      "text/html": [
       "<div>\n",
       "<style scoped>\n",
       "    .dataframe tbody tr th:only-of-type {\n",
       "        vertical-align: middle;\n",
       "    }\n",
       "\n",
       "    .dataframe tbody tr th {\n",
       "        vertical-align: top;\n",
       "    }\n",
       "\n",
       "    .dataframe thead tr th {\n",
       "        text-align: left;\n",
       "    }\n",
       "\n",
       "    .dataframe thead tr:last-of-type th {\n",
       "        text-align: right;\n",
       "    }\n",
       "</style>\n",
       "<table border=\"1\" class=\"dataframe\">\n",
       "  <thead>\n",
       "    <tr>\n",
       "      <th></th>\n",
       "      <th colspan=\"5\" halign=\"left\">count</th>\n",
       "      <th colspan=\"5\" halign=\"left\">mean</th>\n",
       "    </tr>\n",
       "    <tr>\n",
       "      <th>dob_years_bin</th>\n",
       "      <th>(18.999, 32.0]</th>\n",
       "      <th>(32.0, 39.0]</th>\n",
       "      <th>(39.0, 47.0]</th>\n",
       "      <th>(47.0, 56.0]</th>\n",
       "      <th>(56.0, 75.0]</th>\n",
       "      <th>(18.999, 32.0]</th>\n",
       "      <th>(32.0, 39.0]</th>\n",
       "      <th>(39.0, 47.0]</th>\n",
       "      <th>(47.0, 56.0]</th>\n",
       "      <th>(56.0, 75.0]</th>\n",
       "    </tr>\n",
       "    <tr>\n",
       "      <th>purpose_category</th>\n",
       "      <th></th>\n",
       "      <th></th>\n",
       "      <th></th>\n",
       "      <th></th>\n",
       "      <th></th>\n",
       "      <th></th>\n",
       "      <th></th>\n",
       "      <th></th>\n",
       "      <th></th>\n",
       "      <th></th>\n",
       "    </tr>\n",
       "  </thead>\n",
       "  <tbody>\n",
       "    <tr>\n",
       "      <td>автомобиль</td>\n",
       "      <td>924</td>\n",
       "      <td>832</td>\n",
       "      <td>886</td>\n",
       "      <td>867</td>\n",
       "      <td>797</td>\n",
       "      <td>0.121212</td>\n",
       "      <td>0.122596</td>\n",
       "      <td>0.090293</td>\n",
       "      <td>0.065744</td>\n",
       "      <td>0.065245</td>\n",
       "    </tr>\n",
       "    <tr>\n",
       "      <td>недвижимость</td>\n",
       "      <td>2275</td>\n",
       "      <td>1975</td>\n",
       "      <td>2044</td>\n",
       "      <td>2138</td>\n",
       "      <td>1771</td>\n",
       "      <td>0.101538</td>\n",
       "      <td>0.076962</td>\n",
       "      <td>0.071918</td>\n",
       "      <td>0.064079</td>\n",
       "      <td>0.045172</td>\n",
       "    </tr>\n",
       "    <tr>\n",
       "      <td>образование</td>\n",
       "      <td>901</td>\n",
       "      <td>760</td>\n",
       "      <td>803</td>\n",
       "      <td>773</td>\n",
       "      <td>776</td>\n",
       "      <td>0.134295</td>\n",
       "      <td>0.097368</td>\n",
       "      <td>0.088418</td>\n",
       "      <td>0.072445</td>\n",
       "      <td>0.061856</td>\n",
       "    </tr>\n",
       "    <tr>\n",
       "      <td>ремонт</td>\n",
       "      <td>155</td>\n",
       "      <td>116</td>\n",
       "      <td>115</td>\n",
       "      <td>112</td>\n",
       "      <td>109</td>\n",
       "      <td>0.083871</td>\n",
       "      <td>0.077586</td>\n",
       "      <td>0.026087</td>\n",
       "      <td>0.026786</td>\n",
       "      <td>0.064220</td>\n",
       "    </tr>\n",
       "    <tr>\n",
       "      <td>свадьба</td>\n",
       "      <td>529</td>\n",
       "      <td>449</td>\n",
       "      <td>468</td>\n",
       "      <td>458</td>\n",
       "      <td>420</td>\n",
       "      <td>0.102079</td>\n",
       "      <td>0.089087</td>\n",
       "      <td>0.081197</td>\n",
       "      <td>0.072052</td>\n",
       "      <td>0.050000</td>\n",
       "    </tr>\n",
       "  </tbody>\n",
       "</table>\n",
       "</div>"
      ],
      "text/plain": [
       "                          count                                         \\\n",
       "dob_years_bin    (18.999, 32.0] (32.0, 39.0] (39.0, 47.0] (47.0, 56.0]   \n",
       "purpose_category                                                         \n",
       "автомобиль                  924          832          886          867   \n",
       "недвижимость               2275         1975         2044         2138   \n",
       "образование                 901          760          803          773   \n",
       "ремонт                      155          116          115          112   \n",
       "свадьба                     529          449          468          458   \n",
       "\n",
       "                                        mean                            \\\n",
       "dob_years_bin    (56.0, 75.0] (18.999, 32.0] (32.0, 39.0] (39.0, 47.0]   \n",
       "purpose_category                                                         \n",
       "автомобиль                797       0.121212     0.122596     0.090293   \n",
       "недвижимость             1771       0.101538     0.076962     0.071918   \n",
       "образование               776       0.134295     0.097368     0.088418   \n",
       "ремонт                    109       0.083871     0.077586     0.026087   \n",
       "свадьба                   420       0.102079     0.089087     0.081197   \n",
       "\n",
       "                                            \n",
       "dob_years_bin    (47.0, 56.0] (56.0, 75.0]  \n",
       "purpose_category                            \n",
       "автомобиль           0.065744     0.065245  \n",
       "недвижимость         0.064079     0.045172  \n",
       "образование          0.072445     0.061856  \n",
       "ремонт               0.026786     0.064220  \n",
       "свадьба              0.072052     0.050000  "
      ]
     },
     "execution_count": 54,
     "metadata": {},
     "output_type": "execute_result"
    }
   ],
   "source": [
    "df.pivot_table(index = 'purpose_category', values = 'debt', columns = 'dob_years_bin', aggfunc = ['count','mean'])"
   ]
  },
  {
   "cell_type": "code",
   "execution_count": 55,
   "metadata": {
    "scrolled": false
   },
   "outputs": [
    {
     "data": {
      "text/html": [
       "<div>\n",
       "<style scoped>\n",
       "    .dataframe tbody tr th:only-of-type {\n",
       "        vertical-align: middle;\n",
       "    }\n",
       "\n",
       "    .dataframe tbody tr th {\n",
       "        vertical-align: top;\n",
       "    }\n",
       "\n",
       "    .dataframe thead tr th {\n",
       "        text-align: left;\n",
       "    }\n",
       "\n",
       "    .dataframe thead tr:last-of-type th {\n",
       "        text-align: right;\n",
       "    }\n",
       "</style>\n",
       "<table border=\"1\" class=\"dataframe\">\n",
       "  <thead>\n",
       "    <tr>\n",
       "      <th></th>\n",
       "      <th colspan=\"6\" halign=\"left\">count</th>\n",
       "      <th colspan=\"6\" halign=\"left\">mean</th>\n",
       "    </tr>\n",
       "    <tr>\n",
       "      <th>children</th>\n",
       "      <th>0</th>\n",
       "      <th>1</th>\n",
       "      <th>2</th>\n",
       "      <th>3</th>\n",
       "      <th>4</th>\n",
       "      <th>5</th>\n",
       "      <th>0</th>\n",
       "      <th>1</th>\n",
       "      <th>2</th>\n",
       "      <th>3</th>\n",
       "      <th>4</th>\n",
       "      <th>5</th>\n",
       "    </tr>\n",
       "    <tr>\n",
       "      <th>family_status</th>\n",
       "      <th></th>\n",
       "      <th></th>\n",
       "      <th></th>\n",
       "      <th></th>\n",
       "      <th></th>\n",
       "      <th></th>\n",
       "      <th></th>\n",
       "      <th></th>\n",
       "      <th></th>\n",
       "      <th></th>\n",
       "      <th></th>\n",
       "      <th></th>\n",
       "    </tr>\n",
       "  </thead>\n",
       "  <tbody>\n",
       "    <tr>\n",
       "      <td>в разводе</td>\n",
       "      <td>784.0</td>\n",
       "      <td>316.0</td>\n",
       "      <td>83.0</td>\n",
       "      <td>11.0</td>\n",
       "      <td>1.0</td>\n",
       "      <td>NaN</td>\n",
       "      <td>0.070153</td>\n",
       "      <td>0.066456</td>\n",
       "      <td>0.096386</td>\n",
       "      <td>0.090909</td>\n",
       "      <td>0.000000</td>\n",
       "      <td>NaN</td>\n",
       "    </tr>\n",
       "    <tr>\n",
       "      <td>вдовец / вдова</td>\n",
       "      <td>847.0</td>\n",
       "      <td>81.0</td>\n",
       "      <td>24.0</td>\n",
       "      <td>6.0</td>\n",
       "      <td>1.0</td>\n",
       "      <td>NaN</td>\n",
       "      <td>0.062574</td>\n",
       "      <td>0.086420</td>\n",
       "      <td>0.125000</td>\n",
       "      <td>0.000000</td>\n",
       "      <td>0.000000</td>\n",
       "      <td>NaN</td>\n",
       "    </tr>\n",
       "    <tr>\n",
       "      <td>гражданский брак</td>\n",
       "      <td>2729.0</td>\n",
       "      <td>1000.0</td>\n",
       "      <td>355.0</td>\n",
       "      <td>56.0</td>\n",
       "      <td>8.0</td>\n",
       "      <td>2.0</td>\n",
       "      <td>0.083914</td>\n",
       "      <td>0.118000</td>\n",
       "      <td>0.092958</td>\n",
       "      <td>0.142857</td>\n",
       "      <td>0.000000</td>\n",
       "      <td>0.0</td>\n",
       "    </tr>\n",
       "    <tr>\n",
       "      <td>женат / замужем</td>\n",
       "      <td>7468.0</td>\n",
       "      <td>3004.0</td>\n",
       "      <td>1582.0</td>\n",
       "      <td>249.0</td>\n",
       "      <td>29.0</td>\n",
       "      <td>7.0</td>\n",
       "      <td>0.069095</td>\n",
       "      <td>0.082224</td>\n",
       "      <td>0.093552</td>\n",
       "      <td>0.068273</td>\n",
       "      <td>0.103448</td>\n",
       "      <td>0.0</td>\n",
       "    </tr>\n",
       "    <tr>\n",
       "      <td>не женат / не замужем</td>\n",
       "      <td>2262.0</td>\n",
       "      <td>454.0</td>\n",
       "      <td>84.0</td>\n",
       "      <td>8.0</td>\n",
       "      <td>2.0</td>\n",
       "      <td>NaN</td>\n",
       "      <td>0.092838</td>\n",
       "      <td>0.114537</td>\n",
       "      <td>0.119048</td>\n",
       "      <td>0.125000</td>\n",
       "      <td>0.500000</td>\n",
       "      <td>NaN</td>\n",
       "    </tr>\n",
       "  </tbody>\n",
       "</table>\n",
       "</div>"
      ],
      "text/plain": [
       "                        count                                        mean  \\\n",
       "children                    0       1       2      3     4    5         0   \n",
       "family_status                                                               \n",
       "в разводе               784.0   316.0    83.0   11.0   1.0  NaN  0.070153   \n",
       "вдовец / вдова          847.0    81.0    24.0    6.0   1.0  NaN  0.062574   \n",
       "гражданский брак       2729.0  1000.0   355.0   56.0   8.0  2.0  0.083914   \n",
       "женат / замужем        7468.0  3004.0  1582.0  249.0  29.0  7.0  0.069095   \n",
       "не женат / не замужем  2262.0   454.0    84.0    8.0   2.0  NaN  0.092838   \n",
       "\n",
       "                                                                    \n",
       "children                      1         2         3         4    5  \n",
       "family_status                                                       \n",
       "в разводе              0.066456  0.096386  0.090909  0.000000  NaN  \n",
       "вдовец / вдова         0.086420  0.125000  0.000000  0.000000  NaN  \n",
       "гражданский брак       0.118000  0.092958  0.142857  0.000000  0.0  \n",
       "женат / замужем        0.082224  0.093552  0.068273  0.103448  0.0  \n",
       "не женат / не замужем  0.114537  0.119048  0.125000  0.500000  NaN  "
      ]
     },
     "execution_count": 55,
     "metadata": {},
     "output_type": "execute_result"
    }
   ],
   "source": [
    "df.pivot_table(index = 'family_status', values = 'debt', columns = 'children', aggfunc = ['count','mean'])"
   ]
  },
  {
   "cell_type": "markdown",
   "metadata": {},
   "source": [
    "**Вывод**"
   ]
  },
  {
   "cell_type": "markdown",
   "metadata": {},
   "source": [
    "Итак можно сделать вывод:\n",
    "1. Самые беспроблемный кредит - это ипотека. Это интуитивно понятно, так как дом является базовой потребностью человека. Его потеря как правило воспринимается как большая трагедия, и поэтому заемщики будут очень ответсвенно подходить к погашению данного вида кредита.\n",
    "2. Второй по беспроблемности идет кредит на свадьбу.\n",
    "3. Самым проблемным кредитом является автокредит, а затем идет кредит на образование. Скорее всего это связано с тем, что  покупка автомобиля является самой спонтанной, по сравнению с другими категориями кредита, и соответсвенно, менее продуманной."
   ]
  },
  {
   "cell_type": "markdown",
   "metadata": {},
   "source": [
    "## Шаг 4. Общий вывод"
   ]
  },
  {
   "cell_type": "markdown",
   "metadata": {},
   "source": [
    "Сделаем общий вывод по 4 гипотезам:\n",
    "1. Есть ли зависимость между наличием детей и возвратом кредита в срок?\n",
    "\n",
    "Самые кредитоспособные клиенты - это клиенты, не имеющие детей, она же самая и многочесленная. Чем детей больше, тем процент клиентов, имеющие задолженность по кредитам, выше.\n",
    "\n",
    "2. Есть ли зависимость между семейным положением и возвратом кредита в срок?\n",
    "\n",
    "Самые кредитоспособные клиенты - вдовцы, но она является самой малочесленной категорией. Затем идут женатые (замужние) клиенты, а следом за ними -  в разводе. Получается, что самые кредитоспособные клиенты - это клиенты прошедшие институт брака.\n",
    "Самые ненадежные клиенты  - это клиенты, не состоящие в отношениях, то есть неженатые (незамужние). Чуть лучше обстоят дела с клиентами, состоящие в гражданском браке. У этих двух категорий клиентов процент задолженностей по кредитам выше, чем в целом по всем клиентам.\n",
    "\n",
    "3. Есть ли зависимость между уровнем дохода и возвратом кредита в срок?\n",
    "\n",
    "Прямой зависимости между уровнем дохода и возвратом кредита в срок в среднем почти не наблюдается. Только среди клиентов с самым небольшим и самым высоким доходом процент возврата выше, чем среди клиентов со среднем уровнем дохода.\n",
    "\n",
    "4. Как разные цели кредита влияют на его возврат в срок?\n",
    "\n",
    "Самые беспроблемный кредит - это ипотека. Второй по беспроблемности идет кредит на свадьбу. Самым проблемным кредитом является автокредит, а затем идет кредит на образование."
   ]
  },
  {
   "cell_type": "markdown",
   "metadata": {},
   "source": [
    "## Чек-лист готовности проекта\n",
    "\n",
    "Поставьте 'x' в выполненных пунктах. Далее нажмите Shift+Enter."
   ]
  },
  {
   "cell_type": "markdown",
   "metadata": {},
   "source": [
    "- [x]  открыт файл;\n",
    "- [x]  файл изучен;\n",
    "- [x]  определены пропущенные значения;\n",
    "- [x]  заполнены пропущенные значения;\n",
    "- [x]  есть пояснение, какие пропущенные значения обнаружены;\n",
    "- [x]  описаны возможные причины появления пропусков в данных;\n",
    "- [x]  объяснено, по какому принципу заполнены пропуски;\n",
    "- [x]  заменен вещественный тип данных на целочисленный;\n",
    "- [x]  есть пояснение, какой метод используется для изменения типа данных и почему;\n",
    "- [x]  удалены дубликаты;\n",
    "- [x]  есть пояснение, какой метод используется для поиска и удаления дубликатов;\n",
    "- [x]  описаны возможные причины появления дубликатов в данных;\n",
    "- [x]  выделены леммы в значениях столбца с целями получения кредита;\n",
    "- [x]  описан процесс лемматизации;\n",
    "- [x]  данные категоризированы;\n",
    "- [x]  есть объяснение принципа категоризации данных;\n",
    "- [x]  есть ответ на вопрос: \"Есть ли зависимость между наличием детей и возвратом кредита в срок?\";\n",
    "- [x]  есть ответ на вопрос: \"Есть ли зависимость между семейным положением и возвратом кредита в срок?\";\n",
    "- [x]  есть ответ на вопрос: \"Есть ли зависимость между уровнем дохода и возвратом кредита в срок?\";\n",
    "- [x]  есть ответ на вопрос: \"Как разные цели кредита влияют на его возврат в срок?\";\n",
    "- [x]  в каждом этапе есть выводы;\n",
    "- [x]  есть общий вывод."
   ]
  }
 ],
 "metadata": {
  "ExecuteTimeLog": [
   {
    "duration": 1135,
    "start_time": "2021-09-01T09:38:30.063Z"
   },
   {
    "duration": 281,
    "start_time": "2021-09-01T09:38:43.517Z"
   },
   {
    "duration": 64,
    "start_time": "2021-09-01T09:39:16.076Z"
   },
   {
    "duration": 95,
    "start_time": "2021-09-01T09:41:10.359Z"
   },
   {
    "duration": 78,
    "start_time": "2021-09-01T09:42:05.990Z"
   },
   {
    "duration": 74,
    "start_time": "2021-09-01T09:44:56.203Z"
   },
   {
    "duration": 76,
    "start_time": "2021-09-01T09:49:44.158Z"
   },
   {
    "duration": 79,
    "start_time": "2021-09-01T09:53:44.698Z"
   },
   {
    "duration": 78,
    "start_time": "2021-09-01T09:59:22.885Z"
   },
   {
    "duration": 73,
    "start_time": "2021-09-01T10:01:37.270Z"
   },
   {
    "duration": 77,
    "start_time": "2021-09-01T10:09:52.346Z"
   },
   {
    "duration": 122,
    "start_time": "2021-09-01T10:10:01.674Z"
   },
   {
    "duration": 116,
    "start_time": "2021-09-01T10:10:14.344Z"
   },
   {
    "duration": 110,
    "start_time": "2021-09-01T10:10:44.422Z"
   },
   {
    "duration": 75,
    "start_time": "2021-09-01T10:10:54.818Z"
   },
   {
    "duration": 74,
    "start_time": "2021-09-01T10:12:38.567Z"
   },
   {
    "duration": 124,
    "start_time": "2021-09-01T11:36:18.083Z"
   },
   {
    "duration": 638,
    "start_time": "2021-09-01T11:36:20.865Z"
   },
   {
    "duration": 101,
    "start_time": "2021-09-01T11:37:59.773Z"
   },
   {
    "duration": 19,
    "start_time": "2021-09-01T11:43:48.381Z"
   },
   {
    "duration": 19,
    "start_time": "2021-09-01T11:46:10.491Z"
   },
   {
    "duration": 18,
    "start_time": "2021-09-01T11:46:39.955Z"
   },
   {
    "duration": 18,
    "start_time": "2021-09-01T11:46:51.479Z"
   },
   {
    "duration": 21,
    "start_time": "2021-09-01T11:47:05.433Z"
   },
   {
    "duration": 6460,
    "start_time": "2021-09-01T12:06:56.890Z"
   },
   {
    "duration": 7364,
    "start_time": "2021-09-01T12:07:10.808Z"
   },
   {
    "duration": 14,
    "start_time": "2021-09-01T12:08:02.009Z"
   },
   {
    "duration": 368,
    "start_time": "2021-09-01T12:08:08.506Z"
   },
   {
    "duration": 15,
    "start_time": "2021-09-01T12:08:15.262Z"
   },
   {
    "duration": 29,
    "start_time": "2021-09-01T12:22:53.025Z"
   },
   {
    "duration": 72,
    "start_time": "2021-09-01T12:24:20.935Z"
   },
   {
    "duration": 67,
    "start_time": "2021-09-01T12:24:34.550Z"
   },
   {
    "duration": 9,
    "start_time": "2021-09-01T12:30:45.194Z"
   },
   {
    "duration": 5,
    "start_time": "2021-09-01T12:30:58.983Z"
   },
   {
    "duration": 11,
    "start_time": "2021-09-01T12:36:54.116Z"
   },
   {
    "duration": 29,
    "start_time": "2021-09-01T12:38:23.848Z"
   },
   {
    "duration": 13,
    "start_time": "2021-09-01T12:38:32.794Z"
   },
   {
    "duration": 12,
    "start_time": "2021-09-01T12:38:57.085Z"
   },
   {
    "duration": 26,
    "start_time": "2021-09-01T12:43:21.327Z"
   },
   {
    "duration": 41,
    "start_time": "2021-09-01T13:21:25.347Z"
   },
   {
    "duration": 43,
    "start_time": "2021-09-01T13:22:01.343Z"
   },
   {
    "duration": 30,
    "start_time": "2021-09-01T13:22:08.969Z"
   },
   {
    "duration": 30,
    "start_time": "2021-09-01T13:23:13.477Z"
   },
   {
    "duration": 44,
    "start_time": "2021-09-01T13:24:47.675Z"
   },
   {
    "duration": 50,
    "start_time": "2021-09-01T13:25:47.338Z"
   },
   {
    "duration": 50,
    "start_time": "2021-09-01T13:26:18.670Z"
   },
   {
    "duration": 35,
    "start_time": "2021-09-01T13:27:01.891Z"
   },
   {
    "duration": 21,
    "start_time": "2021-09-01T13:27:46.519Z"
   },
   {
    "duration": 9,
    "start_time": "2021-09-01T13:29:12.414Z"
   },
   {
    "duration": 18,
    "start_time": "2021-09-01T13:35:57.542Z"
   },
   {
    "duration": 11,
    "start_time": "2021-09-01T13:35:59.844Z"
   },
   {
    "duration": 6496,
    "start_time": "2021-09-01T13:37:12.953Z"
   },
   {
    "duration": 21,
    "start_time": "2021-09-01T13:37:23.466Z"
   },
   {
    "duration": 13,
    "start_time": "2021-09-01T13:37:27.729Z"
   },
   {
    "duration": 21,
    "start_time": "2021-09-01T13:39:22.920Z"
   },
   {
    "duration": 10,
    "start_time": "2021-09-01T13:39:26.395Z"
   },
   {
    "duration": 10,
    "start_time": "2021-09-01T13:40:28.591Z"
   },
   {
    "duration": 20,
    "start_time": "2021-09-01T13:40:31.108Z"
   },
   {
    "duration": 9,
    "start_time": "2021-09-01T13:41:12.543Z"
   },
   {
    "duration": 19,
    "start_time": "2021-09-01T13:41:14.451Z"
   },
   {
    "duration": 10,
    "start_time": "2021-09-01T13:42:39.560Z"
   },
   {
    "duration": 20,
    "start_time": "2021-09-01T13:42:42.317Z"
   },
   {
    "duration": -1225,
    "start_time": "2021-09-01T13:45:11.877Z"
   },
   {
    "duration": 19,
    "start_time": "2021-09-01T13:45:12.539Z"
   },
   {
    "duration": 8,
    "start_time": "2021-09-01T13:45:21.464Z"
   },
   {
    "duration": -1225,
    "start_time": "2021-09-01T13:46:23.416Z"
   },
   {
    "duration": 10,
    "start_time": "2021-09-01T13:46:39.248Z"
   },
   {
    "duration": 19,
    "start_time": "2021-09-01T13:46:41.412Z"
   },
   {
    "duration": 15,
    "start_time": "2021-09-02T08:42:05.843Z"
   },
   {
    "duration": 13,
    "start_time": "2021-09-02T08:42:09.400Z"
   },
   {
    "duration": 30,
    "start_time": "2021-09-02T08:42:14.426Z"
   },
   {
    "duration": 35,
    "start_time": "2021-09-02T08:42:47.046Z"
   },
   {
    "duration": 12,
    "start_time": "2021-09-02T08:44:52.211Z"
   },
   {
    "duration": 20,
    "start_time": "2021-09-02T08:44:55.978Z"
   },
   {
    "duration": 67,
    "start_time": "2021-09-02T08:45:05.476Z"
   },
   {
    "duration": 21,
    "start_time": "2021-09-02T08:45:08.452Z"
   },
   {
    "duration": 12,
    "start_time": "2021-09-02T08:45:13.478Z"
   },
   {
    "duration": 32,
    "start_time": "2021-09-02T08:45:16.040Z"
   },
   {
    "duration": 31,
    "start_time": "2021-09-02T08:45:55.138Z"
   },
   {
    "duration": 30,
    "start_time": "2021-09-02T08:46:24.824Z"
   },
   {
    "duration": 20,
    "start_time": "2021-09-02T08:46:48.762Z"
   },
   {
    "duration": 9,
    "start_time": "2021-09-02T09:00:41.336Z"
   },
   {
    "duration": 22,
    "start_time": "2021-09-02T09:00:51.033Z"
   },
   {
    "duration": 15,
    "start_time": "2021-09-02T09:03:35.207Z"
   },
   {
    "duration": 17,
    "start_time": "2021-09-02T09:03:39.375Z"
   },
   {
    "duration": 73,
    "start_time": "2021-09-02T09:03:43.260Z"
   },
   {
    "duration": 22,
    "start_time": "2021-09-02T09:03:46.288Z"
   },
   {
    "duration": 12,
    "start_time": "2021-09-02T09:03:51.028Z"
   },
   {
    "duration": 15,
    "start_time": "2021-09-02T09:03:53.691Z"
   },
   {
    "duration": 319,
    "start_time": "2021-09-02T10:43:24.340Z"
   },
   {
    "duration": 7,
    "start_time": "2021-09-02T10:49:14.428Z"
   },
   {
    "duration": 5,
    "start_time": "2021-09-02T10:56:32.753Z"
   },
   {
    "duration": 5,
    "start_time": "2021-09-02T10:56:39.212Z"
   },
   {
    "duration": 9,
    "start_time": "2021-09-02T10:56:49.837Z"
   },
   {
    "duration": 10,
    "start_time": "2021-09-02T10:57:16.098Z"
   },
   {
    "duration": 11,
    "start_time": "2021-09-02T10:57:33.651Z"
   },
   {
    "duration": 5,
    "start_time": "2021-09-02T10:57:43.435Z"
   },
   {
    "duration": 8,
    "start_time": "2021-09-02T10:57:56.711Z"
   },
   {
    "duration": 8,
    "start_time": "2021-09-02T11:00:24.494Z"
   },
   {
    "duration": 20,
    "start_time": "2021-09-02T11:00:33.945Z"
   },
   {
    "duration": 8,
    "start_time": "2021-09-02T11:17:41.190Z"
   },
   {
    "duration": 26,
    "start_time": "2021-09-02T11:42:42.128Z"
   },
   {
    "duration": 22,
    "start_time": "2021-09-02T11:46:14.177Z"
   },
   {
    "duration": 333,
    "start_time": "2021-09-02T11:47:11.795Z"
   },
   {
    "duration": 518,
    "start_time": "2021-09-02T11:47:35.807Z"
   },
   {
    "duration": 43,
    "start_time": "2021-09-02T11:47:52.368Z"
   },
   {
    "duration": 43,
    "start_time": "2021-09-02T11:48:35.315Z"
   },
   {
    "duration": 6,
    "start_time": "2021-09-02T12:41:11.900Z"
   },
   {
    "duration": 10,
    "start_time": "2021-09-02T12:41:33.352Z"
   },
   {
    "duration": 295,
    "start_time": "2021-09-02T12:46:27.812Z"
   },
   {
    "duration": 20,
    "start_time": "2021-09-02T12:47:46.108Z"
   },
   {
    "duration": 23,
    "start_time": "2021-09-02T12:48:01.438Z"
   },
   {
    "duration": 22,
    "start_time": "2021-09-02T12:48:59.410Z"
   },
   {
    "duration": 29,
    "start_time": "2021-09-02T12:52:05.635Z"
   },
   {
    "duration": 46,
    "start_time": "2021-09-02T12:56:34.971Z"
   },
   {
    "duration": 95,
    "start_time": "2021-09-02T13:01:56.273Z"
   },
   {
    "duration": 10,
    "start_time": "2021-09-02T13:02:28.912Z"
   },
   {
    "duration": 40,
    "start_time": "2021-09-02T13:10:29.407Z"
   },
   {
    "duration": 10,
    "start_time": "2021-09-02T13:13:15.519Z"
   },
   {
    "duration": 19,
    "start_time": "2021-09-02T13:16:33.112Z"
   },
   {
    "duration": 12,
    "start_time": "2021-09-02T13:32:55.701Z"
   },
   {
    "duration": 11,
    "start_time": "2021-09-02T13:33:22.241Z"
   },
   {
    "duration": 13,
    "start_time": "2021-09-02T13:33:40.472Z"
   },
   {
    "duration": 36,
    "start_time": "2021-09-02T13:34:03.320Z"
   },
   {
    "duration": 30,
    "start_time": "2021-09-02T13:34:13.271Z"
   },
   {
    "duration": 15,
    "start_time": "2021-09-02T13:34:23.970Z"
   },
   {
    "duration": 12,
    "start_time": "2021-09-02T13:34:41.794Z"
   },
   {
    "duration": 17,
    "start_time": "2021-09-02T13:34:49.721Z"
   },
   {
    "duration": 17,
    "start_time": "2021-09-02T13:34:57.158Z"
   },
   {
    "duration": 12,
    "start_time": "2021-09-02T13:34:59.657Z"
   },
   {
    "duration": 76,
    "start_time": "2021-09-02T13:35:22.150Z"
   },
   {
    "duration": 21,
    "start_time": "2021-09-02T13:35:22.229Z"
   },
   {
    "duration": 35,
    "start_time": "2021-09-02T13:35:22.255Z"
   },
   {
    "duration": 20,
    "start_time": "2021-09-02T13:35:22.293Z"
   },
   {
    "duration": 22,
    "start_time": "2021-09-02T13:35:22.316Z"
   },
   {
    "duration": 62,
    "start_time": "2021-09-02T13:35:22.340Z"
   },
   {
    "duration": 49,
    "start_time": "2021-09-02T13:35:22.404Z"
   },
   {
    "duration": 31,
    "start_time": "2021-09-02T13:35:22.457Z"
   },
   {
    "duration": 41,
    "start_time": "2021-09-02T13:35:22.491Z"
   },
   {
    "duration": 67,
    "start_time": "2021-09-02T13:35:22.535Z"
   },
   {
    "duration": 50,
    "start_time": "2021-09-02T13:35:22.606Z"
   },
   {
    "duration": 30,
    "start_time": "2021-09-02T13:35:22.659Z"
   },
   {
    "duration": 35,
    "start_time": "2021-09-02T13:35:22.692Z"
   },
   {
    "duration": 16,
    "start_time": "2021-09-02T13:35:22.730Z"
   },
   {
    "duration": 49,
    "start_time": "2021-09-02T13:35:22.749Z"
   },
   {
    "duration": 13,
    "start_time": "2021-09-02T13:35:22.800Z"
   },
   {
    "duration": 49,
    "start_time": "2021-09-02T13:35:31.367Z"
   },
   {
    "duration": 28,
    "start_time": "2021-09-02T13:36:40.713Z"
   },
   {
    "duration": 70,
    "start_time": "2021-09-02T13:37:05.892Z"
   },
   {
    "duration": 30,
    "start_time": "2021-09-02T13:37:05.965Z"
   },
   {
    "duration": 19,
    "start_time": "2021-09-02T13:37:05.998Z"
   },
   {
    "duration": 22,
    "start_time": "2021-09-02T13:37:06.021Z"
   },
   {
    "duration": 56,
    "start_time": "2021-09-02T13:37:06.046Z"
   },
   {
    "duration": 40,
    "start_time": "2021-09-02T13:37:06.105Z"
   },
   {
    "duration": 70,
    "start_time": "2021-09-02T13:37:06.149Z"
   },
   {
    "duration": 9,
    "start_time": "2021-09-02T13:37:06.223Z"
   },
   {
    "duration": 49,
    "start_time": "2021-09-02T13:37:06.235Z"
   },
   {
    "duration": 27,
    "start_time": "2021-09-02T13:37:06.287Z"
   },
   {
    "duration": 71,
    "start_time": "2021-09-02T13:37:06.317Z"
   },
   {
    "duration": 11,
    "start_time": "2021-09-02T13:37:06.390Z"
   },
   {
    "duration": 27,
    "start_time": "2021-09-02T13:37:06.403Z"
   },
   {
    "duration": 11,
    "start_time": "2021-09-02T13:37:06.433Z"
   },
   {
    "duration": 51,
    "start_time": "2021-09-02T13:37:06.447Z"
   },
   {
    "duration": 7366,
    "start_time": "2021-09-02T13:40:37.943Z"
   },
   {
    "duration": 14,
    "start_time": "2021-09-02T13:40:56.459Z"
   },
   {
    "duration": 96,
    "start_time": "2021-09-02T13:46:27.973Z"
   },
   {
    "duration": 21,
    "start_time": "2021-09-02T13:52:51.969Z"
   },
   {
    "duration": 9,
    "start_time": "2021-09-02T13:54:12.899Z"
   },
   {
    "duration": 21,
    "start_time": "2021-09-02T13:54:26.832Z"
   },
   {
    "duration": 21,
    "start_time": "2021-09-02T13:55:05.569Z"
   },
   {
    "duration": 10,
    "start_time": "2021-09-02T13:55:33.280Z"
   },
   {
    "duration": 11,
    "start_time": "2021-09-02T18:19:14.678Z"
   },
   {
    "duration": 357,
    "start_time": "2021-09-02T19:13:26.050Z"
   },
   {
    "duration": 6,
    "start_time": "2021-09-02T19:17:51.526Z"
   },
   {
    "duration": 7,
    "start_time": "2021-09-02T19:18:02.022Z"
   },
   {
    "duration": 894,
    "start_time": "2021-09-02T19:18:31.196Z"
   },
   {
    "duration": 307,
    "start_time": "2021-09-02T19:21:40.122Z"
   },
   {
    "duration": 225,
    "start_time": "2021-09-02T19:22:12.123Z"
   },
   {
    "duration": 318,
    "start_time": "2021-09-02T19:22:52.470Z"
   },
   {
    "duration": 905,
    "start_time": "2021-09-02T19:23:16.792Z"
   },
   {
    "duration": 913,
    "start_time": "2021-09-02T19:23:44.231Z"
   },
   {
    "duration": 868,
    "start_time": "2021-09-02T19:23:54.754Z"
   },
   {
    "duration": 988,
    "start_time": "2021-09-02T19:46:02.017Z"
   },
   {
    "duration": 892,
    "start_time": "2021-09-02T19:50:08.940Z"
   },
   {
    "duration": 7,
    "start_time": "2021-09-02T20:05:54.060Z"
   },
   {
    "duration": 14,
    "start_time": "2021-09-02T20:09:47.611Z"
   },
   {
    "duration": 5,
    "start_time": "2021-09-02T20:14:51.163Z"
   },
   {
    "duration": 1019,
    "start_time": "2021-09-02T20:18:24.883Z"
   },
   {
    "duration": 474,
    "start_time": "2021-09-02T20:21:50.743Z"
   },
   {
    "duration": 4197,
    "start_time": "2021-09-02T20:32:25.403Z"
   },
   {
    "duration": 14,
    "start_time": "2021-09-02T20:33:15.258Z"
   },
   {
    "duration": 22,
    "start_time": "2021-09-02T20:34:23.506Z"
   },
   {
    "duration": 3,
    "start_time": "2021-09-02T20:34:42.249Z"
   },
   {
    "duration": 10,
    "start_time": "2021-09-02T20:34:55.555Z"
   },
   {
    "duration": 9,
    "start_time": "2021-09-03T06:49:07.070Z"
   },
   {
    "duration": 6,
    "start_time": "2021-09-03T06:49:37.530Z"
   },
   {
    "duration": 296,
    "start_time": "2021-09-03T06:51:14.027Z"
   },
   {
    "duration": 345,
    "start_time": "2021-09-03T06:51:31.576Z"
   },
   {
    "duration": 6,
    "start_time": "2021-09-03T06:52:21.663Z"
   },
   {
    "duration": 311,
    "start_time": "2021-09-03T06:53:35.005Z"
   },
   {
    "duration": 7,
    "start_time": "2021-09-03T06:53:55.147Z"
   },
   {
    "duration": 7,
    "start_time": "2021-09-03T07:19:32.804Z"
   },
   {
    "duration": 8,
    "start_time": "2021-09-03T07:19:51.020Z"
   },
   {
    "duration": 35,
    "start_time": "2021-09-03T07:34:36.086Z"
   },
   {
    "duration": 4546,
    "start_time": "2021-09-03T07:34:37.800Z"
   },
   {
    "duration": 12,
    "start_time": "2021-09-03T07:34:42.349Z"
   },
   {
    "duration": 4,
    "start_time": "2021-09-03T07:45:13.326Z"
   },
   {
    "duration": 7,
    "start_time": "2021-09-03T07:45:19.532Z"
   },
   {
    "duration": 285,
    "start_time": "2021-09-03T07:45:31.384Z"
   },
   {
    "duration": 6,
    "start_time": "2021-09-03T07:45:48.608Z"
   },
   {
    "duration": 9,
    "start_time": "2021-09-03T07:48:42.507Z"
   },
   {
    "duration": 9,
    "start_time": "2021-09-03T07:48:53.541Z"
   },
   {
    "duration": 13,
    "start_time": "2021-09-03T07:49:04.779Z"
   },
   {
    "duration": 9,
    "start_time": "2021-09-03T07:49:08.202Z"
   },
   {
    "duration": 39,
    "start_time": "2021-09-03T07:55:44.151Z"
   },
   {
    "duration": 4501,
    "start_time": "2021-09-03T07:55:46.393Z"
   },
   {
    "duration": 13,
    "start_time": "2021-09-03T07:55:50.898Z"
   },
   {
    "duration": 8,
    "start_time": "2021-09-03T08:28:47.599Z"
   },
   {
    "duration": 10,
    "start_time": "2021-09-03T08:28:55.832Z"
   },
   {
    "duration": 7,
    "start_time": "2021-09-03T08:39:22.048Z"
   },
   {
    "duration": 8,
    "start_time": "2021-09-03T08:41:19.985Z"
   },
   {
    "duration": 8,
    "start_time": "2021-09-03T08:41:58.173Z"
   },
   {
    "duration": 9,
    "start_time": "2021-09-03T08:42:36.519Z"
   },
   {
    "duration": 296,
    "start_time": "2021-09-03T08:43:33.767Z"
   },
   {
    "duration": 8,
    "start_time": "2021-09-03T08:43:44.453Z"
   },
   {
    "duration": 11,
    "start_time": "2021-09-03T08:43:54.479Z"
   },
   {
    "duration": 9,
    "start_time": "2021-09-03T08:44:08.267Z"
   },
   {
    "duration": 8,
    "start_time": "2021-09-03T08:55:26.164Z"
   },
   {
    "duration": 344,
    "start_time": "2021-09-03T08:56:01.417Z"
   },
   {
    "duration": 9,
    "start_time": "2021-09-03T08:56:06.241Z"
   },
   {
    "duration": 9,
    "start_time": "2021-09-03T08:56:29.315Z"
   },
   {
    "duration": 244,
    "start_time": "2021-09-03T08:59:36.969Z"
   },
   {
    "duration": 7094,
    "start_time": "2021-09-03T08:59:53.419Z"
   },
   {
    "duration": -1258,
    "start_time": "2021-09-03T09:00:17.385Z"
   },
   {
    "duration": 7597,
    "start_time": "2021-09-03T09:00:28.872Z"
   },
   {
    "duration": 39,
    "start_time": "2021-09-03T09:00:38.034Z"
   },
   {
    "duration": 29,
    "start_time": "2021-09-03T09:04:06.764Z"
   },
   {
    "duration": 26,
    "start_time": "2021-09-03T09:09:08.383Z"
   },
   {
    "duration": 4,
    "start_time": "2021-09-03T09:25:31.130Z"
   },
   {
    "duration": 6,
    "start_time": "2021-09-03T09:25:39.738Z"
   },
   {
    "duration": 6,
    "start_time": "2021-09-03T09:25:52.928Z"
   },
   {
    "duration": 311,
    "start_time": "2021-09-03T09:26:48.299Z"
   },
   {
    "duration": -1316,
    "start_time": "2021-09-03T09:27:17.758Z"
   },
   {
    "duration": 10615,
    "start_time": "2021-09-03T09:27:37.496Z"
   },
   {
    "duration": 10792,
    "start_time": "2021-09-03T09:28:57.006Z"
   },
   {
    "duration": 13,
    "start_time": "2021-09-03T09:29:24.794Z"
   },
   {
    "duration": 7,
    "start_time": "2021-09-03T09:29:48.029Z"
   },
   {
    "duration": 12,
    "start_time": "2021-09-03T09:30:01.452Z"
   },
   {
    "duration": 6,
    "start_time": "2021-09-03T09:30:32.590Z"
   },
   {
    "duration": 25,
    "start_time": "2021-09-03T09:30:39.940Z"
   },
   {
    "duration": 36,
    "start_time": "2021-09-03T09:30:57.016Z"
   },
   {
    "duration": 225,
    "start_time": "2021-09-03T09:31:27.751Z"
   },
   {
    "duration": 228,
    "start_time": "2021-09-03T09:31:35.850Z"
   },
   {
    "duration": 86,
    "start_time": "2021-09-03T09:32:32.737Z"
   },
   {
    "duration": 22,
    "start_time": "2021-09-03T09:32:32.825Z"
   },
   {
    "duration": 43,
    "start_time": "2021-09-03T09:32:32.850Z"
   },
   {
    "duration": 15,
    "start_time": "2021-09-03T09:32:32.896Z"
   },
   {
    "duration": 18,
    "start_time": "2021-09-03T09:32:32.913Z"
   },
   {
    "duration": 21,
    "start_time": "2021-09-03T09:32:32.934Z"
   },
   {
    "duration": 46,
    "start_time": "2021-09-03T09:32:32.991Z"
   },
   {
    "duration": 9,
    "start_time": "2021-09-03T09:32:33.043Z"
   },
   {
    "duration": 51,
    "start_time": "2021-09-03T09:32:33.055Z"
   },
   {
    "duration": 25,
    "start_time": "2021-09-03T09:32:33.109Z"
   },
   {
    "duration": 66,
    "start_time": "2021-09-03T09:32:33.137Z"
   },
   {
    "duration": 9,
    "start_time": "2021-09-03T09:32:33.205Z"
   },
   {
    "duration": 27,
    "start_time": "2021-09-03T09:32:33.217Z"
   },
   {
    "duration": 39,
    "start_time": "2021-09-03T09:32:33.246Z"
   },
   {
    "duration": 20,
    "start_time": "2021-09-03T09:32:33.288Z"
   },
   {
    "duration": 13,
    "start_time": "2021-09-03T09:32:33.310Z"
   },
   {
    "duration": 18,
    "start_time": "2021-09-03T09:32:33.325Z"
   },
   {
    "duration": 10,
    "start_time": "2021-09-03T09:32:33.346Z"
   },
   {
    "duration": 13,
    "start_time": "2021-09-03T09:32:33.387Z"
   },
   {
    "duration": 40,
    "start_time": "2021-09-03T09:32:33.403Z"
   },
   {
    "duration": 5045,
    "start_time": "2021-09-03T09:32:33.446Z"
   },
   {
    "duration": 12,
    "start_time": "2021-09-03T09:32:38.494Z"
   },
   {
    "duration": 23,
    "start_time": "2021-09-03T09:32:38.510Z"
   },
   {
    "duration": 34,
    "start_time": "2021-09-03T09:32:38.535Z"
   },
   {
    "duration": 27,
    "start_time": "2021-09-03T09:32:38.571Z"
   },
   {
    "duration": 7,
    "start_time": "2021-09-03T09:38:10.050Z"
   },
   {
    "duration": 14,
    "start_time": "2021-09-03T09:38:31.185Z"
   },
   {
    "duration": 783,
    "start_time": "2021-09-03T09:39:40.986Z"
   },
   {
    "duration": 41,
    "start_time": "2021-09-03T09:39:41.773Z"
   },
   {
    "duration": 16,
    "start_time": "2021-09-03T09:39:41.818Z"
   },
   {
    "duration": 20,
    "start_time": "2021-09-03T09:39:41.837Z"
   },
   {
    "duration": 48,
    "start_time": "2021-09-03T09:39:41.860Z"
   },
   {
    "duration": 26,
    "start_time": "2021-09-03T09:39:41.911Z"
   },
   {
    "duration": 79,
    "start_time": "2021-09-03T09:39:41.940Z"
   },
   {
    "duration": 9,
    "start_time": "2021-09-03T09:39:42.023Z"
   },
   {
    "duration": 55,
    "start_time": "2021-09-03T09:39:42.035Z"
   },
   {
    "duration": 37,
    "start_time": "2021-09-03T09:39:42.093Z"
   },
   {
    "duration": 59,
    "start_time": "2021-09-03T09:39:42.133Z"
   },
   {
    "duration": 10,
    "start_time": "2021-09-03T09:39:42.199Z"
   },
   {
    "duration": 28,
    "start_time": "2021-09-03T09:39:42.212Z"
   },
   {
    "duration": 15,
    "start_time": "2021-09-03T09:39:42.242Z"
   },
   {
    "duration": 46,
    "start_time": "2021-09-03T09:39:42.259Z"
   },
   {
    "duration": 14,
    "start_time": "2021-09-03T09:39:42.308Z"
   },
   {
    "duration": 10,
    "start_time": "2021-09-03T09:39:42.324Z"
   },
   {
    "duration": 10,
    "start_time": "2021-09-03T09:39:42.337Z"
   },
   {
    "duration": 38,
    "start_time": "2021-09-03T09:39:42.349Z"
   },
   {
    "duration": 14,
    "start_time": "2021-09-03T09:39:42.391Z"
   },
   {
    "duration": 4764,
    "start_time": "2021-09-03T09:39:42.408Z"
   },
   {
    "duration": 19,
    "start_time": "2021-09-03T09:39:47.175Z"
   },
   {
    "duration": 11,
    "start_time": "2021-09-03T09:39:47.200Z"
   },
   {
    "duration": 27,
    "start_time": "2021-09-03T09:39:47.215Z"
   },
   {
    "duration": 51,
    "start_time": "2021-09-03T09:39:47.245Z"
   },
   {
    "duration": 10,
    "start_time": "2021-09-03T09:39:47.298Z"
   },
   {
    "duration": 8,
    "start_time": "2021-09-03T09:41:21.984Z"
   },
   {
    "duration": 7,
    "start_time": "2021-09-03T09:43:11.027Z"
   },
   {
    "duration": 6,
    "start_time": "2021-09-03T09:43:13.104Z"
   },
   {
    "duration": 75,
    "start_time": "2021-09-03T09:43:47.702Z"
   },
   {
    "duration": 20,
    "start_time": "2021-09-03T09:43:47.780Z"
   },
   {
    "duration": 14,
    "start_time": "2021-09-03T09:43:47.803Z"
   },
   {
    "duration": 15,
    "start_time": "2021-09-03T09:43:47.820Z"
   },
   {
    "duration": 57,
    "start_time": "2021-09-03T09:43:47.837Z"
   },
   {
    "duration": 22,
    "start_time": "2021-09-03T09:43:47.897Z"
   },
   {
    "duration": 67,
    "start_time": "2021-09-03T09:43:47.921Z"
   },
   {
    "duration": 10,
    "start_time": "2021-09-03T09:43:47.992Z"
   },
   {
    "duration": 31,
    "start_time": "2021-09-03T09:43:48.005Z"
   },
   {
    "duration": 50,
    "start_time": "2021-09-03T09:43:48.039Z"
   },
   {
    "duration": 41,
    "start_time": "2021-09-03T09:43:48.091Z"
   },
   {
    "duration": 9,
    "start_time": "2021-09-03T09:43:48.134Z"
   },
   {
    "duration": 54,
    "start_time": "2021-09-03T09:43:48.146Z"
   },
   {
    "duration": 9,
    "start_time": "2021-09-03T09:43:48.203Z"
   },
   {
    "duration": 18,
    "start_time": "2021-09-03T09:43:48.215Z"
   },
   {
    "duration": 12,
    "start_time": "2021-09-03T09:43:48.236Z"
   },
   {
    "duration": 39,
    "start_time": "2021-09-03T09:43:48.250Z"
   },
   {
    "duration": 9,
    "start_time": "2021-09-03T09:43:48.292Z"
   },
   {
    "duration": 10,
    "start_time": "2021-09-03T09:43:48.304Z"
   },
   {
    "duration": 74,
    "start_time": "2021-09-03T09:43:48.317Z"
   },
   {
    "duration": 4363,
    "start_time": "2021-09-03T09:43:48.394Z"
   },
   {
    "duration": 23,
    "start_time": "2021-09-03T09:43:52.759Z"
   },
   {
    "duration": 9,
    "start_time": "2021-09-03T09:43:52.788Z"
   },
   {
    "duration": 26,
    "start_time": "2021-09-03T09:43:52.800Z"
   },
   {
    "duration": 6,
    "start_time": "2021-09-03T09:43:52.829Z"
   },
   {
    "duration": 8,
    "start_time": "2021-09-03T09:43:52.883Z"
   },
   {
    "duration": 7,
    "start_time": "2021-09-03T09:43:52.894Z"
   },
   {
    "duration": 7,
    "start_time": "2021-09-03T10:05:21.009Z"
   },
   {
    "duration": 7,
    "start_time": "2021-09-03T10:06:55.202Z"
   },
   {
    "duration": 7,
    "start_time": "2021-09-03T10:07:17.697Z"
   },
   {
    "duration": 5,
    "start_time": "2021-09-03T10:07:33.407Z"
   },
   {
    "duration": 35,
    "start_time": "2021-09-03T10:08:36.667Z"
   },
   {
    "duration": 33,
    "start_time": "2021-09-03T10:18:49.236Z"
   },
   {
    "duration": 33,
    "start_time": "2021-09-03T10:19:04.853Z"
   },
   {
    "duration": 106,
    "start_time": "2021-09-03T11:21:20.533Z"
   },
   {
    "duration": 20,
    "start_time": "2021-09-03T11:24:14.284Z"
   },
   {
    "duration": 11,
    "start_time": "2021-09-03T11:32:07.812Z"
   },
   {
    "duration": 8,
    "start_time": "2021-09-03T11:32:23.156Z"
   },
   {
    "duration": 9,
    "start_time": "2021-09-03T11:50:20.091Z"
   },
   {
    "duration": 9,
    "start_time": "2021-09-03T11:50:45.343Z"
   },
   {
    "duration": 10,
    "start_time": "2021-09-03T11:51:57.989Z"
   },
   {
    "duration": 11,
    "start_time": "2021-09-03T11:54:57.080Z"
   },
   {
    "duration": 666,
    "start_time": "2021-09-03T12:01:11.805Z"
   },
   {
    "duration": 523,
    "start_time": "2021-09-03T12:01:29.761Z"
   },
   {
    "duration": 29,
    "start_time": "2021-09-03T12:01:56.023Z"
   },
   {
    "duration": 17,
    "start_time": "2021-09-03T12:03:49.879Z"
   },
   {
    "duration": 37,
    "start_time": "2021-09-03T12:04:07.755Z"
   },
   {
    "duration": 36,
    "start_time": "2021-09-03T12:17:46.019Z"
   },
   {
    "duration": 35,
    "start_time": "2021-09-03T12:55:58.379Z"
   },
   {
    "duration": 17,
    "start_time": "2021-09-03T12:56:17.144Z"
   },
   {
    "duration": 29,
    "start_time": "2021-09-03T12:56:20.674Z"
   },
   {
    "duration": 21,
    "start_time": "2021-09-03T12:57:13.284Z"
   },
   {
    "duration": 331,
    "start_time": "2021-09-03T12:57:38.210Z"
   },
   {
    "duration": 326,
    "start_time": "2021-09-03T12:59:00.206Z"
   },
   {
    "duration": 366,
    "start_time": "2021-09-03T13:01:04.794Z"
   },
   {
    "duration": 358,
    "start_time": "2021-09-03T13:02:06.596Z"
   },
   {
    "duration": 388,
    "start_time": "2021-09-03T13:04:50.557Z"
   },
   {
    "duration": 18,
    "start_time": "2021-09-03T13:05:47.031Z"
   },
   {
    "duration": 18,
    "start_time": "2021-09-03T13:06:01.178Z"
   },
   {
    "duration": 4974,
    "start_time": "2021-09-03T13:11:56.022Z"
   },
   {
    "duration": 11,
    "start_time": "2021-09-03T13:12:41.669Z"
   },
   {
    "duration": 339,
    "start_time": "2021-09-03T13:29:59.428Z"
   },
   {
    "duration": 428,
    "start_time": "2021-09-03T13:30:08.057Z"
   },
   {
    "duration": 37,
    "start_time": "2021-09-03T13:30:53.466Z"
   },
   {
    "duration": 42,
    "start_time": "2021-09-03T13:30:59.857Z"
   },
   {
    "duration": 37,
    "start_time": "2021-09-03T13:31:06.883Z"
   },
   {
    "duration": 9,
    "start_time": "2021-09-03T13:52:16.635Z"
   },
   {
    "duration": 9,
    "start_time": "2021-09-03T13:58:22.911Z"
   },
   {
    "duration": 9,
    "start_time": "2021-09-03T13:58:38.999Z"
   },
   {
    "duration": 8,
    "start_time": "2021-09-03T14:05:41.998Z"
   },
   {
    "duration": 7,
    "start_time": "2021-09-03T14:06:57.665Z"
   },
   {
    "duration": 8,
    "start_time": "2021-09-03T14:10:26.239Z"
   },
   {
    "duration": 4,
    "start_time": "2021-09-03T14:14:03.381Z"
   },
   {
    "duration": 5,
    "start_time": "2021-09-03T14:14:11.323Z"
   },
   {
    "duration": 105,
    "start_time": "2021-09-03T14:14:19.038Z"
   },
   {
    "duration": 5,
    "start_time": "2021-09-03T14:14:22.185Z"
   },
   {
    "duration": 8,
    "start_time": "2021-09-03T14:15:08.309Z"
   },
   {
    "duration": 8,
    "start_time": "2021-09-03T14:15:14.309Z"
   },
   {
    "duration": 9,
    "start_time": "2021-09-03T14:15:33.297Z"
   },
   {
    "duration": 9,
    "start_time": "2021-09-03T14:15:46.135Z"
   },
   {
    "duration": 19,
    "start_time": "2021-09-03T14:16:07.769Z"
   },
   {
    "duration": 7,
    "start_time": "2021-09-03T14:16:17.008Z"
   },
   {
    "duration": 8,
    "start_time": "2021-09-03T14:16:40.867Z"
   },
   {
    "duration": 10,
    "start_time": "2021-09-03T14:16:51.693Z"
   },
   {
    "duration": 9,
    "start_time": "2021-09-03T14:16:59.132Z"
   },
   {
    "duration": 8,
    "start_time": "2021-09-03T14:17:49.854Z"
   },
   {
    "duration": 8,
    "start_time": "2021-09-03T14:18:05.604Z"
   },
   {
    "duration": 8,
    "start_time": "2021-09-03T14:18:10.490Z"
   },
   {
    "duration": 9,
    "start_time": "2021-09-03T14:22:06.011Z"
   },
   {
    "duration": 7,
    "start_time": "2021-09-03T14:48:21.170Z"
   },
   {
    "duration": 8,
    "start_time": "2021-09-03T14:48:29.903Z"
   },
   {
    "duration": 4,
    "start_time": "2021-09-03T14:49:38.787Z"
   },
   {
    "duration": 10,
    "start_time": "2021-09-03T14:49:45.953Z"
   },
   {
    "duration": 14,
    "start_time": "2021-09-03T14:56:12.982Z"
   },
   {
    "duration": 10,
    "start_time": "2021-09-03T14:56:37.747Z"
   },
   {
    "duration": 7,
    "start_time": "2021-09-03T14:57:37.373Z"
   },
   {
    "duration": 6,
    "start_time": "2021-09-03T15:00:54.252Z"
   },
   {
    "duration": 22,
    "start_time": "2021-09-03T15:05:20.225Z"
   },
   {
    "duration": 39,
    "start_time": "2021-09-03T15:05:35.327Z"
   },
   {
    "duration": 8,
    "start_time": "2021-09-03T15:05:43.111Z"
   },
   {
    "duration": 21,
    "start_time": "2021-09-03T15:06:00.365Z"
   },
   {
    "duration": 6,
    "start_time": "2021-09-03T15:09:15.522Z"
   },
   {
    "duration": 6,
    "start_time": "2021-09-03T15:09:18.906Z"
   },
   {
    "duration": 6,
    "start_time": "2021-09-03T15:09:49.754Z"
   },
   {
    "duration": 21,
    "start_time": "2021-09-03T15:09:52.304Z"
   },
   {
    "duration": 8,
    "start_time": "2021-09-03T15:10:05.103Z"
   },
   {
    "duration": 8,
    "start_time": "2021-09-03T15:11:34.899Z"
   },
   {
    "duration": 10,
    "start_time": "2021-09-03T15:11:38.837Z"
   },
   {
    "duration": 11,
    "start_time": "2021-09-03T15:12:29.521Z"
   },
   {
    "duration": 8,
    "start_time": "2021-09-03T15:13:03.984Z"
   },
   {
    "duration": 11,
    "start_time": "2021-09-03T15:13:12.883Z"
   },
   {
    "duration": 12,
    "start_time": "2021-09-03T15:14:21.307Z"
   },
   {
    "duration": 13,
    "start_time": "2021-09-03T15:14:36.067Z"
   },
   {
    "duration": 7,
    "start_time": "2021-09-03T15:15:00.154Z"
   },
   {
    "duration": 11,
    "start_time": "2021-09-03T15:18:15.881Z"
   },
   {
    "duration": 7,
    "start_time": "2021-09-03T15:19:08.006Z"
   },
   {
    "duration": 74,
    "start_time": "2021-09-04T08:57:41.119Z"
   },
   {
    "duration": 21,
    "start_time": "2021-09-04T08:57:44.296Z"
   },
   {
    "duration": 34,
    "start_time": "2021-09-04T08:59:17.219Z"
   },
   {
    "duration": 20,
    "start_time": "2021-09-04T08:59:34.756Z"
   },
   {
    "duration": 4,
    "start_time": "2021-09-04T09:53:16.147Z"
   },
   {
    "duration": 6,
    "start_time": "2021-09-04T09:54:18.311Z"
   },
   {
    "duration": 69,
    "start_time": "2021-09-04T09:55:04.937Z"
   },
   {
    "duration": 21,
    "start_time": "2021-09-04T09:55:08.106Z"
   },
   {
    "duration": 13,
    "start_time": "2021-09-04T09:55:13.098Z"
   },
   {
    "duration": 5,
    "start_time": "2021-09-04T09:55:16.423Z"
   },
   {
    "duration": 6,
    "start_time": "2021-09-04T09:55:19.335Z"
   },
   {
    "duration": 7,
    "start_time": "2021-09-04T10:00:39.827Z"
   },
   {
    "duration": 5,
    "start_time": "2021-09-04T10:00:48.999Z"
   },
   {
    "duration": 396,
    "start_time": "2021-09-04T10:48:14.662Z"
   },
   {
    "duration": 23,
    "start_time": "2021-09-04T10:48:29.668Z"
   },
   {
    "duration": 280,
    "start_time": "2021-09-04T10:48:57.554Z"
   },
   {
    "duration": 20,
    "start_time": "2021-09-04T10:49:46.856Z"
   },
   {
    "duration": 5,
    "start_time": "2021-09-04T10:54:43.048Z"
   },
   {
    "duration": 278,
    "start_time": "2021-09-04T11:04:19.562Z"
   },
   {
    "duration": 311,
    "start_time": "2021-09-04T11:04:55.302Z"
   },
   {
    "duration": 128,
    "start_time": "2021-09-04T11:04:57.759Z"
   },
   {
    "duration": 5,
    "start_time": "2021-09-04T11:05:06.404Z"
   },
   {
    "duration": 384,
    "start_time": "2021-09-04T11:05:08.113Z"
   },
   {
    "duration": 95,
    "start_time": "2021-09-04T11:06:37.327Z"
   },
   {
    "duration": 13,
    "start_time": "2021-09-04T11:06:58.697Z"
   },
   {
    "duration": 357,
    "start_time": "2021-09-04T11:07:01.271Z"
   },
   {
    "duration": 9,
    "start_time": "2021-09-04T11:07:36.282Z"
   },
   {
    "duration": 374,
    "start_time": "2021-09-04T11:07:38.221Z"
   },
   {
    "duration": 14,
    "start_time": "2021-09-04T11:07:59.881Z"
   },
   {
    "duration": 18,
    "start_time": "2021-09-04T11:08:01.569Z"
   },
   {
    "duration": 6,
    "start_time": "2021-09-04T11:08:10.345Z"
   },
   {
    "duration": 15,
    "start_time": "2021-09-04T11:08:12.319Z"
   },
   {
    "duration": 16,
    "start_time": "2021-09-04T11:08:22.155Z"
   },
   {
    "duration": 6,
    "start_time": "2021-09-04T11:08:30.755Z"
   },
   {
    "duration": 322,
    "start_time": "2021-09-04T11:08:58.581Z"
   },
   {
    "duration": 5,
    "start_time": "2021-09-04T11:09:27.264Z"
   },
   {
    "duration": 27,
    "start_time": "2021-09-04T11:09:29.078Z"
   },
   {
    "duration": 5,
    "start_time": "2021-09-04T11:09:46.177Z"
   },
   {
    "duration": 16,
    "start_time": "2021-09-04T11:09:47.616Z"
   },
   {
    "duration": 5,
    "start_time": "2021-09-04T11:09:54.615Z"
   },
   {
    "duration": 16,
    "start_time": "2021-09-04T11:09:56.452Z"
   },
   {
    "duration": 18,
    "start_time": "2021-09-04T11:10:00.915Z"
   },
   {
    "duration": 6,
    "start_time": "2021-09-04T11:10:03.578Z"
   },
   {
    "duration": 18,
    "start_time": "2021-09-04T11:10:06.796Z"
   },
   {
    "duration": 16,
    "start_time": "2021-09-04T11:10:38.026Z"
   },
   {
    "duration": 22,
    "start_time": "2021-09-04T11:15:09.686Z"
   },
   {
    "duration": 20,
    "start_time": "2021-09-04T11:15:24.731Z"
   },
   {
    "duration": 23,
    "start_time": "2021-09-04T11:16:04.530Z"
   },
   {
    "duration": 17,
    "start_time": "2021-09-04T11:16:09.542Z"
   },
   {
    "duration": 31,
    "start_time": "2021-09-04T11:16:11.442Z"
   },
   {
    "duration": 81,
    "start_time": "2021-09-04T11:16:30.931Z"
   },
   {
    "duration": 23,
    "start_time": "2021-09-04T11:16:31.015Z"
   },
   {
    "duration": 49,
    "start_time": "2021-09-04T11:16:31.041Z"
   },
   {
    "duration": 13,
    "start_time": "2021-09-04T11:16:31.093Z"
   },
   {
    "duration": 14,
    "start_time": "2021-09-04T11:16:31.109Z"
   },
   {
    "duration": 30,
    "start_time": "2021-09-04T11:16:31.126Z"
   },
   {
    "duration": 24,
    "start_time": "2021-09-04T11:16:31.159Z"
   },
   {
    "duration": 22,
    "start_time": "2021-09-04T11:16:31.189Z"
   },
   {
    "duration": 34,
    "start_time": "2021-09-04T11:16:31.214Z"
   },
   {
    "duration": 45,
    "start_time": "2021-09-04T11:16:31.251Z"
   },
   {
    "duration": 52,
    "start_time": "2021-09-04T11:16:31.299Z"
   },
   {
    "duration": 34,
    "start_time": "2021-09-04T11:16:31.354Z"
   },
   {
    "duration": 31,
    "start_time": "2021-09-04T11:16:31.391Z"
   },
   {
    "duration": 59,
    "start_time": "2021-09-04T11:16:31.425Z"
   },
   {
    "duration": 54,
    "start_time": "2021-09-04T11:16:31.487Z"
   },
   {
    "duration": 10,
    "start_time": "2021-09-04T11:16:31.544Z"
   },
   {
    "duration": 32,
    "start_time": "2021-09-04T11:16:31.584Z"
   },
   {
    "duration": 16,
    "start_time": "2021-09-04T11:16:31.619Z"
   },
   {
    "duration": 67,
    "start_time": "2021-09-04T11:16:31.639Z"
   },
   {
    "duration": 13,
    "start_time": "2021-09-04T11:16:31.708Z"
   },
   {
    "duration": 24,
    "start_time": "2021-09-04T11:16:31.724Z"
   },
   {
    "duration": 33,
    "start_time": "2021-09-04T11:16:31.752Z"
   },
   {
    "duration": 19,
    "start_time": "2021-09-04T11:16:31.792Z"
   },
   {
    "duration": 21,
    "start_time": "2021-09-04T11:16:31.815Z"
   },
   {
    "duration": 61,
    "start_time": "2021-09-04T11:16:31.838Z"
   },
   {
    "duration": 8,
    "start_time": "2021-09-04T11:16:31.902Z"
   },
   {
    "duration": 29,
    "start_time": "2021-09-04T11:16:31.912Z"
   },
   {
    "duration": 62,
    "start_time": "2021-09-04T11:16:31.944Z"
   },
   {
    "duration": 5643,
    "start_time": "2021-09-04T11:16:32.009Z"
   },
   {
    "duration": 27,
    "start_time": "2021-09-04T11:16:37.655Z"
   },
   {
    "duration": 11,
    "start_time": "2021-09-04T11:16:37.685Z"
   },
   {
    "duration": 29,
    "start_time": "2021-09-04T11:16:37.699Z"
   },
   {
    "duration": 7,
    "start_time": "2021-09-04T11:16:37.731Z"
   },
   {
    "duration": 10,
    "start_time": "2021-09-04T11:16:37.784Z"
   },
   {
    "duration": 14,
    "start_time": "2021-09-04T11:16:37.797Z"
   },
   {
    "duration": 7,
    "start_time": "2021-09-04T11:16:37.814Z"
   },
   {
    "duration": 75,
    "start_time": "2021-09-04T11:16:37.824Z"
   },
   {
    "duration": 19,
    "start_time": "2021-09-04T11:16:37.902Z"
   },
   {
    "duration": 9,
    "start_time": "2021-09-04T11:16:37.923Z"
   },
   {
    "duration": 8,
    "start_time": "2021-09-04T11:16:37.934Z"
   },
   {
    "duration": 10,
    "start_time": "2021-09-04T11:16:37.984Z"
   },
   {
    "duration": 9,
    "start_time": "2021-09-04T11:16:37.997Z"
   },
   {
    "duration": 9,
    "start_time": "2021-09-04T11:16:38.008Z"
   },
   {
    "duration": 64,
    "start_time": "2021-09-04T11:16:38.020Z"
   },
   {
    "duration": 10,
    "start_time": "2021-09-04T11:16:38.087Z"
   },
   {
    "duration": 6,
    "start_time": "2021-09-04T11:16:38.100Z"
   },
   {
    "duration": 25,
    "start_time": "2021-09-04T11:16:38.109Z"
   },
   {
    "duration": 11,
    "start_time": "2021-09-04T11:16:38.137Z"
   },
   {
    "duration": 37,
    "start_time": "2021-09-04T11:16:38.151Z"
   },
   {
    "duration": 78,
    "start_time": "2021-09-04T11:16:38.190Z"
   },
   {
    "duration": 34,
    "start_time": "2021-09-04T11:17:43.086Z"
   },
   {
    "duration": 33,
    "start_time": "2021-09-04T11:17:56.307Z"
   },
   {
    "duration": 71,
    "start_time": "2021-09-04T11:18:10.372Z"
   },
   {
    "duration": 22,
    "start_time": "2021-09-04T11:18:13.225Z"
   },
   {
    "duration": 13,
    "start_time": "2021-09-04T11:18:17.624Z"
   },
   {
    "duration": 5,
    "start_time": "2021-09-04T11:18:19.721Z"
   },
   {
    "duration": 8,
    "start_time": "2021-09-04T11:18:21.335Z"
   },
   {
    "duration": 14,
    "start_time": "2021-09-04T11:18:23.897Z"
   },
   {
    "duration": 5,
    "start_time": "2021-09-04T11:18:26.723Z"
   },
   {
    "duration": 32,
    "start_time": "2021-09-04T11:18:30.048Z"
   },
   {
    "duration": 68,
    "start_time": "2021-09-04T11:18:52.809Z"
   },
   {
    "duration": 21,
    "start_time": "2021-09-04T11:18:55.699Z"
   },
   {
    "duration": 13,
    "start_time": "2021-09-04T11:18:58.809Z"
   },
   {
    "duration": 5,
    "start_time": "2021-09-04T11:19:01.423Z"
   },
   {
    "duration": 6,
    "start_time": "2021-09-04T11:19:03.297Z"
   },
   {
    "duration": 12,
    "start_time": "2021-09-04T11:19:05.071Z"
   },
   {
    "duration": 5,
    "start_time": "2021-09-04T11:19:08.121Z"
   },
   {
    "duration": 31,
    "start_time": "2021-09-04T11:19:10.022Z"
   },
   {
    "duration": 22,
    "start_time": "2021-09-04T11:19:13.573Z"
   },
   {
    "duration": 22,
    "start_time": "2021-09-04T11:23:35.880Z"
   },
   {
    "duration": 26,
    "start_time": "2021-09-04T11:24:13.643Z"
   },
   {
    "duration": 16,
    "start_time": "2021-09-04T11:24:23.961Z"
   },
   {
    "duration": 23,
    "start_time": "2021-09-04T11:24:37.408Z"
   },
   {
    "duration": 18,
    "start_time": "2021-09-04T11:25:03.534Z"
   },
   {
    "duration": 24,
    "start_time": "2021-09-04T11:25:05.573Z"
   },
   {
    "duration": 72,
    "start_time": "2021-09-04T11:25:16.500Z"
   },
   {
    "duration": 35,
    "start_time": "2021-09-04T11:25:16.575Z"
   },
   {
    "duration": 19,
    "start_time": "2021-09-04T11:25:16.615Z"
   },
   {
    "duration": 46,
    "start_time": "2021-09-04T11:25:16.638Z"
   },
   {
    "duration": 8,
    "start_time": "2021-09-04T11:25:16.687Z"
   },
   {
    "duration": 18,
    "start_time": "2021-09-04T11:25:16.698Z"
   },
   {
    "duration": 7,
    "start_time": "2021-09-04T11:25:16.719Z"
   },
   {
    "duration": 77,
    "start_time": "2021-09-04T11:25:16.730Z"
   },
   {
    "duration": 20,
    "start_time": "2021-09-04T11:25:16.811Z"
   },
   {
    "duration": 57,
    "start_time": "2021-09-04T11:25:16.834Z"
   },
   {
    "duration": 34,
    "start_time": "2021-09-04T11:25:16.895Z"
   },
   {
    "duration": 63,
    "start_time": "2021-09-04T11:25:16.932Z"
   },
   {
    "duration": 10,
    "start_time": "2021-09-04T11:25:16.998Z"
   },
   {
    "duration": 42,
    "start_time": "2021-09-04T11:25:17.011Z"
   },
   {
    "duration": 24,
    "start_time": "2021-09-04T11:25:17.083Z"
   },
   {
    "duration": 43,
    "start_time": "2021-09-04T11:25:17.110Z"
   },
   {
    "duration": 36,
    "start_time": "2021-09-04T11:25:17.155Z"
   },
   {
    "duration": 28,
    "start_time": "2021-09-04T11:25:17.194Z"
   },
   {
    "duration": 9,
    "start_time": "2021-09-04T11:25:17.224Z"
   },
   {
    "duration": 60,
    "start_time": "2021-09-04T11:25:17.236Z"
   },
   {
    "duration": 13,
    "start_time": "2021-09-04T11:25:17.300Z"
   },
   {
    "duration": 9,
    "start_time": "2021-09-04T11:25:17.316Z"
   },
   {
    "duration": 53,
    "start_time": "2021-09-04T11:25:17.331Z"
   },
   {
    "duration": 19,
    "start_time": "2021-09-04T11:25:17.387Z"
   },
   {
    "duration": 18,
    "start_time": "2021-09-04T11:25:17.409Z"
   },
   {
    "duration": 61,
    "start_time": "2021-09-04T11:25:17.431Z"
   },
   {
    "duration": 10,
    "start_time": "2021-09-04T11:25:17.495Z"
   },
   {
    "duration": 12,
    "start_time": "2021-09-04T11:25:17.508Z"
   },
   {
    "duration": 77,
    "start_time": "2021-09-04T11:25:17.522Z"
   },
   {
    "duration": 1991,
    "start_time": "2021-09-04T11:25:17.601Z"
   },
   {
    "duration": -1620,
    "start_time": "2021-09-04T11:25:21.216Z"
   },
   {
    "duration": -1621,
    "start_time": "2021-09-04T11:25:21.219Z"
   },
   {
    "duration": -1624,
    "start_time": "2021-09-04T11:25:21.224Z"
   },
   {
    "duration": -1626,
    "start_time": "2021-09-04T11:25:21.228Z"
   },
   {
    "duration": -1626,
    "start_time": "2021-09-04T11:25:21.230Z"
   },
   {
    "duration": -1627,
    "start_time": "2021-09-04T11:25:21.233Z"
   },
   {
    "duration": -1626,
    "start_time": "2021-09-04T11:25:21.235Z"
   },
   {
    "duration": -1627,
    "start_time": "2021-09-04T11:25:21.238Z"
   },
   {
    "duration": -1628,
    "start_time": "2021-09-04T11:25:21.241Z"
   },
   {
    "duration": -1633,
    "start_time": "2021-09-04T11:25:21.248Z"
   },
   {
    "duration": -1635,
    "start_time": "2021-09-04T11:25:21.252Z"
   },
   {
    "duration": -1636,
    "start_time": "2021-09-04T11:25:21.255Z"
   },
   {
    "duration": -1648,
    "start_time": "2021-09-04T11:25:21.269Z"
   },
   {
    "duration": -1657,
    "start_time": "2021-09-04T11:25:21.280Z"
   },
   {
    "duration": -1659,
    "start_time": "2021-09-04T11:25:21.283Z"
   },
   {
    "duration": -1660,
    "start_time": "2021-09-04T11:25:21.286Z"
   },
   {
    "duration": -1661,
    "start_time": "2021-09-04T11:25:21.289Z"
   },
   {
    "duration": -1663,
    "start_time": "2021-09-04T11:25:21.293Z"
   },
   {
    "duration": -1666,
    "start_time": "2021-09-04T11:25:21.297Z"
   },
   {
    "duration": -1667,
    "start_time": "2021-09-04T11:25:21.300Z"
   },
   {
    "duration": -1621,
    "start_time": "2021-09-04T11:25:21.304Z"
   },
   {
    "duration": 12,
    "start_time": "2021-09-04T11:43:01.920Z"
   },
   {
    "duration": 70,
    "start_time": "2021-09-04T11:53:25.153Z"
   },
   {
    "duration": 20,
    "start_time": "2021-09-04T11:53:25.225Z"
   },
   {
    "duration": 41,
    "start_time": "2021-09-04T11:53:25.248Z"
   },
   {
    "duration": 4,
    "start_time": "2021-09-04T11:53:25.292Z"
   },
   {
    "duration": 7,
    "start_time": "2021-09-04T11:53:25.298Z"
   },
   {
    "duration": 13,
    "start_time": "2021-09-04T11:53:25.308Z"
   },
   {
    "duration": 8,
    "start_time": "2021-09-04T11:53:25.323Z"
   },
   {
    "duration": 74,
    "start_time": "2021-09-04T11:53:25.335Z"
   },
   {
    "duration": 15,
    "start_time": "2021-09-04T11:53:25.412Z"
   },
   {
    "duration": 21,
    "start_time": "2021-09-04T11:53:25.430Z"
   },
   {
    "duration": 51,
    "start_time": "2021-09-04T11:53:25.453Z"
   },
   {
    "duration": 41,
    "start_time": "2021-09-04T11:53:25.506Z"
   },
   {
    "duration": 39,
    "start_time": "2021-09-04T11:53:25.549Z"
   },
   {
    "duration": 15,
    "start_time": "2021-09-04T11:53:25.590Z"
   },
   {
    "duration": 10,
    "start_time": "2021-09-04T11:53:25.608Z"
   },
   {
    "duration": 63,
    "start_time": "2021-09-04T11:53:25.621Z"
   },
   {
    "duration": 10,
    "start_time": "2021-09-04T11:53:25.687Z"
   },
   {
    "duration": 13,
    "start_time": "2021-09-04T11:53:25.700Z"
   },
   {
    "duration": 65,
    "start_time": "2021-09-04T11:53:25.717Z"
   },
   {
    "duration": 23,
    "start_time": "2021-09-04T11:53:25.785Z"
   },
   {
    "duration": 44,
    "start_time": "2021-09-04T11:53:25.811Z"
   },
   {
    "duration": 10,
    "start_time": "2021-09-04T11:53:25.882Z"
   },
   {
    "duration": 18,
    "start_time": "2021-09-04T11:53:25.901Z"
   },
   {
    "duration": 10,
    "start_time": "2021-09-04T11:53:25.923Z"
   },
   {
    "duration": 59,
    "start_time": "2021-09-04T11:53:25.935Z"
   },
   {
    "duration": 19,
    "start_time": "2021-09-04T11:53:25.996Z"
   },
   {
    "duration": 27,
    "start_time": "2021-09-04T11:53:26.018Z"
   },
   {
    "duration": 9,
    "start_time": "2021-09-04T11:53:26.048Z"
   },
   {
    "duration": 7,
    "start_time": "2021-09-04T11:53:26.082Z"
   },
   {
    "duration": 1649,
    "start_time": "2021-09-04T11:53:26.091Z"
   },
   {
    "duration": -1686,
    "start_time": "2021-09-04T11:53:29.429Z"
   },
   {
    "duration": -1690,
    "start_time": "2021-09-04T11:53:29.434Z"
   },
   {
    "duration": -1692,
    "start_time": "2021-09-04T11:53:29.437Z"
   },
   {
    "duration": -1694,
    "start_time": "2021-09-04T11:53:29.441Z"
   },
   {
    "duration": -1697,
    "start_time": "2021-09-04T11:53:29.445Z"
   },
   {
    "duration": -1698,
    "start_time": "2021-09-04T11:53:29.448Z"
   },
   {
    "duration": -1700,
    "start_time": "2021-09-04T11:53:29.451Z"
   },
   {
    "duration": -1701,
    "start_time": "2021-09-04T11:53:29.453Z"
   },
   {
    "duration": -1703,
    "start_time": "2021-09-04T11:53:29.457Z"
   },
   {
    "duration": -1704,
    "start_time": "2021-09-04T11:53:29.459Z"
   },
   {
    "duration": -1706,
    "start_time": "2021-09-04T11:53:29.462Z"
   },
   {
    "duration": -1707,
    "start_time": "2021-09-04T11:53:29.465Z"
   },
   {
    "duration": -1709,
    "start_time": "2021-09-04T11:53:29.468Z"
   },
   {
    "duration": -1710,
    "start_time": "2021-09-04T11:53:29.470Z"
   },
   {
    "duration": -1711,
    "start_time": "2021-09-04T11:53:29.473Z"
   },
   {
    "duration": -1712,
    "start_time": "2021-09-04T11:53:29.475Z"
   },
   {
    "duration": -1713,
    "start_time": "2021-09-04T11:53:29.478Z"
   },
   {
    "duration": -1714,
    "start_time": "2021-09-04T11:53:29.480Z"
   },
   {
    "duration": -1717,
    "start_time": "2021-09-04T11:53:29.484Z"
   },
   {
    "duration": -1727,
    "start_time": "2021-09-04T11:53:29.496Z"
   },
   {
    "duration": -1729,
    "start_time": "2021-09-04T11:53:29.499Z"
   },
   {
    "duration": 40,
    "start_time": "2021-09-04T11:57:30.274Z"
   },
   {
    "duration": 82,
    "start_time": "2021-09-04T11:57:32.786Z"
   },
   {
    "duration": 35,
    "start_time": "2021-09-04T11:57:44.160Z"
   },
   {
    "duration": 24,
    "start_time": "2021-09-04T11:57:46.859Z"
   },
   {
    "duration": 10,
    "start_time": "2021-09-04T11:57:51.372Z"
   },
   {
    "duration": 83,
    "start_time": "2021-09-04T11:59:27.757Z"
   },
   {
    "duration": 21,
    "start_time": "2021-09-04T11:59:27.843Z"
   },
   {
    "duration": 19,
    "start_time": "2021-09-04T11:59:27.885Z"
   },
   {
    "duration": 8,
    "start_time": "2021-09-04T11:59:27.907Z"
   },
   {
    "duration": 10,
    "start_time": "2021-09-04T11:59:27.917Z"
   },
   {
    "duration": 26,
    "start_time": "2021-09-04T11:59:27.929Z"
   },
   {
    "duration": 28,
    "start_time": "2021-09-04T11:59:27.958Z"
   },
   {
    "duration": 39,
    "start_time": "2021-09-04T11:59:27.991Z"
   },
   {
    "duration": 15,
    "start_time": "2021-09-04T11:59:28.033Z"
   },
   {
    "duration": 58,
    "start_time": "2021-09-04T11:59:28.051Z"
   },
   {
    "duration": 78,
    "start_time": "2021-09-04T11:59:28.112Z"
   },
   {
    "duration": 41,
    "start_time": "2021-09-04T11:59:35.228Z"
   },
   {
    "duration": 8,
    "start_time": "2021-09-04T11:59:38.664Z"
   },
   {
    "duration": 12,
    "start_time": "2021-09-04T11:59:42.040Z"
   },
   {
    "duration": 11,
    "start_time": "2021-09-04T11:59:44.729Z"
   },
   {
    "duration": 26,
    "start_time": "2021-09-04T11:59:48.413Z"
   },
   {
    "duration": 8,
    "start_time": "2021-09-04T11:59:52.376Z"
   },
   {
    "duration": 11,
    "start_time": "2021-09-04T11:59:58.189Z"
   },
   {
    "duration": 25,
    "start_time": "2021-09-04T12:00:23.554Z"
   },
   {
    "duration": 9,
    "start_time": "2021-09-04T12:02:04.868Z"
   },
   {
    "duration": 20,
    "start_time": "2021-09-04T12:02:37.117Z"
   },
   {
    "duration": 9,
    "start_time": "2021-09-04T12:02:45.603Z"
   },
   {
    "duration": 18,
    "start_time": "2021-09-04T12:02:50.541Z"
   },
   {
    "duration": 20,
    "start_time": "2021-09-04T12:03:50.711Z"
   },
   {
    "duration": 12,
    "start_time": "2021-09-04T12:03:50.733Z"
   },
   {
    "duration": 24,
    "start_time": "2021-09-04T12:03:50.748Z"
   },
   {
    "duration": 22,
    "start_time": "2021-09-04T12:03:50.774Z"
   },
   {
    "duration": 26,
    "start_time": "2021-09-04T12:03:50.798Z"
   },
   {
    "duration": 60,
    "start_time": "2021-09-04T12:03:50.827Z"
   },
   {
    "duration": 48,
    "start_time": "2021-09-04T12:03:50.891Z"
   },
   {
    "duration": 11,
    "start_time": "2021-09-04T12:03:50.944Z"
   },
   {
    "duration": 6,
    "start_time": "2021-09-04T12:03:50.985Z"
   },
   {
    "duration": 1545,
    "start_time": "2021-09-04T12:03:50.994Z"
   },
   {
    "duration": -1694,
    "start_time": "2021-09-04T12:03:54.237Z"
   },
   {
    "duration": -1695,
    "start_time": "2021-09-04T12:03:54.240Z"
   },
   {
    "duration": -1697,
    "start_time": "2021-09-04T12:03:54.244Z"
   },
   {
    "duration": -1698,
    "start_time": "2021-09-04T12:03:54.248Z"
   },
   {
    "duration": -1701,
    "start_time": "2021-09-04T12:03:54.252Z"
   },
   {
    "duration": -1701,
    "start_time": "2021-09-04T12:03:54.255Z"
   },
   {
    "duration": -1701,
    "start_time": "2021-09-04T12:03:54.257Z"
   },
   {
    "duration": -1702,
    "start_time": "2021-09-04T12:03:54.260Z"
   },
   {
    "duration": -1711,
    "start_time": "2021-09-04T12:03:54.271Z"
   },
   {
    "duration": -1712,
    "start_time": "2021-09-04T12:03:54.274Z"
   },
   {
    "duration": -1713,
    "start_time": "2021-09-04T12:03:54.277Z"
   },
   {
    "duration": -1714,
    "start_time": "2021-09-04T12:03:54.280Z"
   },
   {
    "duration": -1714,
    "start_time": "2021-09-04T12:03:54.283Z"
   },
   {
    "duration": -1714,
    "start_time": "2021-09-04T12:03:54.285Z"
   },
   {
    "duration": -1713,
    "start_time": "2021-09-04T12:03:54.288Z"
   },
   {
    "duration": -1721,
    "start_time": "2021-09-04T12:03:54.298Z"
   },
   {
    "duration": -1722,
    "start_time": "2021-09-04T12:03:54.301Z"
   },
   {
    "duration": -1724,
    "start_time": "2021-09-04T12:03:54.304Z"
   },
   {
    "duration": -1723,
    "start_time": "2021-09-04T12:03:54.306Z"
   },
   {
    "duration": -1725,
    "start_time": "2021-09-04T12:03:54.310Z"
   },
   {
    "duration": -1726,
    "start_time": "2021-09-04T12:03:54.313Z"
   },
   {
    "duration": 1028,
    "start_time": "2021-09-04T12:04:26.942Z"
   },
   {
    "duration": 48,
    "start_time": "2021-09-04T12:04:27.974Z"
   },
   {
    "duration": 11,
    "start_time": "2021-09-04T12:04:28.025Z"
   },
   {
    "duration": 6,
    "start_time": "2021-09-04T12:04:28.039Z"
   },
   {
    "duration": 36,
    "start_time": "2021-09-04T12:04:28.047Z"
   },
   {
    "duration": 19,
    "start_time": "2021-09-04T12:04:28.085Z"
   },
   {
    "duration": 5,
    "start_time": "2021-09-04T12:04:28.106Z"
   },
   {
    "duration": 37,
    "start_time": "2021-09-04T12:04:28.115Z"
   },
   {
    "duration": 42,
    "start_time": "2021-09-04T12:04:28.154Z"
   },
   {
    "duration": 25,
    "start_time": "2021-09-04T12:04:28.199Z"
   },
   {
    "duration": 21,
    "start_time": "2021-09-04T12:04:28.226Z"
   },
   {
    "duration": 64,
    "start_time": "2021-09-04T12:04:28.250Z"
   },
   {
    "duration": 8,
    "start_time": "2021-09-04T12:04:28.316Z"
   },
   {
    "duration": 10,
    "start_time": "2021-09-04T12:04:28.326Z"
   },
   {
    "duration": 50,
    "start_time": "2021-09-04T12:04:28.338Z"
   },
   {
    "duration": 28,
    "start_time": "2021-09-04T12:04:28.390Z"
   },
   {
    "duration": 7,
    "start_time": "2021-09-04T12:04:28.420Z"
   },
   {
    "duration": 17,
    "start_time": "2021-09-04T12:04:28.429Z"
   },
   {
    "duration": 57,
    "start_time": "2021-09-04T12:04:28.448Z"
   },
   {
    "duration": 28,
    "start_time": "2021-09-04T12:04:28.507Z"
   },
   {
    "duration": 40,
    "start_time": "2021-09-04T12:04:28.538Z"
   },
   {
    "duration": 10,
    "start_time": "2021-09-04T12:04:28.581Z"
   },
   {
    "duration": 17,
    "start_time": "2021-09-04T12:04:28.597Z"
   },
   {
    "duration": 17,
    "start_time": "2021-09-04T12:04:28.618Z"
   },
   {
    "duration": 56,
    "start_time": "2021-09-04T12:04:28.638Z"
   },
   {
    "duration": 29,
    "start_time": "2021-09-04T12:04:28.696Z"
   },
   {
    "duration": 62,
    "start_time": "2021-09-04T12:04:28.727Z"
   },
   {
    "duration": 10,
    "start_time": "2021-09-04T12:04:28.791Z"
   },
   {
    "duration": 10,
    "start_time": "2021-09-04T12:04:28.803Z"
   },
   {
    "duration": 1913,
    "start_time": "2021-09-04T12:04:28.816Z"
   },
   {
    "duration": -1696,
    "start_time": "2021-09-04T12:04:32.429Z"
   },
   {
    "duration": -1697,
    "start_time": "2021-09-04T12:04:32.432Z"
   },
   {
    "duration": -1696,
    "start_time": "2021-09-04T12:04:32.434Z"
   },
   {
    "duration": -1697,
    "start_time": "2021-09-04T12:04:32.437Z"
   },
   {
    "duration": -1699,
    "start_time": "2021-09-04T12:04:32.441Z"
   },
   {
    "duration": -1699,
    "start_time": "2021-09-04T12:04:32.444Z"
   },
   {
    "duration": -1700,
    "start_time": "2021-09-04T12:04:32.447Z"
   },
   {
    "duration": -1701,
    "start_time": "2021-09-04T12:04:32.450Z"
   },
   {
    "duration": -1710,
    "start_time": "2021-09-04T12:04:32.461Z"
   },
   {
    "duration": -1710,
    "start_time": "2021-09-04T12:04:32.464Z"
   },
   {
    "duration": -1711,
    "start_time": "2021-09-04T12:04:32.467Z"
   },
   {
    "duration": -1712,
    "start_time": "2021-09-04T12:04:32.471Z"
   },
   {
    "duration": -1713,
    "start_time": "2021-09-04T12:04:32.474Z"
   },
   {
    "duration": -1720,
    "start_time": "2021-09-04T12:04:32.483Z"
   },
   {
    "duration": -1721,
    "start_time": "2021-09-04T12:04:32.486Z"
   },
   {
    "duration": -1722,
    "start_time": "2021-09-04T12:04:32.490Z"
   },
   {
    "duration": -1710,
    "start_time": "2021-09-04T12:04:32.493Z"
   },
   {
    "duration": -1711,
    "start_time": "2021-09-04T12:04:32.496Z"
   },
   {
    "duration": -1711,
    "start_time": "2021-09-04T12:04:32.498Z"
   },
   {
    "duration": -1712,
    "start_time": "2021-09-04T12:04:32.501Z"
   },
   {
    "duration": -1713,
    "start_time": "2021-09-04T12:04:32.504Z"
   },
   {
    "duration": 36,
    "start_time": "2021-09-04T12:05:45.905Z"
   },
   {
    "duration": 70,
    "start_time": "2021-09-04T12:05:59.387Z"
   },
   {
    "duration": 25,
    "start_time": "2021-09-04T12:05:59.459Z"
   },
   {
    "duration": 13,
    "start_time": "2021-09-04T12:05:59.487Z"
   },
   {
    "duration": 4,
    "start_time": "2021-09-04T12:05:59.503Z"
   },
   {
    "duration": 10,
    "start_time": "2021-09-04T12:05:59.509Z"
   },
   {
    "duration": 18,
    "start_time": "2021-09-04T12:05:59.522Z"
   },
   {
    "duration": 5,
    "start_time": "2021-09-04T12:05:59.542Z"
   },
   {
    "duration": 35,
    "start_time": "2021-09-04T12:06:03.916Z"
   },
   {
    "duration": 31,
    "start_time": "2021-09-04T12:06:12.141Z"
   },
   {
    "duration": 15,
    "start_time": "2021-09-04T12:06:25.464Z"
   },
   {
    "duration": 25,
    "start_time": "2021-09-04T12:06:28.565Z"
   },
   {
    "duration": 26,
    "start_time": "2021-09-04T12:06:54.114Z"
   },
   {
    "duration": 22,
    "start_time": "2021-09-04T12:06:54.142Z"
   },
   {
    "duration": 45,
    "start_time": "2021-09-04T12:06:54.167Z"
   },
   {
    "duration": 8,
    "start_time": "2021-09-04T12:06:54.214Z"
   },
   {
    "duration": 59,
    "start_time": "2021-09-04T12:06:54.225Z"
   },
   {
    "duration": 10,
    "start_time": "2021-09-04T12:06:54.286Z"
   },
   {
    "duration": 28,
    "start_time": "2021-09-04T12:06:54.299Z"
   },
   {
    "duration": 7,
    "start_time": "2021-09-04T12:06:54.331Z"
   },
   {
    "duration": 44,
    "start_time": "2021-09-04T12:06:54.342Z"
   },
   {
    "duration": 23,
    "start_time": "2021-09-04T12:06:54.389Z"
   },
   {
    "duration": 9,
    "start_time": "2021-09-04T12:06:54.415Z"
   },
   {
    "duration": 14,
    "start_time": "2021-09-04T12:06:54.426Z"
   },
   {
    "duration": 14,
    "start_time": "2021-09-04T12:06:54.483Z"
   },
   {
    "duration": 27,
    "start_time": "2021-09-04T12:06:54.499Z"
   },
   {
    "duration": 18,
    "start_time": "2021-09-04T12:06:54.529Z"
   },
   {
    "duration": 40,
    "start_time": "2021-09-04T12:06:54.550Z"
   },
   {
    "duration": 26,
    "start_time": "2021-09-04T12:06:54.592Z"
   },
   {
    "duration": 41,
    "start_time": "2021-09-04T12:06:54.620Z"
   },
   {
    "duration": 10,
    "start_time": "2021-09-04T12:06:54.683Z"
   },
   {
    "duration": 5,
    "start_time": "2021-09-04T12:06:54.696Z"
   },
   {
    "duration": 1711,
    "start_time": "2021-09-04T12:06:54.704Z"
   },
   {
    "duration": -1729,
    "start_time": "2021-09-04T12:06:58.148Z"
   },
   {
    "duration": -1735,
    "start_time": "2021-09-04T12:06:58.155Z"
   },
   {
    "duration": -1739,
    "start_time": "2021-09-04T12:06:58.160Z"
   },
   {
    "duration": -1741,
    "start_time": "2021-09-04T12:06:58.164Z"
   },
   {
    "duration": -1744,
    "start_time": "2021-09-04T12:06:58.168Z"
   },
   {
    "duration": -1747,
    "start_time": "2021-09-04T12:06:58.172Z"
   },
   {
    "duration": -1749,
    "start_time": "2021-09-04T12:06:58.175Z"
   },
   {
    "duration": -1751,
    "start_time": "2021-09-04T12:06:58.179Z"
   },
   {
    "duration": -1755,
    "start_time": "2021-09-04T12:06:58.184Z"
   },
   {
    "duration": -1757,
    "start_time": "2021-09-04T12:06:58.187Z"
   },
   {
    "duration": -1759,
    "start_time": "2021-09-04T12:06:58.190Z"
   },
   {
    "duration": -1760,
    "start_time": "2021-09-04T12:06:58.193Z"
   },
   {
    "duration": -1762,
    "start_time": "2021-09-04T12:06:58.196Z"
   },
   {
    "duration": -1764,
    "start_time": "2021-09-04T12:06:58.199Z"
   },
   {
    "duration": -1765,
    "start_time": "2021-09-04T12:06:58.202Z"
   },
   {
    "duration": -1767,
    "start_time": "2021-09-04T12:06:58.205Z"
   },
   {
    "duration": -1779,
    "start_time": "2021-09-04T12:06:58.218Z"
   },
   {
    "duration": -1781,
    "start_time": "2021-09-04T12:06:58.221Z"
   },
   {
    "duration": -1783,
    "start_time": "2021-09-04T12:06:58.224Z"
   },
   {
    "duration": -1783,
    "start_time": "2021-09-04T12:06:58.226Z"
   },
   {
    "duration": -1785,
    "start_time": "2021-09-04T12:06:58.229Z"
   },
   {
    "duration": 72,
    "start_time": "2021-09-04T12:07:15.200Z"
   },
   {
    "duration": 22,
    "start_time": "2021-09-04T12:07:15.275Z"
   },
   {
    "duration": 18,
    "start_time": "2021-09-04T12:07:15.301Z"
   },
   {
    "duration": 5,
    "start_time": "2021-09-04T12:07:15.323Z"
   },
   {
    "duration": 11,
    "start_time": "2021-09-04T12:07:15.331Z"
   },
   {
    "duration": 39,
    "start_time": "2021-09-04T12:07:15.344Z"
   },
   {
    "duration": 6,
    "start_time": "2021-09-04T12:07:15.387Z"
   },
   {
    "duration": 32,
    "start_time": "2021-09-04T12:07:15.397Z"
   },
   {
    "duration": 55,
    "start_time": "2021-09-04T12:07:15.432Z"
   },
   {
    "duration": 74,
    "start_time": "2021-09-04T12:07:49.903Z"
   },
   {
    "duration": 20,
    "start_time": "2021-09-04T12:07:49.979Z"
   },
   {
    "duration": 18,
    "start_time": "2021-09-04T12:07:50.002Z"
   },
   {
    "duration": 9,
    "start_time": "2021-09-04T12:07:50.022Z"
   },
   {
    "duration": 11,
    "start_time": "2021-09-04T12:07:50.033Z"
   },
   {
    "duration": 16,
    "start_time": "2021-09-04T12:07:50.046Z"
   },
   {
    "duration": 21,
    "start_time": "2021-09-04T12:07:50.064Z"
   },
   {
    "duration": 35,
    "start_time": "2021-09-04T12:07:50.089Z"
   },
   {
    "duration": 9,
    "start_time": "2021-09-04T12:07:50.126Z"
   },
   {
    "duration": 8,
    "start_time": "2021-09-04T12:08:03.890Z"
   },
   {
    "duration": 9,
    "start_time": "2021-09-04T12:11:17.055Z"
   },
   {
    "duration": 25,
    "start_time": "2021-09-04T12:11:19.756Z"
   },
   {
    "duration": 21,
    "start_time": "2021-09-04T12:11:40.806Z"
   },
   {
    "duration": 12,
    "start_time": "2021-09-04T12:12:09.703Z"
   },
   {
    "duration": 8,
    "start_time": "2021-09-04T12:12:15.771Z"
   },
   {
    "duration": 75,
    "start_time": "2021-09-04T12:12:42.625Z"
   },
   {
    "duration": 21,
    "start_time": "2021-09-04T12:12:42.704Z"
   },
   {
    "duration": 24,
    "start_time": "2021-09-04T12:12:42.729Z"
   },
   {
    "duration": 27,
    "start_time": "2021-09-04T12:12:42.756Z"
   },
   {
    "duration": 6,
    "start_time": "2021-09-04T12:12:42.785Z"
   },
   {
    "duration": 24,
    "start_time": "2021-09-04T12:12:42.793Z"
   },
   {
    "duration": 10,
    "start_time": "2021-09-04T12:12:42.820Z"
   },
   {
    "duration": 49,
    "start_time": "2021-09-04T12:12:42.833Z"
   },
   {
    "duration": 10,
    "start_time": "2021-09-04T12:12:42.884Z"
   },
   {
    "duration": 29,
    "start_time": "2021-09-04T12:12:42.896Z"
   },
   {
    "duration": 27,
    "start_time": "2021-09-04T12:12:42.927Z"
   },
   {
    "duration": 67,
    "start_time": "2021-09-04T12:12:42.957Z"
   },
   {
    "duration": 7,
    "start_time": "2021-09-04T12:12:43.027Z"
   },
   {
    "duration": 20,
    "start_time": "2021-09-04T12:12:43.036Z"
   },
   {
    "duration": 31,
    "start_time": "2021-09-04T12:12:43.058Z"
   },
   {
    "duration": 29,
    "start_time": "2021-09-04T12:12:43.092Z"
   },
   {
    "duration": 20,
    "start_time": "2021-09-04T12:12:43.123Z"
   },
   {
    "duration": 9,
    "start_time": "2021-09-04T12:12:43.145Z"
   },
   {
    "duration": 39,
    "start_time": "2021-09-04T12:12:43.156Z"
   },
   {
    "duration": 9,
    "start_time": "2021-09-04T12:12:56.799Z"
   },
   {
    "duration": 23,
    "start_time": "2021-09-04T12:13:04.962Z"
   },
   {
    "duration": 9,
    "start_time": "2021-09-04T12:13:07.611Z"
   },
   {
    "duration": 18,
    "start_time": "2021-09-04T12:13:19.188Z"
   },
   {
    "duration": 12,
    "start_time": "2021-09-04T12:14:57.406Z"
   },
   {
    "duration": 12,
    "start_time": "2021-09-04T12:15:33.324Z"
   },
   {
    "duration": 44,
    "start_time": "2021-09-04T12:16:09.779Z"
   },
   {
    "duration": 30,
    "start_time": "2021-09-04T12:29:34.291Z"
   },
   {
    "duration": 6,
    "start_time": "2021-09-04T12:31:31.167Z"
   },
   {
    "duration": 4384,
    "start_time": "2021-09-04T12:31:33.371Z"
   },
   {
    "duration": 24,
    "start_time": "2021-09-04T12:31:37.758Z"
   },
   {
    "duration": 9,
    "start_time": "2021-09-04T12:32:47.769Z"
   },
   {
    "duration": 9,
    "start_time": "2021-09-04T12:32:55.495Z"
   },
   {
    "duration": 27,
    "start_time": "2021-09-04T12:33:29.204Z"
   },
   {
    "duration": 8,
    "start_time": "2021-09-04T12:34:08.615Z"
   },
   {
    "duration": 8,
    "start_time": "2021-09-04T12:34:13.613Z"
   },
   {
    "duration": 7,
    "start_time": "2021-09-04T12:36:44.577Z"
   },
   {
    "duration": 7,
    "start_time": "2021-09-04T12:37:20.677Z"
   },
   {
    "duration": 40,
    "start_time": "2021-09-04T12:37:43.062Z"
   },
   {
    "duration": 18,
    "start_time": "2021-09-04T12:38:14.898Z"
   },
   {
    "duration": 6,
    "start_time": "2021-09-04T12:38:21.322Z"
   },
   {
    "duration": 9,
    "start_time": "2021-09-04T12:38:23.738Z"
   },
   {
    "duration": 8,
    "start_time": "2021-09-04T12:38:25.483Z"
   },
   {
    "duration": 7,
    "start_time": "2021-09-04T12:38:27.633Z"
   },
   {
    "duration": 11,
    "start_time": "2021-09-04T12:38:30.260Z"
   },
   {
    "duration": 10,
    "start_time": "2021-09-04T12:38:32.296Z"
   },
   {
    "duration": 7,
    "start_time": "2021-09-04T12:38:34.583Z"
   },
   {
    "duration": 14,
    "start_time": "2021-09-04T12:39:11.988Z"
   },
   {
    "duration": 6,
    "start_time": "2021-09-04T12:39:26.442Z"
   },
   {
    "duration": 7,
    "start_time": "2021-09-04T12:41:32.548Z"
   },
   {
    "duration": 272,
    "start_time": "2021-09-04T12:43:33.840Z"
   },
   {
    "duration": 5,
    "start_time": "2021-09-04T12:43:45.863Z"
   },
   {
    "duration": 5,
    "start_time": "2021-09-04T12:50:47.666Z"
   },
   {
    "duration": 8,
    "start_time": "2021-09-04T12:56:23.973Z"
   },
   {
    "duration": 7,
    "start_time": "2021-09-04T12:56:26.128Z"
   },
   {
    "duration": 8,
    "start_time": "2021-09-04T16:58:26.902Z"
   },
   {
    "duration": 6,
    "start_time": "2021-09-04T16:58:54.515Z"
   },
   {
    "duration": 4,
    "start_time": "2021-09-04T17:13:47.242Z"
   },
   {
    "duration": 7,
    "start_time": "2021-09-04T17:13:56.207Z"
   },
   {
    "duration": 279,
    "start_time": "2021-09-04T17:32:24.007Z"
   },
   {
    "duration": 10,
    "start_time": "2021-09-04T17:32:28.513Z"
   },
   {
    "duration": 305,
    "start_time": "2021-09-04T17:32:30.665Z"
   },
   {
    "duration": 12,
    "start_time": "2021-09-04T17:32:41.764Z"
   },
   {
    "duration": 8,
    "start_time": "2021-09-04T17:32:49.338Z"
   },
   {
    "duration": 6,
    "start_time": "2021-09-04T17:42:33.629Z"
   },
   {
    "duration": 7,
    "start_time": "2021-09-04T17:50:16.562Z"
   },
   {
    "duration": 8,
    "start_time": "2021-09-04T19:12:03.829Z"
   },
   {
    "duration": 72,
    "start_time": "2021-09-04T19:12:16.060Z"
   },
   {
    "duration": 49,
    "start_time": "2021-09-04T19:12:16.135Z"
   },
   {
    "duration": 13,
    "start_time": "2021-09-04T19:12:16.187Z"
   },
   {
    "duration": 23,
    "start_time": "2021-09-04T19:12:16.202Z"
   },
   {
    "duration": 36,
    "start_time": "2021-09-04T19:12:16.227Z"
   },
   {
    "duration": 27,
    "start_time": "2021-09-04T19:12:16.266Z"
   },
   {
    "duration": 5,
    "start_time": "2021-09-04T19:12:16.295Z"
   },
   {
    "duration": 46,
    "start_time": "2021-09-04T19:12:16.304Z"
   },
   {
    "duration": 10,
    "start_time": "2021-09-04T19:12:16.353Z"
   },
   {
    "duration": 33,
    "start_time": "2021-09-04T19:12:16.366Z"
   },
   {
    "duration": 24,
    "start_time": "2021-09-04T19:12:16.401Z"
   },
   {
    "duration": 70,
    "start_time": "2021-09-04T19:12:16.427Z"
   },
   {
    "duration": 7,
    "start_time": "2021-09-04T19:12:16.500Z"
   },
   {
    "duration": 20,
    "start_time": "2021-09-04T19:12:16.509Z"
   },
   {
    "duration": 15,
    "start_time": "2021-09-04T19:12:16.531Z"
   },
   {
    "duration": 53,
    "start_time": "2021-09-04T19:12:16.548Z"
   },
   {
    "duration": 10,
    "start_time": "2021-09-04T19:12:16.604Z"
   },
   {
    "duration": 17,
    "start_time": "2021-09-04T19:12:16.617Z"
   },
   {
    "duration": 57,
    "start_time": "2021-09-04T19:12:16.636Z"
   },
   {
    "duration": 10,
    "start_time": "2021-09-04T19:12:16.695Z"
   },
   {
    "duration": 30,
    "start_time": "2021-09-04T19:12:16.708Z"
   },
   {
    "duration": 22,
    "start_time": "2021-09-04T19:12:16.741Z"
   },
   {
    "duration": 9,
    "start_time": "2021-09-04T19:12:16.785Z"
   },
   {
    "duration": 38,
    "start_time": "2021-09-04T19:12:16.797Z"
   },
   {
    "duration": 56,
    "start_time": "2021-09-04T19:12:16.837Z"
   },
   {
    "duration": 10,
    "start_time": "2021-09-04T19:12:16.895Z"
   },
   {
    "duration": 39,
    "start_time": "2021-09-04T19:12:16.908Z"
   },
   {
    "duration": 4208,
    "start_time": "2021-09-04T19:12:16.949Z"
   },
   {
    "duration": 25,
    "start_time": "2021-09-04T19:12:21.160Z"
   },
   {
    "duration": 12,
    "start_time": "2021-09-04T19:12:21.188Z"
   },
   {
    "duration": 27,
    "start_time": "2021-09-04T19:12:21.203Z"
   },
   {
    "duration": 7,
    "start_time": "2021-09-04T19:12:21.233Z"
   },
   {
    "duration": 10,
    "start_time": "2021-09-04T19:12:21.283Z"
   },
   {
    "duration": 8,
    "start_time": "2021-09-04T19:12:21.295Z"
   },
   {
    "duration": 14,
    "start_time": "2021-09-04T19:12:21.306Z"
   },
   {
    "duration": 70,
    "start_time": "2021-09-04T19:12:21.322Z"
   },
   {
    "duration": 5,
    "start_time": "2021-09-04T19:12:21.394Z"
   },
   {
    "duration": 21,
    "start_time": "2021-09-04T19:12:21.401Z"
   },
   {
    "duration": 10,
    "start_time": "2021-09-04T19:12:21.424Z"
   },
   {
    "duration": 14,
    "start_time": "2021-09-04T19:12:21.437Z"
   },
   {
    "duration": 30,
    "start_time": "2021-09-04T19:12:21.453Z"
   },
   {
    "duration": 7,
    "start_time": "2021-09-04T19:12:21.486Z"
   },
   {
    "duration": 13,
    "start_time": "2021-09-04T19:12:21.495Z"
   },
   {
    "duration": 20,
    "start_time": "2021-09-04T19:12:21.510Z"
   },
   {
    "duration": 29,
    "start_time": "2021-09-04T19:12:21.532Z"
   },
   {
    "duration": 19,
    "start_time": "2021-09-04T19:12:21.563Z"
   },
   {
    "duration": 12,
    "start_time": "2021-09-04T19:12:21.584Z"
   },
   {
    "duration": 16,
    "start_time": "2021-09-04T19:12:21.598Z"
   },
   {
    "duration": 15,
    "start_time": "2021-09-04T19:12:21.617Z"
   },
   {
    "duration": 20,
    "start_time": "2021-09-04T19:12:21.635Z"
   },
   {
    "duration": 19,
    "start_time": "2021-09-04T19:12:21.658Z"
   },
   {
    "duration": 122,
    "start_time": "2021-09-04T19:12:21.679Z"
   },
   {
    "duration": 94,
    "start_time": "2021-09-04T19:31:58.904Z"
   },
   {
    "duration": 34,
    "start_time": "2021-09-04T19:31:59.001Z"
   },
   {
    "duration": 50,
    "start_time": "2021-09-04T19:31:59.038Z"
   },
   {
    "duration": 6,
    "start_time": "2021-09-04T19:31:59.091Z"
   },
   {
    "duration": 8,
    "start_time": "2021-09-04T19:31:59.100Z"
   },
   {
    "duration": 27,
    "start_time": "2021-09-04T19:31:59.110Z"
   },
   {
    "duration": 42,
    "start_time": "2021-09-04T19:31:59.140Z"
   },
   {
    "duration": 48,
    "start_time": "2021-09-04T19:31:59.189Z"
   },
   {
    "duration": 12,
    "start_time": "2021-09-04T19:31:59.241Z"
   },
   {
    "duration": 23,
    "start_time": "2021-09-04T19:31:59.283Z"
   },
   {
    "duration": 26,
    "start_time": "2021-09-04T19:31:59.309Z"
   },
   {
    "duration": 80,
    "start_time": "2021-09-04T19:31:59.338Z"
   },
   {
    "duration": 8,
    "start_time": "2021-09-04T19:31:59.420Z"
   },
   {
    "duration": 12,
    "start_time": "2021-09-04T19:31:59.430Z"
   },
   {
    "duration": 46,
    "start_time": "2021-09-04T19:31:59.444Z"
   },
   {
    "duration": 25,
    "start_time": "2021-09-04T19:31:59.493Z"
   },
   {
    "duration": 8,
    "start_time": "2021-09-04T19:31:59.520Z"
   },
   {
    "duration": 54,
    "start_time": "2021-09-04T19:31:59.531Z"
   },
   {
    "duration": 36,
    "start_time": "2021-09-04T19:31:59.588Z"
   },
   {
    "duration": 13,
    "start_time": "2021-09-04T19:31:59.627Z"
   },
   {
    "duration": 54,
    "start_time": "2021-09-04T19:31:59.643Z"
   },
   {
    "duration": 21,
    "start_time": "2021-09-04T19:31:59.699Z"
   },
   {
    "duration": 13,
    "start_time": "2021-09-04T19:31:59.729Z"
   },
   {
    "duration": 57,
    "start_time": "2021-09-04T19:31:59.746Z"
   },
   {
    "duration": 46,
    "start_time": "2021-09-04T19:31:59.806Z"
   },
   {
    "duration": 35,
    "start_time": "2021-09-04T19:31:59.854Z"
   },
   {
    "duration": 35,
    "start_time": "2021-09-04T19:31:59.892Z"
   },
   {
    "duration": 5231,
    "start_time": "2021-09-04T19:31:59.930Z"
   },
   {
    "duration": 24,
    "start_time": "2021-09-04T19:32:05.164Z"
   },
   {
    "duration": 56,
    "start_time": "2021-09-04T19:32:05.190Z"
   },
   {
    "duration": 49,
    "start_time": "2021-09-04T19:32:05.249Z"
   },
   {
    "duration": 7,
    "start_time": "2021-09-04T19:32:05.301Z"
   },
   {
    "duration": 8,
    "start_time": "2021-09-04T19:32:05.311Z"
   },
   {
    "duration": 7,
    "start_time": "2021-09-04T19:32:05.322Z"
   },
   {
    "duration": 9,
    "start_time": "2021-09-04T19:32:05.332Z"
   },
   {
    "duration": 68,
    "start_time": "2021-09-04T19:32:05.344Z"
   },
   {
    "duration": 5,
    "start_time": "2021-09-04T19:32:05.415Z"
   },
   {
    "duration": 62,
    "start_time": "2021-09-04T19:32:05.422Z"
   },
   {
    "duration": 6,
    "start_time": "2021-09-04T19:32:05.488Z"
   },
   {
    "duration": 12,
    "start_time": "2021-09-04T19:32:05.497Z"
   },
   {
    "duration": 8,
    "start_time": "2021-09-04T19:32:05.512Z"
   },
   {
    "duration": 61,
    "start_time": "2021-09-04T19:32:05.523Z"
   },
   {
    "duration": 8,
    "start_time": "2021-09-04T19:32:05.586Z"
   },
   {
    "duration": 10,
    "start_time": "2021-09-04T19:32:05.597Z"
   },
   {
    "duration": 19,
    "start_time": "2021-09-04T19:32:05.610Z"
   },
   {
    "duration": 10,
    "start_time": "2021-09-04T19:32:05.633Z"
   },
   {
    "duration": 41,
    "start_time": "2021-09-04T19:32:05.646Z"
   },
   {
    "duration": 14,
    "start_time": "2021-09-04T19:32:05.689Z"
   },
   {
    "duration": 13,
    "start_time": "2021-09-04T19:32:05.706Z"
   },
   {
    "duration": 11,
    "start_time": "2021-09-04T19:32:05.721Z"
   },
   {
    "duration": 6,
    "start_time": "2021-09-04T19:32:05.734Z"
   },
   {
    "duration": 117,
    "start_time": "2021-09-04T19:32:05.742Z"
   },
   {
    "duration": 11,
    "start_time": "2021-09-04T19:41:18.544Z"
   },
   {
    "duration": 6,
    "start_time": "2021-09-04T19:51:26.824Z"
   },
   {
    "duration": 9,
    "start_time": "2021-09-04T19:51:51.215Z"
   },
   {
    "duration": 14,
    "start_time": "2021-09-04T19:52:19.332Z"
   },
   {
    "duration": 14,
    "start_time": "2021-09-04T19:52:45.653Z"
   },
   {
    "duration": 19,
    "start_time": "2021-09-04T20:30:02.199Z"
   },
   {
    "duration": 13,
    "start_time": "2021-09-04T20:36:15.902Z"
   },
   {
    "duration": 236,
    "start_time": "2021-09-04T20:48:55.796Z"
   },
   {
    "duration": 40,
    "start_time": "2021-09-04T20:49:18.635Z"
   },
   {
    "duration": 35,
    "start_time": "2021-09-04T21:02:29.957Z"
   },
   {
    "duration": 38,
    "start_time": "2021-09-04T21:03:41.974Z"
   },
   {
    "duration": 41,
    "start_time": "2021-09-04T21:09:18.008Z"
   },
   {
    "duration": 67,
    "start_time": "2021-09-05T12:03:53.257Z"
   },
   {
    "duration": 21,
    "start_time": "2021-09-05T12:04:05.496Z"
   },
   {
    "duration": 14,
    "start_time": "2021-09-05T12:04:30.514Z"
   },
   {
    "duration": 5,
    "start_time": "2021-09-05T12:04:56.808Z"
   },
   {
    "duration": 6,
    "start_time": "2021-09-05T12:10:36.338Z"
   },
   {
    "duration": 6,
    "start_time": "2021-09-05T12:10:52.717Z"
   },
   {
    "duration": 14,
    "start_time": "2021-09-05T12:10:59.266Z"
   },
   {
    "duration": 5,
    "start_time": "2021-09-05T12:13:23.662Z"
   },
   {
    "duration": 30,
    "start_time": "2021-09-05T12:13:25.495Z"
   },
   {
    "duration": 10,
    "start_time": "2021-09-05T12:13:57.010Z"
   },
   {
    "duration": 20,
    "start_time": "2021-09-05T12:14:52.901Z"
   },
   {
    "duration": 24,
    "start_time": "2021-09-05T12:15:36.962Z"
   },
   {
    "duration": 45,
    "start_time": "2021-09-05T12:15:51.149Z"
   },
   {
    "duration": 8,
    "start_time": "2021-09-05T12:15:59.462Z"
   },
   {
    "duration": 11,
    "start_time": "2021-09-05T12:17:56.117Z"
   },
   {
    "duration": 10,
    "start_time": "2021-09-05T12:18:11.831Z"
   },
   {
    "duration": 25,
    "start_time": "2021-09-05T12:18:31.906Z"
   },
   {
    "duration": 8,
    "start_time": "2021-09-05T12:18:46.431Z"
   },
   {
    "duration": 11,
    "start_time": "2021-09-05T12:18:59.666Z"
   },
   {
    "duration": 23,
    "start_time": "2021-09-05T12:19:29.140Z"
   },
   {
    "duration": 10,
    "start_time": "2021-09-05T12:19:35.077Z"
   },
   {
    "duration": 282,
    "start_time": "2021-09-05T12:19:47.966Z"
   },
   {
    "duration": 17,
    "start_time": "2021-09-05T12:19:53.915Z"
   },
   {
    "duration": 20,
    "start_time": "2021-09-05T12:20:07.815Z"
   },
   {
    "duration": 10,
    "start_time": "2021-09-05T12:20:55.801Z"
   },
   {
    "duration": 28,
    "start_time": "2021-09-05T12:21:23.397Z"
   },
   {
    "duration": 47,
    "start_time": "2021-09-05T12:21:25.217Z"
   },
   {
    "duration": 10,
    "start_time": "2021-09-05T12:21:32.873Z"
   },
   {
    "duration": 34,
    "start_time": "2021-09-05T12:22:07.172Z"
   },
   {
    "duration": 4344,
    "start_time": "2021-09-05T12:22:09.022Z"
   },
   {
    "duration": 12,
    "start_time": "2021-09-05T12:22:22.932Z"
   },
   {
    "duration": 9,
    "start_time": "2021-09-05T12:22:44.297Z"
   },
   {
    "duration": 27,
    "start_time": "2021-09-05T12:35:33.150Z"
   },
   {
    "duration": 6,
    "start_time": "2021-09-05T12:35:47.143Z"
   },
   {
    "duration": 7,
    "start_time": "2021-09-05T12:37:17.087Z"
   },
   {
    "duration": 6,
    "start_time": "2021-09-05T12:37:23.217Z"
   },
   {
    "duration": 7,
    "start_time": "2021-09-05T12:37:40.773Z"
   },
   {
    "duration": 41,
    "start_time": "2021-09-05T12:38:33.831Z"
   },
   {
    "duration": 8,
    "start_time": "2021-09-05T12:54:45.508Z"
   },
   {
    "duration": 5,
    "start_time": "2021-09-05T12:55:07.674Z"
   },
   {
    "duration": 8,
    "start_time": "2021-09-05T12:55:09.448Z"
   },
   {
    "duration": 9,
    "start_time": "2021-09-05T12:57:58.813Z"
   },
   {
    "duration": 5,
    "start_time": "2021-09-05T13:01:02.186Z"
   },
   {
    "duration": 73,
    "start_time": "2021-09-05T13:01:21.865Z"
   },
   {
    "duration": 45,
    "start_time": "2021-09-05T13:01:21.940Z"
   },
   {
    "duration": 17,
    "start_time": "2021-09-05T13:01:21.988Z"
   },
   {
    "duration": 4,
    "start_time": "2021-09-05T13:01:22.008Z"
   },
   {
    "duration": 6,
    "start_time": "2021-09-05T13:01:22.015Z"
   },
   {
    "duration": 16,
    "start_time": "2021-09-05T13:01:22.024Z"
   },
   {
    "duration": 5,
    "start_time": "2021-09-05T13:01:22.083Z"
   },
   {
    "duration": 34,
    "start_time": "2021-09-05T13:01:22.092Z"
   },
   {
    "duration": 10,
    "start_time": "2021-09-05T13:01:22.129Z"
   },
   {
    "duration": 46,
    "start_time": "2021-09-05T13:01:22.141Z"
   },
   {
    "duration": 23,
    "start_time": "2021-09-05T13:01:22.189Z"
   },
   {
    "duration": 45,
    "start_time": "2021-09-05T13:01:22.214Z"
   },
   {
    "duration": 8,
    "start_time": "2021-09-05T13:01:22.283Z"
   },
   {
    "duration": 12,
    "start_time": "2021-09-05T13:01:22.293Z"
   },
   {
    "duration": 9,
    "start_time": "2021-09-05T13:01:22.307Z"
   },
   {
    "duration": 26,
    "start_time": "2021-09-05T13:01:22.318Z"
   },
   {
    "duration": 41,
    "start_time": "2021-09-05T13:01:22.346Z"
   },
   {
    "duration": 10,
    "start_time": "2021-09-05T13:01:22.390Z"
   },
   {
    "duration": 24,
    "start_time": "2021-09-05T13:01:22.403Z"
   },
   {
    "duration": 9,
    "start_time": "2021-09-05T13:01:22.430Z"
   },
   {
    "duration": 57,
    "start_time": "2021-09-05T13:01:22.441Z"
   },
   {
    "duration": 26,
    "start_time": "2021-09-05T13:01:22.501Z"
   },
   {
    "duration": 10,
    "start_time": "2021-09-05T13:01:22.531Z"
   },
   {
    "duration": 57,
    "start_time": "2021-09-05T13:01:22.543Z"
   },
   {
    "duration": 42,
    "start_time": "2021-09-05T13:01:22.603Z"
   },
   {
    "duration": 10,
    "start_time": "2021-09-05T13:01:22.647Z"
   },
   {
    "duration": 55,
    "start_time": "2021-09-05T13:01:22.659Z"
   },
   {
    "duration": 4336,
    "start_time": "2021-09-05T13:01:22.716Z"
   },
   {
    "duration": 27,
    "start_time": "2021-09-05T13:01:27.055Z"
   },
   {
    "duration": 11,
    "start_time": "2021-09-05T13:01:27.085Z"
   },
   {
    "duration": 28,
    "start_time": "2021-09-05T13:01:27.099Z"
   },
   {
    "duration": 7,
    "start_time": "2021-09-05T13:01:27.130Z"
   },
   {
    "duration": 10,
    "start_time": "2021-09-05T13:01:27.184Z"
   },
   {
    "duration": 11,
    "start_time": "2021-09-05T13:01:27.196Z"
   },
   {
    "duration": 7,
    "start_time": "2021-09-05T13:01:27.210Z"
   },
   {
    "duration": 74,
    "start_time": "2021-09-05T13:01:27.220Z"
   },
   {
    "duration": 5,
    "start_time": "2021-09-05T13:07:09.492Z"
   },
   {
    "duration": 5,
    "start_time": "2021-09-05T13:10:06.709Z"
   },
   {
    "duration": 15,
    "start_time": "2021-09-05T13:14:58.729Z"
   },
   {
    "duration": 7,
    "start_time": "2021-09-05T14:28:48.035Z"
   },
   {
    "duration": 8,
    "start_time": "2021-09-05T14:29:00.438Z"
   },
   {
    "duration": 9,
    "start_time": "2021-09-05T14:40:43.994Z"
   },
   {
    "duration": 13,
    "start_time": "2021-09-05T16:02:03.230Z"
   },
   {
    "duration": 31,
    "start_time": "2021-09-05T16:02:17.996Z"
   },
   {
    "duration": 25,
    "start_time": "2021-09-05T16:03:34.108Z"
   },
   {
    "duration": 97,
    "start_time": "2021-09-05T16:06:54.976Z"
   },
   {
    "duration": 6,
    "start_time": "2021-09-05T16:09:52.764Z"
   },
   {
    "duration": 10,
    "start_time": "2021-09-05T16:10:52.488Z"
   },
   {
    "duration": 9,
    "start_time": "2021-09-05T16:11:47.586Z"
   },
   {
    "duration": 12,
    "start_time": "2021-09-05T16:53:30.091Z"
   },
   {
    "duration": 17,
    "start_time": "2021-09-05T17:00:53.855Z"
   },
   {
    "duration": 22,
    "start_time": "2021-09-05T17:10:17.280Z"
   },
   {
    "duration": 17,
    "start_time": "2021-09-05T17:32:03.912Z"
   },
   {
    "duration": 17,
    "start_time": "2021-09-05T17:43:43.321Z"
   },
   {
    "duration": 11,
    "start_time": "2021-09-05T17:43:46.004Z"
   },
   {
    "duration": 7,
    "start_time": "2021-09-05T17:43:48.266Z"
   },
   {
    "duration": 23,
    "start_time": "2021-09-05T17:43:50.927Z"
   },
   {
    "duration": 16,
    "start_time": "2021-09-05T17:43:58.040Z"
   },
   {
    "duration": 661,
    "start_time": "2021-09-05T17:46:11.115Z"
   },
   {
    "duration": 289,
    "start_time": "2021-09-05T17:46:32.070Z"
   },
   {
    "duration": 62,
    "start_time": "2021-09-05T17:48:31.009Z"
   },
   {
    "duration": 57,
    "start_time": "2021-09-05T17:52:09.837Z"
   },
   {
    "duration": 57,
    "start_time": "2021-09-05T17:53:46.122Z"
   },
   {
    "duration": 10,
    "start_time": "2021-09-05T18:11:44.347Z"
   },
   {
    "duration": 99,
    "start_time": "2021-09-05T18:39:34.170Z"
   },
   {
    "duration": 820,
    "start_time": "2021-09-05T18:44:52.279Z"
   },
   {
    "duration": 31,
    "start_time": "2021-09-05T18:44:53.102Z"
   },
   {
    "duration": 13,
    "start_time": "2021-09-05T18:44:53.136Z"
   },
   {
    "duration": 43,
    "start_time": "2021-09-05T18:44:53.153Z"
   },
   {
    "duration": 9,
    "start_time": "2021-09-05T18:44:53.199Z"
   },
   {
    "duration": 20,
    "start_time": "2021-09-05T18:44:53.211Z"
   },
   {
    "duration": 6,
    "start_time": "2021-09-05T18:44:53.234Z"
   },
   {
    "duration": 61,
    "start_time": "2021-09-05T18:44:53.244Z"
   },
   {
    "duration": 10,
    "start_time": "2021-09-05T18:44:53.308Z"
   },
   {
    "duration": 26,
    "start_time": "2021-09-05T18:44:53.321Z"
   },
   {
    "duration": 55,
    "start_time": "2021-09-05T18:44:53.349Z"
   },
   {
    "duration": 45,
    "start_time": "2021-09-05T18:44:53.407Z"
   },
   {
    "duration": 34,
    "start_time": "2021-09-05T18:44:53.454Z"
   },
   {
    "duration": 12,
    "start_time": "2021-09-05T18:44:53.490Z"
   },
   {
    "duration": 14,
    "start_time": "2021-09-05T18:44:53.504Z"
   },
   {
    "duration": 72,
    "start_time": "2021-09-05T18:44:53.520Z"
   },
   {
    "duration": 9,
    "start_time": "2021-09-05T18:44:53.594Z"
   },
   {
    "duration": 9,
    "start_time": "2021-09-05T18:44:53.606Z"
   },
   {
    "duration": 33,
    "start_time": "2021-09-05T18:44:53.618Z"
   },
   {
    "duration": 40,
    "start_time": "2021-09-05T18:44:53.654Z"
   },
   {
    "duration": 21,
    "start_time": "2021-09-05T18:44:53.697Z"
   },
   {
    "duration": 25,
    "start_time": "2021-09-05T18:44:53.721Z"
   },
   {
    "duration": 17,
    "start_time": "2021-09-05T18:44:53.785Z"
   },
   {
    "duration": 28,
    "start_time": "2021-09-05T18:44:53.806Z"
   },
   {
    "duration": 78,
    "start_time": "2021-09-05T18:44:53.837Z"
   },
   {
    "duration": 10,
    "start_time": "2021-09-05T18:44:53.918Z"
   },
   {
    "duration": 8,
    "start_time": "2021-09-05T18:44:53.930Z"
   },
   {
    "duration": 4766,
    "start_time": "2021-09-05T18:44:53.941Z"
   },
   {
    "duration": 10,
    "start_time": "2021-09-05T18:44:58.710Z"
   },
   {
    "duration": 10,
    "start_time": "2021-09-05T18:44:58.723Z"
   },
   {
    "duration": 59,
    "start_time": "2021-09-05T18:44:58.735Z"
   },
   {
    "duration": 8,
    "start_time": "2021-09-05T18:44:58.797Z"
   },
   {
    "duration": 7,
    "start_time": "2021-09-05T18:44:58.808Z"
   },
   {
    "duration": 6,
    "start_time": "2021-09-05T18:44:58.818Z"
   },
   {
    "duration": 9,
    "start_time": "2021-09-05T18:44:58.827Z"
   },
   {
    "duration": 89,
    "start_time": "2021-09-05T18:44:58.839Z"
   },
   {
    "duration": 26,
    "start_time": "2021-09-05T18:44:58.931Z"
   },
   {
    "duration": 28,
    "start_time": "2021-09-05T18:44:58.959Z"
   },
   {
    "duration": 11,
    "start_time": "2021-09-05T18:44:58.992Z"
   },
   {
    "duration": 9,
    "start_time": "2021-09-05T18:44:59.005Z"
   },
   {
    "duration": 9,
    "start_time": "2021-09-05T18:44:59.016Z"
   },
   {
    "duration": 17,
    "start_time": "2021-09-05T18:44:59.027Z"
   },
   {
    "duration": 51,
    "start_time": "2021-09-05T18:44:59.046Z"
   },
   {
    "duration": 18,
    "start_time": "2021-09-05T18:44:59.100Z"
   },
   {
    "duration": 14,
    "start_time": "2021-09-05T18:44:59.121Z"
   },
   {
    "duration": 46,
    "start_time": "2021-09-05T18:44:59.137Z"
   },
   {
    "duration": 25,
    "start_time": "2021-09-05T18:44:59.185Z"
   },
   {
    "duration": 11,
    "start_time": "2021-09-05T18:44:59.213Z"
   },
   {
    "duration": 17,
    "start_time": "2021-09-05T18:44:59.227Z"
   },
   {
    "duration": 98,
    "start_time": "2021-09-05T18:44:59.246Z"
   },
   {
    "duration": 76,
    "start_time": "2021-09-05T18:44:59.346Z"
   },
   {
    "duration": 84,
    "start_time": "2021-09-05T18:44:59.424Z"
   },
   {
    "duration": 54,
    "start_time": "2021-09-05T18:44:59.511Z"
   },
   {
    "duration": 1078,
    "start_time": "2021-09-05T18:57:32.880Z"
   },
   {
    "duration": 40,
    "start_time": "2021-09-05T18:57:33.962Z"
   },
   {
    "duration": 16,
    "start_time": "2021-09-05T18:57:34.006Z"
   },
   {
    "duration": 14,
    "start_time": "2021-09-05T18:57:34.026Z"
   },
   {
    "duration": 17,
    "start_time": "2021-09-05T18:57:34.042Z"
   },
   {
    "duration": 30,
    "start_time": "2021-09-05T18:57:34.062Z"
   },
   {
    "duration": 22,
    "start_time": "2021-09-05T18:57:34.095Z"
   },
   {
    "duration": 35,
    "start_time": "2021-09-05T18:57:34.121Z"
   },
   {
    "duration": 9,
    "start_time": "2021-09-05T18:57:34.159Z"
   },
   {
    "duration": 150,
    "start_time": "2021-09-05T18:57:34.170Z"
   },
   {
    "duration": 26,
    "start_time": "2021-09-05T18:57:34.322Z"
   },
   {
    "duration": 53,
    "start_time": "2021-09-05T18:57:34.351Z"
   },
   {
    "duration": 8,
    "start_time": "2021-09-05T18:57:34.407Z"
   },
   {
    "duration": 16,
    "start_time": "2021-09-05T18:57:34.418Z"
   },
   {
    "duration": 9,
    "start_time": "2021-09-05T18:57:34.437Z"
   },
   {
    "duration": 55,
    "start_time": "2021-09-05T18:57:34.449Z"
   },
   {
    "duration": 16,
    "start_time": "2021-09-05T18:57:34.507Z"
   },
   {
    "duration": 17,
    "start_time": "2021-09-05T18:57:34.525Z"
   },
   {
    "duration": 46,
    "start_time": "2021-09-05T18:57:34.545Z"
   },
   {
    "duration": 13,
    "start_time": "2021-09-05T18:57:34.594Z"
   },
   {
    "duration": 29,
    "start_time": "2021-09-05T18:57:34.610Z"
   },
   {
    "duration": 40,
    "start_time": "2021-09-05T18:57:34.642Z"
   },
   {
    "duration": 13,
    "start_time": "2021-09-05T18:57:34.689Z"
   },
   {
    "duration": 60,
    "start_time": "2021-09-05T18:57:34.705Z"
   },
   {
    "duration": 62,
    "start_time": "2021-09-05T18:57:34.768Z"
   },
   {
    "duration": 11,
    "start_time": "2021-09-05T18:57:34.832Z"
   },
   {
    "duration": 38,
    "start_time": "2021-09-05T18:57:34.845Z"
   },
   {
    "duration": 4659,
    "start_time": "2021-09-05T18:57:34.886Z"
   },
   {
    "duration": 11,
    "start_time": "2021-09-05T18:57:39.548Z"
   },
   {
    "duration": 24,
    "start_time": "2021-09-05T18:57:39.561Z"
   },
   {
    "duration": 28,
    "start_time": "2021-09-05T18:57:39.587Z"
   },
   {
    "duration": 6,
    "start_time": "2021-09-05T18:57:39.617Z"
   },
   {
    "duration": 8,
    "start_time": "2021-09-05T18:57:39.625Z"
   },
   {
    "duration": 52,
    "start_time": "2021-09-05T18:57:39.635Z"
   },
   {
    "duration": 12,
    "start_time": "2021-09-05T18:57:39.689Z"
   },
   {
    "duration": 41,
    "start_time": "2021-09-05T18:57:39.703Z"
   },
   {
    "duration": 25,
    "start_time": "2021-09-05T18:57:39.783Z"
   },
   {
    "duration": 5,
    "start_time": "2021-09-05T18:57:39.811Z"
   },
   {
    "duration": 8,
    "start_time": "2021-09-05T18:57:39.818Z"
   },
   {
    "duration": 7,
    "start_time": "2021-09-05T18:57:39.829Z"
   },
   {
    "duration": 48,
    "start_time": "2021-09-05T18:57:39.839Z"
   },
   {
    "duration": 21,
    "start_time": "2021-09-05T18:57:39.890Z"
   },
   {
    "duration": 11,
    "start_time": "2021-09-05T18:57:39.913Z"
   },
   {
    "duration": 57,
    "start_time": "2021-09-05T18:57:39.927Z"
   },
   {
    "duration": 13,
    "start_time": "2021-09-05T18:57:39.987Z"
   },
   {
    "duration": 8,
    "start_time": "2021-09-05T18:57:40.002Z"
   },
   {
    "duration": 28,
    "start_time": "2021-09-05T18:57:40.012Z"
   },
   {
    "duration": 46,
    "start_time": "2021-09-05T18:57:40.043Z"
   },
   {
    "duration": 19,
    "start_time": "2021-09-05T18:57:40.092Z"
   },
   {
    "duration": 98,
    "start_time": "2021-09-05T18:57:40.113Z"
   },
   {
    "duration": 87,
    "start_time": "2021-09-05T18:57:40.214Z"
   },
   {
    "duration": 108,
    "start_time": "2021-09-05T18:57:40.304Z"
   },
   {
    "duration": 76,
    "start_time": "2021-09-05T18:57:40.415Z"
   },
   {
    "duration": 6,
    "start_time": "2021-09-05T19:01:02.662Z"
   },
   {
    "duration": 16,
    "start_time": "2021-09-05T19:01:05.645Z"
   },
   {
    "duration": 783,
    "start_time": "2021-09-05T19:01:17.890Z"
   },
   {
    "duration": 30,
    "start_time": "2021-09-05T19:01:18.675Z"
   },
   {
    "duration": 13,
    "start_time": "2021-09-05T19:01:18.710Z"
   },
   {
    "duration": 10,
    "start_time": "2021-09-05T19:01:18.727Z"
   },
   {
    "duration": 15,
    "start_time": "2021-09-05T19:01:18.739Z"
   },
   {
    "duration": 35,
    "start_time": "2021-09-05T19:01:18.756Z"
   },
   {
    "duration": 10,
    "start_time": "2021-09-05T19:01:18.794Z"
   },
   {
    "duration": 37,
    "start_time": "2021-09-05T19:01:18.810Z"
   },
   {
    "duration": 30,
    "start_time": "2021-09-05T19:01:18.852Z"
   },
   {
    "duration": 26,
    "start_time": "2021-09-05T19:01:18.885Z"
   },
   {
    "duration": 26,
    "start_time": "2021-09-05T19:01:18.914Z"
   },
   {
    "duration": 81,
    "start_time": "2021-09-05T19:01:18.943Z"
   },
   {
    "duration": 9,
    "start_time": "2021-09-05T19:01:19.027Z"
   },
   {
    "duration": 43,
    "start_time": "2021-09-05T19:01:19.039Z"
   },
   {
    "duration": 12,
    "start_time": "2021-09-05T19:01:19.085Z"
   },
   {
    "duration": 25,
    "start_time": "2021-09-05T19:01:19.099Z"
   },
   {
    "duration": 7,
    "start_time": "2021-09-05T19:01:19.127Z"
   },
   {
    "duration": 48,
    "start_time": "2021-09-05T19:01:19.136Z"
   },
   {
    "duration": 21,
    "start_time": "2021-09-05T19:01:19.186Z"
   },
   {
    "duration": 13,
    "start_time": "2021-09-05T19:01:19.210Z"
   },
   {
    "duration": 22,
    "start_time": "2021-09-05T19:01:19.225Z"
   },
   {
    "duration": 43,
    "start_time": "2021-09-05T19:01:19.250Z"
   },
   {
    "duration": 9,
    "start_time": "2021-09-05T19:01:19.298Z"
   },
   {
    "duration": 27,
    "start_time": "2021-09-05T19:01:19.310Z"
   },
   {
    "duration": 72,
    "start_time": "2021-09-05T19:01:19.339Z"
   },
   {
    "duration": 10,
    "start_time": "2021-09-05T19:01:19.413Z"
   },
   {
    "duration": 10,
    "start_time": "2021-09-05T19:01:19.425Z"
   },
   {
    "duration": 4208,
    "start_time": "2021-09-05T19:01:19.438Z"
   },
   {
    "duration": 12,
    "start_time": "2021-09-05T19:01:23.648Z"
   },
   {
    "duration": 26,
    "start_time": "2021-09-05T19:01:23.662Z"
   },
   {
    "duration": 27,
    "start_time": "2021-09-05T19:01:23.691Z"
   },
   {
    "duration": 5,
    "start_time": "2021-09-05T19:01:23.720Z"
   },
   {
    "duration": 14,
    "start_time": "2021-09-05T19:01:23.727Z"
   },
   {
    "duration": 42,
    "start_time": "2021-09-05T19:01:23.743Z"
   },
   {
    "duration": 6,
    "start_time": "2021-09-05T19:01:23.788Z"
   },
   {
    "duration": 42,
    "start_time": "2021-09-05T19:01:23.796Z"
   },
   {
    "duration": 54,
    "start_time": "2021-09-05T19:01:23.840Z"
   },
   {
    "duration": 6,
    "start_time": "2021-09-05T19:01:23.896Z"
   },
   {
    "duration": 10,
    "start_time": "2021-09-05T19:01:23.904Z"
   },
   {
    "duration": 10,
    "start_time": "2021-09-05T19:01:23.917Z"
   },
   {
    "duration": 8,
    "start_time": "2021-09-05T19:01:23.930Z"
   },
   {
    "duration": 46,
    "start_time": "2021-09-05T19:01:23.940Z"
   },
   {
    "duration": 11,
    "start_time": "2021-09-05T19:01:23.988Z"
   },
   {
    "duration": 22,
    "start_time": "2021-09-05T19:01:24.001Z"
   },
   {
    "duration": 10,
    "start_time": "2021-09-05T19:01:24.026Z"
   },
   {
    "duration": 45,
    "start_time": "2021-09-05T19:01:24.039Z"
   },
   {
    "duration": 23,
    "start_time": "2021-09-05T19:01:24.086Z"
   },
   {
    "duration": 12,
    "start_time": "2021-09-05T19:01:24.112Z"
   },
   {
    "duration": 18,
    "start_time": "2021-09-05T19:01:24.127Z"
   },
   {
    "duration": 90,
    "start_time": "2021-09-05T19:01:24.147Z"
   },
   {
    "duration": 77,
    "start_time": "2021-09-05T19:01:24.240Z"
   },
   {
    "duration": 84,
    "start_time": "2021-09-05T19:01:24.320Z"
   },
   {
    "duration": 58,
    "start_time": "2021-09-05T19:01:24.407Z"
   },
   {
    "duration": 808,
    "start_time": "2021-09-05T19:04:11.147Z"
   },
   {
    "duration": 33,
    "start_time": "2021-09-05T19:04:11.957Z"
   },
   {
    "duration": 16,
    "start_time": "2021-09-05T19:04:11.993Z"
   },
   {
    "duration": 9,
    "start_time": "2021-09-05T19:04:12.012Z"
   },
   {
    "duration": 6,
    "start_time": "2021-09-05T19:04:12.024Z"
   },
   {
    "duration": 16,
    "start_time": "2021-09-05T19:04:12.033Z"
   },
   {
    "duration": 5,
    "start_time": "2021-09-05T19:04:12.051Z"
   },
   {
    "duration": 30,
    "start_time": "2021-09-05T19:04:12.084Z"
   },
   {
    "duration": 10,
    "start_time": "2021-09-05T19:04:12.118Z"
   },
   {
    "duration": 24,
    "start_time": "2021-09-05T19:04:12.130Z"
   },
   {
    "duration": 49,
    "start_time": "2021-09-05T19:04:12.157Z"
   },
   {
    "duration": 45,
    "start_time": "2021-09-05T19:04:12.208Z"
   },
   {
    "duration": 33,
    "start_time": "2021-09-05T19:04:12.255Z"
   },
   {
    "duration": 11,
    "start_time": "2021-09-05T19:04:12.291Z"
   },
   {
    "duration": 10,
    "start_time": "2021-09-05T19:04:12.304Z"
   },
   {
    "duration": 27,
    "start_time": "2021-09-05T19:04:12.317Z"
   },
   {
    "duration": 8,
    "start_time": "2021-09-05T19:04:12.383Z"
   },
   {
    "duration": 12,
    "start_time": "2021-09-05T19:04:12.393Z"
   },
   {
    "duration": 25,
    "start_time": "2021-09-05T19:04:12.407Z"
   },
   {
    "duration": 53,
    "start_time": "2021-09-05T19:04:12.435Z"
   },
   {
    "duration": 23,
    "start_time": "2021-09-05T19:04:12.490Z"
   },
   {
    "duration": 25,
    "start_time": "2021-09-05T19:04:12.515Z"
   },
   {
    "duration": 37,
    "start_time": "2021-09-05T19:04:12.546Z"
   },
   {
    "duration": 30,
    "start_time": "2021-09-05T19:04:12.586Z"
   },
   {
    "duration": 68,
    "start_time": "2021-09-05T19:04:12.618Z"
   },
   {
    "duration": 12,
    "start_time": "2021-09-05T19:04:12.688Z"
   },
   {
    "duration": 14,
    "start_time": "2021-09-05T19:04:12.703Z"
   },
   {
    "duration": 4684,
    "start_time": "2021-09-05T19:04:12.720Z"
   },
   {
    "duration": 11,
    "start_time": "2021-09-05T19:04:17.407Z"
   },
   {
    "duration": 14,
    "start_time": "2021-09-05T19:04:17.420Z"
   },
   {
    "duration": 49,
    "start_time": "2021-09-05T19:04:17.436Z"
   },
   {
    "duration": 6,
    "start_time": "2021-09-05T19:04:17.487Z"
   },
   {
    "duration": 8,
    "start_time": "2021-09-05T19:04:17.496Z"
   },
   {
    "duration": 13,
    "start_time": "2021-09-05T19:04:17.506Z"
   },
   {
    "duration": 11,
    "start_time": "2021-09-05T19:04:17.522Z"
   },
   {
    "duration": 77,
    "start_time": "2021-09-05T19:04:17.536Z"
   },
   {
    "duration": 25,
    "start_time": "2021-09-05T19:04:17.615Z"
   },
   {
    "duration": 5,
    "start_time": "2021-09-05T19:04:17.642Z"
   },
   {
    "duration": 10,
    "start_time": "2021-09-05T19:04:17.682Z"
   },
   {
    "duration": 10,
    "start_time": "2021-09-05T19:04:17.695Z"
   },
   {
    "duration": 15,
    "start_time": "2021-09-05T19:04:17.707Z"
   },
   {
    "duration": 22,
    "start_time": "2021-09-05T19:04:17.725Z"
   },
   {
    "duration": 36,
    "start_time": "2021-09-05T19:04:17.750Z"
   },
   {
    "duration": 27,
    "start_time": "2021-09-05T19:04:17.790Z"
   },
   {
    "duration": 13,
    "start_time": "2021-09-05T19:04:17.820Z"
   },
   {
    "duration": 13,
    "start_time": "2021-09-05T19:04:17.836Z"
   },
   {
    "duration": 30,
    "start_time": "2021-09-05T19:04:17.883Z"
   },
   {
    "duration": 31,
    "start_time": "2021-09-05T19:04:17.916Z"
   },
   {
    "duration": 34,
    "start_time": "2021-09-05T19:04:17.950Z"
   },
   {
    "duration": 78,
    "start_time": "2021-09-05T19:04:17.987Z"
   },
   {
    "duration": 77,
    "start_time": "2021-09-05T19:04:18.083Z"
   },
   {
    "duration": 121,
    "start_time": "2021-09-05T19:04:18.163Z"
   },
   {
    "duration": 67,
    "start_time": "2021-09-05T19:04:18.287Z"
   },
   {
    "duration": 158,
    "start_time": "2021-09-06T12:15:50.188Z"
   },
   {
    "duration": 149,
    "start_time": "2021-09-06T12:16:41.635Z"
   },
   {
    "duration": 141,
    "start_time": "2021-09-06T12:17:16.000Z"
   },
   {
    "duration": 128,
    "start_time": "2021-09-06T12:18:28.759Z"
   },
   {
    "duration": 112,
    "start_time": "2021-09-06T12:19:22.934Z"
   },
   {
    "duration": 129,
    "start_time": "2021-09-06T12:40:18.485Z"
   },
   {
    "duration": 128,
    "start_time": "2021-09-06T12:40:44.068Z"
   },
   {
    "duration": 140,
    "start_time": "2021-09-06T12:49:41.858Z"
   },
   {
    "duration": 438,
    "start_time": "2021-09-07T06:20:00.634Z"
   },
   {
    "duration": 759,
    "start_time": "2021-09-07T06:20:38.796Z"
   },
   {
    "duration": 24,
    "start_time": "2021-09-07T06:20:39.557Z"
   },
   {
    "duration": 10,
    "start_time": "2021-09-07T06:20:39.583Z"
   },
   {
    "duration": 4,
    "start_time": "2021-09-07T06:20:39.595Z"
   },
   {
    "duration": 6,
    "start_time": "2021-09-07T06:20:39.600Z"
   },
   {
    "duration": 13,
    "start_time": "2021-09-07T06:20:39.608Z"
   },
   {
    "duration": 10,
    "start_time": "2021-09-07T06:20:39.623Z"
   },
   {
    "duration": 41,
    "start_time": "2021-09-07T06:20:39.636Z"
   },
   {
    "duration": 23,
    "start_time": "2021-09-07T06:20:39.680Z"
   },
   {
    "duration": 8,
    "start_time": "2021-09-07T06:20:39.705Z"
   },
   {
    "duration": 21,
    "start_time": "2021-09-07T06:20:39.714Z"
   },
   {
    "duration": 41,
    "start_time": "2021-09-07T06:20:39.737Z"
   },
   {
    "duration": 34,
    "start_time": "2021-09-07T06:20:39.780Z"
   },
   {
    "duration": 6,
    "start_time": "2021-09-07T06:20:39.816Z"
   },
   {
    "duration": 8,
    "start_time": "2021-09-07T06:20:39.824Z"
   },
   {
    "duration": 8,
    "start_time": "2021-09-07T06:20:39.834Z"
   },
   {
    "duration": 52,
    "start_time": "2021-09-07T06:20:39.844Z"
   },
   {
    "duration": 6,
    "start_time": "2021-09-07T06:20:39.898Z"
   },
   {
    "duration": 8,
    "start_time": "2021-09-07T06:20:39.906Z"
   },
   {
    "duration": 20,
    "start_time": "2021-09-07T06:20:39.916Z"
   },
   {
    "duration": 8,
    "start_time": "2021-09-07T06:20:39.938Z"
   },
   {
    "duration": 15,
    "start_time": "2021-09-07T06:20:39.977Z"
   },
   {
    "duration": 14,
    "start_time": "2021-09-07T06:20:39.996Z"
   },
   {
    "duration": 12,
    "start_time": "2021-09-07T06:20:40.013Z"
   },
   {
    "duration": 51,
    "start_time": "2021-09-07T06:20:40.027Z"
   },
   {
    "duration": 37,
    "start_time": "2021-09-07T06:20:40.080Z"
   },
   {
    "duration": 8,
    "start_time": "2021-09-07T06:20:40.119Z"
   },
   {
    "duration": 8,
    "start_time": "2021-09-07T06:20:40.129Z"
   },
   {
    "duration": 4062,
    "start_time": "2021-09-07T06:20:40.139Z"
   },
   {
    "duration": 9,
    "start_time": "2021-09-07T06:20:44.203Z"
   },
   {
    "duration": 12,
    "start_time": "2021-09-07T06:20:44.214Z"
   },
   {
    "duration": 21,
    "start_time": "2021-09-07T06:20:44.229Z"
   },
   {
    "duration": 6,
    "start_time": "2021-09-07T06:20:44.277Z"
   },
   {
    "duration": 8,
    "start_time": "2021-09-07T06:20:44.285Z"
   },
   {
    "duration": 8,
    "start_time": "2021-09-07T06:20:44.295Z"
   },
   {
    "duration": 5,
    "start_time": "2021-09-07T06:20:44.305Z"
   },
   {
    "duration": 30,
    "start_time": "2021-09-07T06:20:44.311Z"
   },
   {
    "duration": 51,
    "start_time": "2021-09-07T06:20:44.343Z"
   },
   {
    "duration": 4,
    "start_time": "2021-09-07T06:20:44.396Z"
   },
   {
    "duration": 9,
    "start_time": "2021-09-07T06:20:44.402Z"
   },
   {
    "duration": 7,
    "start_time": "2021-09-07T06:20:44.413Z"
   },
   {
    "duration": 9,
    "start_time": "2021-09-07T06:20:44.422Z"
   },
   {
    "duration": 45,
    "start_time": "2021-09-07T06:20:44.433Z"
   },
   {
    "duration": 10,
    "start_time": "2021-09-07T06:20:44.480Z"
   },
   {
    "duration": 15,
    "start_time": "2021-09-07T06:20:44.492Z"
   },
   {
    "duration": 9,
    "start_time": "2021-09-07T06:20:44.509Z"
   },
   {
    "duration": 5,
    "start_time": "2021-09-07T06:20:44.520Z"
   },
   {
    "duration": 51,
    "start_time": "2021-09-07T06:20:44.527Z"
   },
   {
    "duration": 9,
    "start_time": "2021-09-07T06:20:44.580Z"
   },
   {
    "duration": 14,
    "start_time": "2021-09-07T06:20:44.591Z"
   },
   {
    "duration": 70,
    "start_time": "2021-09-07T06:20:44.607Z"
   },
   {
    "duration": 41,
    "start_time": "2021-09-07T06:20:44.679Z"
   },
   {
    "duration": 68,
    "start_time": "2021-09-07T06:20:44.722Z"
   },
   {
    "duration": 42,
    "start_time": "2021-09-07T06:20:44.792Z"
   },
   {
    "duration": -908,
    "start_time": "2021-09-07T06:22:00.947Z"
   },
   {
    "duration": 62,
    "start_time": "2021-09-07T06:22:19.861Z"
   },
   {
    "duration": 16,
    "start_time": "2021-09-07T06:22:24.284Z"
   },
   {
    "duration": 12,
    "start_time": "2021-09-07T06:22:27.623Z"
   },
   {
    "duration": 8,
    "start_time": "2021-09-07T06:22:31.799Z"
   },
   {
    "duration": 13,
    "start_time": "2021-09-07T08:24:06.142Z"
   },
   {
    "duration": 13,
    "start_time": "2021-09-07T08:26:59.856Z"
   },
   {
    "duration": 283,
    "start_time": "2021-09-07T09:34:36.722Z"
   },
   {
    "duration": 373,
    "start_time": "2021-09-07T09:41:52.496Z"
   },
   {
    "duration": 130,
    "start_time": "2021-09-07T09:42:40.245Z"
   },
   {
    "duration": 9,
    "start_time": "2021-09-07T10:34:33.647Z"
   },
   {
    "duration": 10,
    "start_time": "2021-09-07T10:34:45.197Z"
   },
   {
    "duration": 9,
    "start_time": "2021-09-07T10:34:59.211Z"
   },
   {
    "duration": 6,
    "start_time": "2021-09-07T10:35:10.427Z"
   },
   {
    "duration": 992,
    "start_time": "2021-09-07T10:35:29.935Z"
   },
   {
    "duration": 22,
    "start_time": "2021-09-07T10:35:30.929Z"
   },
   {
    "duration": 23,
    "start_time": "2021-09-07T10:35:30.954Z"
   },
   {
    "duration": 5,
    "start_time": "2021-09-07T10:35:30.979Z"
   },
   {
    "duration": 16,
    "start_time": "2021-09-07T10:35:30.986Z"
   },
   {
    "duration": 25,
    "start_time": "2021-09-07T10:35:31.004Z"
   },
   {
    "duration": 11,
    "start_time": "2021-09-07T10:35:31.031Z"
   },
   {
    "duration": 9,
    "start_time": "2021-09-07T10:35:31.045Z"
   },
   {
    "duration": 36,
    "start_time": "2021-09-07T10:35:31.057Z"
   },
   {
    "duration": 13,
    "start_time": "2021-09-07T10:35:31.094Z"
   },
   {
    "duration": 19,
    "start_time": "2021-09-07T10:35:31.108Z"
   },
   {
    "duration": 3,
    "start_time": "2021-09-07T10:35:31.129Z"
   },
   {
    "duration": 30,
    "start_time": "2021-09-07T10:35:31.134Z"
   },
   {
    "duration": 46,
    "start_time": "2021-09-07T10:35:31.165Z"
   },
   {
    "duration": 6,
    "start_time": "2021-09-07T10:35:31.212Z"
   },
   {
    "duration": 12,
    "start_time": "2021-09-07T10:35:31.220Z"
   },
   {
    "duration": 28,
    "start_time": "2021-09-07T10:35:31.234Z"
   },
   {
    "duration": 29,
    "start_time": "2021-09-07T10:35:31.264Z"
   },
   {
    "duration": 7,
    "start_time": "2021-09-07T10:35:31.294Z"
   },
   {
    "duration": 15,
    "start_time": "2021-09-07T10:35:31.302Z"
   },
   {
    "duration": 24,
    "start_time": "2021-09-07T10:35:31.318Z"
   },
   {
    "duration": 11,
    "start_time": "2021-09-07T10:35:31.344Z"
   },
   {
    "duration": 30,
    "start_time": "2021-09-07T10:35:31.358Z"
   },
   {
    "duration": 8,
    "start_time": "2021-09-07T10:35:31.390Z"
   },
   {
    "duration": 25,
    "start_time": "2021-09-07T10:35:31.400Z"
   },
   {
    "duration": 21,
    "start_time": "2021-09-07T10:35:31.427Z"
   },
   {
    "duration": 27,
    "start_time": "2021-09-07T10:35:31.450Z"
   },
   {
    "duration": 35,
    "start_time": "2021-09-07T10:35:31.479Z"
   },
   {
    "duration": 8,
    "start_time": "2021-09-07T10:35:31.516Z"
   },
   {
    "duration": 16,
    "start_time": "2021-09-07T10:35:31.525Z"
   },
   {
    "duration": 3764,
    "start_time": "2021-09-07T10:35:31.543Z"
   },
   {
    "duration": 10,
    "start_time": "2021-09-07T10:35:35.309Z"
   },
   {
    "duration": 20,
    "start_time": "2021-09-07T10:35:35.321Z"
   },
   {
    "duration": 28,
    "start_time": "2021-09-07T10:35:35.343Z"
   },
   {
    "duration": 5,
    "start_time": "2021-09-07T10:35:35.373Z"
   },
   {
    "duration": 19,
    "start_time": "2021-09-07T10:35:35.380Z"
   },
   {
    "duration": 12,
    "start_time": "2021-09-07T10:35:35.401Z"
   },
   {
    "duration": 16,
    "start_time": "2021-09-07T10:35:35.414Z"
   },
   {
    "duration": 37,
    "start_time": "2021-09-07T10:35:35.432Z"
   },
   {
    "duration": 20,
    "start_time": "2021-09-07T10:35:35.471Z"
   },
   {
    "duration": 3,
    "start_time": "2021-09-07T10:35:35.493Z"
   },
   {
    "duration": 18,
    "start_time": "2021-09-07T10:35:35.498Z"
   },
   {
    "duration": 16,
    "start_time": "2021-09-07T10:35:35.518Z"
   },
   {
    "duration": 24,
    "start_time": "2021-09-07T10:35:35.536Z"
   },
   {
    "duration": 18,
    "start_time": "2021-09-07T10:35:35.562Z"
   },
   {
    "duration": 17,
    "start_time": "2021-09-07T10:35:35.582Z"
   },
   {
    "duration": 14,
    "start_time": "2021-09-07T10:35:35.601Z"
   },
   {
    "duration": 10,
    "start_time": "2021-09-07T10:35:35.617Z"
   },
   {
    "duration": 19,
    "start_time": "2021-09-07T10:35:35.629Z"
   },
   {
    "duration": 20,
    "start_time": "2021-09-07T10:35:35.650Z"
   },
   {
    "duration": 13,
    "start_time": "2021-09-07T10:35:35.672Z"
   },
   {
    "duration": 26,
    "start_time": "2021-09-07T10:35:35.687Z"
   },
   {
    "duration": 43,
    "start_time": "2021-09-07T10:35:35.715Z"
   },
   {
    "duration": 53,
    "start_time": "2021-09-07T10:35:35.760Z"
   },
   {
    "duration": 63,
    "start_time": "2021-09-07T10:35:35.815Z"
   },
   {
    "duration": 41,
    "start_time": "2021-09-07T10:35:35.880Z"
   },
   {
    "duration": 4,
    "start_time": "2021-09-07T10:36:16.261Z"
   },
   {
    "duration": 29,
    "start_time": "2021-09-07T10:38:52.793Z"
   },
   {
    "duration": 16,
    "start_time": "2021-09-07T10:39:35.294Z"
   },
   {
    "duration": 24,
    "start_time": "2021-09-07T10:41:32.395Z"
   },
   {
    "duration": 60,
    "start_time": "2021-09-07T10:41:44.708Z"
   },
   {
    "duration": 15,
    "start_time": "2021-09-07T10:41:48.545Z"
   },
   {
    "duration": 11,
    "start_time": "2021-09-07T10:41:54.207Z"
   },
   {
    "duration": 4,
    "start_time": "2021-09-07T10:41:57.246Z"
   },
   {
    "duration": 4,
    "start_time": "2021-09-07T10:41:59.732Z"
   },
   {
    "duration": 14,
    "start_time": "2021-09-07T10:42:02.071Z"
   },
   {
    "duration": 10,
    "start_time": "2021-09-07T10:42:13.206Z"
   },
   {
    "duration": 4,
    "start_time": "2021-09-07T10:42:35.333Z"
   },
   {
    "duration": 21,
    "start_time": "2021-09-07T10:42:37.308Z"
   },
   {
    "duration": 7,
    "start_time": "2021-09-07T10:42:43.657Z"
   },
   {
    "duration": 14,
    "start_time": "2021-09-07T10:42:45.869Z"
   },
   {
    "duration": 12,
    "start_time": "2021-09-07T10:42:52.821Z"
   },
   {
    "duration": 19,
    "start_time": "2021-09-07T10:43:29.079Z"
   },
   {
    "duration": 34,
    "start_time": "2021-09-07T10:43:31.380Z"
   },
   {
    "duration": 6,
    "start_time": "2021-09-07T10:43:36.255Z"
   },
   {
    "duration": 8,
    "start_time": "2021-09-07T10:43:40.905Z"
   },
   {
    "duration": 8,
    "start_time": "2021-09-07T10:43:46.755Z"
   },
   {
    "duration": 20,
    "start_time": "2021-09-07T10:43:56.917Z"
   },
   {
    "duration": 6,
    "start_time": "2021-09-07T10:44:01.217Z"
   },
   {
    "duration": 8,
    "start_time": "2021-09-07T10:44:04.318Z"
   },
   {
    "duration": 19,
    "start_time": "2021-09-07T10:44:06.930Z"
   },
   {
    "duration": 8,
    "start_time": "2021-09-07T10:44:11.741Z"
   },
   {
    "duration": 14,
    "start_time": "2021-09-07T10:44:19.769Z"
   },
   {
    "duration": 9,
    "start_time": "2021-09-07T10:45:08.792Z"
   },
   {
    "duration": 8,
    "start_time": "2021-09-07T10:45:24.002Z"
   },
   {
    "duration": 22,
    "start_time": "2021-09-07T10:45:32.064Z"
   },
   {
    "duration": 35,
    "start_time": "2021-09-07T10:45:34.362Z"
   },
   {
    "duration": 225,
    "start_time": "2021-09-07T10:49:05.886Z"
   },
   {
    "duration": 9,
    "start_time": "2021-09-07T11:22:27.740Z"
   },
   {
    "duration": 8,
    "start_time": "2021-09-07T11:22:51.284Z"
   },
   {
    "duration": 439,
    "start_time": "2021-09-07T11:23:53.458Z"
   },
   {
    "duration": 10000,
    "start_time": "2021-09-07T11:24:27.718Z"
   },
   {
    "duration": 499,
    "start_time": "2021-09-07T11:25:07.742Z"
   },
   {
    "duration": 10,
    "start_time": "2021-09-07T11:27:00.843Z"
   },
   {
    "duration": 8,
    "start_time": "2021-09-07T11:27:07.270Z"
   },
   {
    "duration": -1601,
    "start_time": "2021-09-07T11:27:31.733Z"
   },
   {
    "duration": 10,
    "start_time": "2021-09-07T11:27:32.560Z"
   },
   {
    "duration": 8,
    "start_time": "2021-09-07T11:27:46.607Z"
   },
   {
    "duration": 10,
    "start_time": "2021-09-07T11:27:54.795Z"
   },
   {
    "duration": 6,
    "start_time": "2021-09-07T11:28:56.893Z"
   },
   {
    "duration": 8,
    "start_time": "2021-09-07T11:29:04.418Z"
   },
   {
    "duration": 380,
    "start_time": "2021-09-07T11:29:29.066Z"
   },
   {
    "duration": 412,
    "start_time": "2021-09-07T11:29:59.826Z"
   },
   {
    "duration": 703,
    "start_time": "2021-09-07T11:31:04.602Z"
   },
   {
    "duration": 717,
    "start_time": "2021-09-07T11:31:08.299Z"
   },
   {
    "duration": 761,
    "start_time": "2021-09-07T11:32:03.823Z"
   },
   {
    "duration": 758,
    "start_time": "2021-09-07T11:32:17.609Z"
   },
   {
    "duration": 28,
    "start_time": "2021-09-07T11:33:47.570Z"
   },
   {
    "duration": 714,
    "start_time": "2021-09-07T11:35:00.843Z"
   },
   {
    "duration": 777,
    "start_time": "2021-09-07T11:35:29.179Z"
   },
   {
    "duration": 2734,
    "start_time": "2021-09-07T11:36:02.272Z"
   },
   {
    "duration": 773,
    "start_time": "2021-09-07T11:36:31.403Z"
   },
   {
    "duration": 118,
    "start_time": "2021-09-07T11:38:15.819Z"
   },
   {
    "duration": 746,
    "start_time": "2021-09-07T11:38:27.517Z"
   },
   {
    "duration": 760,
    "start_time": "2021-09-07T11:40:00.877Z"
   },
   {
    "duration": 756,
    "start_time": "2021-09-07T11:40:33.264Z"
   },
   {
    "duration": 4109,
    "start_time": "2021-09-07T11:44:45.317Z"
   },
   {
    "duration": 771,
    "start_time": "2021-09-07T11:45:17.934Z"
   },
   {
    "duration": 1133,
    "start_time": "2021-09-07T11:45:35.124Z"
   },
   {
    "duration": 752,
    "start_time": "2021-09-07T11:45:50.285Z"
   },
   {
    "duration": 116,
    "start_time": "2021-09-07T11:57:13.458Z"
   },
   {
    "duration": 712,
    "start_time": "2021-09-07T12:08:40.540Z"
   },
   {
    "duration": 353,
    "start_time": "2021-09-07T12:12:21.193Z"
   },
   {
    "duration": 4145,
    "start_time": "2021-09-07T12:12:31.652Z"
   },
   {
    "duration": 3115,
    "start_time": "2021-09-07T12:12:44.308Z"
   },
   {
    "duration": 3179,
    "start_time": "2021-09-07T12:13:04.930Z"
   },
   {
    "duration": 3478,
    "start_time": "2021-09-07T12:14:14.189Z"
   },
   {
    "duration": 3530,
    "start_time": "2021-09-07T12:15:30.981Z"
   },
   {
    "duration": 3327,
    "start_time": "2021-09-07T12:15:36.429Z"
   },
   {
    "duration": 8,
    "start_time": "2021-09-07T12:16:03.205Z"
   },
   {
    "duration": 10,
    "start_time": "2021-09-07T12:16:39.087Z"
   },
   {
    "duration": 3085,
    "start_time": "2021-09-07T12:16:53.852Z"
   },
   {
    "duration": 8,
    "start_time": "2021-09-07T12:17:04.325Z"
   },
   {
    "duration": 19,
    "start_time": "2021-09-07T12:22:12.102Z"
   },
   {
    "duration": 19,
    "start_time": "2021-09-07T12:24:34.638Z"
   },
   {
    "duration": 18,
    "start_time": "2021-09-07T12:31:05.166Z"
   },
   {
    "duration": 13,
    "start_time": "2021-09-07T12:31:05.186Z"
   },
   {
    "duration": 4,
    "start_time": "2021-09-07T12:31:05.201Z"
   },
   {
    "duration": 25,
    "start_time": "2021-09-07T12:31:05.207Z"
   },
   {
    "duration": 8,
    "start_time": "2021-09-07T12:31:05.234Z"
   },
   {
    "duration": 40,
    "start_time": "2021-09-07T12:31:05.244Z"
   },
   {
    "duration": 15,
    "start_time": "2021-09-07T12:31:05.286Z"
   },
   {
    "duration": 22,
    "start_time": "2021-09-07T12:31:05.303Z"
   },
   {
    "duration": 66,
    "start_time": "2021-09-07T12:31:05.328Z"
   },
   {
    "duration": 5,
    "start_time": "2021-09-07T12:31:05.397Z"
   },
   {
    "duration": 13,
    "start_time": "2021-09-07T12:31:05.404Z"
   },
   {
    "duration": 8,
    "start_time": "2021-09-07T12:31:05.419Z"
   },
   {
    "duration": 22,
    "start_time": "2021-09-07T12:31:05.429Z"
   },
   {
    "duration": 6,
    "start_time": "2021-09-07T12:31:05.477Z"
   },
   {
    "duration": 12,
    "start_time": "2021-09-07T12:31:05.485Z"
   },
   {
    "duration": 20,
    "start_time": "2021-09-07T12:31:05.498Z"
   },
   {
    "duration": 11,
    "start_time": "2021-09-07T12:31:05.520Z"
   },
   {
    "duration": 11,
    "start_time": "2021-09-07T12:31:05.533Z"
   },
   {
    "duration": 38,
    "start_time": "2021-09-07T12:31:05.545Z"
   },
   {
    "duration": 14,
    "start_time": "2021-09-07T12:31:05.585Z"
   },
   {
    "duration": 8,
    "start_time": "2021-09-07T12:31:05.600Z"
   },
   {
    "duration": 27,
    "start_time": "2021-09-07T12:31:05.610Z"
   },
   {
    "duration": 67,
    "start_time": "2021-09-07T12:31:05.639Z"
   },
   {
    "duration": 9,
    "start_time": "2021-09-07T12:31:05.708Z"
   },
   {
    "duration": 758,
    "start_time": "2021-09-07T12:31:05.719Z"
   },
   {
    "duration": 30,
    "start_time": "2021-09-07T12:31:06.479Z"
   },
   {
    "duration": 3832,
    "start_time": "2021-09-07T12:31:06.513Z"
   },
   {
    "duration": 9,
    "start_time": "2021-09-07T12:31:10.348Z"
   },
   {
    "duration": 23,
    "start_time": "2021-09-07T12:31:10.360Z"
   },
   {
    "duration": 15,
    "start_time": "2021-09-07T12:31:10.385Z"
   },
   {
    "duration": 4,
    "start_time": "2021-09-07T12:31:10.402Z"
   },
   {
    "duration": 7,
    "start_time": "2021-09-07T12:31:10.408Z"
   },
   {
    "duration": 4,
    "start_time": "2021-09-07T12:31:10.417Z"
   },
   {
    "duration": 5,
    "start_time": "2021-09-07T12:31:10.423Z"
   },
   {
    "duration": 63,
    "start_time": "2021-09-07T12:31:10.430Z"
   },
   {
    "duration": 18,
    "start_time": "2021-09-07T12:31:10.495Z"
   },
   {
    "duration": 3,
    "start_time": "2021-09-07T12:31:10.515Z"
   },
   {
    "duration": 7,
    "start_time": "2021-09-07T12:31:10.520Z"
   },
   {
    "duration": 7,
    "start_time": "2021-09-07T12:31:10.529Z"
   },
   {
    "duration": 38,
    "start_time": "2021-09-07T12:31:10.538Z"
   },
   {
    "duration": 11,
    "start_time": "2021-09-07T12:31:10.579Z"
   },
   {
    "duration": 9,
    "start_time": "2021-09-07T12:31:10.592Z"
   },
   {
    "duration": 16,
    "start_time": "2021-09-07T12:31:10.603Z"
   },
   {
    "duration": 9,
    "start_time": "2021-09-07T12:31:10.621Z"
   },
   {
    "duration": 4,
    "start_time": "2021-09-07T12:31:10.632Z"
   },
   {
    "duration": 49,
    "start_time": "2021-09-07T12:31:10.637Z"
   },
   {
    "duration": 11,
    "start_time": "2021-09-07T12:31:10.688Z"
   },
   {
    "duration": 13,
    "start_time": "2021-09-07T12:31:10.701Z"
   },
   {
    "duration": 62,
    "start_time": "2021-09-07T12:31:10.716Z"
   },
   {
    "duration": 40,
    "start_time": "2021-09-07T12:31:10.780Z"
   },
   {
    "duration": 65,
    "start_time": "2021-09-07T12:31:10.822Z"
   },
   {
    "duration": 41,
    "start_time": "2021-09-07T12:31:10.888Z"
   },
   {
    "duration": 62,
    "start_time": "2021-09-07T12:31:23.541Z"
   },
   {
    "duration": 15,
    "start_time": "2021-09-07T12:31:23.605Z"
   },
   {
    "duration": 17,
    "start_time": "2021-09-07T12:31:23.622Z"
   },
   {
    "duration": 10,
    "start_time": "2021-09-07T12:31:23.641Z"
   },
   {
    "duration": 8,
    "start_time": "2021-09-07T12:31:23.653Z"
   },
   {
    "duration": 12,
    "start_time": "2021-09-07T12:31:27.226Z"
   },
   {
    "duration": 361,
    "start_time": "2021-09-07T12:58:57.209Z"
   },
   {
    "duration": 8,
    "start_time": "2021-09-07T12:59:05.898Z"
   },
   {
    "duration": 8,
    "start_time": "2021-09-07T12:59:34.007Z"
   },
   {
    "duration": 6,
    "start_time": "2021-09-07T13:00:28.118Z"
   },
   {
    "duration": 8,
    "start_time": "2021-09-07T13:00:35.968Z"
   },
   {
    "duration": 423,
    "start_time": "2021-09-07T13:02:17.174Z"
   },
   {
    "duration": 10,
    "start_time": "2021-09-07T13:02:28.884Z"
   },
   {
    "duration": 5,
    "start_time": "2021-09-07T13:03:22.558Z"
   },
   {
    "duration": 1830,
    "start_time": "2021-09-07T13:20:15.095Z"
   },
   {
    "duration": 8,
    "start_time": "2021-09-07T13:20:36.139Z"
   },
   {
    "duration": 869,
    "start_time": "2021-09-07T13:20:49.163Z"
   },
   {
    "duration": 9,
    "start_time": "2021-09-07T13:20:55.537Z"
   },
   {
    "duration": 363,
    "start_time": "2021-09-07T13:21:50.710Z"
   },
   {
    "duration": 8,
    "start_time": "2021-09-07T13:22:28.733Z"
   },
   {
    "duration": 9,
    "start_time": "2021-09-07T13:58:55.746Z"
   },
   {
    "duration": 9,
    "start_time": "2021-09-07T14:03:57.224Z"
   },
   {
    "duration": 14,
    "start_time": "2021-09-07T14:05:44.457Z"
   },
   {
    "duration": 387,
    "start_time": "2021-09-07T14:06:44.477Z"
   },
   {
    "duration": 26,
    "start_time": "2021-09-07T16:31:31.073Z"
   },
   {
    "duration": 18,
    "start_time": "2021-09-07T16:32:11.564Z"
   },
   {
    "duration": 10,
    "start_time": "2021-09-07T16:40:19.307Z"
   },
   {
    "duration": 57,
    "start_time": "2021-09-07T16:42:04.324Z"
   },
   {
    "duration": 13,
    "start_time": "2021-09-07T16:42:07.770Z"
   },
   {
    "duration": 10,
    "start_time": "2021-09-07T16:42:16.565Z"
   },
   {
    "duration": 18,
    "start_time": "2021-09-07T16:42:19.387Z"
   },
   {
    "duration": 20,
    "start_time": "2021-09-07T16:42:26.575Z"
   },
   {
    "duration": 19,
    "start_time": "2021-09-07T16:42:40.034Z"
   },
   {
    "duration": 11,
    "start_time": "2021-09-07T16:42:56.737Z"
   },
   {
    "duration": 57,
    "start_time": "2021-09-07T16:43:07.086Z"
   },
   {
    "duration": 15,
    "start_time": "2021-09-07T16:43:09.885Z"
   },
   {
    "duration": 9,
    "start_time": "2021-09-07T16:43:15.322Z"
   },
   {
    "duration": 18,
    "start_time": "2021-09-07T16:43:18.823Z"
   },
   {
    "duration": 10,
    "start_time": "2021-09-07T16:43:43.308Z"
   },
   {
    "duration": 4,
    "start_time": "2021-09-07T16:44:39.767Z"
   },
   {
    "duration": 359,
    "start_time": "2021-09-07T16:44:42.093Z"
   },
   {
    "duration": 20,
    "start_time": "2021-09-07T16:45:41.514Z"
   },
   {
    "duration": 15,
    "start_time": "2021-09-07T16:47:50.034Z"
   },
   {
    "duration": 15,
    "start_time": "2021-09-07T16:53:04.449Z"
   },
   {
    "duration": 54,
    "start_time": "2021-09-07T16:53:20.814Z"
   },
   {
    "duration": 14,
    "start_time": "2021-09-07T16:53:24.727Z"
   },
   {
    "duration": 10,
    "start_time": "2021-09-07T16:54:52.381Z"
   },
   {
    "duration": 30,
    "start_time": "2021-09-07T16:55:32.333Z"
   },
   {
    "duration": 11,
    "start_time": "2021-09-07T16:55:38.993Z"
   },
   {
    "duration": 10,
    "start_time": "2021-09-07T16:58:58.597Z"
   },
   {
    "duration": 4,
    "start_time": "2021-09-07T16:59:04.902Z"
   },
   {
    "duration": 25,
    "start_time": "2021-09-07T16:59:07.280Z"
   },
   {
    "duration": 14,
    "start_time": "2021-09-07T16:59:26.639Z"
   },
   {
    "duration": 15,
    "start_time": "2021-09-07T16:59:36.974Z"
   },
   {
    "duration": 57,
    "start_time": "2021-09-07T17:00:26.808Z"
   },
   {
    "duration": 14,
    "start_time": "2021-09-07T17:00:29.534Z"
   },
   {
    "duration": 11,
    "start_time": "2021-09-07T17:00:45.058Z"
   },
   {
    "duration": 24,
    "start_time": "2021-09-07T17:00:52.582Z"
   },
   {
    "duration": 17,
    "start_time": "2021-09-07T17:01:20.305Z"
   },
   {
    "duration": 56,
    "start_time": "2021-09-07T17:01:25.719Z"
   },
   {
    "duration": 13,
    "start_time": "2021-09-07T17:01:28.156Z"
   },
   {
    "duration": 9,
    "start_time": "2021-09-07T17:01:31.520Z"
   },
   {
    "duration": 16,
    "start_time": "2021-09-07T17:01:34.506Z"
   },
   {
    "duration": 10,
    "start_time": "2021-09-07T17:01:39.418Z"
   },
   {
    "duration": 4,
    "start_time": "2021-09-07T17:02:01.131Z"
   },
   {
    "duration": 4,
    "start_time": "2021-09-07T17:02:35.728Z"
   },
   {
    "duration": 19,
    "start_time": "2021-09-07T17:02:37.765Z"
   },
   {
    "duration": 16,
    "start_time": "2021-09-07T17:04:03.515Z"
   },
   {
    "duration": 14,
    "start_time": "2021-09-07T17:04:12.276Z"
   },
   {
    "duration": 13,
    "start_time": "2021-09-07T17:04:24.712Z"
   },
   {
    "duration": 18,
    "start_time": "2021-09-07T17:05:45.207Z"
   },
   {
    "duration": 50,
    "start_time": "2021-09-07T17:05:47.443Z"
   },
   {
    "duration": 5,
    "start_time": "2021-09-07T17:05:54.684Z"
   },
   {
    "duration": 7,
    "start_time": "2021-09-07T17:05:59.728Z"
   },
   {
    "duration": 11,
    "start_time": "2021-09-07T17:06:04.820Z"
   },
   {
    "duration": 19,
    "start_time": "2021-09-07T17:06:07.992Z"
   },
   {
    "duration": 8,
    "start_time": "2021-09-07T17:06:14.180Z"
   },
   {
    "duration": 8,
    "start_time": "2021-09-07T17:06:16.930Z"
   },
   {
    "duration": 17,
    "start_time": "2021-09-07T17:06:20.519Z"
   },
   {
    "duration": 7,
    "start_time": "2021-09-07T17:06:25.179Z"
   },
   {
    "duration": 13,
    "start_time": "2021-09-07T17:06:29.707Z"
   },
   {
    "duration": 20,
    "start_time": "2021-09-07T17:06:32.881Z"
   },
   {
    "duration": 12,
    "start_time": "2021-09-07T17:06:44.081Z"
   },
   {
    "duration": 10,
    "start_time": "2021-09-07T17:06:58.718Z"
   },
   {
    "duration": 29,
    "start_time": "2021-09-07T17:07:02.245Z"
   },
   {
    "duration": 35,
    "start_time": "2021-09-07T17:07:04.368Z"
   },
   {
    "duration": 7,
    "start_time": "2021-09-07T17:10:01.840Z"
   },
   {
    "duration": 706,
    "start_time": "2021-09-07T17:10:10.414Z"
   },
   {
    "duration": 29,
    "start_time": "2021-09-07T17:10:19.576Z"
   },
   {
    "duration": 4071,
    "start_time": "2021-09-07T17:10:23.760Z"
   },
   {
    "duration": 10,
    "start_time": "2021-09-07T17:10:46.725Z"
   },
   {
    "duration": 7,
    "start_time": "2021-09-07T17:10:57.478Z"
   },
   {
    "duration": 18,
    "start_time": "2021-09-07T17:11:03.465Z"
   },
   {
    "duration": 5,
    "start_time": "2021-09-07T17:11:14.814Z"
   },
   {
    "duration": 9,
    "start_time": "2021-09-07T17:18:23.122Z"
   },
   {
    "duration": 9,
    "start_time": "2021-09-07T17:18:27.412Z"
   },
   {
    "duration": 16,
    "start_time": "2021-09-07T17:19:26.598Z"
   },
   {
    "duration": 17,
    "start_time": "2021-09-07T17:19:38.119Z"
   },
   {
    "duration": 15639,
    "start_time": "2021-09-07T17:20:58.665Z"
   },
   {
    "duration": 15649,
    "start_time": "2021-09-07T17:21:58.942Z"
   },
   {
    "duration": 5,
    "start_time": "2021-09-07T17:28:44.823Z"
   },
   {
    "duration": 6,
    "start_time": "2021-09-07T17:28:51.827Z"
   },
   {
    "duration": 18,
    "start_time": "2021-09-07T17:28:56.260Z"
   },
   {
    "duration": 21,
    "start_time": "2021-09-07T17:29:09.688Z"
   },
   {
    "duration": 4,
    "start_time": "2021-09-07T17:29:18.276Z"
   },
   {
    "duration": 7,
    "start_time": "2021-09-07T17:29:20.850Z"
   },
   {
    "duration": 7,
    "start_time": "2021-09-07T17:29:23.038Z"
   },
   {
    "duration": 6,
    "start_time": "2021-09-07T17:29:25.826Z"
   },
   {
    "duration": 10,
    "start_time": "2021-09-07T17:29:29.490Z"
   },
   {
    "duration": 8,
    "start_time": "2021-09-07T17:29:45.124Z"
   },
   {
    "duration": 11,
    "start_time": "2021-09-07T17:29:48.387Z"
   },
   {
    "duration": 9,
    "start_time": "2021-09-07T17:29:52.886Z"
   },
   {
    "duration": 4,
    "start_time": "2021-09-07T17:29:57.025Z"
   },
   {
    "duration": 14,
    "start_time": "2021-09-07T17:30:16.186Z"
   },
   {
    "duration": 13,
    "start_time": "2021-09-07T17:32:33.318Z"
   },
   {
    "duration": 1387,
    "start_time": "2021-09-07T17:41:26.477Z"
   },
   {
    "duration": 18,
    "start_time": "2021-09-07T17:48:16.143Z"
   },
   {
    "duration": 18,
    "start_time": "2021-09-07T17:51:37.144Z"
   },
   {
    "duration": 20,
    "start_time": "2021-09-07T17:53:35.838Z"
   },
   {
    "duration": 17,
    "start_time": "2021-09-07T17:54:45.870Z"
   },
   {
    "duration": 19,
    "start_time": "2021-09-07T17:56:12.039Z"
   },
   {
    "duration": 224,
    "start_time": "2021-09-07T17:57:51.932Z"
   },
   {
    "duration": 159,
    "start_time": "2021-09-07T17:58:07.132Z"
   },
   {
    "duration": 19,
    "start_time": "2021-09-07T17:58:27.090Z"
   },
   {
    "duration": 194,
    "start_time": "2021-09-07T17:58:31.631Z"
   },
   {
    "duration": 417,
    "start_time": "2021-09-07T17:58:37.731Z"
   },
   {
    "duration": 19,
    "start_time": "2021-09-07T17:58:45.256Z"
   },
   {
    "duration": 155,
    "start_time": "2021-09-07T17:58:47.905Z"
   },
   {
    "duration": 19,
    "start_time": "2021-09-07T17:59:25.743Z"
   },
   {
    "duration": 351,
    "start_time": "2021-09-07T18:01:23.097Z"
   },
   {
    "duration": 159,
    "start_time": "2021-09-07T18:01:54.570Z"
   },
   {
    "duration": 18,
    "start_time": "2021-09-07T18:02:21.743Z"
   },
   {
    "duration": 174,
    "start_time": "2021-09-07T18:02:28.342Z"
   },
   {
    "duration": 238,
    "start_time": "2021-09-07T18:03:23.476Z"
   },
   {
    "duration": 188,
    "start_time": "2021-09-07T18:03:32.515Z"
   },
   {
    "duration": 524,
    "start_time": "2021-09-07T18:12:02.500Z"
   },
   {
    "duration": 531,
    "start_time": "2021-09-07T18:18:27.402Z"
   },
   {
    "duration": 122,
    "start_time": "2021-09-07T18:18:54.995Z"
   },
   {
    "duration": 120,
    "start_time": "2021-09-07T18:19:13.607Z"
   },
   {
    "duration": 118,
    "start_time": "2021-09-07T18:19:23.019Z"
   },
   {
    "duration": 20,
    "start_time": "2021-09-07T18:19:51.973Z"
   },
   {
    "duration": 31,
    "start_time": "2021-09-07T18:20:04.618Z"
   },
   {
    "duration": 206,
    "start_time": "2021-09-07T18:20:08.192Z"
   },
   {
    "duration": 601,
    "start_time": "2021-09-07T18:20:39.042Z"
   },
   {
    "duration": 934,
    "start_time": "2021-09-07T18:20:56.365Z"
   },
   {
    "duration": 30,
    "start_time": "2021-09-07T18:21:01.403Z"
   },
   {
    "duration": 216,
    "start_time": "2021-09-07T18:21:05.554Z"
   },
   {
    "duration": 128,
    "start_time": "2021-09-07T18:22:49.184Z"
   },
   {
    "duration": 22,
    "start_time": "2021-09-07T18:22:54.997Z"
   },
   {
    "duration": 127,
    "start_time": "2021-09-07T18:22:57.959Z"
   },
   {
    "duration": 209,
    "start_time": "2021-09-07T18:23:04.495Z"
   },
   {
    "duration": 19,
    "start_time": "2021-09-07T18:26:07.016Z"
   },
   {
    "duration": 14,
    "start_time": "2021-09-07T18:26:18.747Z"
   },
   {
    "duration": 14,
    "start_time": "2021-09-07T18:26:31.095Z"
   },
   {
    "duration": 126,
    "start_time": "2021-09-07T18:27:05.495Z"
   },
   {
    "duration": 15,
    "start_time": "2021-09-07T18:27:12.752Z"
   },
   {
    "duration": 188,
    "start_time": "2021-09-07T18:27:15.582Z"
   },
   {
    "duration": 15,
    "start_time": "2021-09-07T18:28:12.704Z"
   },
   {
    "duration": 16,
    "start_time": "2021-09-07T18:28:33.377Z"
   },
   {
    "duration": 111,
    "start_time": "2021-09-07T18:28:36.411Z"
   },
   {
    "duration": 15,
    "start_time": "2021-09-07T18:28:55.770Z"
   },
   {
    "duration": 117,
    "start_time": "2021-09-07T18:28:58.127Z"
   },
   {
    "duration": 9,
    "start_time": "2021-09-07T18:42:34.046Z"
   },
   {
    "duration": 11,
    "start_time": "2021-09-07T18:42:36.651Z"
   },
   {
    "duration": 41,
    "start_time": "2021-09-07T18:42:39.525Z"
   },
   {
    "duration": 37,
    "start_time": "2021-09-07T18:42:41.900Z"
   },
   {
    "duration": 46,
    "start_time": "2021-09-07T18:42:44.381Z"
   },
   {
    "duration": 38,
    "start_time": "2021-09-07T18:42:47.176Z"
   },
   {
    "duration": 741,
    "start_time": "2021-09-07T18:48:57.556Z"
   },
   {
    "duration": 21,
    "start_time": "2021-09-07T18:48:58.299Z"
   },
   {
    "duration": 11,
    "start_time": "2021-09-07T18:48:58.323Z"
   },
   {
    "duration": 42,
    "start_time": "2021-09-07T18:48:58.336Z"
   },
   {
    "duration": 10,
    "start_time": "2021-09-07T18:48:58.380Z"
   },
   {
    "duration": 4,
    "start_time": "2021-09-07T18:48:58.391Z"
   },
   {
    "duration": 25,
    "start_time": "2021-09-07T18:48:58.397Z"
   },
   {
    "duration": 58,
    "start_time": "2021-09-07T18:48:58.426Z"
   },
   {
    "duration": 19,
    "start_time": "2021-09-07T18:48:58.487Z"
   },
   {
    "duration": 13,
    "start_time": "2021-09-07T18:48:58.508Z"
   },
   {
    "duration": 20,
    "start_time": "2021-09-07T18:48:58.523Z"
   },
   {
    "duration": 61,
    "start_time": "2021-09-07T18:48:58.545Z"
   },
   {
    "duration": 6,
    "start_time": "2021-09-07T18:48:58.608Z"
   },
   {
    "duration": 9,
    "start_time": "2021-09-07T18:48:58.615Z"
   },
   {
    "duration": 7,
    "start_time": "2021-09-07T18:48:58.626Z"
   },
   {
    "duration": 65,
    "start_time": "2021-09-07T18:48:58.635Z"
   },
   {
    "duration": 6,
    "start_time": "2021-09-07T18:48:58.702Z"
   },
   {
    "duration": 8,
    "start_time": "2021-09-07T18:48:58.710Z"
   },
   {
    "duration": 65,
    "start_time": "2021-09-07T18:48:58.721Z"
   },
   {
    "duration": 12,
    "start_time": "2021-09-07T18:48:58.788Z"
   },
   {
    "duration": 16,
    "start_time": "2021-09-07T18:48:58.802Z"
   },
   {
    "duration": 13,
    "start_time": "2021-09-07T18:48:58.820Z"
   },
   {
    "duration": 9,
    "start_time": "2021-09-07T18:48:58.838Z"
   },
   {
    "duration": 8,
    "start_time": "2021-09-07T18:48:58.875Z"
   },
   {
    "duration": 26,
    "start_time": "2021-09-07T18:48:58.885Z"
   },
   {
    "duration": 34,
    "start_time": "2021-09-07T18:48:58.913Z"
   },
   {
    "duration": 28,
    "start_time": "2021-09-07T18:48:58.948Z"
   },
   {
    "duration": 704,
    "start_time": "2021-09-07T18:48:58.979Z"
   },
   {
    "duration": 29,
    "start_time": "2021-09-07T18:48:59.685Z"
   },
   {
    "duration": 4297,
    "start_time": "2021-09-07T18:48:59.715Z"
   },
   {
    "duration": 8,
    "start_time": "2021-09-07T18:49:04.014Z"
   },
   {
    "duration": 13,
    "start_time": "2021-09-07T18:49:04.023Z"
   },
   {
    "duration": 18,
    "start_time": "2021-09-07T18:49:04.037Z"
   },
   {
    "duration": 15724,
    "start_time": "2021-09-07T18:49:04.056Z"
   },
   {
    "duration": 8,
    "start_time": "2021-09-07T18:49:19.782Z"
   },
   {
    "duration": 8,
    "start_time": "2021-09-07T18:49:19.793Z"
   },
   {
    "duration": 19,
    "start_time": "2021-09-07T18:49:19.804Z"
   },
   {
    "duration": 62,
    "start_time": "2021-09-07T18:49:19.825Z"
   },
   {
    "duration": 5,
    "start_time": "2021-09-07T18:49:19.890Z"
   },
   {
    "duration": 12,
    "start_time": "2021-09-07T18:49:19.897Z"
   },
   {
    "duration": 8,
    "start_time": "2021-09-07T18:49:19.912Z"
   },
   {
    "duration": 10,
    "start_time": "2021-09-07T18:49:19.922Z"
   },
   {
    "duration": 12,
    "start_time": "2021-09-07T18:49:19.934Z"
   },
   {
    "duration": 11,
    "start_time": "2021-09-07T18:49:19.977Z"
   },
   {
    "duration": 15,
    "start_time": "2021-09-07T18:49:19.990Z"
   },
   {
    "duration": 13,
    "start_time": "2021-09-07T18:49:20.007Z"
   },
   {
    "duration": 6,
    "start_time": "2021-09-07T18:49:20.023Z"
   },
   {
    "duration": 70,
    "start_time": "2021-09-07T18:49:20.032Z"
   },
   {
    "duration": 419,
    "start_time": "2021-09-07T18:49:20.104Z"
   },
   {
    "duration": 10,
    "start_time": "2021-09-07T18:49:20.526Z"
   },
   {
    "duration": 42,
    "start_time": "2021-09-07T18:49:20.538Z"
   },
   {
    "duration": 46,
    "start_time": "2021-09-07T18:49:20.581Z"
   },
   {
    "duration": 57,
    "start_time": "2021-09-07T18:49:20.629Z"
   },
   {
    "duration": 48,
    "start_time": "2021-09-07T18:49:20.688Z"
   },
   {
    "duration": 61,
    "start_time": "2021-09-07T18:49:20.737Z"
   },
   {
    "duration": 176,
    "start_time": "2021-09-08T09:43:58.025Z"
   },
   {
    "duration": 110,
    "start_time": "2021-09-08T09:49:17.500Z"
   },
   {
    "duration": 123,
    "start_time": "2021-09-08T09:49:18.413Z"
   },
   {
    "duration": 105,
    "start_time": "2021-09-08T09:50:11.927Z"
   },
   {
    "duration": 130,
    "start_time": "2021-09-08T09:53:15.930Z"
   },
   {
    "duration": 1031,
    "start_time": "2021-09-08T09:54:20.215Z"
   },
   {
    "duration": 898,
    "start_time": "2021-09-08T09:54:29.819Z"
   },
   {
    "duration": 34,
    "start_time": "2021-09-08T09:54:30.724Z"
   },
   {
    "duration": 14,
    "start_time": "2021-09-08T09:54:30.761Z"
   },
   {
    "duration": 59,
    "start_time": "2021-09-08T09:54:30.777Z"
   },
   {
    "duration": 12,
    "start_time": "2021-09-08T09:54:30.839Z"
   },
   {
    "duration": 15,
    "start_time": "2021-09-08T09:54:30.854Z"
   },
   {
    "duration": 61,
    "start_time": "2021-09-08T09:54:30.871Z"
   },
   {
    "duration": 50,
    "start_time": "2021-09-08T09:54:30.937Z"
   },
   {
    "duration": 29,
    "start_time": "2021-09-08T09:54:30.990Z"
   },
   {
    "duration": 23,
    "start_time": "2021-09-08T09:54:31.022Z"
   },
   {
    "duration": 39,
    "start_time": "2021-09-08T09:54:31.047Z"
   },
   {
    "duration": 81,
    "start_time": "2021-09-08T09:54:31.088Z"
   },
   {
    "duration": 10,
    "start_time": "2021-09-08T09:54:31.172Z"
   },
   {
    "duration": 35,
    "start_time": "2021-09-08T09:54:31.185Z"
   },
   {
    "duration": 12,
    "start_time": "2021-09-08T09:54:31.224Z"
   },
   {
    "duration": 32,
    "start_time": "2021-09-08T09:54:31.238Z"
   },
   {
    "duration": 27,
    "start_time": "2021-09-08T09:54:31.272Z"
   },
   {
    "duration": 17,
    "start_time": "2021-09-08T09:54:31.321Z"
   },
   {
    "duration": 42,
    "start_time": "2021-09-08T09:54:31.341Z"
   },
   {
    "duration": 13,
    "start_time": "2021-09-08T09:54:31.385Z"
   },
   {
    "duration": 42,
    "start_time": "2021-09-08T09:54:31.401Z"
   },
   {
    "duration": 32,
    "start_time": "2021-09-08T09:54:31.446Z"
   },
   {
    "duration": 13,
    "start_time": "2021-09-08T09:54:31.486Z"
   },
   {
    "duration": 17,
    "start_time": "2021-09-08T09:54:31.516Z"
   },
   {
    "duration": 37,
    "start_time": "2021-09-08T09:54:31.536Z"
   },
   {
    "duration": 79,
    "start_time": "2021-09-08T09:54:31.576Z"
   },
   {
    "duration": 9,
    "start_time": "2021-09-08T09:54:31.658Z"
   },
   {
    "duration": 992,
    "start_time": "2021-09-08T09:54:31.669Z"
   },
   {
    "duration": 28,
    "start_time": "2021-09-08T09:54:32.664Z"
   },
   {
    "duration": 4827,
    "start_time": "2021-09-08T09:54:32.695Z"
   },
   {
    "duration": 15,
    "start_time": "2021-09-08T09:54:37.525Z"
   },
   {
    "duration": 17,
    "start_time": "2021-09-08T09:54:37.543Z"
   },
   {
    "duration": 31,
    "start_time": "2021-09-08T09:54:37.563Z"
   },
   {
    "duration": 28502,
    "start_time": "2021-09-08T09:54:37.616Z"
   },
   {
    "duration": 9,
    "start_time": "2021-09-08T09:55:06.122Z"
   },
   {
    "duration": 7,
    "start_time": "2021-09-08T09:55:06.134Z"
   },
   {
    "duration": 40,
    "start_time": "2021-09-08T09:55:06.143Z"
   },
   {
    "duration": 63,
    "start_time": "2021-09-08T09:55:06.185Z"
   },
   {
    "duration": 5,
    "start_time": "2021-09-08T09:55:06.251Z"
   },
   {
    "duration": 15,
    "start_time": "2021-09-08T09:55:06.258Z"
   },
   {
    "duration": 13,
    "start_time": "2021-09-08T09:55:06.275Z"
   },
   {
    "duration": 41,
    "start_time": "2021-09-08T09:55:06.290Z"
   },
   {
    "duration": 16,
    "start_time": "2021-09-08T09:55:06.333Z"
   },
   {
    "duration": 12,
    "start_time": "2021-09-08T09:55:06.352Z"
   },
   {
    "duration": 66,
    "start_time": "2021-09-08T09:55:06.366Z"
   },
   {
    "duration": 11,
    "start_time": "2021-09-08T09:55:06.434Z"
   },
   {
    "duration": 5,
    "start_time": "2021-09-08T09:55:06.448Z"
   },
   {
    "duration": 35,
    "start_time": "2021-09-08T09:55:06.455Z"
   },
   {
    "duration": 462,
    "start_time": "2021-09-08T09:55:06.516Z"
   },
   {
    "duration": 11,
    "start_time": "2021-09-08T09:55:06.980Z"
   },
   {
    "duration": 41,
    "start_time": "2021-09-08T09:55:06.994Z"
   },
   {
    "duration": 79,
    "start_time": "2021-09-08T09:55:07.038Z"
   },
   {
    "duration": 63,
    "start_time": "2021-09-08T09:55:07.120Z"
   },
   {
    "duration": 107,
    "start_time": "2021-09-08T09:55:07.185Z"
   },
   {
    "duration": 79,
    "start_time": "2021-09-08T09:55:07.295Z"
   },
   {
    "duration": 280,
    "start_time": "2021-09-08T09:57:16.696Z"
   },
   {
    "duration": 384,
    "start_time": "2021-09-08T09:57:24.936Z"
   },
   {
    "duration": 333,
    "start_time": "2021-09-08T09:57:32.434Z"
   },
   {
    "duration": 697,
    "start_time": "2021-09-08T09:57:38.120Z"
   },
   {
    "duration": 293,
    "start_time": "2021-09-08T09:57:45.613Z"
   },
   {
    "duration": 278,
    "start_time": "2021-09-08T09:57:50.929Z"
   },
   {
    "duration": 106,
    "start_time": "2021-09-08T09:57:57.246Z"
   },
   {
    "duration": 295,
    "start_time": "2021-09-08T09:58:02.292Z"
   },
   {
    "duration": 278,
    "start_time": "2021-09-08T09:58:10.561Z"
   },
   {
    "duration": 274,
    "start_time": "2021-09-08T09:58:13.793Z"
   },
   {
    "duration": 294,
    "start_time": "2021-09-08T09:58:16.816Z"
   },
   {
    "duration": 642,
    "start_time": "2021-09-08T09:58:45.882Z"
   },
   {
    "duration": 278,
    "start_time": "2021-09-08T09:58:54.586Z"
   },
   {
    "duration": 701,
    "start_time": "2021-09-08T09:59:41.119Z"
   },
   {
    "duration": 305,
    "start_time": "2021-09-08T09:59:49.625Z"
   },
   {
    "duration": 621,
    "start_time": "2021-09-08T10:00:11.565Z"
   },
   {
    "duration": 706,
    "start_time": "2021-09-08T10:00:27.033Z"
   },
   {
    "duration": 1243,
    "start_time": "2021-09-08T10:01:07.698Z"
   },
   {
    "duration": 227,
    "start_time": "2021-09-08T10:02:05.010Z"
   },
   {
    "duration": 703,
    "start_time": "2021-09-08T10:02:21.703Z"
   },
   {
    "duration": 466,
    "start_time": "2021-09-08T10:02:29.731Z"
   },
   {
    "duration": 770,
    "start_time": "2021-09-08T10:02:42.346Z"
   },
   {
    "duration": 859,
    "start_time": "2021-09-08T10:03:27.450Z"
   },
   {
    "duration": 460,
    "start_time": "2021-09-08T10:03:40.486Z"
   },
   {
    "duration": 734,
    "start_time": "2021-09-08T10:03:47.276Z"
   },
   {
    "duration": 954,
    "start_time": "2021-09-08T10:04:33.091Z"
   },
   {
    "duration": 719,
    "start_time": "2021-09-08T10:04:38.683Z"
   },
   {
    "duration": 717,
    "start_time": "2021-09-08T10:04:48.008Z"
   },
   {
    "duration": 739,
    "start_time": "2021-09-08T10:04:55.617Z"
   },
   {
    "duration": 716,
    "start_time": "2021-09-08T10:05:00.043Z"
   },
   {
    "duration": 725,
    "start_time": "2021-09-08T10:05:26.546Z"
   },
   {
    "duration": 326,
    "start_time": "2021-09-08T10:05:44.708Z"
   },
   {
    "duration": 310,
    "start_time": "2021-09-08T10:05:59.155Z"
   },
   {
    "duration": 816,
    "start_time": "2021-09-08T10:07:14.189Z"
   },
   {
    "duration": 450,
    "start_time": "2021-09-08T10:07:45.350Z"
   },
   {
    "duration": 718,
    "start_time": "2021-09-08T10:07:51.215Z"
   },
   {
    "duration": 965,
    "start_time": "2021-09-08T10:08:21.025Z"
   },
   {
    "duration": 810,
    "start_time": "2021-09-08T10:08:26.990Z"
   },
   {
    "duration": 945,
    "start_time": "2021-09-08T11:59:02.797Z"
   },
   {
    "duration": 884,
    "start_time": "2021-09-08T11:59:27.638Z"
   },
   {
    "duration": 30,
    "start_time": "2021-09-08T11:59:28.524Z"
   },
   {
    "duration": 32,
    "start_time": "2021-09-08T11:59:28.557Z"
   },
   {
    "duration": 24,
    "start_time": "2021-09-08T11:59:28.593Z"
   },
   {
    "duration": 15,
    "start_time": "2021-09-08T11:59:28.620Z"
   },
   {
    "duration": 7,
    "start_time": "2021-09-08T11:59:28.673Z"
   },
   {
    "duration": 32,
    "start_time": "2021-09-08T11:59:28.683Z"
   },
   {
    "duration": 54,
    "start_time": "2021-09-08T11:59:28.719Z"
   },
   {
    "duration": 29,
    "start_time": "2021-09-08T11:59:28.778Z"
   },
   {
    "duration": 28,
    "start_time": "2021-09-08T11:59:28.810Z"
   },
   {
    "duration": 63,
    "start_time": "2021-09-08T11:59:28.841Z"
   },
   {
    "duration": 75,
    "start_time": "2021-09-08T11:59:28.906Z"
   },
   {
    "duration": 8,
    "start_time": "2021-09-08T11:59:28.984Z"
   },
   {
    "duration": 10,
    "start_time": "2021-09-08T11:59:28.994Z"
   },
   {
    "duration": 10,
    "start_time": "2021-09-08T11:59:29.007Z"
   },
   {
    "duration": 70,
    "start_time": "2021-09-08T11:59:29.020Z"
   },
   {
    "duration": 9,
    "start_time": "2021-09-08T11:59:29.093Z"
   },
   {
    "duration": 13,
    "start_time": "2021-09-08T11:59:29.105Z"
   },
   {
    "duration": 56,
    "start_time": "2021-09-08T11:59:29.121Z"
   },
   {
    "duration": 12,
    "start_time": "2021-09-08T11:59:29.180Z"
   },
   {
    "duration": 19,
    "start_time": "2021-09-08T11:59:29.195Z"
   },
   {
    "duration": 30,
    "start_time": "2021-09-08T11:59:29.216Z"
   },
   {
    "duration": 15,
    "start_time": "2021-09-08T11:59:29.278Z"
   },
   {
    "duration": 10,
    "start_time": "2021-09-08T11:59:29.297Z"
   },
   {
    "duration": 28,
    "start_time": "2021-09-08T11:59:29.310Z"
   },
   {
    "duration": 54,
    "start_time": "2021-09-08T11:59:29.372Z"
   },
   {
    "duration": 10,
    "start_time": "2021-09-08T11:59:29.428Z"
   },
   {
    "duration": 1055,
    "start_time": "2021-09-08T11:59:29.440Z"
   },
   {
    "duration": 27,
    "start_time": "2021-09-08T11:59:30.498Z"
   },
   {
    "duration": 5075,
    "start_time": "2021-09-08T11:59:30.528Z"
   },
   {
    "duration": 10,
    "start_time": "2021-09-08T11:59:35.606Z"
   },
   {
    "duration": 9,
    "start_time": "2021-09-08T11:59:35.619Z"
   },
   {
    "duration": 54,
    "start_time": "2021-09-08T11:59:35.631Z"
   },
   {
    "duration": 27549,
    "start_time": "2021-09-08T11:59:35.687Z"
   },
   {
    "duration": 5,
    "start_time": "2021-09-08T12:00:03.238Z"
   },
   {
    "duration": 27,
    "start_time": "2021-09-08T12:00:03.245Z"
   },
   {
    "duration": 34,
    "start_time": "2021-09-08T12:00:03.275Z"
   },
   {
    "duration": 41,
    "start_time": "2021-09-08T12:00:03.311Z"
   },
   {
    "duration": 15,
    "start_time": "2021-09-08T12:00:03.354Z"
   },
   {
    "duration": 15,
    "start_time": "2021-09-08T12:00:03.371Z"
   },
   {
    "duration": 11,
    "start_time": "2021-09-08T12:00:03.389Z"
   },
   {
    "duration": 12,
    "start_time": "2021-09-08T12:00:03.402Z"
   },
   {
    "duration": 16,
    "start_time": "2021-09-08T12:00:03.416Z"
   },
   {
    "duration": 20,
    "start_time": "2021-09-08T12:00:03.467Z"
   },
   {
    "duration": 18,
    "start_time": "2021-09-08T12:00:03.490Z"
   },
   {
    "duration": 14,
    "start_time": "2021-09-08T12:00:03.511Z"
   },
   {
    "duration": 42,
    "start_time": "2021-09-08T12:00:03.527Z"
   },
   {
    "duration": 32,
    "start_time": "2021-09-08T12:00:03.576Z"
   },
   {
    "duration": 423,
    "start_time": "2021-09-08T12:00:03.611Z"
   },
   {
    "duration": 10,
    "start_time": "2021-09-08T12:00:04.037Z"
   },
   {
    "duration": 29,
    "start_time": "2021-09-08T12:00:04.049Z"
   },
   {
    "duration": 61,
    "start_time": "2021-09-08T12:00:04.080Z"
   },
   {
    "duration": 64,
    "start_time": "2021-09-08T12:00:04.167Z"
   },
   {
    "duration": 91,
    "start_time": "2021-09-08T12:00:04.233Z"
   },
   {
    "duration": 78,
    "start_time": "2021-09-08T12:00:04.326Z"
   },
   {
    "duration": 302,
    "start_time": "2021-09-08T12:00:29.569Z"
   },
   {
    "duration": 129,
    "start_time": "2021-09-08T13:43:05.131Z"
   },
   {
    "duration": 347,
    "start_time": "2021-09-08T13:43:17.474Z"
   },
   {
    "duration": 271,
    "start_time": "2021-09-08T13:45:55.141Z"
   },
   {
    "duration": 478,
    "start_time": "2021-09-08T13:47:16.868Z"
   },
   {
    "duration": 512,
    "start_time": "2021-09-08T13:47:36.734Z"
   },
   {
    "duration": 513,
    "start_time": "2021-09-08T13:48:38.807Z"
   },
   {
    "duration": 855,
    "start_time": "2021-09-08T13:54:52.604Z"
   },
   {
    "duration": 947,
    "start_time": "2021-09-08T13:56:09.174Z"
   },
   {
    "duration": 812,
    "start_time": "2021-09-08T13:56:22.899Z"
   },
   {
    "duration": 284,
    "start_time": "2021-09-08T13:57:19.121Z"
   },
   {
    "duration": 277,
    "start_time": "2021-09-08T13:57:23.922Z"
   },
   {
    "duration": 896,
    "start_time": "2021-09-08T13:57:32.633Z"
   },
   {
    "duration": 499,
    "start_time": "2021-09-08T13:57:45.671Z"
   },
   {
    "duration": 513,
    "start_time": "2021-09-08T13:59:02.888Z"
   },
   {
    "duration": 584,
    "start_time": "2021-09-08T13:59:10.777Z"
   },
   {
    "duration": 652,
    "start_time": "2021-09-08T13:59:46.389Z"
   },
   {
    "duration": 297,
    "start_time": "2021-09-08T14:00:07.638Z"
   },
   {
    "duration": 571,
    "start_time": "2021-09-08T14:00:14.790Z"
   }
  ],
  "kernelspec": {
   "display_name": "Python 3 (ipykernel)",
   "language": "python",
   "name": "python3"
  },
  "language_info": {
   "codemirror_mode": {
    "name": "ipython",
    "version": 3
   },
   "file_extension": ".py",
   "mimetype": "text/x-python",
   "name": "python",
   "nbconvert_exporter": "python",
   "pygments_lexer": "ipython3",
   "version": "3.9.12"
  },
  "toc": {
   "base_numbering": 1,
   "nav_menu": {},
   "number_sections": true,
   "sideBar": true,
   "skip_h1_title": true,
   "title_cell": "Table of Contents",
   "title_sidebar": "Contents",
   "toc_cell": false,
   "toc_position": {
    "height": "calc(100% - 180px)",
    "left": "10px",
    "top": "150px",
    "width": "481.594px"
   },
   "toc_section_display": true,
   "toc_window_display": true
  }
 },
 "nbformat": 4,
 "nbformat_minor": 2
}
